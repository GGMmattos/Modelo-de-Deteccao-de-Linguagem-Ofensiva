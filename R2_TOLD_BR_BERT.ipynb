{
  "nbformat": 4,
  "nbformat_minor": 0,
  "metadata": {
    "colab": {
      "provenance": [],
      "include_colab_link": true
    },
    "kernelspec": {
      "name": "python3",
      "display_name": "Python 3"
    },
    "language_info": {
      "name": "python"
    }
  },
  "cells": [
    {
      "cell_type": "markdown",
      "metadata": {
        "id": "view-in-github",
        "colab_type": "text"
      },
      "source": [
        "<a href=\"https://colab.research.google.com/github/GGMmattos/PIC/blob/main/R2_TOLD_BR_BERT.ipynb\" target=\"_parent\"><img src=\"https://colab.research.google.com/assets/colab-badge.svg\" alt=\"Open In Colab\"/></a>"
      ]
    },
    {
      "cell_type": "code",
      "execution_count": null,
      "metadata": {
        "id": "2b-igKSjfv44"
      },
      "outputs": [],
      "source": [
        "#Importing needed libraries\n",
        "!pip install -U scikit-learn\n",
        "!pip install -U spacy\n",
        "!python -m spacy download pt\n",
        "!pip install wandb\n",
        "from pandas.core.window.ewm import OnlineExponentialMovingWindow\n",
        "import pandas as pd\n",
        "import numpy as np\n",
        "import seaborn as sns #Para visualização de gráficos\n",
        "import matplotlib.pyplot as plt #Para visualização de gráficos\n",
        "import plotly.express as px #Biblioteca para geração de gráfico dinámico\n",
        "%matplotlib inline\n",
        "from collections import Counter\n",
        "import re, nltk\n",
        "from nltk import word_tokenize\n",
        "from nltk.corpus import stopwords\n",
        "from wordcloud import WordCloud, STOPWORDS\n",
        "nltk.download('stopwords')\n",
        "nltk.download('punkt')\n",
        "nltk.download('wordnet')\n",
        "from nltk.stem import WordNetLemmatizer\n",
        "lemmatizer = WordNetLemmatizer()\n",
        "from sklearn.model_selection import train_test_split\n",
        "from sklearn.metrics import confusion_matrix\n",
        "from sklearn.linear_model import LogisticRegression\n",
        "from sklearn.ensemble import RandomForestClassifier\n",
        "from sklearn.metrics import accuracy_score\n",
        "from sklearn.metrics import f1_score\n",
        "from sklearn.feature_extraction.text import CountVectorizer\n",
        "from sklearn.feature_extraction.text import TfidfTransformer\n",
        "from sklearn.feature_extraction.text import TfidfVectorizer\n",
        "from IPython.core.interactiveshell import InteractiveShell\n",
        "InteractiveShell.ast_node_interactivity ='all'\n",
        "from sklearn.naive_bayes import MultinomialNB\n",
        "from sklearn.svm import SVC\n",
        "from sklearn.neural_network import MLPClassifier\n",
        "from sklearn.linear_model import LogisticRegression\n",
        "from sklearn.pipeline import Pipeline\n",
        "from sklearn.metrics import classification_report, accuracy_score\n",
        "import pandas as pd\n",
        "import logging\n",
        "import numpy as np\n",
        "import sklearn\n",
        "import pickle\n",
        "import spacy\n",
        "from sklearn.model_selection import train_test_split\n",
        "!pip install simpletransformers \"transformers==4.30.2\"\n",
        "from simpletransformers.classification import ClassificationModel, ClassificationArgs, MultiLabelClassificationModel, MultiLabelClassificationArgs\n"
      ]
    },
    {
      "cell_type": "code",
      "source": [
        "from google.colab import drive\n",
        "drive.mount('/content/drive')"
      ],
      "metadata": {
        "id": "BuxVJLSR4TRY"
      },
      "execution_count": null,
      "outputs": []
    },
    {
      "cell_type": "markdown",
      "source": [
        "BERT IMBAU"
      ],
      "metadata": {
        "id": "tZMwqWRRgmNc"
      }
    },
    {
      "cell_type": "code",
      "source": [
        "told_br = pd.read_csv(\"/content/drive/MyDrive/PIC /Dataset/told_br_binary.csv\")"
      ],
      "metadata": {
        "id": "sdagc8j42DyR"
      },
      "execution_count": null,
      "outputs": []
    },
    {
      "cell_type": "markdown",
      "source": [
        "Tranformando a base em binária"
      ],
      "metadata": {
        "id": "C_aDf0aWfKK-"
      }
    },
    {
      "cell_type": "code",
      "source": [
        "told_br[\"toxic\"] = 0\n",
        "told_br[\"toxic_1\"] = 0\n",
        "told_br[\"toxic_2\"] = 0\n",
        "told_br[\"toxic_3\"] = 0\n",
        "told_br[\"homophobia\"] = 0\n",
        "told_br[\"obscene\"] = 0\n",
        "told_br[\"insult\"] = 0\n",
        "told_br[\"racism\"] = 0\n",
        "told_br[\"misogyny\"] = 0\n",
        "told_br[\"xenophobia\"] = 0\n",
        "for i, row in told_br.iterrows():\n",
        "    count = 0\n",
        "    if 1 in list(row[[\"homophobia_1\", \"obscene_1\", \"insult_1\", \"racism_1\", \"misogyny_1\", \"xenophobia_1\"]]):\n",
        "        told_br.loc[i, \"toxic_1\"] = 1\n",
        "        count += 1\n",
        "    if 1 in list(row[[\"homophobia_2\", \"obscene_2\", \"insult_2\", \"racism_2\", \"misogyny_2\", \"xenophobia_2\"]]):\n",
        "        told_br.loc[i, \"toxic_2\"] = 1\n",
        "        count += 1\n",
        "    if 1 in list(row[[\"homophobia_3\", \"obscene_3\", \"insult_3\", \"racism_3\", \"misogyny_3\", \"xenophobia_3\"]]):\n",
        "        told_br.loc[i, \"toxic_3\"] = 1\n",
        "        count += 1\n",
        "\n",
        "    told_br.loc[i, \"homophobia\"] = np.sum(list(row[[\"homophobia_1\", \"homophobia_2\", \"homophobia_3\"]]))\n",
        "\n",
        "    told_br.loc[i, \"obscene\"] = np.sum(list(row[[\"obscene_1\", \"obscene_2\", \"obscene_3\"]]))\n",
        "\n",
        "    told_br.loc[i, \"insult\"] = np.sum(list(row[[\"insult_1\", \"insult_2\", \"insult_3\"]]))\n",
        "\n",
        "    told_br.loc[i, \"racism\"] = np.sum(list(row[[\"racism_1\", \"racism_2\", \"racism_3\"]]))\n",
        "\n",
        "    told_br.loc[i, \"misogyny\"] = np.sum(list(row[[\"misogyny_1\", \"misogyny_2\", \"misogyny_3\"]]))\n",
        "\n",
        "    told_br.loc[i, \"xenophobia\"] = np.sum(list(row[[\"xenophobia_1\", \"xenophobia_2\", \"xenophobia_3\"]]))\n",
        "\n",
        "    if count >= 1:\n",
        "        told_br.loc[i, \"toxic\"] = 1"
      ],
      "metadata": {
        "id": "rwXS8G5ix56f"
      },
      "execution_count": null,
      "outputs": []
    },
    {
      "cell_type": "code",
      "source": [
        "data_told = told_br[[\"text\", \"toxic\", \"homophobia\", \"obscene\", \"insult\", \"racism\", \"misogyny\", \"xenophobia\"]]"
      ],
      "metadata": {
        "id": "efq0-gaWyppw"
      },
      "execution_count": null,
      "outputs": []
    },
    {
      "cell_type": "markdown",
      "source": [
        "Treinamento e preparação dos dados"
      ],
      "metadata": {
        "id": "j61i29fBfPW2"
      }
    },
    {
      "cell_type": "code",
      "source": [
        "logging.basicConfig(level=logging.INFO)\n",
        "transformers_logger = logging.getLogger(\"transformers\")\n",
        "transformers_logger.setLevel(logging.WARNING)\n",
        "\n",
        "# Preparing train data\n",
        "#data_told = data_told.iloc[:,[0, 1]]\n",
        "#train,eva = train_test_split(data_told,test_size = 0.2)\n",
        "\n",
        "\n",
        "train_df = pd.read_csv('/content/drive/MyDrive/PIC /Teste Treinamento/Told_BR/X_train.csv')\n",
        "y_train = pd.read_csv('/content/drive/MyDrive/PIC /Teste Treinamento/Told_BR/y_train.csv')\n",
        "train_df['toxic'] =  y_train['toxic']\n",
        "train_df = train_df.iloc[:,[1, 2]]\n",
        "\n",
        "eva_df = pd.read_csv('/content/drive/MyDrive/PIC /Teste Treinamento/Told_BR/X_test.csv')\n",
        "y_test = pd.read_csv('/content/drive/MyDrive/PIC /Teste Treinamento/Told_BR/y_test.csv')\n",
        "eva_df['toxic'] =  y_test['toxic']\n",
        "eva_df = eva_df.iloc[:,[1, 2]]\n",
        "\n",
        "train_df = pd.DataFrame({\n",
        "   'text': train_df['text'],\n",
        "   'label': train_df['toxic']\n",
        "})\n",
        "\n",
        "eva_df = pd.DataFrame({\n",
        "   'text': eva_df['text'],\n",
        "   'label': eva_df['toxic']\n",
        "})\n",
        "\n",
        "# #Optional model configuration\n",
        "# model_args = ClassificationArgs(\n",
        "#   num_train_epochs=1,\n",
        "#   overwrite_output_dir=True\n",
        "#                                 )\n",
        "# #Create a ClassificationModel\n",
        "# model = ClassificationModel(\n",
        "#     \"bert\", \"neuralmind/bert-base-portuguese-cased\", args=model_args,\n",
        "#     use_cuda=False\n",
        "# )\n",
        "\n",
        "# model.train_model(train_df)\n",
        "\n",
        "# # Save model\n",
        "# with open('TOLD_BR-BERT.pkl ', 'wb') as file:\n",
        "#     pickle.dump(model, file)"
      ],
      "metadata": {
        "id": "msuel3KIgp6d"
      },
      "execution_count": null,
      "outputs": []
    },
    {
      "cell_type": "markdown",
      "source": [
        "Carregar modelo"
      ],
      "metadata": {
        "id": "Ba5rhT6NHTF6"
      }
    },
    {
      "cell_type": "code",
      "source": [
        "with open('/content/drive/MyDrive/PIC /Models/TOLD_BR-BERT.pkl', 'rb') as f:\n",
        "    model = pickle.load(f)"
      ],
      "metadata": {
        "id": "Mz2zALw7HU0S"
      },
      "execution_count": null,
      "outputs": []
    },
    {
      "cell_type": "code",
      "source": [
        "# result, model_outputs, wrong_predictions = model.eval_model(eva_df)\n",
        "# lst = []\n",
        "# for arr in model_outputs:\n",
        "#     lst.append(np.argmax(arr))\n",
        "true = eva_df['label'].tolist()\n",
        "predicted = lst\n",
        "print(classification_report(true, predicted))"
      ],
      "metadata": {
        "id": "S6qptLhHYVKt",
        "colab": {
          "base_uri": "https://localhost:8080/"
        },
        "outputId": "2f588fe0-5a3f-4b7b-cd19-3e126bb98069"
      },
      "execution_count": null,
      "outputs": [
        {
          "output_type": "stream",
          "name": "stdout",
          "text": [
            "              precision    recall  f1-score   support\n",
            "\n",
            "           0       0.85      0.73      0.79      2349\n",
            "           1       0.71      0.84      0.77      1851\n",
            "\n",
            "    accuracy                           0.78      4200\n",
            "   macro avg       0.78      0.79      0.78      4200\n",
            "weighted avg       0.79      0.78      0.78      4200\n",
            "\n"
          ]
        }
      ]
    },
    {
      "cell_type": "code",
      "source": [
        "confusion_matrix(true, predicted)"
      ],
      "metadata": {
        "colab": {
          "base_uri": "https://localhost:8080/"
        },
        "id": "dqVmuJUkfoMQ",
        "outputId": "b93deadf-75b7-44dc-ab36-d8ef7ed21114"
      },
      "execution_count": null,
      "outputs": [
        {
          "output_type": "execute_result",
          "data": {
            "text/plain": [
              "array([[1717,  632],\n",
              "       [ 294, 1557]])"
            ]
          },
          "metadata": {},
          "execution_count": 17
        }
      ]
    },
    {
      "cell_type": "markdown",
      "source": [
        "Função para pré-processamento"
      ],
      "metadata": {
        "id": "CediafnlgzJD"
      }
    },
    {
      "cell_type": "code",
      "source": [
        "npl = spacy.load(\"pt_core_news_sm\")\n",
        "def preprocess(text):\n",
        "  comentarios = text.lower()\n",
        "  only_latters =re.sub(\"[^a-zA-Z]\", \" \", comentarios) # somente letras\n",
        "  doc = npl(comentarios)\n",
        "  filtered_result = []\n",
        "  for token in doc:\n",
        "    if token.is_stop or token.is_punct :\n",
        "      continue\n",
        "    filtered_result.append(token.lemma_)\n",
        "  return \" \".join(filtered_result)\n",
        "\n",
        "told_br['preprocessed_comments'] =  told_br['text'].apply(preprocess)"
      ],
      "metadata": {
        "id": "3ZP7NEx2g8vK"
      },
      "execution_count": null,
      "outputs": []
    }
  ]
}