{
  "nbformat": 4,
  "nbformat_minor": 0,
  "metadata": {
    "colab": {
      "provenance": [],
      "include_colab_link": true
    },
    "kernelspec": {
      "name": "python3",
      "display_name": "Python 3"
    },
    "language_info": {
      "name": "python"
    },
    "widgets": {
      "application/vnd.jupyter.widget-state+json": {
        "5065d50787434d1296db6eeab156ffbd": {
          "model_module": "@jupyter-widgets/controls",
          "model_name": "HBoxModel",
          "model_module_version": "1.5.0",
          "state": {
            "_dom_classes": [],
            "_model_module": "@jupyter-widgets/controls",
            "_model_module_version": "1.5.0",
            "_model_name": "HBoxModel",
            "_view_count": null,
            "_view_module": "@jupyter-widgets/controls",
            "_view_module_version": "1.5.0",
            "_view_name": "HBoxView",
            "box_style": "",
            "children": [
              "IPY_MODEL_751182cb565b4a54990b4593c9d6f1c4",
              "IPY_MODEL_29c8846e092d4c47a90bbf8da6ef957f",
              "IPY_MODEL_7036867988454857b33fd20e52031341"
            ],
            "layout": "IPY_MODEL_bb5c58f7fae34e6bb9c7b0818237aa4d"
          }
        },
        "751182cb565b4a54990b4593c9d6f1c4": {
          "model_module": "@jupyter-widgets/controls",
          "model_name": "HTMLModel",
          "model_module_version": "1.5.0",
          "state": {
            "_dom_classes": [],
            "_model_module": "@jupyter-widgets/controls",
            "_model_module_version": "1.5.0",
            "_model_name": "HTMLModel",
            "_view_count": null,
            "_view_module": "@jupyter-widgets/controls",
            "_view_module_version": "1.5.0",
            "_view_name": "HTMLView",
            "description": "",
            "description_tooltip": null,
            "layout": "IPY_MODEL_200b0cba9b564524ae077d1e94699fcf",
            "placeholder": "​",
            "style": "IPY_MODEL_f1eb9b910eb841f6a84e5259680f7026",
            "value": "  0%"
          }
        },
        "29c8846e092d4c47a90bbf8da6ef957f": {
          "model_module": "@jupyter-widgets/controls",
          "model_name": "FloatProgressModel",
          "model_module_version": "1.5.0",
          "state": {
            "_dom_classes": [],
            "_model_module": "@jupyter-widgets/controls",
            "_model_module_version": "1.5.0",
            "_model_name": "FloatProgressModel",
            "_view_count": null,
            "_view_module": "@jupyter-widgets/controls",
            "_view_module_version": "1.5.0",
            "_view_name": "ProgressView",
            "bar_style": "danger",
            "description": "",
            "description_tooltip": null,
            "layout": "IPY_MODEL_ee575686188644529a5cf40a6bf4ba05",
            "max": 4200,
            "min": 0,
            "orientation": "horizontal",
            "style": "IPY_MODEL_d663832b412b4597bd9ddadc93aea2c9",
            "value": 9
          }
        },
        "7036867988454857b33fd20e52031341": {
          "model_module": "@jupyter-widgets/controls",
          "model_name": "HTMLModel",
          "model_module_version": "1.5.0",
          "state": {
            "_dom_classes": [],
            "_model_module": "@jupyter-widgets/controls",
            "_model_module_version": "1.5.0",
            "_model_name": "HTMLModel",
            "_view_count": null,
            "_view_module": "@jupyter-widgets/controls",
            "_view_module_version": "1.5.0",
            "_view_name": "HTMLView",
            "description": "",
            "description_tooltip": null,
            "layout": "IPY_MODEL_efe3d4e008da4fa490fd27cf1ab53a9b",
            "placeholder": "​",
            "style": "IPY_MODEL_7377ffd207354905917894ae49b6453e",
            "value": " 9/4200 [00:04&lt;29:13,  2.39it/s]"
          }
        },
        "bb5c58f7fae34e6bb9c7b0818237aa4d": {
          "model_module": "@jupyter-widgets/base",
          "model_name": "LayoutModel",
          "model_module_version": "1.2.0",
          "state": {
            "_model_module": "@jupyter-widgets/base",
            "_model_module_version": "1.2.0",
            "_model_name": "LayoutModel",
            "_view_count": null,
            "_view_module": "@jupyter-widgets/base",
            "_view_module_version": "1.2.0",
            "_view_name": "LayoutView",
            "align_content": null,
            "align_items": null,
            "align_self": null,
            "border": null,
            "bottom": null,
            "display": null,
            "flex": null,
            "flex_flow": null,
            "grid_area": null,
            "grid_auto_columns": null,
            "grid_auto_flow": null,
            "grid_auto_rows": null,
            "grid_column": null,
            "grid_gap": null,
            "grid_row": null,
            "grid_template_areas": null,
            "grid_template_columns": null,
            "grid_template_rows": null,
            "height": null,
            "justify_content": null,
            "justify_items": null,
            "left": null,
            "margin": null,
            "max_height": null,
            "max_width": null,
            "min_height": null,
            "min_width": null,
            "object_fit": null,
            "object_position": null,
            "order": null,
            "overflow": null,
            "overflow_x": null,
            "overflow_y": null,
            "padding": null,
            "right": null,
            "top": null,
            "visibility": null,
            "width": null
          }
        },
        "200b0cba9b564524ae077d1e94699fcf": {
          "model_module": "@jupyter-widgets/base",
          "model_name": "LayoutModel",
          "model_module_version": "1.2.0",
          "state": {
            "_model_module": "@jupyter-widgets/base",
            "_model_module_version": "1.2.0",
            "_model_name": "LayoutModel",
            "_view_count": null,
            "_view_module": "@jupyter-widgets/base",
            "_view_module_version": "1.2.0",
            "_view_name": "LayoutView",
            "align_content": null,
            "align_items": null,
            "align_self": null,
            "border": null,
            "bottom": null,
            "display": null,
            "flex": null,
            "flex_flow": null,
            "grid_area": null,
            "grid_auto_columns": null,
            "grid_auto_flow": null,
            "grid_auto_rows": null,
            "grid_column": null,
            "grid_gap": null,
            "grid_row": null,
            "grid_template_areas": null,
            "grid_template_columns": null,
            "grid_template_rows": null,
            "height": null,
            "justify_content": null,
            "justify_items": null,
            "left": null,
            "margin": null,
            "max_height": null,
            "max_width": null,
            "min_height": null,
            "min_width": null,
            "object_fit": null,
            "object_position": null,
            "order": null,
            "overflow": null,
            "overflow_x": null,
            "overflow_y": null,
            "padding": null,
            "right": null,
            "top": null,
            "visibility": null,
            "width": null
          }
        },
        "f1eb9b910eb841f6a84e5259680f7026": {
          "model_module": "@jupyter-widgets/controls",
          "model_name": "DescriptionStyleModel",
          "model_module_version": "1.5.0",
          "state": {
            "_model_module": "@jupyter-widgets/controls",
            "_model_module_version": "1.5.0",
            "_model_name": "DescriptionStyleModel",
            "_view_count": null,
            "_view_module": "@jupyter-widgets/base",
            "_view_module_version": "1.2.0",
            "_view_name": "StyleView",
            "description_width": ""
          }
        },
        "ee575686188644529a5cf40a6bf4ba05": {
          "model_module": "@jupyter-widgets/base",
          "model_name": "LayoutModel",
          "model_module_version": "1.2.0",
          "state": {
            "_model_module": "@jupyter-widgets/base",
            "_model_module_version": "1.2.0",
            "_model_name": "LayoutModel",
            "_view_count": null,
            "_view_module": "@jupyter-widgets/base",
            "_view_module_version": "1.2.0",
            "_view_name": "LayoutView",
            "align_content": null,
            "align_items": null,
            "align_self": null,
            "border": null,
            "bottom": null,
            "display": null,
            "flex": null,
            "flex_flow": null,
            "grid_area": null,
            "grid_auto_columns": null,
            "grid_auto_flow": null,
            "grid_auto_rows": null,
            "grid_column": null,
            "grid_gap": null,
            "grid_row": null,
            "grid_template_areas": null,
            "grid_template_columns": null,
            "grid_template_rows": null,
            "height": null,
            "justify_content": null,
            "justify_items": null,
            "left": null,
            "margin": null,
            "max_height": null,
            "max_width": null,
            "min_height": null,
            "min_width": null,
            "object_fit": null,
            "object_position": null,
            "order": null,
            "overflow": null,
            "overflow_x": null,
            "overflow_y": null,
            "padding": null,
            "right": null,
            "top": null,
            "visibility": null,
            "width": null
          }
        },
        "d663832b412b4597bd9ddadc93aea2c9": {
          "model_module": "@jupyter-widgets/controls",
          "model_name": "ProgressStyleModel",
          "model_module_version": "1.5.0",
          "state": {
            "_model_module": "@jupyter-widgets/controls",
            "_model_module_version": "1.5.0",
            "_model_name": "ProgressStyleModel",
            "_view_count": null,
            "_view_module": "@jupyter-widgets/base",
            "_view_module_version": "1.2.0",
            "_view_name": "StyleView",
            "bar_color": null,
            "description_width": ""
          }
        },
        "efe3d4e008da4fa490fd27cf1ab53a9b": {
          "model_module": "@jupyter-widgets/base",
          "model_name": "LayoutModel",
          "model_module_version": "1.2.0",
          "state": {
            "_model_module": "@jupyter-widgets/base",
            "_model_module_version": "1.2.0",
            "_model_name": "LayoutModel",
            "_view_count": null,
            "_view_module": "@jupyter-widgets/base",
            "_view_module_version": "1.2.0",
            "_view_name": "LayoutView",
            "align_content": null,
            "align_items": null,
            "align_self": null,
            "border": null,
            "bottom": null,
            "display": null,
            "flex": null,
            "flex_flow": null,
            "grid_area": null,
            "grid_auto_columns": null,
            "grid_auto_flow": null,
            "grid_auto_rows": null,
            "grid_column": null,
            "grid_gap": null,
            "grid_row": null,
            "grid_template_areas": null,
            "grid_template_columns": null,
            "grid_template_rows": null,
            "height": null,
            "justify_content": null,
            "justify_items": null,
            "left": null,
            "margin": null,
            "max_height": null,
            "max_width": null,
            "min_height": null,
            "min_width": null,
            "object_fit": null,
            "object_position": null,
            "order": null,
            "overflow": null,
            "overflow_x": null,
            "overflow_y": null,
            "padding": null,
            "right": null,
            "top": null,
            "visibility": null,
            "width": null
          }
        },
        "7377ffd207354905917894ae49b6453e": {
          "model_module": "@jupyter-widgets/controls",
          "model_name": "DescriptionStyleModel",
          "model_module_version": "1.5.0",
          "state": {
            "_model_module": "@jupyter-widgets/controls",
            "_model_module_version": "1.5.0",
            "_model_name": "DescriptionStyleModel",
            "_view_count": null,
            "_view_module": "@jupyter-widgets/base",
            "_view_module_version": "1.2.0",
            "_view_name": "StyleView",
            "description_width": ""
          }
        },
        "54a697a0e13f4dfab3c9fe5e7ecf0155": {
          "model_module": "@jupyter-widgets/controls",
          "model_name": "HBoxModel",
          "model_module_version": "1.5.0",
          "state": {
            "_dom_classes": [],
            "_model_module": "@jupyter-widgets/controls",
            "_model_module_version": "1.5.0",
            "_model_name": "HBoxModel",
            "_view_count": null,
            "_view_module": "@jupyter-widgets/controls",
            "_view_module_version": "1.5.0",
            "_view_name": "HBoxView",
            "box_style": "",
            "children": [
              "IPY_MODEL_8755a8efd35b4e1a9202572d108ee9db",
              "IPY_MODEL_54380e9a6700430b9a303e45d51f18bb",
              "IPY_MODEL_d14ee3183d2e4d93a42062fefc32a8d7"
            ],
            "layout": "IPY_MODEL_c741d8df14fe497e9182f3703565937a"
          }
        },
        "8755a8efd35b4e1a9202572d108ee9db": {
          "model_module": "@jupyter-widgets/controls",
          "model_name": "HTMLModel",
          "model_module_version": "1.5.0",
          "state": {
            "_dom_classes": [],
            "_model_module": "@jupyter-widgets/controls",
            "_model_module_version": "1.5.0",
            "_model_name": "HTMLModel",
            "_view_count": null,
            "_view_module": "@jupyter-widgets/controls",
            "_view_module_version": "1.5.0",
            "_view_name": "HTMLView",
            "description": "",
            "description_tooltip": null,
            "layout": "IPY_MODEL_8047ea610d0744ad8fcea209352f8735",
            "placeholder": "​",
            "style": "IPY_MODEL_7bb027da75fe4dd2afd8ba54559da9d0",
            "value": "Running Evaluation: 100%"
          }
        },
        "54380e9a6700430b9a303e45d51f18bb": {
          "model_module": "@jupyter-widgets/controls",
          "model_name": "FloatProgressModel",
          "model_module_version": "1.5.0",
          "state": {
            "_dom_classes": [],
            "_model_module": "@jupyter-widgets/controls",
            "_model_module_version": "1.5.0",
            "_model_name": "FloatProgressModel",
            "_view_count": null,
            "_view_module": "@jupyter-widgets/controls",
            "_view_module_version": "1.5.0",
            "_view_name": "ProgressView",
            "bar_style": "success",
            "description": "",
            "description_tooltip": null,
            "layout": "IPY_MODEL_798f958976664b36ae347fde34241186",
            "max": 525,
            "min": 0,
            "orientation": "horizontal",
            "style": "IPY_MODEL_2697982255614536bd44ca35c4bb9051",
            "value": 525
          }
        },
        "d14ee3183d2e4d93a42062fefc32a8d7": {
          "model_module": "@jupyter-widgets/controls",
          "model_name": "HTMLModel",
          "model_module_version": "1.5.0",
          "state": {
            "_dom_classes": [],
            "_model_module": "@jupyter-widgets/controls",
            "_model_module_version": "1.5.0",
            "_model_name": "HTMLModel",
            "_view_count": null,
            "_view_module": "@jupyter-widgets/controls",
            "_view_module_version": "1.5.0",
            "_view_name": "HTMLView",
            "description": "",
            "description_tooltip": null,
            "layout": "IPY_MODEL_b3fdc6a5c477423781030ac1bbec4a3b",
            "placeholder": "​",
            "style": "IPY_MODEL_00ba89d5f511435f8c26cd619f83e394",
            "value": " 525/525 [29:55&lt;00:00,  3.74s/it]"
          }
        },
        "c741d8df14fe497e9182f3703565937a": {
          "model_module": "@jupyter-widgets/base",
          "model_name": "LayoutModel",
          "model_module_version": "1.2.0",
          "state": {
            "_model_module": "@jupyter-widgets/base",
            "_model_module_version": "1.2.0",
            "_model_name": "LayoutModel",
            "_view_count": null,
            "_view_module": "@jupyter-widgets/base",
            "_view_module_version": "1.2.0",
            "_view_name": "LayoutView",
            "align_content": null,
            "align_items": null,
            "align_self": null,
            "border": null,
            "bottom": null,
            "display": null,
            "flex": null,
            "flex_flow": null,
            "grid_area": null,
            "grid_auto_columns": null,
            "grid_auto_flow": null,
            "grid_auto_rows": null,
            "grid_column": null,
            "grid_gap": null,
            "grid_row": null,
            "grid_template_areas": null,
            "grid_template_columns": null,
            "grid_template_rows": null,
            "height": null,
            "justify_content": null,
            "justify_items": null,
            "left": null,
            "margin": null,
            "max_height": null,
            "max_width": null,
            "min_height": null,
            "min_width": null,
            "object_fit": null,
            "object_position": null,
            "order": null,
            "overflow": null,
            "overflow_x": null,
            "overflow_y": null,
            "padding": null,
            "right": null,
            "top": null,
            "visibility": null,
            "width": null
          }
        },
        "8047ea610d0744ad8fcea209352f8735": {
          "model_module": "@jupyter-widgets/base",
          "model_name": "LayoutModel",
          "model_module_version": "1.2.0",
          "state": {
            "_model_module": "@jupyter-widgets/base",
            "_model_module_version": "1.2.0",
            "_model_name": "LayoutModel",
            "_view_count": null,
            "_view_module": "@jupyter-widgets/base",
            "_view_module_version": "1.2.0",
            "_view_name": "LayoutView",
            "align_content": null,
            "align_items": null,
            "align_self": null,
            "border": null,
            "bottom": null,
            "display": null,
            "flex": null,
            "flex_flow": null,
            "grid_area": null,
            "grid_auto_columns": null,
            "grid_auto_flow": null,
            "grid_auto_rows": null,
            "grid_column": null,
            "grid_gap": null,
            "grid_row": null,
            "grid_template_areas": null,
            "grid_template_columns": null,
            "grid_template_rows": null,
            "height": null,
            "justify_content": null,
            "justify_items": null,
            "left": null,
            "margin": null,
            "max_height": null,
            "max_width": null,
            "min_height": null,
            "min_width": null,
            "object_fit": null,
            "object_position": null,
            "order": null,
            "overflow": null,
            "overflow_x": null,
            "overflow_y": null,
            "padding": null,
            "right": null,
            "top": null,
            "visibility": null,
            "width": null
          }
        },
        "7bb027da75fe4dd2afd8ba54559da9d0": {
          "model_module": "@jupyter-widgets/controls",
          "model_name": "DescriptionStyleModel",
          "model_module_version": "1.5.0",
          "state": {
            "_model_module": "@jupyter-widgets/controls",
            "_model_module_version": "1.5.0",
            "_model_name": "DescriptionStyleModel",
            "_view_count": null,
            "_view_module": "@jupyter-widgets/base",
            "_view_module_version": "1.2.0",
            "_view_name": "StyleView",
            "description_width": ""
          }
        },
        "798f958976664b36ae347fde34241186": {
          "model_module": "@jupyter-widgets/base",
          "model_name": "LayoutModel",
          "model_module_version": "1.2.0",
          "state": {
            "_model_module": "@jupyter-widgets/base",
            "_model_module_version": "1.2.0",
            "_model_name": "LayoutModel",
            "_view_count": null,
            "_view_module": "@jupyter-widgets/base",
            "_view_module_version": "1.2.0",
            "_view_name": "LayoutView",
            "align_content": null,
            "align_items": null,
            "align_self": null,
            "border": null,
            "bottom": null,
            "display": null,
            "flex": null,
            "flex_flow": null,
            "grid_area": null,
            "grid_auto_columns": null,
            "grid_auto_flow": null,
            "grid_auto_rows": null,
            "grid_column": null,
            "grid_gap": null,
            "grid_row": null,
            "grid_template_areas": null,
            "grid_template_columns": null,
            "grid_template_rows": null,
            "height": null,
            "justify_content": null,
            "justify_items": null,
            "left": null,
            "margin": null,
            "max_height": null,
            "max_width": null,
            "min_height": null,
            "min_width": null,
            "object_fit": null,
            "object_position": null,
            "order": null,
            "overflow": null,
            "overflow_x": null,
            "overflow_y": null,
            "padding": null,
            "right": null,
            "top": null,
            "visibility": null,
            "width": null
          }
        },
        "2697982255614536bd44ca35c4bb9051": {
          "model_module": "@jupyter-widgets/controls",
          "model_name": "ProgressStyleModel",
          "model_module_version": "1.5.0",
          "state": {
            "_model_module": "@jupyter-widgets/controls",
            "_model_module_version": "1.5.0",
            "_model_name": "ProgressStyleModel",
            "_view_count": null,
            "_view_module": "@jupyter-widgets/base",
            "_view_module_version": "1.2.0",
            "_view_name": "StyleView",
            "bar_color": null,
            "description_width": ""
          }
        },
        "b3fdc6a5c477423781030ac1bbec4a3b": {
          "model_module": "@jupyter-widgets/base",
          "model_name": "LayoutModel",
          "model_module_version": "1.2.0",
          "state": {
            "_model_module": "@jupyter-widgets/base",
            "_model_module_version": "1.2.0",
            "_model_name": "LayoutModel",
            "_view_count": null,
            "_view_module": "@jupyter-widgets/base",
            "_view_module_version": "1.2.0",
            "_view_name": "LayoutView",
            "align_content": null,
            "align_items": null,
            "align_self": null,
            "border": null,
            "bottom": null,
            "display": null,
            "flex": null,
            "flex_flow": null,
            "grid_area": null,
            "grid_auto_columns": null,
            "grid_auto_flow": null,
            "grid_auto_rows": null,
            "grid_column": null,
            "grid_gap": null,
            "grid_row": null,
            "grid_template_areas": null,
            "grid_template_columns": null,
            "grid_template_rows": null,
            "height": null,
            "justify_content": null,
            "justify_items": null,
            "left": null,
            "margin": null,
            "max_height": null,
            "max_width": null,
            "min_height": null,
            "min_width": null,
            "object_fit": null,
            "object_position": null,
            "order": null,
            "overflow": null,
            "overflow_x": null,
            "overflow_y": null,
            "padding": null,
            "right": null,
            "top": null,
            "visibility": null,
            "width": null
          }
        },
        "00ba89d5f511435f8c26cd619f83e394": {
          "model_module": "@jupyter-widgets/controls",
          "model_name": "DescriptionStyleModel",
          "model_module_version": "1.5.0",
          "state": {
            "_model_module": "@jupyter-widgets/controls",
            "_model_module_version": "1.5.0",
            "_model_name": "DescriptionStyleModel",
            "_view_count": null,
            "_view_module": "@jupyter-widgets/base",
            "_view_module_version": "1.2.0",
            "_view_name": "StyleView",
            "description_width": ""
          }
        }
      }
    }
  },
  "cells": [
    {
      "cell_type": "markdown",
      "metadata": {
        "id": "view-in-github",
        "colab_type": "text"
      },
      "source": [
        "<a href=\"https://colab.research.google.com/github/GGMmattos/Modelos-de-Deteccao-de-Linguagem-Ofensiva/blob/main/R2_TOLD_BR_BERT.ipynb\" target=\"_parent\"><img src=\"https://colab.research.google.com/assets/colab-badge.svg\" alt=\"Open In Colab\"/></a>"
      ]
    },
    {
      "cell_type": "code",
      "execution_count": null,
      "metadata": {
        "id": "2b-igKSjfv44"
      },
      "outputs": [],
      "source": [
        "#Importing needed libraries\n",
        "!pip install -U scikit-learn\n",
        "!pip install -U spacy\n",
        "!python -m spacy download pt\n",
        "!pip install wandb\n",
        "from pandas.core.window.ewm import OnlineExponentialMovingWindow\n",
        "import pandas as pd\n",
        "import numpy as np\n",
        "import seaborn as sns #Para visualização de gráficos\n",
        "import matplotlib.pyplot as plt #Para visualização de gráficos\n",
        "import plotly.express as px #Biblioteca para geração de gráfico dinámico\n",
        "%matplotlib inline\n",
        "from collections import Counter\n",
        "import re, nltk\n",
        "from nltk import word_tokenize\n",
        "from nltk.corpus import stopwords\n",
        "from wordcloud import WordCloud, STOPWORDS\n",
        "nltk.download('stopwords')\n",
        "nltk.download('punkt')\n",
        "nltk.download('wordnet')\n",
        "from nltk.stem import WordNetLemmatizer\n",
        "lemmatizer = WordNetLemmatizer()\n",
        "from sklearn.model_selection import train_test_split\n",
        "from sklearn.metrics import confusion_matrix\n",
        "from sklearn.linear_model import LogisticRegression\n",
        "from sklearn.ensemble import RandomForestClassifier\n",
        "from sklearn.metrics import accuracy_score\n",
        "from sklearn.metrics import f1_score\n",
        "from sklearn.feature_extraction.text import CountVectorizer\n",
        "from sklearn.feature_extraction.text import TfidfTransformer\n",
        "from sklearn.feature_extraction.text import TfidfVectorizer\n",
        "from IPython.core.interactiveshell import InteractiveShell\n",
        "InteractiveShell.ast_node_interactivity ='all'\n",
        "from sklearn.naive_bayes import MultinomialNB\n",
        "from sklearn.svm import SVC\n",
        "from sklearn.neural_network import MLPClassifier\n",
        "from sklearn.linear_model import LogisticRegression\n",
        "from sklearn.pipeline import Pipeline\n",
        "from sklearn.metrics import classification_report, accuracy_score\n",
        "import pandas as pd\n",
        "import logging\n",
        "import numpy as np\n",
        "import sklearn\n",
        "import pickle\n",
        "import spacy\n",
        "from sklearn.model_selection import train_test_split\n",
        "!pip install simpletransformers \"transformers==4.30.2\"\n",
        "from simpletransformers.classification import ClassificationModel, ClassificationArgs, MultiLabelClassificationModel, MultiLabelClassificationArgs\n"
      ]
    },
    {
      "cell_type": "code",
      "source": [
        "from google.colab import drive\n",
        "drive.mount('/content/drive')"
      ],
      "metadata": {
        "id": "BuxVJLSR4TRY"
      },
      "execution_count": null,
      "outputs": []
    },
    {
      "cell_type": "code",
      "source": [
        "told_br = pd.read_csv(\"/content/drive/MyDrive/PIC /Dataset/told_br_binary.csv\")"
      ],
      "metadata": {
        "id": "sdagc8j42DyR"
      },
      "execution_count": null,
      "outputs": []
    },
    {
      "cell_type": "markdown",
      "source": [
        "Tranformando a base em binária"
      ],
      "metadata": {
        "id": "C_aDf0aWfKK-"
      }
    },
    {
      "cell_type": "code",
      "source": [
        "told_br[\"toxic\"] = 0\n",
        "told_br[\"toxic_1\"] = 0\n",
        "told_br[\"toxic_2\"] = 0\n",
        "told_br[\"toxic_3\"] = 0\n",
        "told_br[\"homophobia\"] = 0\n",
        "told_br[\"obscene\"] = 0\n",
        "told_br[\"insult\"] = 0\n",
        "told_br[\"racism\"] = 0\n",
        "told_br[\"misogyny\"] = 0\n",
        "told_br[\"xenophobia\"] = 0\n",
        "for i, row in told_br.iterrows():\n",
        "    count = 0\n",
        "    if 1 in list(row[[\"homophobia_1\", \"obscene_1\", \"insult_1\", \"racism_1\", \"misogyny_1\", \"xenophobia_1\"]]):\n",
        "        told_br.loc[i, \"toxic_1\"] = 1\n",
        "        count += 1\n",
        "    if 1 in list(row[[\"homophobia_2\", \"obscene_2\", \"insult_2\", \"racism_2\", \"misogyny_2\", \"xenophobia_2\"]]):\n",
        "        told_br.loc[i, \"toxic_2\"] = 1\n",
        "        count += 1\n",
        "    if 1 in list(row[[\"homophobia_3\", \"obscene_3\", \"insult_3\", \"racism_3\", \"misogyny_3\", \"xenophobia_3\"]]):\n",
        "        told_br.loc[i, \"toxic_3\"] = 1\n",
        "        count += 1\n",
        "\n",
        "    told_br.loc[i, \"homophobia\"] = np.sum(list(row[[\"homophobia_1\", \"homophobia_2\", \"homophobia_3\"]]))\n",
        "\n",
        "    told_br.loc[i, \"obscene\"] = np.sum(list(row[[\"obscene_1\", \"obscene_2\", \"obscene_3\"]]))\n",
        "\n",
        "    told_br.loc[i, \"insult\"] = np.sum(list(row[[\"insult_1\", \"insult_2\", \"insult_3\"]]))\n",
        "\n",
        "    told_br.loc[i, \"racism\"] = np.sum(list(row[[\"racism_1\", \"racism_2\", \"racism_3\"]]))\n",
        "\n",
        "    told_br.loc[i, \"misogyny\"] = np.sum(list(row[[\"misogyny_1\", \"misogyny_2\", \"misogyny_3\"]]))\n",
        "\n",
        "    told_br.loc[i, \"xenophobia\"] = np.sum(list(row[[\"xenophobia_1\", \"xenophobia_2\", \"xenophobia_3\"]]))\n",
        "\n",
        "    if count >= 1:\n",
        "        told_br.loc[i, \"toxic\"] = 1"
      ],
      "metadata": {
        "id": "rwXS8G5ix56f"
      },
      "execution_count": null,
      "outputs": []
    },
    {
      "cell_type": "code",
      "source": [
        "data_told = told_br[[\"text\", \"toxic\", \"homophobia\", \"obscene\", \"insult\", \"racism\", \"misogyny\", \"xenophobia\"]]"
      ],
      "metadata": {
        "id": "efq0-gaWyppw"
      },
      "execution_count": null,
      "outputs": []
    },
    {
      "cell_type": "markdown",
      "source": [
        "Treinamento e preparação dos dados"
      ],
      "metadata": {
        "id": "j61i29fBfPW2"
      }
    },
    {
      "cell_type": "code",
      "source": [
        "logging.basicConfig(level=logging.INFO)\n",
        "transformers_logger = logging.getLogger(\"transformers\")\n",
        "transformers_logger.setLevel(logging.WARNING)\n",
        "\n",
        "# Preparing train data\n",
        "#data_told = data_told.iloc[:,[0, 1]]\n",
        "#train,eva = train_test_split(data_told,test_size = 0.2)\n",
        "\n",
        "\n",
        "train_df = pd.read_csv('/content/drive/MyDrive/PIC /Teste Treinamento/Told_BR/X_train.csv')\n",
        "y_train = pd.read_csv('/content/drive/MyDrive/PIC /Teste Treinamento/Told_BR/y_train.csv')\n",
        "train_df['toxic'] =  y_train['toxic']\n",
        "train_df = train_df.iloc[:,[1, 2]]\n",
        "\n",
        "eva_df = pd.read_csv('/content/drive/MyDrive/PIC /Teste Treinamento/Told_BR/X_test.csv')\n",
        "y_test = pd.read_csv('/content/drive/MyDrive/PIC /Teste Treinamento/Told_BR/y_test.csv')\n",
        "eva_df['toxic'] =  y_test['toxic']\n",
        "eva_df = eva_df.iloc[:,[1, 2]]\n",
        "\n",
        "train_df = pd.DataFrame({\n",
        "   'text': train_df['text'],\n",
        "   'label': train_df['toxic']\n",
        "})\n",
        "\n",
        "eva_df = pd.DataFrame({\n",
        "   'text': eva_df['text'],\n",
        "   'label': eva_df['toxic']\n",
        "})\n",
        "\n",
        "#Optional model configuration\n",
        "model_args = ClassificationArgs(\n",
        "  num_train_epochs=1,\n",
        "  overwrite_output_dir=True\n",
        "                                )\n",
        "#Create a ClassificationModel\n",
        "model = ClassificationModel(\n",
        "    \"bert\", \"neuralmind/bert-base-portuguese-cased\", args=model_args,\n",
        "    use_cuda=False\n",
        ")\n",
        "\n",
        "model.train_model(train_df)\n",
        "\n",
        "# Save model\n",
        "with open('TOLD_BR-BERT.pkl ', 'wb') as file:\n",
        "    pickle.dump(model, file)"
      ],
      "metadata": {
        "id": "msuel3KIgp6d"
      },
      "execution_count": null,
      "outputs": []
    },
    {
      "cell_type": "code",
      "source": [
        "result, model_outputs, wrong_predictions = model.eval_model(eva_df)\n",
        "lst = []\n",
        "for arr in model_outputs:\n",
        "    lst.append(np.argmax(arr))\n",
        "true = eva_df['label'].tolist()\n",
        "predicted = lst\n",
        "print(classification_report(true, predicted))"
      ],
      "metadata": {
        "id": "S6qptLhHYVKt",
        "colab": {
          "base_uri": "https://localhost:8080/"
        },
        "outputId": "2f588fe0-5a3f-4b7b-cd19-3e126bb98069"
      },
      "execution_count": null,
      "outputs": [
        {
          "output_type": "stream",
          "name": "stdout",
          "text": [
            "              precision    recall  f1-score   support\n",
            "\n",
            "           0       0.85      0.73      0.79      2349\n",
            "           1       0.71      0.84      0.77      1851\n",
            "\n",
            "    accuracy                           0.78      4200\n",
            "   macro avg       0.78      0.79      0.78      4200\n",
            "weighted avg       0.79      0.78      0.78      4200\n",
            "\n"
          ]
        }
      ]
    },
    {
      "cell_type": "code",
      "source": [
        "confusion_matrix(true, predicted)"
      ],
      "metadata": {
        "colab": {
          "base_uri": "https://localhost:8080/"
        },
        "id": "dqVmuJUkfoMQ",
        "outputId": "b93deadf-75b7-44dc-ab36-d8ef7ed21114"
      },
      "execution_count": null,
      "outputs": [
        {
          "output_type": "execute_result",
          "data": {
            "text/plain": [
              "array([[1717,  632],\n",
              "       [ 294, 1557]])"
            ]
          },
          "metadata": {},
          "execution_count": 17
        }
      ]
    },
    {
      "cell_type": "markdown",
      "source": [
        "Função para pré-processamento"
      ],
      "metadata": {
        "id": "CediafnlgzJD"
      }
    },
    {
      "cell_type": "code",
      "source": [
        "logging.basicConfig(level=logging.INFO)\n",
        "transformers_logger = logging.getLogger(\"transformers\")\n",
        "transformers_logger.setLevel(logging.WARNING)\n",
        "\n",
        "# base_hatebr = pd.read_csv('/content/drive/MyDrive/PIC /Dataset/HateBR.csv')\n",
        "# base_hatebr_train_data = base_hatebr.iloc[:,[0, 1]]\n",
        "# train,eva = train_test_split(base_hatebr_train_data,test_size = 0.2)\n",
        "\n",
        "\n",
        "train_df = pd.read_csv('/content/drive/MyDrive/PIC /Teste Treinamento/Told_BR/Pre processados/X_train_p.csv')\n",
        "y_train = pd.read_csv('/content/drive/MyDrive/PIC /Teste Treinamento/Told_BR/y_train.csv')\n",
        "train_df['toxic'] =  y_train['toxic']\n",
        "train_df = train_df.iloc[:,[1, 2]]\n",
        "\n",
        "eva_df = pd.read_csv('/content/drive/MyDrive/PIC /Teste Treinamento/Told_BR/Pre processados/X_test_p.csv')\n",
        "y_test = pd.read_csv('/content/drive/MyDrive/PIC /Teste Treinamento/Told_BR/y_test.csv')\n",
        "eva_df['toxic'] =  y_test['toxic']\n",
        "eva_df = eva_df.iloc[:,[1, 2]]\n",
        "\n",
        "\n",
        "train_df = pd.DataFrame({\n",
        "     'text': train_df['text'],\n",
        "     'label': train_df['toxic']\n",
        " })\n",
        "\n",
        "eva_df = pd.DataFrame({\n",
        "     'text': eva_df['text'],\n",
        "     'label': eva_df['toxic']\n",
        " })\n",
        "\n",
        "model_args = ClassificationArgs(num_train_epochs=1)\n",
        "\n",
        "model = ClassificationModel(\n",
        "    \"bert\", \"neuralmind/bert-base-portuguese-cased\", args=model_args,\n",
        "    use_cuda=False\n",
        ")\n",
        "\n"
      ],
      "metadata": {
        "id": "I9Nmu1g_EVN1"
      },
      "execution_count": null,
      "outputs": []
    },
    {
      "cell_type": "code",
      "source": [
        "result, model_outputs, wrong_predictions = model.eval_model(eva_df)\n",
        "lst = []\n",
        "for arr in model_outputs:\n",
        "    lst.append(np.argmax(arr))\n",
        "true = eva_df['label'].tolist()\n",
        "predicted = lst\n",
        "print(classification_report(true, predicted))"
      ],
      "metadata": {
        "colab": {
          "base_uri": "https://localhost:8080/",
          "height": 304,
          "referenced_widgets": [
            "5065d50787434d1296db6eeab156ffbd",
            "751182cb565b4a54990b4593c9d6f1c4",
            "29c8846e092d4c47a90bbf8da6ef957f",
            "7036867988454857b33fd20e52031341",
            "bb5c58f7fae34e6bb9c7b0818237aa4d",
            "200b0cba9b564524ae077d1e94699fcf",
            "f1eb9b910eb841f6a84e5259680f7026",
            "ee575686188644529a5cf40a6bf4ba05",
            "d663832b412b4597bd9ddadc93aea2c9",
            "efe3d4e008da4fa490fd27cf1ab53a9b",
            "7377ffd207354905917894ae49b6453e",
            "54a697a0e13f4dfab3c9fe5e7ecf0155",
            "8755a8efd35b4e1a9202572d108ee9db",
            "54380e9a6700430b9a303e45d51f18bb",
            "d14ee3183d2e4d93a42062fefc32a8d7",
            "c741d8df14fe497e9182f3703565937a",
            "8047ea610d0744ad8fcea209352f8735",
            "7bb027da75fe4dd2afd8ba54559da9d0",
            "798f958976664b36ae347fde34241186",
            "2697982255614536bd44ca35c4bb9051",
            "b3fdc6a5c477423781030ac1bbec4a3b",
            "00ba89d5f511435f8c26cd619f83e394"
          ]
        },
        "id": "hXAU0d1WC-02",
        "outputId": "1ec3f100-d885-4c65-ccb7-b83c11485cbd"
      },
      "execution_count": null,
      "outputs": [
        {
          "output_type": "stream",
          "name": "stderr",
          "text": [
            "/usr/local/lib/python3.10/dist-packages/simpletransformers/classification/classification_model.py:1454: UserWarning: Dataframe headers not specified. Falling back to using column 0 as text and column 1 as labels.\n",
            "  warnings.warn(\n"
          ]
        },
        {
          "output_type": "display_data",
          "data": {
            "text/plain": [
              "  0%|          | 0/4200 [00:00<?, ?it/s]"
            ],
            "application/vnd.jupyter.widget-view+json": {
              "version_major": 2,
              "version_minor": 0,
              "model_id": "5065d50787434d1296db6eeab156ffbd"
            }
          },
          "metadata": {}
        },
        {
          "output_type": "display_data",
          "data": {
            "text/plain": [
              "Running Evaluation:   0%|          | 0/525 [00:00<?, ?it/s]"
            ],
            "application/vnd.jupyter.widget-view+json": {
              "version_major": 2,
              "version_minor": 0,
              "model_id": "54a697a0e13f4dfab3c9fe5e7ecf0155"
            }
          },
          "metadata": {}
        },
        {
          "output_type": "stream",
          "name": "stdout",
          "text": [
            "              precision    recall  f1-score   support\n",
            "\n",
            "           0       0.83      0.73      0.78      2349\n",
            "           1       0.71      0.81      0.76      1851\n",
            "\n",
            "    accuracy                           0.77      4200\n",
            "   macro avg       0.77      0.77      0.77      4200\n",
            "weighted avg       0.78      0.77      0.77      4200\n",
            "\n"
          ]
        }
      ]
    }
  ]
}