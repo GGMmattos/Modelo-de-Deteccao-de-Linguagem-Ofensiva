{
  "nbformat": 4,
  "nbformat_minor": 0,
  "metadata": {
    "colab": {
      "provenance": [],
      "mount_file_id": "1MTIKU7XJ8mlMw_Rz8YxTqsjN6_e0prR5",
      "authorship_tag": "ABX9TyMxq+vdfDs0i3EZ0HFWtPJJ",
      "include_colab_link": true
    },
    "kernelspec": {
      "name": "python3",
      "display_name": "Python 3"
    },
    "language_info": {
      "name": "python"
    }
  },
  "cells": [
    {
      "cell_type": "markdown",
      "metadata": {
        "id": "view-in-github",
        "colab_type": "text"
      },
      "source": [
        "<a href=\"https://colab.research.google.com/github/GGMmattos/PIC/blob/main/TOLD_BR_BERT.ipynb\" target=\"_parent\"><img src=\"https://colab.research.google.com/assets/colab-badge.svg\" alt=\"Open In Colab\"/></a>"
      ]
    },
    {
      "cell_type": "code",
      "execution_count": null,
      "metadata": {
        "id": "2b-igKSjfv44"
      },
      "outputs": [],
      "source": [
        "#Importing needed libraries\n",
        "!pip install -U scikit-learn\n",
        "!pip install -U spacy\n",
        "!python -m spacy download pt\n",
        "\n",
        "\n",
        "!pip install wandb\n",
        "!pip install --upgrade simpletransformers\n",
        "!pip install --upgrade transformers\n",
        "\n",
        "from pandas.core.window.ewm import OnlineExponentialMovingWindow\n",
        "import pandas as pd #Biblioteca para carregamento de arquivo csv\n",
        "import numpy as np\n",
        "import seaborn as sns #Para visualização de gráficos\n",
        "import matplotlib.pyplot as plt #Para visualização de gráficos\n",
        "import plotly.express as px #Biblioteca para geração de gráfico dinámico\n",
        "%matplotlib inline\n",
        "from collections import Counter\n",
        "\n",
        "\n",
        "#NLTK tools for text processing\n",
        "\n",
        "import re, nltk\n",
        "from nltk import word_tokenize\n",
        "from nltk.corpus import stopwords\n",
        "from wordcloud import WordCloud, STOPWORDS\n",
        "nltk.download('stopwords')\n",
        "nltk.download('punkt')\n",
        "nltk.download('wordnet')\n",
        "from nltk.stem import WordNetLemmatizer\n",
        "lemmatizer = WordNetLemmatizer()\n",
        "\n",
        "\n",
        "#Modeling packages\n",
        "\n",
        "from sklearn.model_selection import train_test_split\n",
        "from sklearn.metrics._plot.confusion_matrix import confusion_matrix\n",
        "from sklearn.linear_model import LogisticRegression\n",
        "from sklearn.ensemble import RandomForestClassifier\n",
        "from sklearn.metrics import accuracy_score\n",
        "from sklearn.metrics import f1_score\n",
        "from sklearn.metrics import confusion_matrix\n",
        "from sklearn.feature_extraction.text import CountVectorizer\n",
        "from sklearn.feature_extraction.text import TfidfTransformer\n",
        "from sklearn.feature_extraction.text import TfidfVectorizer\n",
        "from IPython.core.interactiveshell import InteractiveShell\n",
        "InteractiveShell.ast_node_interactivity ='all'\n",
        "\n",
        "from sklearn.naive_bayes import MultinomialNB\n",
        "from sklearn.svm import SVC\n",
        "from sklearn.neural_network import MLPClassifier\n",
        "from sklearn.linear_model import LogisticRegression\n",
        "\n",
        "\n",
        "\n",
        "from sklearn.pipeline import Pipeline\n",
        "from sklearn.metrics import classification_report, accuracy_score\n",
        "from simpletransformers.classification import ClassificationModel, ClassificationArgs\n",
        "import pandas as pd\n",
        "import logging\n",
        "import numpy as np\n",
        "import sklearn\n",
        "import pickle\n",
        "import spacy\n",
        "from transformers import AutoTokenizer  # Or BertTokenizer\n",
        "from transformers import AutoModelForPreTraining  # Or BertForPreTraining for loading pretraining heads\n",
        "from transformers import AutoModel  # or BertModel, for BERT without pretraining heads\n",
        "from transformers import pipeline\n",
        "from sklearn.model_selection import train_test_split\n"
      ]
    },
    {
      "cell_type": "markdown",
      "source": [
        "BERT IMBAU - Sem pré-processamento"
      ],
      "metadata": {
        "id": "tZMwqWRRgmNc"
      }
    },
    {
      "cell_type": "code",
      "source": [
        "base_hatebr = pd.read_csv('/content/drive/MyDrive/PIC /Dataset/HateBR.csv')\n"
      ],
      "metadata": {
        "id": "vpjhaQ7Xd7es"
      },
      "execution_count": null,
      "outputs": []
    },
    {
      "cell_type": "code",
      "source": [
        "logging.basicConfig(level=logging.INFO)\n",
        "transformers_logger = logging.getLogger(\"transformers\")\n",
        "transformers_logger.setLevel(logging.WARNING)\n",
        "\n",
        "\n",
        "told_br = pd.read_csv(\"/content/drive/MyDrive/PIC /Dataset/told_br_binary.csv\")\n",
        "\n",
        "# Preparing train data\n",
        "Told_br_train_data = told_br.iloc[:,[1, 24]]\n",
        "train,eva = train_test_split(Told_br_train_data,test_size = 0.2)\n",
        "\n",
        "train_df = pd.DataFrame({\n",
        "    'text': train['text'],\n",
        "    'label': train['toxic_1']\n",
        "})\n",
        "\n",
        "eval_df = pd.DataFrame({\n",
        "    'text': eva['text'],\n",
        "    'label': eva['toxic_1']\n",
        "})\n",
        "\n",
        "#Optional model configuration\n",
        "model_args = ClassificationArgs(num_train_epochs=1)\n",
        "\n",
        "#Create a ClassificationModel\n",
        "model = ClassificationModel(\n",
        "    \"bert\", \"neuralmind/bert-base-portuguese-cased\", args=model_args,\n",
        "    use_cuda=False\n",
        ")\n",
        "\n",
        "model.train_model(train_df)\n"
      ],
      "metadata": {
        "id": "msuel3KIgp6d"
      },
      "execution_count": null,
      "outputs": []
    },
    {
      "cell_type": "markdown",
      "source": [
        "Verificando accuracy"
      ],
      "metadata": {
        "id": "0O2bgiAVgthE"
      }
    },
    {
      "cell_type": "code",
      "source": [
        "result, model_outputs, wrong_predictions = model.eval_model(eval_df)\n",
        "lst = []\n",
        "for arr in model_outputs:\n",
        "    lst.append(np.argmax(arr))\n",
        "true = eval_df['label'].tolist()\n",
        "predicted = lst\n",
        "sklearn.metrics.accuracy_score(true,predicted)"
      ],
      "metadata": {
        "id": "Zm4H5fE_gvxZ"
      },
      "execution_count": null,
      "outputs": []
    },
    {
      "cell_type": "markdown",
      "source": [
        "BERT IMBAU - com pré-processamento Bert-Base"
      ],
      "metadata": {
        "id": "CediafnlgzJD"
      }
    },
    {
      "cell_type": "code",
      "source": [
        "told_br = pd.read_csv(\"/content/drive/MyDrive/PIC /Dataset/told_br_binary.csv\")"
      ],
      "metadata": {
        "id": "vB8XVzWgg7AG"
      },
      "execution_count": null,
      "outputs": []
    },
    {
      "cell_type": "code",
      "source": [
        "npl = spacy.load(\"pt_core_news_sm\")\n",
        "def preprocess(text):\n",
        "  comentarios = text.lower()\n",
        "  # only_latters =re.sub(\"[^a-zA-Z]\", \" \", comentarios) # somente letras\n",
        "  doc = npl(comentarios)\n",
        "  filtered_result = []\n",
        "  for token in doc:\n",
        "    if token.is_stop or token.is_punct :\n",
        "      continue\n",
        "    filtered_result.append(token.lemma_)\n",
        "  return \" \".join(filtered_result)\n",
        "\n",
        "# print(preprocess(base_hatebr['instagram_comments']))\n",
        "told_br['preprocessed_comments'] =  told_br['text'].apply(preprocess)"
      ],
      "metadata": {
        "id": "3ZP7NEx2g8vK"
      },
      "execution_count": null,
      "outputs": []
    },
    {
      "cell_type": "code",
      "source": [
        "logging.basicConfig(level=logging.INFO)\n",
        "transformers_logger = logging.getLogger(\"transformers\")\n",
        "transformers_logger.setLevel(logging.WARNING)\n",
        "\n",
        "# Preparing train data\n",
        "Told_br_train_data = told_br.iloc[:,[33,24]]\n",
        "train,eva = train_test_split(Told_br_train_data,test_size = 0.2)\n",
        "\n",
        "train_df = pd.DataFrame({\n",
        "    'text': train['preprocessed_comments'],\n",
        "    'label': train['toxic_1']\n",
        "})\n",
        "\n",
        "eval_df = pd.DataFrame({\n",
        "    'text': eva['preprocessed_comments'],\n",
        "    'label': eva['toxic_1']\n",
        "})\n",
        "\n",
        "#Optional model configuration\n",
        "model_args = ClassificationArgs(num_train_epochs=1)\n",
        "\n",
        "#Create a ClassificationModel\n",
        "model = ClassificationModel(\n",
        "    \"bert\", \"neuralmind/bert-base-portuguese-cased\", args=model_args,\n",
        "    use_cuda=False\n",
        ")\n",
        "\n",
        "model.train_model(train_df)\n",
        "\n",
        "result, model_outputs, wrong_predictions = model.eval_model(eval_df)\n"
      ],
      "metadata": {
        "id": "a-8ECGamg_UJ"
      },
      "execution_count": null,
      "outputs": []
    },
    {
      "cell_type": "code",
      "source": [
        "result, model_outputs, wrong_predictions = model.eval_model(eval_df)\n",
        "lst = []\n",
        "for arr in model_outputs:\n",
        "    lst.append(np.argmax(arr))\n",
        "true = eval_df['label'].tolist()\n",
        "predicted = lst\n",
        "sklearn.metrics.accuracy_score(true,predicted)\n"
      ],
      "metadata": {
        "id": "RKx2BA9IhBYM"
      },
      "execution_count": null,
      "outputs": []
    }
  ]
}