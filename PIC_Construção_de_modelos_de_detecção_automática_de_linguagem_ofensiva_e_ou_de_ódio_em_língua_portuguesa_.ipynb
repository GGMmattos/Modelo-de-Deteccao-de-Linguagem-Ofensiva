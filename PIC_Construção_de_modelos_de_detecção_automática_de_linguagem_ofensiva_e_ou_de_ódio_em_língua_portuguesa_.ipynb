{
  "cells": [
    {
      "cell_type": "markdown",
      "metadata": {
        "id": "view-in-github",
        "colab_type": "text"
      },
      "source": [
        "<a href=\"https://colab.research.google.com/github/GGMmattos/PIC/blob/main/PIC_Constru%C3%A7%C3%A3o_de_modelos_de_detec%C3%A7%C3%A3o_autom%C3%A1tica_de_linguagem_ofensiva_e_ou_de_%C3%B3dio_em_l%C3%ADngua_portuguesa_.ipynb\" target=\"_parent\"><img src=\"https://colab.research.google.com/assets/colab-badge.svg\" alt=\"Open In Colab\"/></a>"
      ]
    },
    {
      "cell_type": "markdown",
      "metadata": {
        "id": "9Nk28_EJ5rrK"
      },
      "source": [
        "# Importação das bibliotecas básicas"
      ]
    },
    {
      "cell_type": "code",
      "execution_count": 10,
      "metadata": {
        "colab": {
          "base_uri": "https://localhost:8080/"
        },
        "id": "A7CySTp569VC",
        "outputId": "1aca5248-86bd-45a2-849e-e931befcf5d3"
      },
      "outputs": [
        {
          "output_type": "stream",
          "name": "stdout",
          "text": [
            "Looking in indexes: https://pypi.org/simple, https://us-python.pkg.dev/colab-wheels/public/simple/\n",
            "Requirement already satisfied: plotly in /usr/local/lib/python3.8/dist-packages (5.13.0)\n",
            "Requirement already satisfied: tenacity>=6.2.0 in /usr/local/lib/python3.8/dist-packages (from plotly) (8.2.0)\n"
          ]
        }
      ],
      "source": [
        " !pip install plotly --upgrade"
      ]
    },
    {
      "cell_type": "code",
      "execution_count": 11,
      "metadata": {
        "id": "jGaF3Nmg9EmA",
        "colab": {
          "base_uri": "https://localhost:8080/"
        },
        "outputId": "ea022401-1d35-48ff-fa90-06031908b961"
      },
      "outputs": [
        {
          "output_type": "stream",
          "name": "stderr",
          "text": [
            "[nltk_data] Downloading package stopwords to /root/nltk_data...\n",
            "[nltk_data]   Unzipping corpora/stopwords.zip.\n"
          ]
        },
        {
          "output_type": "execute_result",
          "data": {
            "text/plain": [
              "True"
            ]
          },
          "metadata": {},
          "execution_count": 11
        },
        {
          "output_type": "stream",
          "name": "stderr",
          "text": [
            "[nltk_data] Downloading package punkt to /root/nltk_data...\n",
            "[nltk_data]   Unzipping tokenizers/punkt.zip.\n"
          ]
        },
        {
          "output_type": "execute_result",
          "data": {
            "text/plain": [
              "True"
            ]
          },
          "metadata": {},
          "execution_count": 11
        }
      ],
      "source": [
        "from sklearn.metrics._plot.confusion_matrix import confusion_matrix\n",
        "#Importing needed libraries \n",
        "\n",
        "from pandas.core.window.ewm import OnlineExponentialMovingWindow\n",
        "import pandas as pd #Biblioteca para carregamento de arquivo csv\n",
        "import numpy as np\n",
        "import seaborn as sns #Para visualização de gráficos\n",
        "import matplotlib.pyplot as plt #Para visualização de gráficos\n",
        "import plotly.express as px #Biblioteca para geração de gráfico dinámico\n",
        "%matplotlib inline\n",
        "from collections import Counter\n",
        "from sklearn.feature_extraction.text import CountVectorizer\n",
        "from sklearn.feature_extraction.text import TfidfTransformer\n",
        "\n",
        "#NLTK tools for text processing \n",
        "\n",
        "import re, nltk\n",
        "from nltk import word_tokenize\n",
        "from nltk.corpus import stopwords\n",
        "from wordcloud import WordCloud, STOPWORDS\n",
        "\n",
        "#Modeling packages \n",
        "\n",
        "from sklearn.model_selection import train_test_split\n",
        "from sklearn.linear_model import LogisticRegression\n",
        "from sklearn.ensemble import RandomForestClassifier\n",
        "from sklearn.metrics import accuracy_score\n",
        "from sklearn.metrics import f1_score\n",
        "from sklearn.metrics import confusion_matrix\n",
        "\n",
        "from IPython.core.interactiveshell import InteractiveShell\n",
        "InteractiveShell.ast_node_interactivity ='all'\n",
        "\n",
        "import nltk \n",
        "nltk.download('stopwords')\n",
        "nltk.download('punkt')"
      ]
    },
    {
      "cell_type": "markdown",
      "metadata": {
        "id": "9OYClPKp_r5v"
      },
      "source": [
        "# Base de dados Artigo 1 (ToLD-BR)\n",
        "\n",
        "---\n",
        "\n"
      ]
    },
    {
      "cell_type": "code",
      "execution_count": null,
      "metadata": {
        "id": "9ZcsRLHU_2Bv"
      },
      "outputs": [],
      "source": [
        "base_toldbr = pd.read_csv('/content/drive/MyDrive/Dataset/ToLD-BR.csv') #importação da base de dados"
      ]
    },
    {
      "cell_type": "code",
      "execution_count": null,
      "metadata": {
        "id": "kZRqTkJRAKn2",
        "colab": {
          "base_uri": "https://localhost:8080/",
          "height": 423
        },
        "outputId": "d400bee4-dfd4-4035-a5cb-233522cf15a6"
      },
      "outputs": [
        {
          "output_type": "execute_result",
          "data": {
            "text/plain": [
              "                                                    text  homophobia  obscene  \\\n",
              "0      Meu nivel de amizade com isis é ela ter meu in...         0.0      0.0   \n",
              "1      rt @user @user o cara adultera dados, que fora...         0.0      0.0   \n",
              "2      @user @user @user o cara só é simplesmente o m...         0.0      2.0   \n",
              "3      eu to chorando vei vsf e eu nem staneio izone ...         0.0      1.0   \n",
              "4      Eleitor do Bolsonaro é tão ignorante q não per...         0.0      1.0   \n",
              "...                                                  ...         ...      ...   \n",
              "20995                          @user faz favor vai carai         0.0      0.0   \n",
              "20996  só queria conhecer alguém que não conhece o he...         1.0      0.0   \n",
              "20997  vcs militam na hora errada em cima de memes, p...         0.0      0.0   \n",
              "20998  @user porra any eu tava c dor de cabeca e fui ...         0.0      0.0   \n",
              "20999  saudades da iasmin de 2017 eu era gótica demai...         0.0      0.0   \n",
              "\n",
              "       insult  racism  misogyny  xenophobia  \n",
              "0         2.0     0.0       0.0         0.0  \n",
              "1         1.0     0.0       0.0         0.0  \n",
              "2         1.0     0.0       0.0         0.0  \n",
              "3         0.0     0.0       0.0         0.0  \n",
              "4         2.0     0.0       0.0         0.0  \n",
              "...       ...     ...       ...         ...  \n",
              "20995     0.0     0.0       0.0         0.0  \n",
              "20996     0.0     0.0       0.0         0.0  \n",
              "20997     0.0     0.0       0.0         0.0  \n",
              "20998     0.0     0.0       0.0         0.0  \n",
              "20999     0.0     0.0       0.0         0.0  \n",
              "\n",
              "[21000 rows x 7 columns]"
            ],
            "text/html": [
              "\n",
              "  <div id=\"df-f62b5f65-e521-489a-85ee-498ca27689a0\">\n",
              "    <div class=\"colab-df-container\">\n",
              "      <div>\n",
              "<style scoped>\n",
              "    .dataframe tbody tr th:only-of-type {\n",
              "        vertical-align: middle;\n",
              "    }\n",
              "\n",
              "    .dataframe tbody tr th {\n",
              "        vertical-align: top;\n",
              "    }\n",
              "\n",
              "    .dataframe thead th {\n",
              "        text-align: right;\n",
              "    }\n",
              "</style>\n",
              "<table border=\"1\" class=\"dataframe\">\n",
              "  <thead>\n",
              "    <tr style=\"text-align: right;\">\n",
              "      <th></th>\n",
              "      <th>text</th>\n",
              "      <th>homophobia</th>\n",
              "      <th>obscene</th>\n",
              "      <th>insult</th>\n",
              "      <th>racism</th>\n",
              "      <th>misogyny</th>\n",
              "      <th>xenophobia</th>\n",
              "    </tr>\n",
              "  </thead>\n",
              "  <tbody>\n",
              "    <tr>\n",
              "      <th>0</th>\n",
              "      <td>Meu nivel de amizade com isis é ela ter meu in...</td>\n",
              "      <td>0.0</td>\n",
              "      <td>0.0</td>\n",
              "      <td>2.0</td>\n",
              "      <td>0.0</td>\n",
              "      <td>0.0</td>\n",
              "      <td>0.0</td>\n",
              "    </tr>\n",
              "    <tr>\n",
              "      <th>1</th>\n",
              "      <td>rt @user @user o cara adultera dados, que fora...</td>\n",
              "      <td>0.0</td>\n",
              "      <td>0.0</td>\n",
              "      <td>1.0</td>\n",
              "      <td>0.0</td>\n",
              "      <td>0.0</td>\n",
              "      <td>0.0</td>\n",
              "    </tr>\n",
              "    <tr>\n",
              "      <th>2</th>\n",
              "      <td>@user @user @user o cara só é simplesmente o m...</td>\n",
              "      <td>0.0</td>\n",
              "      <td>2.0</td>\n",
              "      <td>1.0</td>\n",
              "      <td>0.0</td>\n",
              "      <td>0.0</td>\n",
              "      <td>0.0</td>\n",
              "    </tr>\n",
              "    <tr>\n",
              "      <th>3</th>\n",
              "      <td>eu to chorando vei vsf e eu nem staneio izone ...</td>\n",
              "      <td>0.0</td>\n",
              "      <td>1.0</td>\n",
              "      <td>0.0</td>\n",
              "      <td>0.0</td>\n",
              "      <td>0.0</td>\n",
              "      <td>0.0</td>\n",
              "    </tr>\n",
              "    <tr>\n",
              "      <th>4</th>\n",
              "      <td>Eleitor do Bolsonaro é tão ignorante q não per...</td>\n",
              "      <td>0.0</td>\n",
              "      <td>1.0</td>\n",
              "      <td>2.0</td>\n",
              "      <td>0.0</td>\n",
              "      <td>0.0</td>\n",
              "      <td>0.0</td>\n",
              "    </tr>\n",
              "    <tr>\n",
              "      <th>...</th>\n",
              "      <td>...</td>\n",
              "      <td>...</td>\n",
              "      <td>...</td>\n",
              "      <td>...</td>\n",
              "      <td>...</td>\n",
              "      <td>...</td>\n",
              "      <td>...</td>\n",
              "    </tr>\n",
              "    <tr>\n",
              "      <th>20995</th>\n",
              "      <td>@user faz favor vai carai</td>\n",
              "      <td>0.0</td>\n",
              "      <td>0.0</td>\n",
              "      <td>0.0</td>\n",
              "      <td>0.0</td>\n",
              "      <td>0.0</td>\n",
              "      <td>0.0</td>\n",
              "    </tr>\n",
              "    <tr>\n",
              "      <th>20996</th>\n",
              "      <td>só queria conhecer alguém que não conhece o he...</td>\n",
              "      <td>1.0</td>\n",
              "      <td>0.0</td>\n",
              "      <td>0.0</td>\n",
              "      <td>0.0</td>\n",
              "      <td>0.0</td>\n",
              "      <td>0.0</td>\n",
              "    </tr>\n",
              "    <tr>\n",
              "      <th>20997</th>\n",
              "      <td>vcs militam na hora errada em cima de memes, p...</td>\n",
              "      <td>0.0</td>\n",
              "      <td>0.0</td>\n",
              "      <td>0.0</td>\n",
              "      <td>0.0</td>\n",
              "      <td>0.0</td>\n",
              "      <td>0.0</td>\n",
              "    </tr>\n",
              "    <tr>\n",
              "      <th>20998</th>\n",
              "      <td>@user porra any eu tava c dor de cabeca e fui ...</td>\n",
              "      <td>0.0</td>\n",
              "      <td>0.0</td>\n",
              "      <td>0.0</td>\n",
              "      <td>0.0</td>\n",
              "      <td>0.0</td>\n",
              "      <td>0.0</td>\n",
              "    </tr>\n",
              "    <tr>\n",
              "      <th>20999</th>\n",
              "      <td>saudades da iasmin de 2017 eu era gótica demai...</td>\n",
              "      <td>0.0</td>\n",
              "      <td>0.0</td>\n",
              "      <td>0.0</td>\n",
              "      <td>0.0</td>\n",
              "      <td>0.0</td>\n",
              "      <td>0.0</td>\n",
              "    </tr>\n",
              "  </tbody>\n",
              "</table>\n",
              "<p>21000 rows × 7 columns</p>\n",
              "</div>\n",
              "      <button class=\"colab-df-convert\" onclick=\"convertToInteractive('df-f62b5f65-e521-489a-85ee-498ca27689a0')\"\n",
              "              title=\"Convert this dataframe to an interactive table.\"\n",
              "              style=\"display:none;\">\n",
              "        \n",
              "  <svg xmlns=\"http://www.w3.org/2000/svg\" height=\"24px\"viewBox=\"0 0 24 24\"\n",
              "       width=\"24px\">\n",
              "    <path d=\"M0 0h24v24H0V0z\" fill=\"none\"/>\n",
              "    <path d=\"M18.56 5.44l.94 2.06.94-2.06 2.06-.94-2.06-.94-.94-2.06-.94 2.06-2.06.94zm-11 1L8.5 8.5l.94-2.06 2.06-.94-2.06-.94L8.5 2.5l-.94 2.06-2.06.94zm10 10l.94 2.06.94-2.06 2.06-.94-2.06-.94-.94-2.06-.94 2.06-2.06.94z\"/><path d=\"M17.41 7.96l-1.37-1.37c-.4-.4-.92-.59-1.43-.59-.52 0-1.04.2-1.43.59L10.3 9.45l-7.72 7.72c-.78.78-.78 2.05 0 2.83L4 21.41c.39.39.9.59 1.41.59.51 0 1.02-.2 1.41-.59l7.78-7.78 2.81-2.81c.8-.78.8-2.07 0-2.86zM5.41 20L4 18.59l7.72-7.72 1.47 1.35L5.41 20z\"/>\n",
              "  </svg>\n",
              "      </button>\n",
              "      \n",
              "  <style>\n",
              "    .colab-df-container {\n",
              "      display:flex;\n",
              "      flex-wrap:wrap;\n",
              "      gap: 12px;\n",
              "    }\n",
              "\n",
              "    .colab-df-convert {\n",
              "      background-color: #E8F0FE;\n",
              "      border: none;\n",
              "      border-radius: 50%;\n",
              "      cursor: pointer;\n",
              "      display: none;\n",
              "      fill: #1967D2;\n",
              "      height: 32px;\n",
              "      padding: 0 0 0 0;\n",
              "      width: 32px;\n",
              "    }\n",
              "\n",
              "    .colab-df-convert:hover {\n",
              "      background-color: #E2EBFA;\n",
              "      box-shadow: 0px 1px 2px rgba(60, 64, 67, 0.3), 0px 1px 3px 1px rgba(60, 64, 67, 0.15);\n",
              "      fill: #174EA6;\n",
              "    }\n",
              "\n",
              "    [theme=dark] .colab-df-convert {\n",
              "      background-color: #3B4455;\n",
              "      fill: #D2E3FC;\n",
              "    }\n",
              "\n",
              "    [theme=dark] .colab-df-convert:hover {\n",
              "      background-color: #434B5C;\n",
              "      box-shadow: 0px 1px 3px 1px rgba(0, 0, 0, 0.15);\n",
              "      filter: drop-shadow(0px 1px 2px rgba(0, 0, 0, 0.3));\n",
              "      fill: #FFFFFF;\n",
              "    }\n",
              "  </style>\n",
              "\n",
              "      <script>\n",
              "        const buttonEl =\n",
              "          document.querySelector('#df-f62b5f65-e521-489a-85ee-498ca27689a0 button.colab-df-convert');\n",
              "        buttonEl.style.display =\n",
              "          google.colab.kernel.accessAllowed ? 'block' : 'none';\n",
              "\n",
              "        async function convertToInteractive(key) {\n",
              "          const element = document.querySelector('#df-f62b5f65-e521-489a-85ee-498ca27689a0');\n",
              "          const dataTable =\n",
              "            await google.colab.kernel.invokeFunction('convertToInteractive',\n",
              "                                                     [key], {});\n",
              "          if (!dataTable) return;\n",
              "\n",
              "          const docLinkHtml = 'Like what you see? Visit the ' +\n",
              "            '<a target=\"_blank\" href=https://colab.research.google.com/notebooks/data_table.ipynb>data table notebook</a>'\n",
              "            + ' to learn more about interactive tables.';\n",
              "          element.innerHTML = '';\n",
              "          dataTable['output_type'] = 'display_data';\n",
              "          await google.colab.output.renderOutput(dataTable, element);\n",
              "          const docLink = document.createElement('div');\n",
              "          docLink.innerHTML = docLinkHtml;\n",
              "          element.appendChild(docLink);\n",
              "        }\n",
              "      </script>\n",
              "    </div>\n",
              "  </div>\n",
              "  "
            ]
          },
          "metadata": {},
          "execution_count": 108
        }
      ],
      "source": [
        "base_toldbr #Mostrando os dados importados"
      ]
    },
    {
      "cell_type": "markdown",
      "metadata": {
        "id": "4_hK4fiilUOX"
      },
      "source": [
        "**Verificando o tamanho do dataset**"
      ]
    },
    {
      "cell_type": "code",
      "execution_count": null,
      "metadata": {
        "id": "4iCjuTGblQT_",
        "colab": {
          "base_uri": "https://localhost:8080/"
        },
        "outputId": "6109bfef-9701-49cc-c2b5-30361a57962f"
      },
      "outputs": [
        {
          "output_type": "execute_result",
          "data": {
            "text/plain": [
              "(21000, 7)"
            ]
          },
          "metadata": {},
          "execution_count": 109
        }
      ],
      "source": [
        "base_toldbr.shape #linhas x colunas"
      ]
    },
    {
      "cell_type": "markdown",
      "metadata": {
        "id": "m7T56SbbiqRO"
      },
      "source": [
        "**Conferindo o total de textos por categorias**"
      ]
    },
    {
      "cell_type": "code",
      "execution_count": null,
      "metadata": {
        "id": "YQhyYPPBcRz7",
        "colab": {
          "base_uri": "https://localhost:8080/"
        },
        "outputId": "3d292bc2-7888-4c1a-f2b6-d62ae5eeb4d4"
      },
      "outputs": [
        {
          "output_type": "execute_result",
          "data": {
            "text/plain": [
              "0.0    20656\n",
              "1.0      168\n",
              "2.0      102\n",
              "3.0       74\n",
              "Name: homophobia, dtype: int64"
            ]
          },
          "metadata": {},
          "execution_count": 110
        }
      ],
      "source": [
        "base_toldbr['homophobia'].value_counts() "
      ]
    },
    {
      "cell_type": "code",
      "execution_count": null,
      "metadata": {
        "id": "SzvZg8rodjUA",
        "colab": {
          "base_uri": "https://localhost:8080/"
        },
        "outputId": "0430182c-7103-4e5b-81a7-ae4468c6728c"
      },
      "outputs": [
        {
          "output_type": "execute_result",
          "data": {
            "text/plain": [
              "0.0    14348\n",
              "1.0     4249\n",
              "2.0     1791\n",
              "3.0      612\n",
              "Name: obscene, dtype: int64"
            ]
          },
          "metadata": {},
          "execution_count": 111
        }
      ],
      "source": [
        "base_toldbr['obscene'].value_counts()"
      ]
    },
    {
      "cell_type": "code",
      "execution_count": null,
      "metadata": {
        "id": "e59CBJogn0XL",
        "colab": {
          "base_uri": "https://localhost:8080/"
        },
        "outputId": "313157b7-381d-4ec0-a701-c04209ec8c0b"
      },
      "outputs": [
        {
          "output_type": "execute_result",
          "data": {
            "text/plain": [
              "0.0    16615\n",
              "1.0     2516\n",
              "2.0     1352\n",
              "3.0      517\n",
              "Name: insult, dtype: int64"
            ]
          },
          "metadata": {},
          "execution_count": 112
        }
      ],
      "source": [
        "base_toldbr['insult'].value_counts()"
      ]
    },
    {
      "cell_type": "code",
      "execution_count": null,
      "metadata": {
        "id": "kX25ruw8ds5S",
        "colab": {
          "base_uri": "https://localhost:8080/"
        },
        "outputId": "cee8cac2-9cdc-4515-b2cd-f61e40bacf00"
      },
      "outputs": [
        {
          "output_type": "execute_result",
          "data": {
            "text/plain": [
              "0.0    20862\n",
              "1.0      105\n",
              "2.0       27\n",
              "3.0        6\n",
              "Name: racism, dtype: int64"
            ]
          },
          "metadata": {},
          "execution_count": 113
        }
      ],
      "source": [
        "base_toldbr['racism'].value_counts()"
      ]
    },
    {
      "cell_type": "code",
      "execution_count": null,
      "metadata": {
        "id": "nWdjwPfadxiS",
        "colab": {
          "base_uri": "https://localhost:8080/"
        },
        "outputId": "d2ee4a98-6848-4a54-aba8-6db678ac6ea2"
      },
      "outputs": [
        {
          "output_type": "execute_result",
          "data": {
            "text/plain": [
              "0.0    20537\n",
              "1.0      330\n",
              "2.0      104\n",
              "3.0       29\n",
              "Name: misogyny, dtype: int64"
            ]
          },
          "metadata": {},
          "execution_count": 114
        }
      ],
      "source": [
        "base_toldbr['misogyny'].value_counts()"
      ]
    },
    {
      "cell_type": "code",
      "execution_count": null,
      "metadata": {
        "id": "3poiO-DMd37c",
        "colab": {
          "base_uri": "https://localhost:8080/"
        },
        "outputId": "776710f4-f367-4fff-ffce-fbbd6bbb00cd"
      },
      "outputs": [
        {
          "output_type": "execute_result",
          "data": {
            "text/plain": [
              "0.0    20849\n",
              "1.0      109\n",
              "2.0       27\n",
              "3.0       15\n",
              "Name: xenophobia, dtype: int64"
            ]
          },
          "metadata": {},
          "execution_count": 115
        }
      ],
      "source": [
        "base_toldbr['xenophobia'].value_counts()"
      ]
    },
    {
      "cell_type": "markdown",
      "metadata": {
        "id": "fr6HMvGwmzij"
      },
      "source": [
        "Verificando valores nulos e tipos de dados"
      ]
    },
    {
      "cell_type": "code",
      "execution_count": null,
      "metadata": {
        "id": "gXSxgFiWm41y",
        "colab": {
          "base_uri": "https://localhost:8080/"
        },
        "outputId": "10d79b9a-ded6-4f8d-c7c4-8edd20afd785"
      },
      "outputs": [
        {
          "output_type": "stream",
          "name": "stdout",
          "text": [
            "<class 'pandas.core.frame.DataFrame'>\n",
            "RangeIndex: 21000 entries, 0 to 20999\n",
            "Data columns (total 7 columns):\n",
            " #   Column      Non-Null Count  Dtype  \n",
            "---  ------      --------------  -----  \n",
            " 0   text        21000 non-null  object \n",
            " 1   homophobia  21000 non-null  float64\n",
            " 2   obscene     21000 non-null  float64\n",
            " 3   insult      21000 non-null  float64\n",
            " 4   racism      21000 non-null  float64\n",
            " 5   misogyny    21000 non-null  float64\n",
            " 6   xenophobia  21000 non-null  float64\n",
            "dtypes: float64(6), object(1)\n",
            "memory usage: 1.1+ MB\n"
          ]
        }
      ],
      "source": [
        "base_toldbr.info()"
      ]
    },
    {
      "cell_type": "markdown",
      "metadata": {
        "id": "ek1DskPinVKk"
      },
      "source": [
        "**Como verificado logo acima não há valores NULL**"
      ]
    },
    {
      "cell_type": "code",
      "execution_count": null,
      "metadata": {
        "id": "mEzgQLocnMW6",
        "colab": {
          "base_uri": "https://localhost:8080/"
        },
        "outputId": "5f67462a-54b6-4c1e-9982-ff78c0f83dff"
      },
      "outputs": [
        {
          "output_type": "execute_result",
          "data": {
            "text/plain": [
              "text          0\n",
              "homophobia    0\n",
              "obscene       0\n",
              "insult        0\n",
              "racism        0\n",
              "misogyny      0\n",
              "xenophobia    0\n",
              "dtype: int64"
            ]
          },
          "metadata": {},
          "execution_count": 117
        }
      ],
      "source": [
        "base_toldbr.isnull().sum()"
      ]
    },
    {
      "cell_type": "markdown",
      "metadata": {
        "id": "COveV-Q5bAk6"
      },
      "source": [
        "**Donwload dos pacotes que permitirão fazer os trabalhos de PLN**"
      ]
    },
    {
      "cell_type": "markdown",
      "metadata": {
        "id": "UwuB-M69bKNB"
      },
      "source": [
        "**Limpeza dos dados**"
      ]
    },
    {
      "cell_type": "markdown",
      "metadata": {
        "id": "Yk-ffkGAEPJ9"
      },
      "source": [
        "**O que é Stop Words?**\n",
        "\n",
        "Stop words (ou palavras de parada – tradução livre) são palavras que podem ser consideradas irrelevantes para o conjunto de resultados a ser exibido em uma busca realizada em uma search engine. Exemplos: as, e, os, de, para, com, sem, foi."
      ]
    },
    {
      "cell_type": "code",
      "execution_count": null,
      "metadata": {
        "id": "XBs5VCk0bJxG"
      },
      "outputs": [],
      "source": [
        "comments = [] \n",
        "stop_words = set(stopwords.words('portuguese')) #setando o banco de stopwords em PT-BR\n",
        "\n",
        "for words in base_toldbr['text']:\n",
        "  only_latters =re.sub(\"[^a-zA-Z]\", \" \", words) # somente letras\n",
        "  tokens = nltk.word_tokenize(only_latters) # tokenize the sentence \n",
        "  lower_case = [l.lower() for l in tokens] # converter all letters to low case \n",
        "  stop = ['user', 'rt', 'https']\n",
        "  filtered_result = list(filter(lambda l: l not in stop_words and  l not in stop, lower_case)) # Remove stopwords from the comments\n",
        "  comments.append(' '.join(filtered_result))\n",
        "  \n",
        "\n",
        "    \n"
      ]
    },
    {
      "cell_type": "markdown",
      "metadata": {
        "id": "uo_F1UyPVxpG"
      },
      "source": [
        "Ranque das palavras únicas com base na frequência de cada palavra\n"
      ]
    },
    {
      "cell_type": "code",
      "execution_count": null,
      "metadata": {
        "id": "P4Qk4odjUIHw",
        "colab": {
          "base_uri": "https://localhost:8080/"
        },
        "outputId": "a34ec792-4d3d-45b3-807a-8d109067e752"
      },
      "outputs": [
        {
          "output_type": "stream",
          "name": "stderr",
          "text": [
            "/usr/local/lib/python3.8/dist-packages/sklearn/utils/deprecation.py:87: FutureWarning: Function get_feature_names is deprecated; get_feature_names is deprecated in 1.0 and will be removed in 1.2. Please use get_feature_names_out instead.\n",
            "  warnings.warn(msg, category=FutureWarning)\n"
          ]
        }
      ],
      "source": [
        "#using CountVectorizer to get the most important unigrams\n",
        "co = CountVectorizer(ngram_range=(1,1))\n",
        "count = co.fit_transform(comments)\n",
        "important_unigrams =pd.DataFrame(count.sum(axis=0), columns=co.get_feature_names()).T.sort_values(0, ascending = False)"
      ]
    },
    {
      "cell_type": "markdown",
      "metadata": {
        "id": "FvygoW0s0eXC"
      },
      "source": [
        "**Rank de palavras com maior frequência sem Stopword** "
      ]
    },
    {
      "cell_type": "code",
      "execution_count": null,
      "metadata": {
        "id": "mEcRPP1SVZht",
        "colab": {
          "base_uri": "https://localhost:8080/",
          "height": 206
        },
        "outputId": "6cd58b5e-4634-4f26-9008-8b2d9f12d204"
      },
      "outputs": [
        {
          "output_type": "execute_result",
          "data": {
            "text/plain": [
              "            0\n",
              "co       3619\n",
              "pra      2999\n",
              "porra    1941\n",
              "pqp      1726\n",
              "caralho  1688"
            ],
            "text/html": [
              "\n",
              "  <div id=\"df-9c0b1bae-1018-4c5c-b01d-0f12068004fd\">\n",
              "    <div class=\"colab-df-container\">\n",
              "      <div>\n",
              "<style scoped>\n",
              "    .dataframe tbody tr th:only-of-type {\n",
              "        vertical-align: middle;\n",
              "    }\n",
              "\n",
              "    .dataframe tbody tr th {\n",
              "        vertical-align: top;\n",
              "    }\n",
              "\n",
              "    .dataframe thead th {\n",
              "        text-align: right;\n",
              "    }\n",
              "</style>\n",
              "<table border=\"1\" class=\"dataframe\">\n",
              "  <thead>\n",
              "    <tr style=\"text-align: right;\">\n",
              "      <th></th>\n",
              "      <th>0</th>\n",
              "    </tr>\n",
              "  </thead>\n",
              "  <tbody>\n",
              "    <tr>\n",
              "      <th>co</th>\n",
              "      <td>3619</td>\n",
              "    </tr>\n",
              "    <tr>\n",
              "      <th>pra</th>\n",
              "      <td>2999</td>\n",
              "    </tr>\n",
              "    <tr>\n",
              "      <th>porra</th>\n",
              "      <td>1941</td>\n",
              "    </tr>\n",
              "    <tr>\n",
              "      <th>pqp</th>\n",
              "      <td>1726</td>\n",
              "    </tr>\n",
              "    <tr>\n",
              "      <th>caralho</th>\n",
              "      <td>1688</td>\n",
              "    </tr>\n",
              "  </tbody>\n",
              "</table>\n",
              "</div>\n",
              "      <button class=\"colab-df-convert\" onclick=\"convertToInteractive('df-9c0b1bae-1018-4c5c-b01d-0f12068004fd')\"\n",
              "              title=\"Convert this dataframe to an interactive table.\"\n",
              "              style=\"display:none;\">\n",
              "        \n",
              "  <svg xmlns=\"http://www.w3.org/2000/svg\" height=\"24px\"viewBox=\"0 0 24 24\"\n",
              "       width=\"24px\">\n",
              "    <path d=\"M0 0h24v24H0V0z\" fill=\"none\"/>\n",
              "    <path d=\"M18.56 5.44l.94 2.06.94-2.06 2.06-.94-2.06-.94-.94-2.06-.94 2.06-2.06.94zm-11 1L8.5 8.5l.94-2.06 2.06-.94-2.06-.94L8.5 2.5l-.94 2.06-2.06.94zm10 10l.94 2.06.94-2.06 2.06-.94-2.06-.94-.94-2.06-.94 2.06-2.06.94z\"/><path d=\"M17.41 7.96l-1.37-1.37c-.4-.4-.92-.59-1.43-.59-.52 0-1.04.2-1.43.59L10.3 9.45l-7.72 7.72c-.78.78-.78 2.05 0 2.83L4 21.41c.39.39.9.59 1.41.59.51 0 1.02-.2 1.41-.59l7.78-7.78 2.81-2.81c.8-.78.8-2.07 0-2.86zM5.41 20L4 18.59l7.72-7.72 1.47 1.35L5.41 20z\"/>\n",
              "  </svg>\n",
              "      </button>\n",
              "      \n",
              "  <style>\n",
              "    .colab-df-container {\n",
              "      display:flex;\n",
              "      flex-wrap:wrap;\n",
              "      gap: 12px;\n",
              "    }\n",
              "\n",
              "    .colab-df-convert {\n",
              "      background-color: #E8F0FE;\n",
              "      border: none;\n",
              "      border-radius: 50%;\n",
              "      cursor: pointer;\n",
              "      display: none;\n",
              "      fill: #1967D2;\n",
              "      height: 32px;\n",
              "      padding: 0 0 0 0;\n",
              "      width: 32px;\n",
              "    }\n",
              "\n",
              "    .colab-df-convert:hover {\n",
              "      background-color: #E2EBFA;\n",
              "      box-shadow: 0px 1px 2px rgba(60, 64, 67, 0.3), 0px 1px 3px 1px rgba(60, 64, 67, 0.15);\n",
              "      fill: #174EA6;\n",
              "    }\n",
              "\n",
              "    [theme=dark] .colab-df-convert {\n",
              "      background-color: #3B4455;\n",
              "      fill: #D2E3FC;\n",
              "    }\n",
              "\n",
              "    [theme=dark] .colab-df-convert:hover {\n",
              "      background-color: #434B5C;\n",
              "      box-shadow: 0px 1px 3px 1px rgba(0, 0, 0, 0.15);\n",
              "      filter: drop-shadow(0px 1px 2px rgba(0, 0, 0, 0.3));\n",
              "      fill: #FFFFFF;\n",
              "    }\n",
              "  </style>\n",
              "\n",
              "      <script>\n",
              "        const buttonEl =\n",
              "          document.querySelector('#df-9c0b1bae-1018-4c5c-b01d-0f12068004fd button.colab-df-convert');\n",
              "        buttonEl.style.display =\n",
              "          google.colab.kernel.accessAllowed ? 'block' : 'none';\n",
              "\n",
              "        async function convertToInteractive(key) {\n",
              "          const element = document.querySelector('#df-9c0b1bae-1018-4c5c-b01d-0f12068004fd');\n",
              "          const dataTable =\n",
              "            await google.colab.kernel.invokeFunction('convertToInteractive',\n",
              "                                                     [key], {});\n",
              "          if (!dataTable) return;\n",
              "\n",
              "          const docLinkHtml = 'Like what you see? Visit the ' +\n",
              "            '<a target=\"_blank\" href=https://colab.research.google.com/notebooks/data_table.ipynb>data table notebook</a>'\n",
              "            + ' to learn more about interactive tables.';\n",
              "          element.innerHTML = '';\n",
              "          dataTable['output_type'] = 'display_data';\n",
              "          await google.colab.output.renderOutput(dataTable, element);\n",
              "          const docLink = document.createElement('div');\n",
              "          docLink.innerHTML = docLinkHtml;\n",
              "          element.appendChild(docLink);\n",
              "        }\n",
              "      </script>\n",
              "    </div>\n",
              "  </div>\n",
              "  "
            ]
          },
          "metadata": {},
          "execution_count": 121
        }
      ],
      "source": [
        "important_unigrams[:5]"
      ]
    },
    {
      "cell_type": "markdown",
      "metadata": {
        "id": "Ehdt9fgEBMCW"
      },
      "source": [
        "**Rank de palavras com maior frequência com Stopword** "
      ]
    },
    {
      "cell_type": "code",
      "execution_count": null,
      "metadata": {
        "id": "EuMKUKkMVvWr",
        "colab": {
          "base_uri": "https://localhost:8080/"
        },
        "outputId": "4d55d220-e4f6-4475-d56b-12b02f64fd31"
      },
      "outputs": [
        {
          "output_type": "stream",
          "name": "stderr",
          "text": [
            "/usr/local/lib/python3.8/dist-packages/sklearn/utils/deprecation.py:87: FutureWarning: Function get_feature_names is deprecated; get_feature_names is deprecated in 1.0 and will be removed in 1.2. Please use get_feature_names_out instead.\n",
            "  warnings.warn(msg, category=FutureWarning)\n"
          ]
        }
      ],
      "source": [
        "#using CountVectorizer to get the most important unigrams\n",
        "co = CountVectorizer(ngram_range=(1,1))\n",
        "count = co.fit_transform(base_toldbr['text'])\n",
        "important_unigrams =pd.DataFrame(count.sum(axis=0), columns=co.get_feature_names()).T.sort_values(0, ascending = False)"
      ]
    },
    {
      "cell_type": "code",
      "execution_count": null,
      "metadata": {
        "id": "p-A2R0HKBa-o",
        "colab": {
          "base_uri": "https://localhost:8080/",
          "height": 206
        },
        "outputId": "dd10cd48-3eb2-4915-8e53-1f740fbf2243"
      },
      "outputs": [
        {
          "output_type": "execute_result",
          "data": {
            "text/plain": [
              "          0\n",
              "user  13270\n",
              "que    8045\n",
              "de     7814\n",
              "eu     5644\n",
              "não    3875"
            ],
            "text/html": [
              "\n",
              "  <div id=\"df-63be3c9d-7fb9-4169-9eba-e2a9b90cac75\">\n",
              "    <div class=\"colab-df-container\">\n",
              "      <div>\n",
              "<style scoped>\n",
              "    .dataframe tbody tr th:only-of-type {\n",
              "        vertical-align: middle;\n",
              "    }\n",
              "\n",
              "    .dataframe tbody tr th {\n",
              "        vertical-align: top;\n",
              "    }\n",
              "\n",
              "    .dataframe thead th {\n",
              "        text-align: right;\n",
              "    }\n",
              "</style>\n",
              "<table border=\"1\" class=\"dataframe\">\n",
              "  <thead>\n",
              "    <tr style=\"text-align: right;\">\n",
              "      <th></th>\n",
              "      <th>0</th>\n",
              "    </tr>\n",
              "  </thead>\n",
              "  <tbody>\n",
              "    <tr>\n",
              "      <th>user</th>\n",
              "      <td>13270</td>\n",
              "    </tr>\n",
              "    <tr>\n",
              "      <th>que</th>\n",
              "      <td>8045</td>\n",
              "    </tr>\n",
              "    <tr>\n",
              "      <th>de</th>\n",
              "      <td>7814</td>\n",
              "    </tr>\n",
              "    <tr>\n",
              "      <th>eu</th>\n",
              "      <td>5644</td>\n",
              "    </tr>\n",
              "    <tr>\n",
              "      <th>não</th>\n",
              "      <td>3875</td>\n",
              "    </tr>\n",
              "  </tbody>\n",
              "</table>\n",
              "</div>\n",
              "      <button class=\"colab-df-convert\" onclick=\"convertToInteractive('df-63be3c9d-7fb9-4169-9eba-e2a9b90cac75')\"\n",
              "              title=\"Convert this dataframe to an interactive table.\"\n",
              "              style=\"display:none;\">\n",
              "        \n",
              "  <svg xmlns=\"http://www.w3.org/2000/svg\" height=\"24px\"viewBox=\"0 0 24 24\"\n",
              "       width=\"24px\">\n",
              "    <path d=\"M0 0h24v24H0V0z\" fill=\"none\"/>\n",
              "    <path d=\"M18.56 5.44l.94 2.06.94-2.06 2.06-.94-2.06-.94-.94-2.06-.94 2.06-2.06.94zm-11 1L8.5 8.5l.94-2.06 2.06-.94-2.06-.94L8.5 2.5l-.94 2.06-2.06.94zm10 10l.94 2.06.94-2.06 2.06-.94-2.06-.94-.94-2.06-.94 2.06-2.06.94z\"/><path d=\"M17.41 7.96l-1.37-1.37c-.4-.4-.92-.59-1.43-.59-.52 0-1.04.2-1.43.59L10.3 9.45l-7.72 7.72c-.78.78-.78 2.05 0 2.83L4 21.41c.39.39.9.59 1.41.59.51 0 1.02-.2 1.41-.59l7.78-7.78 2.81-2.81c.8-.78.8-2.07 0-2.86zM5.41 20L4 18.59l7.72-7.72 1.47 1.35L5.41 20z\"/>\n",
              "  </svg>\n",
              "      </button>\n",
              "      \n",
              "  <style>\n",
              "    .colab-df-container {\n",
              "      display:flex;\n",
              "      flex-wrap:wrap;\n",
              "      gap: 12px;\n",
              "    }\n",
              "\n",
              "    .colab-df-convert {\n",
              "      background-color: #E8F0FE;\n",
              "      border: none;\n",
              "      border-radius: 50%;\n",
              "      cursor: pointer;\n",
              "      display: none;\n",
              "      fill: #1967D2;\n",
              "      height: 32px;\n",
              "      padding: 0 0 0 0;\n",
              "      width: 32px;\n",
              "    }\n",
              "\n",
              "    .colab-df-convert:hover {\n",
              "      background-color: #E2EBFA;\n",
              "      box-shadow: 0px 1px 2px rgba(60, 64, 67, 0.3), 0px 1px 3px 1px rgba(60, 64, 67, 0.15);\n",
              "      fill: #174EA6;\n",
              "    }\n",
              "\n",
              "    [theme=dark] .colab-df-convert {\n",
              "      background-color: #3B4455;\n",
              "      fill: #D2E3FC;\n",
              "    }\n",
              "\n",
              "    [theme=dark] .colab-df-convert:hover {\n",
              "      background-color: #434B5C;\n",
              "      box-shadow: 0px 1px 3px 1px rgba(0, 0, 0, 0.15);\n",
              "      filter: drop-shadow(0px 1px 2px rgba(0, 0, 0, 0.3));\n",
              "      fill: #FFFFFF;\n",
              "    }\n",
              "  </style>\n",
              "\n",
              "      <script>\n",
              "        const buttonEl =\n",
              "          document.querySelector('#df-63be3c9d-7fb9-4169-9eba-e2a9b90cac75 button.colab-df-convert');\n",
              "        buttonEl.style.display =\n",
              "          google.colab.kernel.accessAllowed ? 'block' : 'none';\n",
              "\n",
              "        async function convertToInteractive(key) {\n",
              "          const element = document.querySelector('#df-63be3c9d-7fb9-4169-9eba-e2a9b90cac75');\n",
              "          const dataTable =\n",
              "            await google.colab.kernel.invokeFunction('convertToInteractive',\n",
              "                                                     [key], {});\n",
              "          if (!dataTable) return;\n",
              "\n",
              "          const docLinkHtml = 'Like what you see? Visit the ' +\n",
              "            '<a target=\"_blank\" href=https://colab.research.google.com/notebooks/data_table.ipynb>data table notebook</a>'\n",
              "            + ' to learn more about interactive tables.';\n",
              "          element.innerHTML = '';\n",
              "          dataTable['output_type'] = 'display_data';\n",
              "          await google.colab.output.renderOutput(dataTable, element);\n",
              "          const docLink = document.createElement('div');\n",
              "          docLink.innerHTML = docLinkHtml;\n",
              "          element.appendChild(docLink);\n",
              "        }\n",
              "      </script>\n",
              "    </div>\n",
              "  </div>\n",
              "  "
            ]
          },
          "metadata": {},
          "execution_count": 123
        }
      ],
      "source": [
        "important_unigrams[:5]"
      ]
    },
    {
      "cell_type": "markdown",
      "metadata": {
        "id": "C4qq_CT1DJtw"
      },
      "source": [
        "**Verificando a quantidade de palavras na base (com e sem Stopwords)**\n"
      ]
    },
    {
      "cell_type": "code",
      "execution_count": null,
      "metadata": {
        "id": "eS8TFNEd1BZd",
        "colab": {
          "base_uri": "https://localhost:8080/"
        },
        "outputId": "d2eb4809-d719-4aeb-ddbc-8dfe2848dd39"
      },
      "outputs": [
        {
          "output_type": "stream",
          "name": "stdout",
          "text": [
            "Quantidade de palavras com Stopwords: 325819 palavras\n",
            "Quantidade de palavras sem Stopwords: 218143 palavras\n"
          ]
        }
      ],
      "source": [
        "lista_quantidade_palavras_toldbr_com_sw = []\n",
        "quantidade_palavras_com_sw = 0\n",
        "for texto in base_toldbr['text']:\n",
        "  palavras = texto.split(' ')\n",
        "  lista_quantidade_palavras_toldbr_com_sw.append(len(palavras))\n",
        "  quantidade_palavras_com_sw += len(palavras)\n",
        "\n",
        "lista_quantidade_palavras_toldbr_sem_sw = []\n",
        "quantidade_palavras_sem_sw = 0\n",
        "for texto in comments:\n",
        "  palavras = texto.split(' ')\n",
        "  lista_quantidade_palavras_toldbr_sem_sw.append(len(palavras))\n",
        "  quantidade_palavras_sem_sw += len(palavras)\n",
        "\n",
        "\n",
        "print(f'Quantidade de palavras com Stopwords: {quantidade_palavras_com_sw} palavras')\n",
        "print(f'Quantidade de palavras sem Stopwords: {quantidade_palavras_sem_sw} palavras')"
      ]
    },
    {
      "cell_type": "markdown",
      "source": [
        "**Tamanho médio e desvio padrão dos textos em termos do número de palavras para a base como um todo** "
      ],
      "metadata": {
        "id": "JaexBMFthm5k"
      }
    },
    {
      "cell_type": "code",
      "execution_count": null,
      "metadata": {
        "id": "FA46r3VceeCG",
        "colab": {
          "base_uri": "https://localhost:8080/"
        },
        "outputId": "4c62b59e-e706-4bf5-fa86-5ef602a4e6a1"
      },
      "outputs": [
        {
          "output_type": "stream",
          "name": "stdout",
          "text": [
            "Tamanho médio da base com Stop Words: 15.52 \n",
            "Tamanho médio da base com Stop Words: 10.39 \n",
            "\n",
            "Desvio padrão da base com Stop Words: 11.64\n",
            "Desvio padrão da base sem Stop Words: 7.76\n"
          ]
        }
      ],
      "source": [
        "tam_base = len(base_toldbr['text'])\n",
        "\n",
        "print(f'Tamanho médio da base com Stop Words: {round(quantidade_palavras_com_sw/tam_base, 2)} ')\n",
        "print(f'Tamanho médio da base sem Stop Words: {round(quantidade_palavras_sem_sw/tam_base, 2)} \\n')\n",
        "\n",
        "print(f'Desvio padrão da base com Stop Words: {round(np.std(lista_quantidade_palavras_toldbr_com_sw),2)}')\n",
        "print(f'Desvio padrão da base sem Stop Words: {round(np.std(lista_quantidade_palavras_toldbr_sem_sw),2)}')\n"
      ]
    },
    {
      "cell_type": "code",
      "source": [
        "print(lista_quantidade_palavras_toldbr_sem_sw)"
      ],
      "metadata": {
        "colab": {
          "base_uri": "https://localhost:8080/"
        },
        "id": "Tvcu7J_btSb-",
        "outputId": "881fdbf4-0a6f-4c54-c778-a350f887706d"
      },
      "execution_count": null,
      "outputs": [
        {
          "output_type": "stream",
          "name": "stdout",
          "text": [
            "[16, 8, 17, 11, 29, 13, 10, 7, 26, 8, 5, 7, 4, 12, 34, 3, 9, 22, 38, 18, 2, 6, 5, 26, 4, 26, 8, 12, 6, 15, 12, 3, 16, 8, 11, 16, 4, 23, 4, 9, 17, 3, 4, 2, 7, 32, 8, 26, 7, 4, 17, 8, 24, 8, 30, 5, 7, 1, 9, 4, 19, 7, 8, 38, 9, 23, 5, 10, 18, 10, 19, 11, 24, 12, 2, 7, 10, 11, 17, 20, 9, 7, 5, 8, 5, 13, 8, 6, 3, 10, 2, 6, 32, 9, 6, 9, 8, 4, 6, 16, 8, 16, 28, 30, 4, 10, 3, 3, 25, 13, 5, 5, 9, 9, 13, 4, 6, 5, 31, 19, 23, 27, 33, 8, 18, 3, 28, 6, 4, 18, 1, 11, 28, 2, 9, 1, 15, 3, 32, 8, 8, 34, 4, 2, 2, 9, 17, 15, 2, 13, 19, 9, 12, 20, 5, 16, 14, 18, 4, 6, 14, 4, 8, 6, 8, 8, 21, 3, 4, 18, 11, 10, 12, 14, 7, 2, 7, 10, 15, 3, 18, 39, 4, 13, 6, 14, 19, 13, 7, 4, 2, 4, 11, 3, 5, 11, 14, 12, 8, 4, 9, 6, 15, 6, 32, 3, 23, 9, 7, 14, 9, 12, 2, 2, 4, 17, 17, 6, 12, 8, 14, 4, 33, 20, 5, 25, 10, 13, 9, 12, 15, 2, 3, 5, 23, 24, 19, 12, 17, 14, 14, 8, 12, 19, 8, 28, 12, 5, 9, 10, 15, 7, 7, 9, 9, 6, 13, 10, 4, 9, 19, 10, 11, 22, 6, 9, 11, 3, 18, 24, 4, 15, 6, 10, 35, 10, 13, 9, 5, 35, 6, 8, 6, 11, 23, 8, 10, 27, 25, 33, 1, 15, 32, 11, 2, 4, 23, 13, 11, 12, 9, 16, 30, 12, 9, 11, 11, 9, 10, 5, 10, 25, 11, 7, 25, 2, 1, 30, 14, 5, 8, 20, 11, 16, 4, 10, 4, 1, 19, 11, 6, 7, 28, 30, 30, 2, 17, 10, 3, 11, 4, 26, 5, 16, 17, 13, 6, 17, 12, 30, 8, 3, 10, 7, 21, 12, 3, 5, 4, 13, 29, 14, 15, 8, 8, 16, 15, 19, 17, 6, 13, 12, 4, 18, 2, 21, 23, 17, 5, 11, 6, 18, 5, 2, 30, 5, 4, 18, 12, 4, 2, 16, 6, 15, 7, 10, 5, 4, 9, 17, 10, 4, 3, 6, 17, 4, 11, 8, 5, 13, 20, 1, 4, 1, 2, 4, 3, 18, 2, 9, 14, 7, 4, 7, 13, 5, 18, 3, 7, 8, 13, 3, 20, 9, 22, 9, 6, 20, 33, 33, 8, 7, 7, 6, 16, 23, 24, 9, 27, 16, 2, 25, 8, 11, 5, 27, 9, 10, 8, 10, 11, 5, 9, 3, 2, 11, 25, 1, 9, 10, 6, 7, 6, 30, 33, 14, 29, 6, 13, 15, 13, 9, 41, 7, 15, 3, 26, 6, 25, 10, 4, 17, 6, 25, 4, 16, 4, 14, 4, 8, 4, 3, 8, 25, 1, 12, 13, 10, 13, 3, 8, 13, 11, 23, 14, 12, 10, 6, 20, 5, 11, 9, 3, 10, 25, 6, 7, 3, 11, 19, 9, 8, 4, 10, 3, 29, 10, 21, 9, 12, 8, 4, 17, 13, 5, 19, 7, 16, 11, 21, 11, 13, 18, 12, 2, 13, 14, 7, 2, 3, 11, 5, 6, 1, 31, 5, 30, 6, 21, 12, 26, 5, 16, 3, 31, 6, 2, 11, 12, 23, 14, 6, 11, 5, 6, 30, 9, 24, 5, 9, 14, 9, 10, 29, 29, 3, 7, 6, 16, 23, 6, 10, 3, 11, 23, 19, 6, 12, 10, 29, 4, 4, 5, 5, 19, 3, 11, 14, 9, 4, 23, 2, 3, 6, 34, 7, 5, 14, 13, 11, 7, 3, 8, 12, 9, 24, 17, 13, 10, 5, 17, 11, 4, 28, 9, 5, 33, 3, 11, 32, 7, 5, 8, 30, 10, 3, 20, 8, 16, 9, 6, 9, 23, 5, 13, 35, 11, 3, 5, 12, 20, 4, 16, 9, 4, 31, 7, 9, 8, 6, 4, 4, 29, 10, 16, 16, 8, 2, 11, 15, 4, 8, 6, 9, 28, 6, 20, 10, 6, 7, 30, 21, 23, 11, 3, 26, 14, 3, 11, 2, 19, 18, 13, 9, 12, 23, 7, 9, 2, 5, 10, 3, 12, 12, 6, 9, 5, 4, 22, 3, 11, 15, 3, 5, 29, 2, 9, 7, 14, 25, 13, 5, 10, 8, 4, 12, 5, 11, 2, 4, 12, 8, 16, 5, 3, 3, 11, 13, 7, 3, 10, 11, 4, 2, 18, 7, 32, 2, 8, 7, 21, 4, 4, 36, 12, 19, 35, 12, 13, 14, 19, 13, 5, 20, 3, 41, 11, 17, 5, 7, 2, 3, 1, 14, 11, 11, 6, 1, 13, 2, 2, 24, 12, 10, 8, 6, 15, 10, 11, 17, 8, 6, 11, 7, 26, 8, 14, 8, 7, 34, 3, 6, 18, 13, 7, 15, 4, 8, 7, 9, 1, 9, 12, 17, 6, 10, 10, 6, 5, 6, 12, 5, 25, 2, 5, 29, 28, 21, 9, 7, 4, 3, 5, 2, 5, 7, 5, 9, 14, 5, 11, 18, 24, 10, 9, 16, 12, 6, 4, 8, 5, 5, 8, 3, 17, 19, 27, 5, 19, 15, 15, 16, 27, 11, 31, 9, 20, 6, 27, 23, 6, 28, 17, 4, 15, 15, 2, 13, 10, 10, 10, 9, 21, 8, 25, 14, 14, 4, 6, 13, 6, 7, 4, 9, 33, 7, 9, 28, 4, 20, 6, 13, 7, 6, 10, 14, 6, 8, 14, 20, 4, 25, 4, 6, 22, 28, 34, 45, 10, 24, 8, 10, 6, 11, 7, 4, 8, 3, 10, 9, 8, 2, 6, 11, 7, 10, 23, 6, 6, 14, 11, 12, 4, 6, 5, 19, 2, 6, 9, 5, 5, 10, 7, 31, 17, 8, 14, 16, 10, 31, 12, 10, 3, 12, 3, 10, 8, 28, 24, 11, 14, 5, 36, 6, 9, 10, 8, 8, 3, 7, 12, 4, 4, 23, 6, 36, 6, 8, 10, 3, 28, 9, 13, 13, 9, 4, 7, 13, 3, 4, 6, 4, 13, 4, 11, 8, 6, 18, 14, 8, 23, 4, 19, 21, 7, 9, 9, 27, 5, 2, 2, 15, 9, 10, 14, 5, 3, 5, 12, 6, 3, 10, 8, 29, 29, 10, 11, 6, 35, 9, 7, 9, 6, 10, 19, 33, 18, 3, 17, 27, 18, 14, 7, 9, 8, 9, 32, 2, 32, 32, 4, 9, 5, 2, 4, 17, 5, 11, 6, 12, 14, 22, 4, 18, 2, 17, 15, 12, 2, 3, 9, 18, 8, 32, 6, 8, 12, 33, 24, 19, 27, 7, 8, 11, 2, 10, 9, 1, 6, 6, 8, 10, 9, 9, 8, 10, 11, 8, 6, 8, 7, 9, 7, 3, 3, 6, 9, 7, 14, 11, 13, 2, 9, 3, 2, 3, 28, 9, 11, 21, 5, 15, 12, 10, 15, 12, 13, 14, 7, 17, 5, 7, 2, 5, 6, 7, 4, 16, 8, 14, 5, 11, 7, 8, 9, 15, 6, 15, 7, 12, 4, 2, 3, 9, 3, 26, 13, 5, 23, 2, 28, 21, 7, 3, 10, 3, 14, 14, 4, 12, 3, 26, 2, 1, 5, 4, 20, 9, 10, 19, 19, 4, 6, 9, 5, 14, 13, 3, 24, 9, 12, 4, 39, 1, 4, 5, 13, 20, 25, 5, 9, 2, 18, 20, 41, 5, 9, 20, 7, 6, 11, 29, 5, 33, 8, 6, 15, 9, 26, 5, 7, 13, 6, 6, 3, 21, 7, 13, 4, 4, 8, 24, 10, 5, 7, 3, 6, 21, 35, 32, 18, 10, 40, 20, 1, 11, 26, 28, 6, 29, 9, 5, 7, 13, 15, 8, 20, 22, 13, 9, 9, 33, 23, 12, 25, 5, 33, 27, 11, 12, 9, 6, 5, 12, 2, 20, 10, 7, 6, 26, 2, 6, 9, 1, 7, 8, 12, 23, 21, 3, 4, 14, 8, 3, 8, 5, 7, 10, 10, 10, 41, 6, 15, 5, 5, 3, 28, 10, 11, 7, 14, 9, 13, 16, 5, 23, 11, 17, 7, 15, 10, 24, 32, 4, 12, 2, 4, 2, 5, 20, 6, 12, 32, 19, 3, 7, 15, 15, 10, 7, 5, 28, 35, 10, 2, 1, 4, 6, 15, 35, 23, 5, 13, 6, 4, 5, 17, 5, 14, 10, 13, 21, 11, 33, 25, 14, 26, 7, 10, 6, 6, 19, 6, 21, 5, 5, 7, 6, 28, 11, 9, 5, 8, 13, 5, 7, 8, 5, 6, 34, 10, 24, 39, 9, 6, 2, 5, 14, 9, 11, 5, 14, 1, 30, 8, 26, 8, 15, 12, 9, 14, 6, 9, 33, 4, 8, 2, 4, 29, 15, 3, 24, 17, 23, 7, 11, 10, 8, 22, 7, 3, 14, 2, 4, 8, 14, 7, 6, 12, 20, 14, 10, 6, 4, 3, 5, 3, 27, 9, 3, 27, 4, 8, 6, 7, 10, 13, 20, 6, 6, 9, 7, 8, 28, 6, 8, 13, 4, 11, 16, 9, 7, 13, 5, 19, 6, 4, 20, 9, 3, 32, 13, 7, 3, 22, 9, 8, 6, 27, 34, 6, 8, 9, 9, 2, 13, 19, 2, 9, 20, 9, 40, 7, 4, 5, 5, 5, 6, 15, 12, 7, 2, 2, 3, 9, 4, 7, 3, 4, 4, 15, 3, 12, 9, 6, 4, 2, 5, 6, 5, 11, 2, 3, 13, 8, 6, 11, 8, 5, 9, 6, 2, 6, 5, 6, 2, 8, 8, 4, 4, 19, 11, 23, 7, 19, 4, 11, 29, 4, 9, 5, 10, 19, 2, 18, 3, 4, 16, 5, 7, 14, 2, 7, 2, 2, 6, 7, 6, 11, 8, 4, 10, 14, 3, 29, 5, 7, 3, 11, 12, 10, 4, 7, 6, 16, 3, 9, 13, 7, 11, 3, 7, 3, 32, 15, 10, 11, 28, 3, 15, 11, 10, 5, 2, 10, 4, 3, 12, 5, 13, 18, 2, 6, 5, 8, 9, 9, 10, 8, 15, 17, 1, 3, 8, 3, 9, 3, 7, 5, 11, 11, 23, 6, 10, 11, 4, 8, 8, 29, 12, 6, 7, 20, 8, 6, 4, 6, 22, 8, 5, 3, 20, 9, 15, 4, 3, 26, 4, 2, 2, 21, 5, 7, 7, 7, 5, 18, 14, 15, 6, 16, 2, 2, 7, 4, 2, 8, 10, 9, 8, 11, 11, 4, 2, 2, 8, 11, 7, 2, 3, 6, 7, 16, 3, 9, 12, 5, 6, 8, 6, 7, 19, 4, 5, 3, 5, 13, 14, 10, 8, 4, 18, 22, 4, 19, 9, 10, 16, 2, 6, 1, 7, 6, 3, 6, 7, 30, 2, 8, 10, 5, 10, 7, 8, 11, 9, 12, 10, 14, 5, 6, 5, 6, 6, 5, 6, 7, 2, 16, 19, 5, 23, 13, 9, 27, 8, 2, 22, 4, 6, 3, 5, 7, 2, 18, 14, 5, 16, 11, 8, 3, 10, 8, 21, 5, 14, 6, 8, 3, 13, 15, 11, 7, 13, 27, 30, 21, 12, 6, 8, 7, 12, 30, 5, 13, 32, 5, 6, 12, 4, 28, 2, 8, 3, 5, 8, 4, 10, 35, 15, 2, 20, 9, 9, 1, 4, 9, 9, 5, 9, 20, 1, 4, 3, 4, 6, 11, 3, 7, 9, 23, 5, 3, 6, 6, 3, 8, 7, 7, 7, 14, 27, 10, 15, 11, 23, 7, 9, 7, 25, 14, 7, 3, 2, 20, 2, 4, 7, 11, 7, 13, 31, 14, 12, 25, 7, 6, 32, 19, 9, 16, 10, 5, 7, 2, 5, 6, 7, 3, 7, 14, 17, 28, 2, 4, 12, 9, 19, 6, 7, 11, 10, 7, 8, 5, 4, 25, 5, 24, 11, 2, 24, 17, 5, 3, 2, 10, 7, 23, 8, 7, 9, 31, 4, 6, 2, 7, 16, 5, 7, 4, 15, 6, 12, 13, 5, 7, 17, 5, 3, 5, 14, 3, 6, 6, 2, 8, 34, 10, 12, 21, 4, 5, 24, 10, 16, 10, 9, 7, 9, 23, 4, 7, 3, 5, 11, 4, 4, 15, 8, 2, 22, 3, 13, 2, 4, 14, 11, 4, 10, 10, 3, 9, 5, 8, 6, 2, 22, 13, 5, 6, 7, 8, 5, 8, 18, 8, 7, 9, 5, 9, 9, 14, 2, 3, 3, 4, 4, 3, 15, 8, 7, 13, 4, 13, 5, 4, 8, 8, 7, 8, 4, 7, 23, 7, 3, 20, 6, 4, 18, 7, 32, 26, 10, 13, 7, 11, 8, 13, 8, 13, 5, 20, 14, 5, 10, 20, 3, 3, 12, 14, 14, 5, 6, 31, 10, 6, 7, 13, 3, 11, 8, 4, 26, 10, 3, 3, 3, 3, 2, 2, 17, 2, 5, 15, 14, 6, 6, 24, 8, 8, 12, 2, 9, 29, 5, 25, 15, 5, 5, 3, 4, 11, 19, 7, 5, 12, 14, 10, 5, 10, 6, 8, 7, 12, 11, 7, 12, 5, 27, 3, 18, 20, 7, 12, 4, 4, 23, 5, 7, 7, 7, 2, 7, 9, 5, 3, 25, 7, 32, 10, 11, 9, 11, 17, 4, 28, 6, 8, 2, 8, 20, 4, 12, 4, 4, 5, 6, 4, 2, 4, 10, 8, 6, 6, 5, 11, 5, 5, 4, 9, 10, 10, 10, 11, 7, 4, 10, 3, 13, 6, 40, 3, 14, 6, 14, 20, 6, 9, 4, 4, 24, 5, 7, 4, 4, 5, 6, 14, 2, 6, 15, 3, 11, 5, 6, 6, 4, 11, 7, 3, 15, 8, 9, 6, 3, 15, 8, 11, 6, 9, 9, 8, 15, 3, 16, 9, 10, 3, 14, 7, 13, 7, 15, 5, 17, 4, 10, 9, 17, 2, 18, 16, 12, 11, 23, 7, 15, 5, 7, 2, 10, 15, 33, 6, 14, 7, 3, 5, 5, 8, 7, 12, 16, 9, 29, 12, 8, 20, 9, 21, 28, 8, 9, 15, 13, 2, 1, 13, 8, 6, 10, 23, 3, 6, 11, 4, 2, 3, 4, 11, 12, 12, 32, 16, 15, 10, 8, 1, 20, 10, 8, 8, 3, 5, 22, 5, 9, 18, 22, 5, 18, 9, 2, 11, 2, 9, 2, 8, 13, 4, 3, 15, 9, 6, 5, 15, 4, 5, 7, 5, 3, 10, 3, 5, 8, 30, 8, 17, 5, 9, 2, 12, 16, 2, 9, 12, 25, 4, 10, 5, 4, 3, 6, 1, 7, 7, 16, 4, 6, 4, 7, 8, 15, 7, 27, 3, 6, 5, 2, 6, 13, 2, 3, 6, 24, 4, 14, 8, 6, 5, 4, 9, 6, 8, 7, 8, 8, 3, 3, 7, 12, 13, 6, 8, 7, 10, 3, 9, 4, 4, 4, 19, 5, 7, 7, 5, 7, 9, 23, 6, 20, 7, 7, 2, 10, 2, 6, 29, 34, 6, 1, 9, 8, 7, 8, 16, 6, 4, 18, 4, 10, 7, 3, 3, 11, 5, 3, 6, 2, 10, 14, 3, 6, 30, 5, 12, 2, 5, 2, 3, 5, 3, 14, 15, 2, 16, 2, 6, 11, 14, 1, 8, 6, 7, 3, 8, 32, 26, 3, 18, 22, 5, 2, 2, 4, 28, 8, 5, 4, 8, 6, 10, 8, 17, 3, 4, 12, 14, 6, 7, 6, 10, 9, 9, 4, 3, 6, 8, 11, 13, 11, 2, 7, 7, 3, 4, 21, 15, 9, 2, 11, 3, 6, 4, 5, 5, 4, 2, 3, 5, 15, 16, 3, 15, 12, 18, 6, 14, 18, 5, 8, 20, 6, 4, 3, 9, 1, 4, 4, 8, 2, 4, 8, 10, 6, 9, 4, 4, 5, 17, 12, 12, 9, 5, 10, 22, 3, 3, 2, 5, 4, 4, 1, 11, 5, 17, 13, 19, 13, 5, 20, 3, 2, 9, 2, 5, 8, 12, 5, 8, 5, 12, 9, 4, 9, 11, 5, 3, 30, 14, 12, 5, 6, 6, 1, 8, 14, 6, 10, 9, 7, 4, 5, 7, 5, 22, 2, 5, 3, 27, 5, 9, 4, 6, 2, 14, 2, 13, 3, 5, 3, 11, 9, 14, 2, 10, 6, 7, 9, 16, 3, 17, 6, 8, 3, 8, 12, 11, 5, 19, 13, 5, 5, 9, 32, 20, 3, 10, 8, 6, 5, 23, 6, 6, 31, 5, 2, 2, 5, 5, 10, 7, 5, 3, 5, 10, 10, 13, 11, 2, 9, 7, 4, 10, 19, 12, 3, 9, 25, 4, 13, 16, 10, 5, 3, 29, 6, 6, 14, 5, 13, 9, 3, 7, 7, 6, 10, 2, 10, 4, 9, 9, 10, 4, 18, 15, 22, 8, 13, 21, 7, 19, 2, 32, 13, 35, 7, 5, 11, 5, 7, 5, 3, 16, 15, 10, 12, 8, 13, 5, 4, 14, 33, 7, 4, 3, 8, 1, 13, 10, 6, 3, 11, 2, 28, 3, 7, 17, 5, 41, 22, 4, 3, 27, 29, 9, 3, 1, 5, 14, 15, 7, 4, 10, 5, 16, 5, 2, 5, 7, 9, 3, 4, 10, 7, 3, 16, 1, 9, 21, 4, 17, 11, 13, 6, 7, 9, 4, 28, 18, 12, 15, 16, 10, 20, 14, 6, 13, 13, 8, 3, 3, 17, 6, 10, 10, 3, 5, 18, 3, 3, 2, 8, 27, 4, 3, 2, 19, 8, 6, 3, 9, 27, 8, 13, 6, 9, 12, 15, 23, 17, 3, 17, 7, 29, 5, 22, 20, 5, 22, 11, 9, 3, 32, 13, 4, 13, 5, 3, 16, 5, 4, 21, 35, 14, 23, 4, 2, 7, 6, 16, 4, 7, 2, 15, 24, 7, 9, 7, 15, 11, 16, 11, 5, 7, 8, 8, 12, 17, 11, 3, 13, 5, 8, 13, 4, 13, 10, 3, 9, 7, 12, 2, 6, 16, 8, 2, 7, 25, 7, 16, 3, 4, 15, 15, 29, 6, 7, 3, 11, 12, 4, 10, 14, 16, 13, 21, 2, 12, 8, 5, 9, 24, 12, 15, 3, 4, 4, 5, 21, 6, 9, 11, 12, 6, 10, 4, 2, 10, 17, 8, 10, 17, 14, 25, 2, 17, 8, 8, 20, 6, 4, 3, 4, 7, 3, 5, 7, 5, 7, 7, 8, 11, 8, 14, 7, 11, 11, 4, 5, 25, 22, 23, 9, 22, 5, 6, 4, 6, 2, 29, 28, 17, 15, 23, 8, 7, 13, 10, 10, 4, 18, 7, 3, 29, 4, 9, 15, 7, 18, 16, 5, 7, 6, 9, 11, 10, 5, 5, 11, 3, 16, 9, 6, 11, 11, 9, 13, 11, 9, 5, 3, 6, 12, 7, 10, 6, 11, 10, 25, 6, 10, 4, 4, 1, 8, 5, 11, 8, 16, 7, 21, 14, 7, 7, 33, 5, 2, 7, 13, 23, 10, 5, 5, 28, 9, 21, 8, 28, 9, 3, 28, 6, 25, 4, 8, 3, 3, 4, 15, 10, 19, 4, 23, 3, 16, 5, 23, 10, 2, 31, 7, 5, 8, 29, 19, 30, 20, 7, 7, 6, 3, 3, 10, 6, 27, 4, 11, 3, 14, 11, 4, 20, 2, 17, 14, 12, 16, 5, 29, 36, 4, 22, 31, 21, 5, 13, 5, 12, 5, 14, 10, 10, 11, 7, 2, 3, 4, 18, 11, 2, 5, 2, 4, 16, 21, 16, 2, 18, 20, 8, 33, 12, 8, 2, 2, 7, 6, 7, 9, 10, 36, 17, 7, 13, 13, 32, 2, 8, 9, 32, 9, 12, 12, 8, 14, 7, 8, 21, 4, 4, 11, 7, 3, 4, 12, 2, 30, 10, 4, 27, 11, 5, 16, 12, 3, 29, 4, 5, 35, 17, 3, 25, 15, 26, 10, 31, 4, 6, 11, 28, 26, 30, 16, 8, 17, 27, 10, 28, 12, 12, 4, 5, 10, 2, 6, 11, 15, 11, 6, 9, 4, 2, 6, 20, 6, 2, 9, 11, 26, 6, 14, 14, 6, 9, 14, 9, 8, 10, 10, 5, 19, 4, 12, 13, 11, 4, 16, 11, 5, 2, 7, 4, 2, 4, 10, 11, 21, 6, 10, 23, 5, 14, 9, 6, 12, 11, 7, 4, 2, 7, 9, 6, 7, 9, 8, 8, 29, 3, 1, 14, 10, 12, 9, 7, 6, 9, 7, 19, 23, 18, 22, 8, 2, 6, 33, 7, 9, 13, 9, 10, 8, 5, 16, 12, 8, 11, 6, 11, 8, 9, 28, 26, 31, 13, 8, 25, 8, 7, 14, 5, 10, 15, 12, 31, 13, 8, 8, 11, 7, 6, 7, 14, 4, 3, 8, 7, 12, 8, 20, 13, 13, 1, 31, 7, 15, 2, 11, 8, 26, 6, 12, 8, 11, 8, 8, 24, 32, 4, 37, 14, 3, 19, 5, 16, 5, 6, 23, 6, 5, 6, 4, 6, 4, 16, 2, 2, 5, 2, 9, 4, 5, 1, 10, 3, 12, 14, 8, 9, 8, 5, 8, 21, 8, 15, 6, 22, 18, 7, 9, 14, 8, 9, 24, 19, 18, 6, 5, 6, 5, 10, 21, 19, 12, 21, 17, 9, 17, 14, 13, 7, 1, 15, 8, 9, 6, 2, 3, 19, 5, 3, 10, 2, 11, 24, 13, 24, 12, 8, 6, 17, 11, 14, 4, 5, 4, 12, 29, 3, 11, 3, 7, 10, 29, 11, 4, 32, 3, 35, 5, 3, 8, 3, 6, 28, 17, 3, 20, 8, 7, 4, 33, 19, 33, 5, 9, 13, 11, 7, 2, 4, 4, 10, 13, 3, 26, 14, 11, 8, 10, 13, 5, 28, 27, 6, 16, 33, 30, 18, 28, 3, 8, 17, 3, 6, 7, 7, 27, 26, 10, 27, 2, 11, 8, 14, 8, 22, 24, 17, 11, 7, 7, 26, 7, 32, 5, 9, 2, 15, 14, 17, 5, 1, 16, 4, 9, 35, 39, 9, 8, 16, 14, 18, 28, 10, 9, 7, 6, 13, 14, 35, 18, 11, 9, 18, 11, 7, 8, 9, 18, 17, 14, 2, 5, 20, 4, 8, 4, 34, 11, 9, 12, 9, 6, 11, 29, 12, 13, 6, 39, 24, 7, 7, 3, 24, 3, 16, 3, 5, 7, 5, 18, 25, 6, 19, 19, 17, 5, 25, 19, 16, 24, 28, 17, 27, 34, 6, 36, 9, 4, 17, 27, 9, 16, 9, 35, 16, 3, 14, 36, 8, 9, 4, 9, 8, 2, 14, 7, 10, 7, 5, 6, 31, 9, 7, 10, 10, 23, 18, 10, 32, 6, 28, 2, 6, 11, 2, 29, 3, 6, 4, 2, 8, 3, 7, 2, 7, 2, 4, 18, 5, 3, 3, 3, 14, 23, 17, 11, 15, 11, 10, 22, 9, 9, 6, 3, 6, 10, 21, 3, 9, 3, 23, 4, 11, 4, 5, 20, 11, 23, 16, 21, 9, 1, 10, 5, 31, 7, 12, 19, 17, 3, 7, 28, 4, 12, 3, 10, 29, 18, 4, 14, 5, 19, 6, 20, 15, 3, 2, 9, 7, 16, 6, 36, 7, 13, 12, 31, 42, 1, 2, 17, 4, 20, 5, 7, 5, 18, 15, 3, 6, 6, 22, 11, 11, 14, 6, 15, 12, 11, 6, 19, 5, 34, 22, 26, 7, 1, 18, 7, 4, 7, 19, 19, 25, 10, 8, 2, 4, 8, 12, 13, 5, 3, 13, 22, 14, 7, 7, 14, 12, 5, 7, 5, 27, 27, 2, 12, 27, 38, 22, 16, 8, 2, 9, 9, 5, 4, 14, 9, 18, 14, 5, 11, 4, 4, 28, 6, 8, 13, 5, 3, 4, 31, 4, 4, 6, 8, 5, 9, 9, 9, 7, 33, 17, 7, 4, 12, 9, 5, 29, 25, 9, 11, 8, 29, 2, 9, 13, 25, 24, 5, 29, 6, 9, 11, 8, 13, 12, 33, 3, 7, 5, 4, 12, 4, 1, 7, 18, 8, 8, 16, 8, 10, 32, 5, 6, 1, 8, 8, 2, 8, 20, 26, 8, 8, 19, 11, 7, 7, 4, 11, 15, 5, 6, 12, 7, 18, 24, 6, 3, 5, 6, 8, 33, 3, 24, 11, 36, 4, 1, 9, 26, 9, 5, 2, 12, 5, 4, 7, 14, 4, 20, 11, 8, 11, 3, 14, 13, 13, 16, 4, 5, 14, 10, 8, 15, 7, 19, 10, 24, 13, 11, 7, 2, 6, 27, 14, 12, 22, 6, 10, 11, 23, 13, 8, 9, 28, 10, 7, 5, 4, 31, 9, 6, 12, 3, 2, 27, 1, 11, 13, 5, 11, 6, 6, 9, 15, 10, 16, 28, 32, 14, 3, 5, 18, 13, 8, 16, 12, 6, 13, 15, 5, 7, 4, 15, 13, 6, 23, 3, 13, 8, 7, 6, 5, 9, 9, 4, 1, 9, 5, 7, 9, 14, 12, 6, 5, 6, 16, 1, 7, 6, 37, 13, 7, 2, 6, 12, 8, 6, 13, 10, 5, 10, 8, 14, 15, 7, 4, 9, 28, 4, 4, 27, 5, 4, 9, 9, 3, 12, 14, 13, 2, 7, 11, 35, 7, 9, 13, 9, 14, 22, 29, 11, 8, 7, 17, 13, 3, 7, 5, 7, 16, 4, 6, 4, 22, 15, 30, 7, 19, 6, 4, 8, 13, 15, 10, 11, 2, 11, 1, 4, 5, 15, 20, 6, 7, 15, 34, 7, 17, 11, 18, 35, 4, 12, 8, 1, 4, 9, 30, 11, 35, 35, 8, 6, 7, 4, 2, 12, 7, 12, 2, 3, 4, 22, 9, 10, 20, 5, 2, 10, 8, 8, 6, 7, 19, 35, 7, 23, 2, 36, 11, 10, 16, 38, 4, 4, 8, 21, 28, 8, 43, 19, 5, 10, 7, 8, 16, 34, 9, 7, 13, 8, 16, 8, 8, 8, 13, 16, 25, 7, 22, 18, 27, 13, 15, 15, 8, 41, 5, 13, 13, 26, 13, 6, 9, 13, 18, 4, 3, 6, 5, 1, 5, 12, 10, 27, 30, 33, 23, 12, 22, 6, 8, 4, 9, 12, 6, 4, 6, 6, 15, 32, 6, 10, 14, 28, 7, 17, 13, 26, 6, 5, 20, 14, 20, 1, 5, 12, 9, 10, 14, 30, 23, 9, 25, 11, 10, 7, 10, 25, 10, 10, 28, 5, 9, 3, 31, 3, 29, 27, 15, 22, 32, 3, 20, 11, 11, 9, 9, 1, 9, 3, 9, 5, 10, 8, 25, 5, 5, 9, 5, 27, 7, 12, 6, 37, 7, 6, 11, 8, 9, 16, 10, 5, 11, 11, 8, 14, 21, 16, 12, 4, 16, 3, 11, 10, 12, 12, 26, 5, 9, 3, 8, 14, 9, 4, 19, 9, 3, 9, 7, 15, 21, 6, 4, 11, 5, 4, 7, 8, 11, 18, 24, 28, 14, 13, 18, 6, 4, 10, 1, 5, 10, 5, 15, 24, 13, 17, 9, 13, 7, 5, 4, 7, 15, 15, 15, 30, 11, 13, 18, 7, 7, 8, 14, 18, 29, 5, 19, 6, 25, 17, 11, 6, 5, 4, 8, 14, 12, 11, 8, 8, 8, 9, 3, 20, 8, 20, 3, 8, 12, 7, 16, 5, 4, 3, 13, 9, 15, 9, 9, 7, 1, 10, 30, 14, 7, 7, 8, 2, 10, 18, 1, 11, 13, 8, 8, 4, 10, 22, 5, 25, 30, 7, 7, 6, 8, 13, 6, 10, 34, 10, 4, 6, 15, 4, 25, 6, 5, 10, 4, 25, 9, 13, 8, 6, 5, 26, 7, 10, 22, 16, 10, 8, 2, 5, 4, 3, 3, 17, 10, 7, 8, 8, 28, 7, 6, 19, 32, 29, 9, 5, 27, 12, 13, 23, 11, 11, 5, 8, 10, 2, 3, 4, 7, 4, 11, 23, 10, 4, 34, 5, 34, 4, 18, 12, 1, 4, 7, 2, 10, 4, 17, 13, 20, 7, 8, 3, 5, 11, 9, 5, 9, 16, 13, 4, 4, 6, 7, 9, 5, 7, 2, 3, 4, 5, 17, 3, 33, 9, 13, 4, 30, 3, 29, 8, 6, 12, 11, 5, 20, 22, 12, 8, 17, 8, 22, 8, 12, 4, 10, 7, 5, 19, 14, 3, 13, 4, 5, 17, 25, 2, 4, 8, 9, 5, 7, 4, 36, 8, 8, 5, 5, 15, 4, 5, 3, 6, 2, 4, 9, 3, 10, 7, 7, 8, 2, 13, 29, 2, 4, 7, 5, 14, 6, 20, 3, 8, 6, 11, 3, 4, 16, 3, 2, 18, 32, 14, 5, 5, 1, 17, 5, 12, 4, 6, 2, 5, 23, 2, 29, 13, 9, 3, 12, 15, 2, 7, 3, 2, 16, 3, 14, 8, 3, 7, 39, 1, 13, 4, 7, 11, 3, 7, 4, 20, 22, 11, 12, 16, 7, 5, 18, 20, 7, 15, 6, 6, 12, 6, 16, 14, 15, 5, 10, 29, 2, 4, 11, 26, 9, 5, 3, 6, 12, 6, 6, 4, 11, 4, 6, 4, 21, 14, 1, 19, 6, 32, 3, 4, 11, 6, 16, 8, 35, 3, 9, 5, 7, 20, 8, 1, 4, 5, 2, 1, 4, 5, 6, 4, 12, 6, 14, 5, 6, 23, 5, 8, 6, 7, 6, 1, 15, 5, 2, 4, 9, 20, 12, 14, 5, 11, 36, 2, 23, 9, 15, 14, 33, 23, 14, 6, 6, 16, 15, 5, 12, 6, 40, 16, 21, 10, 8, 16, 14, 6, 10, 19, 9, 3, 5, 4, 21, 11, 30, 11, 5, 27, 4, 3, 5, 11, 2, 8, 6, 5, 5, 4, 10, 2, 19, 5, 6, 7, 22, 8, 6, 10, 9, 3, 1, 7, 8, 7, 26, 6, 31, 22, 20, 5, 6, 21, 2, 5, 8, 3, 10, 17, 6, 19, 10, 10, 29, 10, 9, 4, 3, 33, 6, 19, 4, 3, 7, 6, 2, 8, 8, 3, 10, 19, 7, 5, 10, 3, 4, 9, 6, 3, 9, 9, 7, 5, 8, 2, 18, 10, 10, 15, 8, 19, 3, 3, 5, 2, 19, 8, 7, 5, 12, 3, 3, 5, 19, 19, 17, 8, 7, 9, 12, 2, 5, 5, 28, 4, 15, 7, 4, 28, 5, 14, 5, 7, 24, 37, 5, 10, 9, 2, 16, 8, 4, 8, 4, 3, 8, 3, 5, 5, 22, 18, 11, 3, 9, 12, 18, 3, 31, 2, 15, 7, 6, 3, 9, 4, 31, 27, 32, 13, 3, 12, 6, 22, 6, 20, 13, 19, 20, 22, 3, 23, 16, 3, 11, 3, 11, 34, 19, 15, 3, 6, 5, 5, 3, 15, 10, 20, 9, 4, 8, 3, 3, 36, 5, 5, 4, 8, 8, 11, 8, 13, 5, 6, 3, 12, 8, 36, 7, 2, 21, 8, 6, 7, 8, 15, 3, 8, 6, 6, 11, 9, 10, 6, 4, 23, 4, 8, 8, 5, 3, 3, 8, 7, 3, 9, 15, 8, 7, 11, 13, 5, 3, 19, 14, 11, 12, 16, 3, 2, 7, 9, 5, 5, 14, 6, 11, 3, 7, 24, 8, 7, 13, 7, 11, 2, 3, 6, 2, 6, 15, 2, 5, 6, 21, 25, 3, 9, 7, 4, 29, 8, 6, 7, 18, 4, 14, 5, 1, 2, 14, 5, 6, 5, 22, 12, 5, 6, 10, 13, 4, 5, 20, 10, 5, 4, 14, 6, 2, 7, 18, 16, 4, 7, 20, 11, 6, 12, 4, 10, 7, 10, 5, 9, 11, 13, 2, 4, 11, 4, 11, 20, 9, 12, 11, 20, 5, 29, 8, 8, 11, 5, 12, 12, 8, 16, 6, 8, 12, 4, 9, 5, 3, 9, 26, 9, 7, 11, 9, 7, 7, 15, 7, 9, 4, 10, 6, 6, 29, 28, 19, 14, 11, 26, 19, 26, 2, 19, 8, 24, 13, 12, 10, 8, 10, 10, 5, 5, 17, 2, 18, 32, 18, 24, 17, 13, 7, 9, 6, 20, 6, 11, 11, 4, 19, 18, 27, 5, 4, 7, 12, 16, 15, 5, 5, 11, 27, 22, 4, 18, 13, 6, 4, 8, 8, 10, 8, 16, 9, 4, 10, 8, 27, 13, 13, 20, 4, 4, 9, 26, 34, 2, 14, 6, 3, 8, 30, 8, 9, 18, 9, 9, 11, 16, 9, 31, 10, 8, 6, 35, 4, 27, 33, 6, 11, 11, 16, 24, 17, 8, 12, 7, 2, 7, 5, 7, 3, 19, 23, 7, 10, 11, 16, 12, 10, 5, 5, 9, 10, 16, 20, 31, 13, 14, 7, 17, 22, 16, 2, 31, 7, 29, 10, 7, 7, 8, 6, 9, 34, 19, 7, 31, 5, 10, 14, 16, 7, 3, 39, 7, 5, 35, 11, 6, 5, 3, 33, 17, 15, 31, 6, 8, 12, 10, 9, 12, 6, 9, 2, 4, 33, 3, 1, 5, 6, 31, 4, 17, 10, 14, 9, 7, 8, 16, 4, 10, 3, 13, 18, 3, 4, 7, 11, 6, 3, 10, 11, 3, 6, 12, 13, 2, 1, 6, 3, 2, 7, 30, 10, 4, 8, 8, 37, 8, 11, 13, 3, 2, 27, 11, 9, 4, 8, 3, 8, 11, 5, 18, 11, 8, 13, 4, 9, 10, 9, 6, 7, 14, 16, 8, 4, 3, 3, 21, 4, 16, 12, 8, 10, 4, 13, 15, 4, 4, 4, 6, 10, 22, 11, 9, 9, 15, 21, 3, 11, 3, 8, 8, 8, 7, 4, 13, 29, 3, 1, 12, 19, 12, 7, 23, 21, 7, 7, 7, 9, 12, 1, 32, 6, 29, 4, 4, 9, 22, 21, 20, 3, 14, 27, 21, 29, 9, 16, 15, 28, 7, 21, 14, 13, 15, 16, 11, 11, 2, 31, 35, 16, 30, 13, 5, 2, 5, 8, 8, 27, 13, 14, 24, 5, 7, 14, 5, 12, 12, 3, 12, 3, 26, 3, 23, 3, 10, 2, 3, 3, 9, 13, 5, 4, 8, 3, 3, 10, 7, 12, 5, 10, 9, 29, 7, 15, 7, 6, 15, 14, 9, 10, 9, 6, 7, 3, 1, 36, 31, 14, 6, 4, 8, 32, 9, 13, 10, 6, 10, 24, 12, 6, 22, 26, 4, 16, 17, 3, 9, 29, 3, 6, 11, 4, 13, 29, 8, 6, 10, 28, 5, 24, 5, 10, 8, 3, 16, 3, 21, 32, 11, 13, 9, 6, 30, 6, 2, 15, 9, 9, 19, 21, 3, 4, 7, 16, 10, 15, 3, 13, 14, 5, 15, 6, 18, 5, 7, 12, 7, 12, 22, 7, 19, 32, 5, 2, 7, 14, 2, 6, 23, 12, 5, 10, 7, 10, 4, 4, 6, 9, 27, 5, 8, 8, 13, 10, 17, 9, 5, 5, 8, 21, 1, 10, 5, 4, 6, 2, 4, 1, 5, 3, 32, 33, 27, 11, 7, 4, 4, 3, 15, 32, 22, 3, 6, 6, 12, 3, 18, 14, 2, 2, 2, 10, 12, 11, 4, 11, 19, 15, 7, 8, 6, 5, 31, 30, 13, 15, 4, 12, 8, 6, 29, 7, 26, 12, 32, 10, 8, 7, 10, 3, 8, 2, 21, 2, 14, 7, 5, 15, 3, 9, 7, 5, 5, 31, 2, 7, 13, 13, 13, 13, 22, 3, 6, 4, 1, 21, 9, 35, 7, 11, 28, 9, 4, 7, 10, 1, 14, 3, 11, 7, 10, 9, 24, 1, 6, 25, 14, 3, 1, 6, 2, 2, 21, 4, 10, 13, 7, 11, 5, 18, 35, 4, 8, 2, 3, 10, 6, 9, 9, 4, 4, 22, 21, 2, 5, 7, 14, 18, 14, 10, 4, 4, 3, 7, 6, 10, 4, 9, 21, 14, 8, 9, 8, 7, 8, 5, 2, 20, 16, 9, 3, 24, 13, 7, 36, 10, 4, 7, 9, 10, 8, 13, 26, 13, 13, 12, 3, 8, 33, 9, 11, 38, 13, 13, 4, 12, 2, 13, 3, 8, 10, 8, 2, 13, 9, 7, 14, 6, 14, 14, 9, 15, 15, 14, 1, 11, 3, 20, 8, 4, 18, 27, 9, 5, 10, 4, 10, 8, 14, 39, 4, 11, 8, 8, 7, 11, 18, 4, 10, 1, 18, 12, 2, 4, 7, 10, 5, 10, 13, 7, 9, 9, 18, 25, 5, 8, 7, 20, 23, 4, 6, 4, 5, 11, 19, 21, 11, 3, 11, 8, 15, 1, 8, 6, 10, 16, 14, 19, 1, 8, 6, 11, 2, 18, 29, 2, 4, 5, 6, 16, 5, 21, 5, 7, 9, 13, 18, 4, 11, 24, 2, 15, 8, 6, 5, 2, 4, 6, 14, 7, 1, 8, 6, 10, 7, 10, 14, 12, 7, 26, 6, 9, 29, 17, 8, 29, 36, 27, 7, 15, 10, 11, 7, 40, 15, 15, 5, 9, 11, 14, 1, 7, 7, 9, 8, 6, 5, 30, 4, 8, 24, 5, 2, 10, 11, 4, 12, 28, 5, 10, 30, 8, 22, 11, 5, 8, 26, 5, 27, 9, 8, 4, 4, 12, 16, 14, 8, 3, 16, 6, 15, 15, 6, 9, 11, 8, 5, 19, 8, 18, 13, 5, 9, 33, 3, 3, 20, 14, 31, 5, 6, 14, 9, 10, 29, 6, 9, 11, 31, 16, 21, 4, 36, 6, 7, 9, 8, 7, 12, 2, 7, 5, 12, 1, 9, 12, 1, 24, 12, 8, 8, 3, 15, 20, 10, 10, 11, 5, 27, 7, 19, 8, 7, 13, 17, 6, 16, 25, 21, 1, 12, 15, 4, 30, 12, 14, 6, 19, 34, 2, 18, 6, 5, 1, 3, 20, 3, 17, 8, 4, 14, 9, 24, 16, 8, 6, 5, 4, 19, 19, 29, 12, 34, 3, 10, 6, 25, 19, 24, 32, 13, 32, 4, 10, 6, 8, 13, 8, 23, 23, 5, 8, 6, 6, 15, 14, 20, 16, 14, 10, 4, 7, 5, 11, 3, 14, 31, 2, 26, 8, 7, 7, 25, 19, 26, 13, 6, 12, 12, 5, 7, 14, 34, 14, 18, 26, 6, 10, 5, 6, 14, 2, 13, 23, 13, 38, 4, 36, 5, 16, 16, 16, 3, 35, 6, 6, 24, 9, 29, 13, 5, 3, 5, 8, 13, 14, 4, 15, 9, 1, 7, 7, 11, 11, 8, 7, 5, 5, 8, 2, 3, 4, 9, 10, 14, 7, 5, 25, 6, 24, 4, 2, 13, 9, 1, 31, 30, 2, 11, 26, 25, 15, 11, 1, 5, 20, 8, 13, 9, 7, 23, 4, 5, 2, 13, 5, 10, 3, 27, 27, 16, 19, 8, 13, 12, 8, 30, 10, 1, 6, 20, 3, 13, 15, 6, 4, 8, 8, 6, 3, 11, 5, 6, 12, 5, 6, 29, 8, 9, 8, 10, 6, 15, 15, 17, 14, 21, 11, 10, 6, 7, 28, 10, 7, 14, 27, 10, 13, 3, 4, 15, 19, 25, 2, 26, 13, 18, 11, 6, 21, 15, 36, 19, 8, 9, 8, 5, 3, 33, 9, 6, 9, 13, 6, 6, 12, 2, 5, 30, 15, 10, 3, 10, 9, 2, 31, 16, 17, 10, 15, 30, 8, 7, 15, 13, 1, 22, 12, 4, 4, 6, 14, 9, 9, 24, 22, 26, 17, 10, 5, 17, 9, 16, 6, 9, 9, 16, 12, 7, 3, 8, 30, 7, 15, 11, 16, 13, 7, 7, 6, 21, 4, 8, 3, 19, 32, 33, 10, 10, 3, 8, 6, 8, 9, 8, 9, 5, 26, 23, 18, 9, 18, 6, 11, 11, 4, 34, 18, 10, 5, 15, 16, 4, 25, 8, 12, 17, 4, 7, 8, 11, 10, 13, 4, 11, 3, 9, 11, 2, 4, 34, 13, 10, 6, 15, 17, 11, 12, 10, 1, 5, 3, 23, 21, 20, 6, 3, 7, 27, 7, 27, 8, 8, 32, 9, 20, 6, 16, 30, 6, 8, 13, 8, 36, 10, 5, 6, 13, 7, 8, 17, 19, 11, 19, 13, 7, 12, 7, 6, 9, 11, 10, 12, 8, 11, 19, 17, 26, 14, 4, 18, 8, 6, 17, 6, 13, 19, 17, 3, 5, 31, 23, 15, 1, 3, 34, 24, 6, 3, 20, 13, 8, 25, 29, 5, 12, 3, 11, 15, 6, 9, 12, 3, 25, 16, 7, 29, 3, 21, 27, 9, 3, 6, 8, 13, 9, 26, 4, 8, 10, 5, 6, 5, 22, 21, 5, 6, 20, 8, 12, 4, 8, 7, 10, 25, 15, 11, 12, 4, 6, 13, 11, 23, 23, 12, 5, 5, 1, 3, 13, 7, 6, 10, 5, 10, 7, 3, 40, 5, 5, 7, 4, 4, 6, 6, 8, 9, 8, 8, 9, 15, 12, 31, 12, 15, 4, 24, 22, 3, 4, 26, 9, 6, 5, 19, 4, 15, 2, 6, 3, 8, 5, 11, 14, 10, 16, 18, 15, 8, 31, 15, 13, 15, 28, 26, 4, 4, 3, 26, 14, 10, 12, 15, 3, 8, 34, 6, 3, 8, 1, 26, 8, 33, 9, 24, 17, 8, 19, 3, 34, 17, 4, 26, 2, 8, 7, 28, 4, 8, 30, 11, 20, 27, 16, 3, 14, 4, 8, 7, 17, 9, 33, 5, 9, 7, 5, 28, 7, 10, 11, 7, 5, 19, 7, 7, 10, 3, 4, 10, 16, 3, 12, 24, 23, 4, 3, 3, 7, 12, 9, 9, 8, 13, 7, 10, 5, 5, 11, 8, 2, 11, 2, 22, 12, 11, 4, 28, 11, 13, 5, 7, 11, 22, 6, 11, 30, 30, 28, 10, 3, 13, 29, 17, 18, 3, 8, 2, 16, 5, 8, 23, 11, 9, 1, 24, 23, 7, 7, 2, 2, 4, 29, 3, 14, 9, 28, 3, 19, 11, 13, 10, 3, 25, 6, 6, 6, 8, 9, 6, 4, 1, 24, 15, 5, 5, 12, 12, 10, 20, 28, 5, 21, 6, 1, 13, 6, 21, 9, 4, 28, 16, 25, 9, 7, 11, 9, 8, 1, 6, 8, 4, 28, 6, 3, 14, 4, 38, 4, 16, 8, 2, 20, 17, 9, 19, 12, 32, 13, 14, 5, 16, 5, 22, 30, 20, 8, 2, 13, 4, 8, 4, 20, 17, 5, 9, 30, 18, 2, 9, 21, 18, 18, 34, 11, 9, 19, 1, 31, 16, 16, 39, 5, 2, 20, 27, 11, 32, 6, 24, 21, 12, 16, 9, 14, 32, 10, 17, 11, 19, 9, 13, 13, 18, 8, 10, 22, 12, 8, 24, 4, 11, 15, 15, 4, 4, 3, 23, 1, 18, 10, 11, 15, 7, 21, 2, 10, 29, 2, 7, 13, 6, 30, 4, 8, 2, 7, 13, 6, 16, 7, 5, 19, 15, 6, 9, 19, 2, 3, 4, 3, 10, 15, 8, 7, 7, 5, 4, 19, 22, 15, 8, 20, 4, 22, 3, 24, 11, 6, 7, 3, 15, 17, 31, 19, 7, 3, 10, 8, 2, 9, 12, 7, 5, 12, 14, 5, 4, 11, 13, 12, 5, 33, 8, 9, 10, 14, 24, 3, 8, 14, 22, 29, 2, 18, 10, 6, 15, 27, 4, 5, 13, 6, 15, 7, 16, 7, 7, 11, 3, 17, 32, 5, 7, 4, 3, 6, 1, 11, 10, 31, 11, 21, 17, 29, 17, 5, 20, 30, 15, 21, 5, 12, 9, 9, 10, 40, 38, 10, 3, 29, 15, 6, 10, 5, 17, 1, 14, 15, 22, 7, 3, 9, 23, 1, 3, 3, 26, 8, 22, 16, 19, 4, 7, 3, 18, 3, 7, 18, 18, 12, 14, 14, 30, 6, 12, 19, 29, 16, 9, 33, 32, 15, 21, 6, 10, 10, 2, 11, 37, 23, 25, 10, 15, 11, 19, 6, 11, 19, 4, 22, 16, 36, 19, 27, 14, 9, 10, 22, 12, 11, 3, 2, 14, 12, 13, 14, 15, 4, 8, 19, 23, 13, 11, 5, 2, 4, 15, 19, 3, 12, 11, 19, 16, 7, 13, 4, 3, 16, 21, 13, 9, 11, 5, 8, 17, 7, 4, 15, 6, 8, 11, 7, 9, 5, 6, 8, 35, 23, 23, 30, 30, 15, 9, 7, 31, 7, 11, 6, 15, 37, 12, 34, 10, 6, 28, 7, 5, 3, 11, 9, 7, 4, 21, 31, 10, 13, 7, 10, 4, 6, 5, 8, 7, 38, 3, 2, 15, 22, 14, 32, 15, 6, 28, 27, 21, 32, 18, 29, 34, 11, 8, 8, 6, 21, 8, 17, 5, 7, 18, 8, 17, 7, 9, 3, 18, 15, 4, 20, 14, 3, 8, 4, 7, 16, 10, 6, 25, 5, 28, 7, 15, 12, 10, 26, 11, 13, 14, 8, 20, 24, 14, 32, 16, 31, 9, 32, 2, 14, 6, 15, 6, 17, 13, 9, 20, 8, 12, 10, 22, 5, 30, 13, 8, 8, 14, 5, 4, 7, 7, 5, 24, 10, 5, 21, 15, 6, 5, 5, 35, 12, 7, 15, 5, 27, 2, 3, 20, 2, 33, 8, 32, 15, 2, 15, 13, 3, 15, 4, 5, 6, 11, 7, 6, 16, 12, 31, 13, 34, 3, 3, 4, 27, 7, 3, 7, 13, 3, 9, 10, 7, 5, 27, 14, 9, 17, 25, 8, 16, 15, 8, 37, 19, 16, 3, 27, 5, 15, 7, 36, 7, 11, 6, 28, 4, 10, 7, 9, 7, 6, 10, 5, 4, 26, 12, 13, 4, 6, 9, 3, 4, 7, 32, 13, 16, 5, 13, 4, 15, 6, 5, 5, 7, 13, 14, 26, 3, 5, 20, 2, 22, 32, 5, 8, 2, 6, 7, 19, 8, 7, 6, 6, 9, 4, 10, 8, 12, 10, 28, 4, 27, 5, 19, 6, 12, 40, 18, 10, 21, 7, 30, 3, 8, 12, 7, 2, 17, 12, 11, 27, 10, 29, 14, 10, 9, 16, 3, 19, 8, 3, 17, 6, 11, 11, 5, 7, 17, 28, 3, 11, 23, 24, 4, 4, 9, 14, 6, 1, 14, 36, 22, 23, 17, 28, 7, 14, 4, 2, 9, 18, 4, 6, 6, 1, 13, 2, 13, 7, 16, 4, 11, 3, 6, 17, 8, 10, 4, 4, 1, 14, 6, 15, 7, 20, 7, 6, 10, 4, 25, 33, 2, 14, 7, 3, 22, 8, 4, 22, 9, 10, 7, 5, 2, 30, 11, 16, 13, 2, 8, 5, 11, 8, 6, 8, 9, 14, 11, 10, 13, 11, 10, 5, 13, 9, 10, 26, 40, 28, 7, 29, 8, 13, 7, 25, 7, 17, 4, 8, 5, 4, 26, 2, 8, 3, 22, 6, 34, 2, 7, 6, 4, 20, 24, 8, 9, 16, 9, 5, 7, 14, 26, 30, 7, 7, 9, 16, 31, 27, 7, 7, 12, 7, 6, 20, 13, 7, 18, 12, 4, 7, 33, 5, 3, 3, 29, 14, 3, 26, 12, 13, 11, 20, 14, 11, 11, 20, 4, 6, 8, 9, 10, 5, 7, 9, 21, 12, 30, 4, 5, 3, 7, 1, 8, 8, 32, 8, 7, 4, 12, 4, 7, 31, 4, 15, 5, 10, 20, 7, 3, 2, 10, 9, 2, 6, 4, 7, 4, 5, 11, 5, 8, 5, 12, 27, 11, 23, 26, 6, 2, 10, 31, 4, 6, 12, 7, 5, 14, 7, 2, 4, 3, 8, 16, 5, 7, 3, 40, 7, 7, 11, 14, 29, 16, 16, 10, 29, 4, 10, 6, 7, 6, 23, 6, 16, 20, 11, 7, 24, 8, 8, 25, 3, 2, 13, 13, 5, 15, 14, 32, 15, 8, 3, 9, 16, 4, 22, 5, 4, 12, 7, 33, 5, 4, 4, 26, 17, 1, 17, 6, 8, 21, 9, 4, 16, 6, 8, 5, 6, 4, 3, 10, 6, 5, 15, 13, 24, 5, 14, 8, 4, 4, 17, 28, 7, 5, 5, 24, 14, 5, 7, 9, 4, 15, 7, 8, 10, 11, 3, 6, 2, 19, 18, 9, 21, 6, 21, 5, 14, 27, 11, 10, 6, 3, 31, 36, 10, 4, 8, 15, 5, 15, 14, 10, 5, 7, 13, 38, 11, 10, 37, 31, 6, 22, 33, 7, 2, 15, 6, 11, 12, 7, 6, 8, 4, 4, 3, 9, 8, 22, 15, 13, 13, 3, 9, 7, 9, 3, 10, 16, 7, 24, 3, 9, 17, 3, 12, 20, 10, 2, 9, 7, 10, 6, 11, 7, 14, 7, 5, 33, 17, 5, 13, 2, 12, 11, 3, 9, 26, 2, 6, 10, 22, 5, 14, 8, 26, 5, 16, 3, 4, 3, 4, 6, 15, 10, 7, 9, 25, 6, 2, 14, 37, 6, 3, 12, 4, 26, 7, 9, 2, 14, 34, 19, 30, 9, 12, 9, 3, 22, 7, 33, 7, 10, 12, 9, 14, 7, 2, 8, 4, 14, 11, 6, 5, 2, 15, 3, 13, 20, 38, 12, 6, 7, 11, 4, 9, 18, 7, 12, 10, 8, 2, 4, 27, 10, 22, 6, 5, 20, 11, 4, 5, 3, 7, 4, 6, 7, 14, 22, 9, 15, 3, 12, 12, 10, 17, 14, 16, 17, 14, 4, 36, 5, 6, 7, 20, 10, 6, 4, 9, 6, 6, 29, 29, 7, 9, 5, 29, 15, 9, 12, 2, 23, 3, 35, 4, 10, 27, 9, 14, 12, 18, 14, 7, 6, 26, 14, 12, 7, 5, 21, 11, 38, 16, 29, 3, 8, 3, 6, 4, 5, 3, 30, 32, 23, 1, 7, 4, 5, 12, 9, 9, 27, 26, 6, 5, 26, 4, 21, 17, 2, 4, 8, 8, 3, 11, 6, 2, 3, 19, 13, 28, 10, 19, 5, 4, 31, 2, 4, 7, 3, 5, 11, 35, 2, 7, 35, 1, 14, 14, 20, 9, 6, 18, 6, 12, 3, 4, 31, 19, 8, 11, 3, 3, 11, 26, 7, 7, 20, 8, 9, 3, 10, 8, 12, 5, 9, 13, 20, 2, 23, 30, 10, 3, 7, 10, 4, 3, 1, 6, 2, 14, 14, 16, 6, 5, 4, 1, 15, 3, 2, 37, 4, 7, 10, 7, 5, 11, 4, 4, 2, 4, 4, 36, 32, 7, 8, 24, 8, 19, 10, 4, 7, 6, 10, 9, 4, 3, 5, 1, 8, 4, 26, 3, 2, 9, 18, 13, 9, 12, 7, 12, 5, 24, 7, 19, 23, 32, 28, 16, 3, 6, 7, 7, 13, 3, 20, 16, 4, 8, 8, 3, 2, 19, 27, 6, 30, 1, 11, 11, 7, 21, 2, 8, 13, 6, 11, 34, 4, 30, 9, 3, 15, 2, 3, 17, 23, 34, 10, 24, 9, 3, 23, 13, 6, 6, 11, 7, 21, 4, 24, 34, 17, 6, 4, 14, 6, 7, 5, 11, 25, 9, 7, 4, 4, 6, 26, 23, 9, 8, 1, 4, 12, 9, 6, 4, 20, 4, 3, 4, 24, 14, 9, 19, 8, 6, 5, 10, 16, 29, 9, 20, 6, 8, 13, 11, 13, 16, 28, 3, 5, 4, 5, 9, 20, 9, 1, 8, 3, 12, 11, 5, 11, 2, 13, 13, 27, 4, 21, 5, 5, 23, 4, 6, 13, 13, 10, 29, 27, 4, 20, 13, 7, 9, 10, 2, 10, 2, 8, 9, 36, 29, 12, 7, 26, 13, 14, 32, 9, 7, 13, 11, 4, 10, 8, 9, 11, 2, 4, 5, 34, 15, 2, 23, 24, 11, 2, 9, 6, 2, 24, 7, 3, 14, 7, 8, 15, 1, 2, 13, 30, 6, 7, 4, 9, 18, 17, 6, 9, 17, 5, 2, 10, 7, 9, 3, 4, 26, 7, 2, 4, 6, 5, 3, 9, 33, 10, 3, 29, 6, 10, 4, 2, 24, 23, 7, 19, 19, 14, 3, 6, 2, 6, 19, 27, 6, 2, 10, 32, 3, 10, 30, 4, 17, 7, 5, 31, 30, 8, 34, 2, 16, 9, 13, 13, 20, 5, 31, 9, 24, 22, 6, 8, 11, 29, 15, 4, 8, 24, 13, 9, 3, 23, 10, 10, 11, 19, 12, 22, 10, 2, 4, 7, 26, 31, 9, 12, 5, 8, 4, 21, 27, 7, 11, 6, 13, 2, 13, 8, 14, 9, 14, 6, 28, 3, 4, 10, 4, 16, 10, 1, 5, 14, 13, 30, 22, 8, 10, 22, 9, 6, 10, 3, 6, 6, 9, 23, 11, 5, 9, 18, 10, 7, 17, 14, 2, 34, 4, 20, 13, 16, 6, 9, 12, 5, 15, 12, 5, 8, 2, 30, 16, 4, 12, 4, 2, 2, 12, 11, 3, 9, 30, 16, 29, 7, 5, 26, 8, 9, 5, 5, 5, 7, 18, 6, 14, 11, 10, 13, 3, 9, 7, 10, 10, 18, 6, 8, 5, 19, 7, 3, 8, 8, 3, 14, 9, 5, 7, 14, 11, 28, 13, 6, 15, 5, 36, 7, 12, 3, 24, 17, 5, 6, 1, 8, 7, 8, 4, 6, 22, 27, 10, 7, 4, 3, 34, 20, 13, 9, 9, 3, 3, 8, 13, 5, 14, 2, 4, 12, 3, 3, 2, 8, 12, 2, 6, 7, 14, 8, 19, 12, 12, 15, 19, 4, 11, 6, 4, 16, 9, 5, 4, 4, 14, 28, 9, 16, 2, 19, 24, 28, 14, 12, 8, 3, 7, 7, 33, 4, 9, 6, 6, 3, 8, 18, 12, 9, 6, 6, 30, 24, 4, 9, 3, 7, 10, 10, 10, 32, 9, 26, 7, 8, 22, 27, 9, 5, 5, 18, 7, 10, 13, 31, 15, 11, 15, 9, 15, 31, 5, 3, 11, 21, 10, 23, 33, 8, 31, 10, 12, 17, 25, 15, 11, 9, 4, 10, 4, 4, 4, 4, 5, 10, 11, 5, 20, 8, 4, 4, 12, 13, 1, 14, 3, 11, 11, 3, 9, 29, 8, 8, 18, 10, 7, 3, 11, 18, 1, 15, 5, 15, 5, 12, 7, 3, 5, 6, 8, 6, 5, 17, 13, 10, 3, 13, 18, 4, 6, 8, 30, 3, 10, 9, 9, 9, 8, 11, 8, 5, 8, 19, 14, 15, 32, 13, 9, 10, 7, 13, 1, 12, 21, 15, 6, 29, 13, 5, 6, 7, 19, 7, 2, 9, 31, 10, 30, 17, 12, 10, 6, 26, 6, 6, 8, 25, 43, 17, 4, 18, 11, 20, 13, 11, 29, 3, 27, 3, 5, 11, 9, 7, 8, 2, 7, 24, 27, 6, 4, 10, 10, 12, 5, 19, 8, 7, 10, 18, 2, 9, 20, 26, 8, 15, 1, 6, 16, 6, 34, 9, 29, 28, 5, 7, 13, 6, 21, 37, 15, 7, 13, 8, 18, 6, 20, 3, 11, 3, 25, 8, 5, 9, 8, 4, 40, 10, 8, 12, 7, 5, 28, 10, 8, 7, 9, 1, 18, 11, 25, 26, 4, 4, 24, 8, 18, 13, 2, 29, 1, 11, 14, 7, 6, 10, 24, 5, 8, 1, 9, 20, 13, 5, 2, 7, 3, 9, 5, 7, 33, 4, 15, 30, 6, 8, 13, 13, 11, 19, 10, 10, 4, 1, 27, 9, 7, 31, 14, 8, 13, 1, 5, 5, 14, 4, 3, 16, 7, 13, 19, 4, 24, 4, 29, 14, 1, 23, 4, 8, 19, 4, 24, 4, 18, 4, 15, 14, 31, 18, 9, 12, 5, 15, 10, 4, 11, 4, 6, 20, 15, 18, 10, 7, 17, 5, 4, 13, 4, 7, 8, 5, 5, 9, 21, 6, 18, 14, 32, 16, 4, 8, 13, 12, 14, 16, 4, 5, 9, 8, 29, 12, 6, 11, 5, 38, 9, 5, 18, 13, 7, 29, 30, 3, 18, 2, 14, 12, 7, 6, 4, 8, 7, 9, 5, 14, 5, 5, 9, 12, 4, 20, 10, 25, 10, 14, 8, 11, 29, 7, 21, 10, 8, 17, 7, 5, 6, 3, 17, 37, 7, 8, 7, 11, 5, 31, 17, 3, 3, 17, 9, 32, 6, 31, 5, 3, 4, 3, 2, 4, 5, 3, 16, 4, 14, 14, 5, 4, 7, 5, 5, 21, 9, 8, 11, 4, 24, 4, 10, 10, 6, 9, 9, 17, 4, 4, 3, 8, 26, 10, 3, 8, 8, 11, 5, 6, 11, 11, 4, 10, 6, 10, 14, 30, 14, 19, 8, 8, 8, 8, 12, 17, 10, 4, 18, 13, 8, 1, 9, 4, 5, 14, 8, 9, 16, 17, 11, 32, 9, 6, 4, 15, 4, 12, 5, 7, 6, 5, 18, 10, 12, 10, 25, 5, 21, 4, 6, 8, 11, 2, 17, 3, 7, 3, 15, 10, 5, 6, 3, 20, 13, 7, 4, 15, 23, 10, 2, 2, 9, 5, 6, 26, 1, 13, 6, 8, 8, 10, 28, 8, 8, 5, 4, 6, 9, 6, 7, 7, 12, 17, 29, 2, 5, 13, 3, 7, 8, 4, 31, 3, 11, 19, 3, 5, 13, 5, 18, 2, 26, 3, 10, 5, 4, 10, 3, 5, 8, 12, 14, 11, 6, 16, 13, 24, 22, 12, 11, 6, 9, 28, 20, 2, 5, 5, 28, 8, 15, 14, 1, 11, 15, 31, 16, 4, 2, 8, 3, 25, 11, 5, 4, 5, 9, 4, 5, 3, 4, 6, 27, 3, 16, 2, 2, 6, 6, 1, 4, 3, 4, 5, 10, 6, 3, 1, 2, 3, 15, 6, 3, 9, 10, 10, 5, 2, 5, 2, 13, 27, 9, 18, 5, 13, 6, 2, 8, 8, 6, 4, 1, 9, 18, 10, 17, 27, 11, 2, 7, 11, 5, 21, 8, 16, 3, 2, 5, 3, 3, 4, 6, 5, 5, 10, 26, 8, 3, 15, 12, 6, 4, 29, 3, 9, 3, 9, 4, 10, 15, 10, 4, 3, 30, 8, 16, 15, 12, 33, 9, 7, 1, 3, 5, 5, 12, 7, 15, 7, 4, 21, 4, 28, 22, 18, 8, 5, 8, 18, 22, 6, 3, 11, 9, 13, 2, 8, 4, 6, 1, 7, 6, 3, 11, 10, 7, 4, 8, 13, 3, 8, 4, 2, 8, 9, 8, 7, 4, 24, 11, 4, 11, 2, 9, 17, 5, 28, 23, 32, 9, 6, 4, 10, 7, 3, 4, 4, 11, 3, 13, 6, 5, 7, 5, 3, 3, 6, 7, 19, 16, 15, 26, 3, 2, 17, 10, 29, 2, 5, 5, 2, 4, 4, 19, 12, 31, 21, 6, 4, 9, 6, 5, 7, 6, 6, 11, 7, 18, 1, 4, 5, 3, 14, 6, 5, 6, 6, 5, 4, 16, 2, 10, 33, 1, 5, 4, 15, 5, 7, 28, 27, 11, 4, 14, 14, 15, 9, 3, 13, 6, 17, 4, 6, 4, 5, 2, 15, 3, 27, 8, 10, 3, 4, 27, 2, 6, 2, 2, 6, 15, 5, 7, 16, 12, 10, 3, 27, 2, 8, 12, 4, 5, 4, 3, 9, 1, 5, 5, 4, 13, 5, 18, 6, 23, 24, 9, 13, 4, 19, 7, 14, 20, 3, 2, 12, 6, 11, 3, 10, 19, 8, 6, 11, 32, 6, 8, 16, 24, 31, 6, 10, 8, 3, 5, 6, 6, 5, 12, 4, 15, 40, 4, 10, 8, 8, 6, 10, 17, 21, 10, 14, 14, 16, 13, 5, 6, 15, 15, 7, 11, 15, 27, 11, 3, 6, 8, 11, 4, 4, 9, 5, 27, 9, 2, 5, 26, 7, 8, 6, 3, 32, 5, 4, 4, 11, 7, 4, 32, 3, 5, 17, 16, 11, 8, 18, 7, 8, 3, 3, 13, 8, 3, 19, 9, 3, 3, 5, 5, 3, 20, 11, 8, 2, 4, 5, 10, 14, 9, 7, 5, 1, 13, 14, 3, 21, 9, 3, 2, 6, 25, 22, 5, 5, 17, 2, 2, 13, 3, 8, 13, 25, 10, 3, 10, 11, 7, 11, 6, 15, 10, 5, 12, 12, 26, 4, 9, 6, 9, 6, 3, 17, 14, 23, 3, 17, 11, 26, 36, 11, 7, 15, 2, 7, 3, 13, 10, 2, 6, 7, 9, 10, 5, 3, 16, 11, 9, 12, 10, 36, 4, 10, 5, 5, 13, 9, 2, 8, 3, 24, 14, 10, 7, 8, 8, 9, 19, 5, 5, 4, 8, 5, 14, 6, 11, 5, 18, 9, 4, 6, 10, 11, 6, 5, 6, 5, 3, 7, 5, 3, 28, 4, 11, 6, 3, 7, 2, 4, 3, 26, 28, 6, 5, 6, 5, 9, 10, 5, 12, 2, 12, 17, 13, 12, 8, 26, 10, 8, 11, 7, 5, 5, 8, 5, 3, 5, 8, 4, 5, 4, 13, 3, 11, 33, 36, 8, 10, 1, 12, 2, 20, 7, 3, 4, 5, 9, 24, 7, 10, 5, 9, 8, 17, 9, 22, 2, 3, 7, 10, 6, 11, 4, 25, 2, 3, 9, 8, 29, 8, 17, 34, 11, 7, 14, 27, 8, 13, 13, 23, 7, 10, 5, 8, 15, 14, 4, 9, 4, 12, 5, 29, 6, 6, 11, 7, 6, 4, 24, 3, 8, 8, 2, 5, 3, 13, 12, 1, 19, 10, 7, 5, 8, 8, 4, 8, 2, 4, 3, 9, 9, 5, 1, 9, 17, 12, 6, 7, 8, 5, 4, 39, 15, 8, 19, 7, 25, 7, 7, 15, 6, 7, 8, 12, 2, 18, 10, 9, 10, 13, 2, 2, 28, 11, 3, 8, 4, 5, 5, 3, 6, 31, 6, 26, 2, 14, 1, 3, 11, 8, 7, 6, 6, 23, 12, 6, 14, 5, 11, 9, 10, 4, 4, 13, 18, 10, 6, 6, 9, 7, 9, 28, 2, 5, 10, 2, 6, 3, 9, 8, 1, 12, 3, 6, 8, 11, 24, 30, 1, 10, 3, 11, 11, 23, 24, 10, 2, 20, 3, 13, 7, 8, 9, 5, 6, 16, 3, 5, 11, 5, 12, 8, 27, 7, 11, 8, 8, 2, 6, 6, 7, 4, 4, 10, 13, 3, 17, 17, 7, 3, 4, 30, 10, 15, 2, 19, 4, 16, 4, 29, 3, 17, 3, 26, 23, 4, 5, 7, 9, 23, 8, 4, 3, 18, 30, 12, 13, 5, 8, 16, 10, 7, 4, 2, 12, 4, 6, 21, 10, 14, 6, 7, 10, 5, 3, 33, 7, 15, 1, 5, 5, 20, 9, 3, 5, 13, 18, 6, 10, 9, 24, 21, 7, 20, 6, 5, 13, 4, 5, 4, 5, 3, 5, 6, 4, 10, 3, 20, 24, 5, 16, 7, 11, 10, 10, 12, 2, 2, 7, 11, 14, 7, 11, 4, 3, 8, 8, 4, 17, 6, 6, 3, 6, 11, 1, 13, 11, 9, 29, 7, 8, 24, 12, 14, 5, 5, 9, 22, 6, 8, 6, 5, 3, 6, 5, 20, 9, 9, 2, 7, 13, 4, 6, 4, 4, 6, 11, 15, 5, 2, 25, 21, 5, 9, 3, 4, 37, 12, 18, 12, 6, 9, 28, 14, 3, 9, 11, 7, 7, 18, 9, 7, 3, 18, 4, 3, 3, 4, 33, 2, 11, 8, 10, 4, 5, 17, 16, 18, 1, 5, 8, 35, 10, 4, 10, 7, 9, 13, 6, 7, 3, 9, 8, 9, 6, 5, 5, 5, 14, 17, 5, 10, 8, 12, 4, 15, 12, 10, 14, 4, 4, 3, 14, 26, 19, 2, 33, 7, 3, 11, 12, 37, 6, 12, 8, 4, 9, 4, 7, 17, 6, 7, 8, 32, 22, 10, 12, 9, 18, 14, 12, 5, 15, 18, 6, 12, 7, 9, 4, 33, 3, 26, 15, 15, 11, 4, 2, 9, 5, 7, 5, 8, 8, 8, 5, 5, 3, 3, 5, 12, 8, 36, 8, 16, 5, 4, 8, 8, 2, 2, 3, 7, 9, 13, 3, 4, 4, 4, 17, 9, 3, 10, 27, 10, 5, 7, 9, 7, 10, 4, 6, 4, 5, 5, 37, 3, 8, 4, 13, 9, 6, 5, 5, 3, 14, 3, 13, 7, 10, 8, 9, 2, 4, 9, 14, 4, 2, 37, 5, 7, 2, 7, 8, 4, 3, 6, 10, 9, 10, 6, 20, 21, 13, 7, 16, 20, 4, 22, 10, 6, 1, 8, 13, 3, 4, 4, 10, 20, 9, 9, 4, 15, 6, 3, 16, 7, 4, 4, 2, 3, 3, 15, 8, 7, 4, 3, 9, 9, 2, 3, 19, 8, 5, 33, 2, 11, 4, 3, 7, 8, 20, 8, 17, 6, 3, 5, 4, 6, 15, 8, 15, 8, 3, 6, 5, 20, 6, 4, 10, 26, 5, 3, 16, 17, 11, 4, 5, 5, 19, 12, 10, 4, 14, 9, 18, 9, 7, 10, 7, 7, 12, 7, 15, 8, 10, 6, 5, 13, 10, 7, 5, 7, 4, 19, 32, 11, 10, 4, 5, 7, 18, 4, 15, 5, 4, 4, 2, 14, 2, 4, 6, 5, 7, 9, 6, 10, 3, 8, 4, 18, 3, 2, 2, 5, 3, 5, 7, 16, 5, 23, 9, 21, 10, 16, 2, 9, 3, 4, 39, 6, 5, 8, 6, 12, 29, 8, 4, 5, 8, 14, 5, 10, 10, 25, 13, 3, 4, 34, 28, 4, 12, 2, 10, 13, 18, 7, 5, 3, 16, 1, 7, 24, 5, 2, 9, 8, 18, 12, 35, 3, 11, 9, 7, 10, 3, 10, 5, 9, 13, 14, 5, 36, 21, 5, 15, 2, 5, 11, 15, 8, 9, 4, 2, 31, 7, 5, 3, 4, 19, 9, 2, 6, 7, 8, 7, 6, 22, 15, 8, 28, 7, 3, 9, 12, 5, 25, 22, 36, 12, 19, 9, 17, 5, 7, 2, 13, 32, 6, 16, 19, 19, 10, 14, 14, 11, 6, 6, 2, 6, 12, 3, 14, 6, 5, 25, 15, 10, 9, 9, 13, 13, 6, 3, 9, 12, 3, 7, 18, 4, 4, 4, 10, 12, 3, 6, 8, 3, 11, 9, 2, 5, 6, 10, 15, 4, 9, 11, 12, 13, 12, 11, 8, 4, 20, 2, 5, 12, 5, 14, 19, 6, 3, 20, 9, 16, 2, 10, 1, 4, 6, 11, 8, 9, 9, 17, 3, 12, 13, 3, 6, 17, 2, 5, 6, 12, 25, 5, 15, 15, 2, 9, 6, 14, 13, 5, 7, 9, 14, 37, 11, 8, 3, 8, 2, 6, 9, 4, 5, 12, 3, 27, 11, 2, 6, 2, 15, 6, 4, 5, 31, 3, 16, 15, 4, 15, 9, 9, 12, 19, 8, 8, 11, 37, 10, 5, 5, 18, 2, 4, 22, 6, 12, 4, 3, 9, 3, 23, 6, 4, 2, 5, 5, 7, 7, 4, 12, 2, 11, 13, 11, 7, 3, 15, 10, 3, 27, 6, 6, 3, 13, 16, 4, 24, 11, 32, 8, 6, 3, 27, 22, 5, 9, 12, 6, 9, 11, 5, 31, 2, 5, 4, 8, 12, 24, 12, 6, 10, 5, 7, 13, 14, 6, 3, 21, 12, 13, 3, 9, 7, 8, 18, 6, 23, 7, 1, 6, 14, 13, 1, 11, 7, 9, 24, 3, 3, 12, 19, 19, 20, 7, 7, 8, 4, 6, 24, 18, 18, 3, 9, 7, 21, 8, 10, 19, 4, 10, 6, 12, 13, 23, 5, 5, 4, 4, 29, 8, 9, 13, 5, 3, 15, 4, 10, 4, 6, 12, 33, 6, 12, 4, 15, 7, 6, 16, 6, 9, 4, 7, 5, 12, 5, 3, 11, 6, 7, 13, 5, 11, 5, 5, 4, 27, 31, 5, 8, 5, 7, 5, 13, 3, 10, 2, 4, 25, 7, 14, 9, 5, 5, 10, 4, 12, 3, 8, 5, 10, 14, 7, 10, 13, 3, 5, 19, 3, 28, 30, 5, 6, 4, 5, 8, 7, 5, 11, 11, 3, 15, 37, 4, 5, 9, 5, 15, 5, 9, 4, 6, 16, 12, 8, 6, 7, 26, 4, 20, 15, 3, 6, 7, 7, 3, 7, 9, 5, 5, 11, 7, 16, 2, 22, 11, 6, 8, 3, 12, 3, 19, 12, 10, 8, 11, 11, 8, 9, 20, 2, 6, 8, 8, 2, 23, 7, 15, 10, 3, 2, 6, 4, 6, 11, 6, 9, 9, 8, 6, 6, 20, 18, 3, 8, 2, 6, 9, 20, 2, 14, 7, 10, 9, 9, 4, 25, 15, 3, 5, 7, 8, 12, 9, 21, 28, 4, 6, 11, 8, 2, 7, 11, 9, 8, 8, 9, 8, 33, 4, 24, 14, 3, 12, 10, 7, 14, 6, 7, 9, 1, 6, 4, 5, 8, 4, 14, 11, 4, 9, 10, 4, 11, 9, 5, 7, 8, 8, 10, 10, 3, 5, 9, 20, 7, 10, 6, 8, 2, 10, 8, 2, 10, 14, 3, 13, 7, 9, 11, 11, 21, 2, 4, 3, 5, 8, 3, 5, 8, 5, 32, 5, 9, 3, 3, 15, 1, 8, 4, 13, 4, 4, 7, 3, 9, 8, 12, 5, 6, 5, 4, 19, 20, 2, 12, 4, 5, 4, 9, 7, 36, 2, 21, 11, 12, 14, 5, 4, 3, 3, 6, 2, 31, 4, 6, 31, 8, 6, 12, 2, 3, 4, 8, 3, 3, 12, 16, 7, 1, 5, 34, 13, 13, 3, 5, 24, 5, 9, 2, 6, 3, 8, 6, 3, 7, 6, 27, 10, 15, 10, 2, 12, 12, 13, 5, 7, 8, 8, 8, 7, 7, 10, 3, 9, 12, 5, 22, 3, 2, 2, 4, 5, 14, 3, 6, 8, 28, 8, 6, 7, 12, 3, 8, 16, 1, 8, 9, 3, 5, 2, 5, 4, 13, 5, 5, 22, 31, 4, 20, 7, 3, 5, 12, 9, 5, 15, 29, 5, 17, 7, 8, 10, 7, 8, 3, 6, 6, 14, 2, 12, 34, 2, 13, 8, 18, 3, 6, 8, 5, 6, 16, 5, 5, 2, 6, 35, 8, 8, 5, 9, 3, 16, 11, 27, 33, 9, 39, 14, 9, 14, 10, 8, 19, 15, 5, 15, 5, 5, 14, 9, 12, 6, 4, 5, 9, 13, 19, 7, 10, 24, 5, 8, 22, 3, 6, 10, 13, 8, 6, 7, 1, 25, 14, 23, 15, 6, 12, 3, 12, 13, 15, 7, 25, 4, 17, 34, 6, 7, 17, 2, 10, 7, 34, 6, 6, 12, 11, 17, 12, 11, 8, 12, 32, 11, 2, 7, 9, 3, 12, 4, 25, 1, 24, 4, 8, 10, 11, 3, 17, 21, 13, 4, 6, 4, 9, 38, 8, 2, 8, 10, 28, 22, 3, 6, 6, 14, 5, 13, 3, 12, 10, 7, 10, 8, 7, 2, 2, 2, 7, 15, 5, 8, 16, 8, 6, 6, 5, 9, 4, 13, 30, 13, 1, 11, 7, 4, 7, 13, 15, 10, 9, 4, 7, 17, 13, 7, 4, 5, 27, 15, 2, 8, 9, 4, 6, 10, 14, 7, 12, 4, 4, 10, 11, 29, 9, 2, 6, 8, 10, 23, 15, 13, 3, 8, 8, 26, 3, 11, 16, 7, 19, 7, 10, 9, 13, 24, 5, 9, 4, 10, 13, 5, 13, 29, 7, 11, 13, 8, 9, 7, 2, 7, 13, 14, 32, 6, 8, 4, 25, 11, 5, 6, 9, 1, 15, 22, 18, 8, 9, 6, 13, 8, 3, 4, 5, 8, 10, 18, 6, 6, 16, 7, 9, 7, 1, 4, 2, 5, 2, 4, 11, 15, 7, 3, 10, 9, 4, 3, 8, 13, 5, 8, 12, 3, 11, 6, 6, 22, 1, 6, 8, 9, 11, 8, 32, 6, 8, 16, 3, 12, 4, 5, 5, 7, 6, 4, 9, 9, 4, 13, 8, 5, 12, 11, 5, 3, 2, 7, 5, 3, 10, 3, 6, 9, 14, 9, 2, 11, 4, 4, 7, 2, 8, 29, 12, 11, 10, 5, 13, 7, 2, 6, 18, 12, 4, 11, 8, 9, 6, 2, 6, 26, 4, 2, 11, 4, 7, 14, 11, 4, 3, 12, 2, 3, 18, 16, 4, 21, 11, 15, 4, 7, 22, 3, 5, 22, 2, 14, 10, 6, 10, 12, 18, 6, 14, 4, 11, 8, 4, 10, 2, 7, 26, 6, 3, 5, 3, 12, 5, 6, 20, 3, 20, 3, 5, 4, 14, 20, 4, 11, 7, 16, 6, 13, 6, 22, 6, 19, 6, 3, 14, 11, 6, 13, 12, 19, 9, 2, 9, 8, 11, 45, 16, 4, 10, 5, 2, 3, 6, 8, 3, 13, 19, 10, 8, 30, 6, 13, 16, 4, 7, 22, 11, 1, 9, 2, 8, 12, 12, 5, 4, 17, 15, 3, 3, 6, 12, 15, 6, 9, 14, 4, 6, 5, 18, 11, 2, 5, 9, 4, 5, 4, 3, 8, 7, 8, 11, 7, 12, 3, 6, 16, 20, 39, 16, 16, 3, 2, 5, 18, 6, 5, 9, 8, 5, 2, 8, 15, 6, 9, 8, 5, 4, 4, 29, 9, 4, 6, 5, 6, 6, 3, 7, 15, 9, 5, 6, 8, 10, 3, 3, 3, 4, 8, 8, 18, 3, 6, 17, 3, 44, 11, 11, 8, 8, 6, 5, 7, 10, 7, 7, 2, 8, 14, 3, 7, 11, 8, 9, 7, 9, 17, 5, 12, 4, 4, 13, 19, 27, 2, 2, 4, 2, 12, 2, 15, 8, 6, 10, 4, 9, 31, 12, 15, 9, 6, 7, 1, 42, 4, 5, 14, 11, 11, 12, 4, 25, 6, 5, 31, 13, 5, 6, 2, 12, 8, 2, 27, 10, 7, 18, 6, 9, 4, 9, 9, 7, 4, 6, 20, 3, 9, 4, 1, 10, 4, 9, 5, 14, 12, 6, 4, 15, 17, 11, 2, 8, 5, 2, 10, 4, 6, 23, 8, 3, 10, 2, 14, 3, 8, 5, 8, 5, 1, 17, 11, 6, 6, 3, 8, 14, 19, 6, 5, 9, 14, 7, 18, 4, 31, 1, 25, 5, 7, 15, 19, 23, 4, 9, 8, 6, 16, 26, 4, 16, 25, 15, 16, 12, 9, 17, 2, 28, 14, 20, 20, 10, 7, 9, 7, 1, 29, 9, 10, 21, 13, 10, 18, 2, 2, 4, 5, 8, 9, 3, 4, 11, 9, 7, 8, 7, 8, 1, 12, 14, 5, 6, 3, 7, 3, 13, 6, 16, 30, 8, 3, 2, 10, 16, 5, 7, 8, 3, 2, 9, 2, 6, 23, 14, 1, 6, 4, 14, 27, 13, 5, 14, 8, 10, 19, 9, 8, 8, 9, 18, 10, 16, 2, 2, 21, 17, 13, 16, 7, 6, 33, 22, 10, 5, 8, 7, 6, 4, 3, 2, 6, 14, 7, 3, 10, 3, 4, 33, 6, 4, 8, 2, 3, 16, 6, 9, 1, 4, 14, 28, 9, 21, 11, 2, 16, 11, 6, 11, 4, 8, 5, 17, 8, 3, 2, 8, 16, 9, 24, 12, 6, 9, 14, 26, 7, 3, 5, 5, 4, 4, 4, 12, 6, 2, 2, 5, 31, 9, 3, 8, 6, 11, 6, 17, 14, 10, 3, 7, 15, 7, 7, 29, 3, 16, 4, 4, 7, 2, 6, 17, 5, 5, 5, 42, 6, 15, 4, 4, 4, 3, 3, 4, 5, 4, 18, 6, 4, 8, 23, 10, 13, 15, 14, 2, 3, 13, 4, 11, 3, 4, 13, 5, 5, 4, 3, 4, 1, 4, 3, 5, 9, 8, 7, 13, 16, 9, 7, 5, 3, 8, 5, 37, 3, 5, 11, 4, 3, 5, 7, 8, 24, 9, 9, 17, 2, 27, 18, 4, 12, 5, 19, 2, 3, 3, 2, 2, 8, 9, 4, 6, 1, 3, 3, 4, 7, 15, 10, 9, 8, 4, 7, 26, 14, 30, 7, 23, 5, 7, 21, 16, 16, 2, 19, 4, 10, 18, 2, 8, 13, 18, 4, 9, 7, 19, 5, 11, 11, 5, 10, 20, 2, 4, 5, 9, 10, 3, 5, 14, 11, 13, 26, 5, 10, 4, 4, 5, 10, 24, 10, 6, 19, 15, 3, 15, 9, 2, 31, 5, 5, 8, 4, 7, 8, 22, 6, 2, 2, 11, 12, 3, 12, 23, 22, 9, 6, 21, 2, 9, 18, 3, 7, 10, 9, 3, 7, 17, 8, 11, 6, 3, 8, 13, 8, 6, 8, 9, 6, 25, 5, 8, 27, 37, 5, 11, 3, 7, 3, 26, 31, 6, 8, 9, 20, 6, 3, 15, 14, 4, 12, 5, 4, 15, 7, 11, 8, 8, 8, 7, 17, 14, 1, 10, 31, 12, 15, 7, 33, 8, 11, 8, 6, 36, 10, 9, 8, 4, 3, 13, 6, 14, 24, 7, 5, 23, 3, 10, 4, 14, 21, 16, 9, 11, 10, 5, 9, 5, 7, 3, 6, 3, 12, 7, 3, 14, 25, 3, 13, 9, 5, 13, 22, 5, 6, 3, 16, 10, 4, 4, 15, 7, 3, 11, 1, 5, 36, 25, 21, 3, 22, 5, 4, 9, 12, 2, 4, 16, 14, 3, 5, 4, 2, 2, 40, 10, 14, 9, 3, 12, 14, 5, 2, 7, 13, 3, 2, 8, 7, 6, 25, 13, 7, 6, 7, 7, 4, 9, 15, 12, 10, 3, 33, 10, 4, 6, 13, 10, 16, 1, 6, 27, 2, 15, 11, 12, 7, 8, 7, 9, 19, 3, 7, 2, 22, 4, 3, 20, 7, 4, 5, 12, 8, 2, 9, 1, 6, 9, 5, 11, 9, 4, 13, 3, 2, 28, 8, 7, 18, 11, 25, 13, 16, 12, 4, 16, 5, 6, 9, 5, 4, 7, 5, 3, 10, 13, 11, 4, 25, 14, 5, 11, 10, 3, 8, 4, 8, 2, 4, 3, 7, 6, 8, 8, 22, 5, 9, 6, 4, 3, 7, 4, 4, 6, 22, 9, 3, 4, 19, 10, 6, 3, 9, 19, 18, 5, 4, 11, 7, 5, 4, 11, 16, 7, 11, 6, 11, 4, 3, 12, 14, 5, 12, 14, 6, 4, 7, 11, 14, 5, 6, 3, 3, 16, 11, 3, 13, 3, 5, 4, 13, 3, 8, 5, 31, 3, 4, 6, 6, 2, 26, 3, 7, 4, 2, 10, 23, 32, 6, 7, 8, 7, 6, 5, 11, 5, 5, 18, 5, 7, 9, 3, 14, 6, 6, 5, 13, 2, 7, 13, 6, 3, 10, 3, 14, 16, 12, 12, 2, 6, 7, 6, 4, 15, 8, 16, 14, 3, 10, 20, 8, 3, 28, 16, 8, 35, 2, 7, 9, 6, 2, 7, 7, 2, 10, 6, 3, 5, 9, 4, 2, 3, 16, 3, 8, 17, 11, 12, 19, 17, 9, 20, 8, 2, 6, 6, 27, 5, 8, 4, 2, 3, 11, 5, 7, 12, 3, 10, 13, 9, 10, 7, 12, 13, 8, 9, 5, 6, 17, 14, 7, 9, 2, 12, 16, 9, 11, 4, 11, 4, 12, 10, 5, 5, 3, 8, 4, 4, 2, 4, 30, 15, 13, 8, 27, 3, 5, 16, 7, 12, 21, 5, 10, 8, 24, 8, 11, 15, 2, 1, 2, 11, 7, 8, 9, 9, 2, 3, 10, 9, 15, 3, 8, 30, 27, 13, 2, 30, 7, 12, 4, 16, 7, 2, 30, 3, 13, 2, 7, 7, 8, 11, 20, 6, 15, 16, 4, 15, 10, 15, 6, 6, 2, 7, 16, 12, 8, 11, 9, 9, 2, 4, 5, 18, 4, 4, 7, 3, 5, 3, 3, 9, 8, 3, 3, 8, 4, 4, 3, 19, 9, 12, 14, 4, 13, 4, 3, 8, 3, 4, 8, 6, 4, 4, 5, 14, 6, 10, 8, 21, 3, 3, 35, 23, 34, 15, 7, 6, 3, 21, 4, 8, 9, 19, 3, 4, 3, 6, 3, 2, 34, 9, 14, 8, 2, 18, 6, 24, 8, 9, 16, 10, 7, 7, 2, 6, 2, 9, 35, 6, 9, 5, 7, 9, 8, 6, 4, 9, 8, 8, 2, 10, 8, 7, 5, 11, 17, 2, 7, 14, 5, 12, 4, 9, 4, 13, 10, 2, 3, 6, 3, 5, 2, 8, 13, 13, 9, 3, 12, 5, 15, 3, 8, 4, 9, 7, 9, 16, 2, 12, 13, 35, 4, 8, 9, 3, 4, 38, 6, 6, 3, 7, 5, 4, 7, 2, 15, 5, 6, 9, 16, 8, 17, 7, 14, 5, 10, 15, 4, 2, 7, 7, 5, 7, 3, 5, 3, 4, 4, 3, 12, 2, 5, 7, 5, 13, 25, 7, 15, 1, 15, 15, 2, 14, 3, 5, 9, 9, 21, 4, 2, 6, 9, 3, 3, 29, 6, 12, 7, 22, 4, 41, 4, 10, 23, 7, 10, 38, 14, 4, 5, 5, 4, 1, 3, 5, 11, 8, 4, 4, 24, 22, 9, 10, 20, 28, 3, 6, 5, 20, 4, 6, 8, 7, 18, 5, 9, 28, 2, 3, 7, 15, 5, 5, 15, 2, 18, 1, 12, 21, 6, 11, 6, 13, 3, 1, 6, 2, 5, 3, 8, 33, 2, 6, 18, 4, 2, 13, 2, 9, 5, 3, 23, 6, 14, 8, 35, 3, 11, 1, 6, 23, 7, 5, 4, 13, 15, 4, 13, 5, 5, 4, 6, 9, 3, 5, 2, 9, 4, 10, 12, 7, 27, 24, 12, 8, 5, 8, 9, 9, 10, 6, 15, 10, 20, 14, 13, 5, 11, 3, 3, 19, 11, 6, 8, 16, 7, 4, 9, 6, 3, 5, 6, 8, 5, 21, 12, 6, 4, 8, 4, 2, 10, 7, 7, 6, 9, 5, 16, 21, 8, 9, 4, 30, 11, 13, 5, 5, 3, 2, 24, 7, 13, 8, 3, 10, 7, 4, 9, 3, 3, 8, 15, 14, 14, 10, 4, 12, 3, 3, 8, 13, 8, 18, 5, 2, 12, 2, 8, 8, 12, 5, 5, 5, 19, 5, 8, 5, 19, 11, 5, 5, 7, 4, 10, 4, 8, 4, 4, 13, 9, 10, 4, 3, 6, 4, 14, 11, 14, 21, 3, 31, 9, 6, 4, 12, 5, 39, 11, 5, 7, 25, 10, 26, 1, 19, 13, 3, 9, 4, 23, 21, 6, 9, 4, 3, 36, 2, 5, 16, 6, 7, 4, 8, 6, 9, 6, 8, 14, 3, 4, 16, 3, 10, 8, 2, 7, 13, 5, 14, 14, 7, 4, 6, 14, 2, 4, 9, 17, 4, 6, 15, 4, 12, 14, 6, 8, 7, 4, 10, 34, 30, 8, 5, 5, 3, 17, 7, 12, 14, 16, 16, 4, 2, 5, 15, 1, 8, 2, 28, 5, 6, 4, 11, 40, 7, 6, 2, 8, 8, 19, 4, 6, 4, 30, 10, 6, 15, 8, 15, 17, 13, 5, 2, 15, 17, 5, 17, 33, 8, 11, 2, 4, 7, 6, 6, 2, 14, 10, 11, 4, 14, 14, 8, 13, 2, 14, 4, 4, 2, 3, 3, 2, 5, 25, 20, 23, 7, 4, 38, 2, 22, 9, 16, 11, 4, 7, 2, 5, 5, 20, 9, 10, 5, 15, 5, 6, 33, 9, 7, 3, 11, 5, 6, 11, 7, 45, 6, 2, 3, 13, 13, 6, 7, 29, 21, 5, 5, 5, 7, 2, 5, 17, 7, 10, 10, 8, 9, 29, 15, 12, 9, 7, 11, 11, 2, 4, 19, 7, 15, 12, 3, 7, 6, 23, 2, 19, 11, 12, 17, 14, 28, 8, 9, 5, 11, 4, 16, 17, 1, 11, 3, 25, 32, 16, 25, 11, 5, 4, 12, 5, 4, 33, 9, 9, 9, 8, 13, 4, 14, 13, 4, 10, 7, 7, 10, 27, 9, 20, 2, 21, 9, 3, 12, 9, 1, 5, 7, 5, 21, 5, 10, 5, 8, 10, 15, 6, 4, 10, 33, 5, 9, 3, 5, 4, 4, 7, 4, 2, 20, 11, 3, 15, 11, 12, 7, 25, 16, 7, 7, 16, 11, 9, 16, 9, 6, 11, 9, 8, 6, 3, 4, 8, 4, 5, 5, 5, 18, 7, 4, 6, 8, 12, 8, 15, 7, 4, 14, 8, 15, 4, 30, 7, 7, 7, 6, 7, 2, 15, 16, 2, 27, 5, 5, 26, 8, 12, 5, 7, 16, 21, 1, 13, 23, 27, 10, 8, 8, 25, 14, 16, 19, 5, 3, 20, 27, 9, 12, 4, 6, 3, 14, 22, 7, 3, 8, 2, 36, 6, 9, 9, 4, 10, 7, 6, 5, 5, 9, 2, 8, 2, 2, 5, 19, 4, 3, 1, 3, 13, 5, 4, 4, 4, 13, 7, 12, 10, 19, 18, 6, 17, 11, 9, 24, 5, 8, 16, 10, 25, 7, 7, 3, 5, 9, 3, 9, 30, 6, 6, 7, 3, 10, 6, 16, 16, 8, 13, 17, 2, 6, 4, 6, 10, 5, 6, 12, 12, 4, 16, 13, 2, 5, 9, 12, 2, 10, 6, 12, 14, 14, 3, 11, 10, 5, 4, 17, 18, 6, 5, 6, 7, 8, 9, 8, 5, 8, 10, 3, 4, 15, 23, 5, 17, 17, 16, 1, 19, 25, 5, 15, 4, 5, 9, 10, 6, 3, 12, 10, 5, 20, 5, 4, 8, 17, 3, 9, 3, 3, 10, 2, 6, 7, 1, 4, 4, 7, 13, 21, 2, 9, 3, 9, 3, 3, 13, 3, 2, 8, 5, 4, 16, 10, 6, 3, 2, 12, 5, 12, 8, 13, 6, 5, 4, 19, 6, 1, 19, 3, 3, 12, 1, 9, 5, 19, 27, 3, 8, 5, 15, 12, 15, 7, 2, 13, 23, 7, 7, 23, 9, 10, 9, 24, 13, 7, 11, 7, 4, 2, 14, 3, 7, 8, 3, 2, 31, 41, 6, 9, 1, 8, 6, 15, 2, 9, 17, 9, 11, 7, 2, 3, 27, 5, 19, 3, 5, 29, 9, 15, 18, 1, 13, 17, 9, 6, 12, 11, 5, 11, 8, 8, 13, 6, 3, 3, 4, 7, 7, 11, 8, 9, 4, 9, 11, 7, 3, 9, 8, 7, 8, 24, 3, 30, 1, 8, 3, 14, 7, 15, 6, 8, 5, 11, 11, 4, 35, 4, 7, 15, 34, 6, 3, 6, 24, 7, 27, 10, 12, 2, 5, 13, 7, 9, 6, 12, 5, 4, 8, 3, 6, 4, 10, 11, 7, 9, 2, 14, 6, 2, 5, 8, 3, 6, 6, 11, 18, 8, 11, 12, 5, 5, 10, 12, 31, 8, 3, 8, 9, 3, 4, 6, 22, 4, 8, 8, 4, 4, 15, 7, 14, 27, 5, 2, 9, 7, 12, 7, 4, 15, 3, 10, 11, 6, 12, 15, 3, 14, 17, 10, 7, 9, 5, 31, 3, 6, 7, 8, 6, 3, 14, 5, 10, 6, 2, 6, 6, 5, 5, 7, 5, 30, 14, 6, 8, 15, 3, 31, 12, 5, 20, 4, 6, 11, 6, 3, 25, 11, 7, 2, 7, 19, 4, 15, 14, 4, 4, 6, 29, 6, 12, 9, 16, 8, 30, 5, 29, 11, 21, 10, 10, 12, 13, 2, 6, 11, 10, 7, 2, 9, 3, 9, 17, 16, 2, 4, 6, 3, 8, 5, 2, 6, 3, 3, 3, 9, 18, 10, 5, 5, 13, 8, 5, 13, 9, 9, 6, 5, 7, 9, 1, 13, 9, 5, 11, 9, 2, 8, 8, 23, 7, 9, 9, 15, 2, 5, 3, 12, 19, 15, 27, 2, 9, 1, 6, 8, 3, 11, 6, 4, 5, 5, 8, 13, 13, 3, 34, 4, 4, 18, 14, 3, 16, 6, 6, 24, 22, 6, 4, 6, 6, 7, 23, 20, 1, 3, 8, 26, 13, 2, 2, 6, 16, 3, 3, 7, 16, 2, 7, 7, 2, 28, 9, 11, 10, 9, 26, 6, 4, 7, 29, 1, 5, 20, 7, 6, 6, 11, 1, 12, 22, 5, 3, 11, 1, 17, 5, 4, 7, 5, 2, 7, 9, 13, 2, 14, 1, 8, 10, 10, 4, 8, 9, 12, 6, 2, 20, 3, 6, 4, 13, 2, 23, 10, 5, 1, 5, 2, 9, 5, 8, 13, 6, 7, 3, 4, 13, 3, 7, 24, 35, 4, 13, 5, 2, 11, 8, 6, 20, 1, 10, 4, 7, 3, 16, 13, 10, 22, 4, 3, 8, 5, 4, 8, 20, 10, 18, 4, 12, 7, 6, 3, 4, 13, 6, 16, 9, 7, 7, 5, 10, 7, 4, 6, 5, 17, 3, 6, 3, 11, 7, 14, 18, 19, 15, 9, 7, 10, 26, 3, 8, 8, 5, 6, 20, 5, 3, 6, 9, 4, 17, 6, 3, 7, 34, 8, 2, 11, 13, 11, 5, 7, 3, 9, 10, 3, 2, 8, 3, 26, 29, 27, 7, 25, 4, 36, 20, 6, 9, 4, 32, 4, 13, 4, 3, 22, 18, 8, 10, 4, 5, 10, 8, 8, 12, 9, 11, 8, 4, 4, 7, 4, 5, 15, 8, 22, 7, 5, 5, 13, 5, 5, 4, 13, 24, 2, 1, 4, 5, 4, 8, 7, 4, 5, 11, 7, 7, 5, 40, 9, 3, 5, 6, 12, 13, 6, 1, 3, 11, 14, 6, 16, 10, 2, 6, 5, 9, 11, 7, 5, 3, 8, 10, 2, 7, 6, 8, 5, 3, 7, 16, 4, 3, 8, 10, 10, 4, 3, 17, 28, 10, 25, 15, 20, 2, 3, 3, 11, 6, 2, 22, 25, 8, 6, 10, 8, 5, 22, 8, 8, 11, 19, 15, 17, 11, 6, 3, 9, 9, 6, 7, 13, 5, 8, 4, 10, 17, 3, 8, 9, 17, 14, 12, 9, 10, 10, 2, 20, 5, 11, 7, 7, 23, 2, 9, 7, 8, 10, 21, 5, 4, 6, 9, 5, 5, 10, 10, 5, 4, 1, 9, 35, 15, 32, 6, 3, 7, 6, 4, 4, 6, 13, 5, 9, 10, 14, 25, 2, 4, 5, 3, 9, 4, 28, 4, 14, 9, 22, 5, 5, 8, 2, 11, 15, 8, 6, 8, 11, 9, 23, 4, 7, 1, 9, 35, 16, 4, 20, 4, 14, 3, 7, 2, 7, 13, 11, 3, 36, 13, 23, 13, 18, 10, 4, 8, 11, 8, 10, 5, 2, 12, 8, 6, 15, 9, 2, 3, 19, 3, 8, 3, 9, 29, 9, 14, 12, 8, 10, 4, 9, 4, 7, 9, 7, 5, 7, 27, 3, 30, 7, 24, 5, 10, 18, 14, 13, 7, 24, 4, 2, 8, 12, 29, 1, 6, 10, 6, 9, 2, 12, 32, 11, 3, 2, 8, 9, 5, 22, 14, 31, 6, 13, 10, 6, 13, 5, 16, 3, 2, 28, 16, 9, 7, 7, 32, 27, 8, 5, 23, 18, 4, 9, 5, 2, 5, 7, 31, 13, 29, 12, 4, 38, 3, 11, 2, 5, 3, 2, 5, 13, 13, 2, 3, 27, 14, 19, 4, 4, 26, 3, 5, 3, 2, 6, 23, 2, 29, 7, 11, 10, 5, 12, 6, 12, 11, 12, 20, 4, 23, 2, 4, 3, 2, 1, 10, 29, 2, 4, 5, 8, 3, 3, 9, 1, 12, 7, 12, 2, 11, 29, 9, 16, 7, 4, 7, 6, 9, 27, 12, 5, 14, 2, 8, 3, 11, 2, 4, 2, 20, 2, 7, 11, 3, 9, 1, 3, 17, 12, 7, 39, 5, 29, 5, 10, 9, 2, 2, 32, 9, 3, 12, 2, 27, 39, 6, 3, 4, 8, 8, 2, 9, 7, 6, 6, 1, 6, 34, 2, 13, 7, 20, 18, 5, 6, 12, 13, 11, 46, 5, 14, 8, 5, 16, 9, 12, 7, 26, 11, 9, 5, 4, 13, 2, 16, 5, 11, 2, 3, 7, 10, 15, 5, 10, 2, 6, 9, 8, 11, 3, 7, 11, 11, 7, 3, 4, 24, 7, 2, 8, 17, 12, 21, 6, 12, 13, 12, 20, 24, 12, 5, 4, 19, 16, 2, 4, 5, 18, 5, 8, 36, 10, 6, 2, 10, 7, 6, 11, 18, 2, 23, 3, 3, 10, 6, 2, 2, 19, 4, 9, 2, 8, 8, 4, 12, 3, 12, 11, 6, 12, 3, 5, 8, 4, 2, 9, 33, 5, 9, 27, 7, 5, 1, 4, 6, 3, 5, 26, 14, 3, 10, 5, 8, 7, 6, 16, 2, 10, 7, 5, 3, 9, 32, 5, 5, 16, 6, 15, 18, 10, 14, 3, 14, 26, 10, 9, 9, 19, 21, 2, 10, 3, 10, 10, 9, 2, 32, 7, 4, 17, 10, 3, 11, 9, 4, 8, 16, 7, 7, 1, 26, 11, 5, 9, 4, 6, 5, 4, 1, 3, 3, 4, 6, 6, 14, 26, 5, 15, 7, 3, 9, 3, 3, 17, 4, 5, 6, 12, 14, 8, 8, 3, 13, 9, 11, 5, 2, 8, 29, 6, 24, 13, 20, 2, 3, 10, 23, 2, 3, 7, 8, 4, 1, 4, 4, 7, 4, 15, 11, 7, 9, 8, 3, 3, 20, 10, 3, 5, 5, 7, 5, 7, 7, 4, 9, 14, 8, 4, 1, 11, 4, 4, 29, 5, 5, 2, 10, 5, 3, 3, 8, 9, 6, 10, 39, 1, 7, 2, 6, 25, 19, 5, 6, 5, 9, 8, 5, 8, 5, 4, 2, 10, 19, 27, 14, 3, 3, 10, 1, 6, 5, 8, 4, 5, 4, 17, 6, 26, 2, 19, 4, 8, 4, 2, 27, 7, 13, 32, 7, 4, 12, 3, 2, 5, 8, 4, 11, 2, 15, 2, 10, 4, 4, 3, 14, 5, 10, 8, 6, 11, 18, 7, 7, 2, 3, 22, 10, 11, 14, 11, 3, 10, 24, 25, 6, 4, 37, 13, 14, 5, 11, 5, 11, 2, 7, 4, 4, 4, 4, 13, 4, 3, 2, 3, 16, 34, 4, 5, 30, 7, 18, 13, 13, 28, 3, 10, 3, 3, 15, 5, 7, 3, 5, 9, 7, 5, 28, 3, 6, 10, 8, 4, 7, 3, 5, 6, 2, 13, 6, 2, 2, 10, 4, 8, 17, 32, 4, 9, 4, 12, 4, 9, 3, 3, 17, 5, 4, 3, 35, 9, 6, 4, 2, 9, 7, 1, 19, 12, 4, 11, 14, 34, 3, 5, 4, 8, 6, 5, 2, 8, 4, 15, 30, 13, 5, 2, 19, 11, 3, 7, 3, 4, 3, 8, 3, 9, 12, 7, 20, 6, 9, 19, 7, 10, 7, 6, 10, 5, 5, 13, 12, 10, 15, 4, 3, 13, 9, 2, 9, 13, 35, 7, 6, 15, 14, 9, 7, 15, 9, 11, 10, 9, 7, 7, 8, 8, 4, 11, 28, 8, 8, 5, 9, 4, 13, 7, 7, 13, 3, 30, 17, 4, 3, 24, 5, 3, 8, 6, 29, 8, 32, 7, 9, 2, 5, 13, 6, 12, 11, 4, 19, 11, 5, 4, 5, 4, 15, 29, 10, 20, 10, 4, 13, 7, 10, 2, 5, 3, 29, 3, 15, 12, 5, 10, 1, 5, 7, 17, 4, 13, 11, 2, 4, 3, 6, 25, 4, 12, 4, 7, 5, 2, 6, 12, 12, 6, 10, 6, 3, 8, 3, 2, 1, 10, 8, 7, 5, 10, 6, 12, 6, 21, 1, 4, 6, 9, 23, 9, 8, 6, 5, 17, 4, 19, 2, 12, 2, 2, 4, 4, 10, 9, 23, 2, 7, 2, 7, 2, 3, 3, 2, 16, 23, 7, 9, 16, 11, 7, 8, 6, 2, 3, 5, 6, 15, 13, 3, 17, 5, 4, 4, 3, 2, 4, 6, 6, 27, 5, 2, 6, 5, 28, 28, 29, 5, 27, 4, 24, 3, 16, 5, 2, 14, 6, 7, 6, 7, 3, 27, 12, 11, 3, 7, 3, 4, 7, 11, 13, 2, 8, 3, 14, 28, 16, 3, 2, 3, 18, 3, 2, 10, 22, 3, 19, 10, 10, 12, 5, 2, 9, 20, 6, 3, 5, 3, 14, 7, 3, 7, 23, 6, 18, 27, 22, 3, 4, 6, 13, 11, 8, 15, 15, 13, 8, 5, 8, 10, 6, 14, 2, 18, 6, 11, 3, 6, 29, 5, 8, 14, 15, 5, 4, 12, 21, 12, 11, 15, 2, 20, 13, 33, 8, 10, 10, 5, 5, 9, 7, 13, 34, 7, 8, 9, 7, 5, 8, 4, 10, 8, 4, 5, 2, 7, 5, 30, 16, 11, 9, 15, 17, 4, 2, 21, 17, 16, 9, 2, 7, 10, 7, 6, 2, 9, 4, 5, 18, 8, 10, 15, 6, 19, 2, 28, 4, 7, 34, 7, 2, 2, 19, 28, 7, 7, 26, 6, 5, 11, 15, 8, 25, 13, 9, 13, 10, 4, 14, 7, 5, 4, 2, 2, 24, 3, 2, 1, 4, 2, 14, 2, 7, 10, 3, 9, 4, 8, 8, 5, 5, 6, 25, 10, 28, 14, 7, 10, 4, 6, 8, 7, 14, 32, 26, 10, 2, 9, 6, 14, 21, 27, 13, 2, 5, 4, 16, 10, 7, 2, 3, 8, 33, 9, 29, 5, 7, 6, 25, 5, 36, 39, 17, 7, 2, 11, 4, 8, 11, 2, 3, 13, 8, 8, 13, 3, 4, 3, 20, 9, 10, 12, 2, 7, 26, 15, 5, 4, 11, 12, 10, 3, 6, 9, 5, 2, 9, 12, 3, 4, 11, 5, 18, 14, 7, 20, 7, 12, 8, 8, 6, 2, 12, 7, 2, 8, 20, 15, 2, 37, 9, 4, 2, 10, 5, 25, 14, 3, 21, 9, 8, 5, 3, 5, 11, 3, 3, 9, 14, 25, 4, 4, 10, 9, 7, 6, 6, 7, 2, 8, 14, 11, 30, 2, 4, 9, 10, 6, 22, 2, 4, 29, 9, 8, 9, 10, 4, 11, 5, 7, 7, 18, 11, 6, 6, 6, 7, 4, 4, 16, 5, 2, 9, 6, 3, 4, 13, 6, 8, 5, 7, 14, 9, 14, 12, 11, 3, 7, 6, 10, 7, 10, 7, 6, 5, 6, 4, 8, 3, 4, 21, 13, 7, 15, 11, 29, 4, 5, 26, 11, 5, 9, 2, 10, 17, 4, 4, 6, 4, 6, 8, 3, 19, 4, 29, 14, 2, 3, 9, 4, 2, 4, 2, 9, 4, 11, 13, 5, 4, 7, 26, 1, 7, 18, 5, 3, 6, 9, 14, 2, 3, 16, 4, 21, 11, 4, 4, 6, 8, 6, 7, 6, 32, 11, 1, 22, 6, 4, 11, 6, 32, 4, 4, 3, 17, 20, 7, 5, 6, 2, 20, 5, 7, 30, 6, 2, 16, 5, 11, 5, 23, 14, 9, 5, 8, 2, 4, 7, 10, 6, 6, 8, 4, 4, 11, 2, 20, 6, 7, 22, 13, 11, 5, 11, 17, 10, 4, 17, 7, 3, 11, 3, 7, 5, 2, 9, 6, 7, 14, 15, 4, 11, 32, 21, 6, 4, 28, 3, 3, 7, 2, 11, 13, 5, 2, 4, 16, 13, 5, 12, 14, 7, 6, 15, 27, 3, 6, 6, 15, 14, 4, 12, 14, 9, 21, 3, 7, 12, 5, 8, 8, 4, 6, 3, 7, 4, 22, 25, 7, 10, 3, 6, 8, 39, 8, 17, 10, 9, 6, 10, 10, 7, 9, 4, 8, 5, 6, 3, 13, 18, 6, 4, 4, 3, 7, 6, 19, 7, 9, 5, 13, 14, 4, 10, 20, 5, 8, 6, 12, 10, 7, 2, 12, 7, 10, 8, 23, 7, 4, 15, 7, 4, 3, 5, 3, 6, 8, 19, 7, 8, 30, 10, 8, 22, 7, 5, 9, 3, 6, 16, 8, 5, 2, 7, 6, 10, 6, 7, 9, 12, 27, 8, 6, 8, 12, 35, 4, 8, 9, 13, 25, 8, 4, 5, 12, 7, 12, 2, 13, 7, 35, 4, 2, 24, 11, 8, 4, 20, 10, 19, 4, 22, 7, 10, 15, 8, 12, 5, 10, 5, 9, 10, 9, 10, 5, 20, 4, 2, 6, 4, 4, 3, 7, 9, 7, 13, 8, 10, 4, 5, 5, 3, 6, 18, 13, 14, 21, 5, 15, 5, 9, 3, 5, 4, 11, 2, 8, 8, 22, 14, 16, 7, 11, 10, 14, 11, 6, 31, 8, 12, 9, 34, 9, 6, 7, 4, 6, 3, 30, 10, 15, 2, 11, 15, 7, 4, 9, 10, 9, 7, 6, 1, 3, 16, 4, 6, 10, 13, 12, 8, 7, 5, 13, 11, 2, 2, 10, 8, 7, 3, 5, 6, 16, 6, 2, 4, 15, 4, 5, 8, 3, 2, 8, 10, 4, 39, 8, 21, 3, 11, 24, 3, 9, 9, 1, 23, 4, 7, 7, 4, 7, 3, 4, 4, 26, 21, 11, 11, 11, 6, 11, 13, 4, 5, 3, 6, 4, 7, 9, 13, 3, 10, 9, 3, 13, 21, 12, 7, 8, 21, 9, 11, 3, 14, 8, 19, 4, 4, 8, 5, 6, 9, 4, 7, 25, 4, 2, 5, 6, 6, 6, 3, 13, 4, 2, 19, 18, 14, 10, 7, 7, 5, 21, 9, 19, 8, 5, 5, 18, 13, 8, 21, 21, 5, 8, 10, 10, 9, 12, 7, 16, 5, 4, 3, 9, 5, 5, 1, 3, 4, 25, 4, 5, 3, 5, 15, 2, 2, 21, 8, 8, 9, 9, 9, 6, 3, 12, 4, 7, 11, 9, 3, 26, 3, 22, 3, 5, 6, 8, 21, 5, 2, 7, 22, 4, 32, 13, 2, 9, 2, 4, 4, 11, 7, 15, 27, 6, 11, 8, 14, 20, 14, 6, 8, 12, 8, 3, 22, 14, 3, 11, 6, 11, 9, 4, 10, 3, 9, 11, 4, 23, 5, 22, 11, 6, 8, 12, 2, 4, 12, 6, 11, 7, 2, 7, 10, 15, 8, 12, 4, 5, 9, 23, 7, 9, 4, 20, 5, 8, 39, 10, 3, 5, 22, 11, 9, 3, 3, 11, 24, 9, 13, 19, 3, 5, 6, 7, 11, 3, 2, 5, 11, 8, 8, 17, 10, 5, 1, 17, 13, 13, 16, 6, 5, 6, 47, 6, 29, 5, 2, 7, 3, 2, 10, 7, 10, 39, 3, 14, 2, 4, 9, 8, 5, 7, 4, 12, 9, 9, 2, 5, 4, 4, 31, 3, 9, 3, 10, 5, 7, 11, 4, 3, 5, 32, 5, 3, 33, 8, 4, 4, 4, 20, 14, 7, 7, 6, 25, 12, 6, 9, 12, 19, 2, 8, 30, 26, 9, 11, 2, 1, 13, 19, 35, 4, 8, 3, 8, 7, 25, 3, 37, 24, 27, 2, 5, 11, 5, 8, 15, 6, 10, 7, 8, 2, 6, 4, 2, 5, 6, 2, 15, 10, 23, 7, 5, 30, 8, 3, 33, 7, 7, 5, 11, 9, 16, 4, 2, 26, 6, 5, 4, 11, 15, 33, 10, 7, 5, 12, 8, 6, 3, 39, 3, 4, 7, 4, 6, 15, 7, 2, 6, 22, 7, 19, 3, 22, 8, 4, 36, 7, 12, 10, 9, 6, 5, 3, 2, 3, 14, 5, 10, 2, 12, 3, 12, 9, 3, 8, 11, 4, 11, 10, 4, 14, 11, 6, 9, 7, 11, 10, 3, 4, 9, 6, 6, 8, 16, 3, 4, 11, 5, 3, 5, 18, 5, 12, 36, 4, 2, 8, 3, 6, 11, 6, 9, 11, 11, 2, 9, 6, 11, 7, 7, 2, 2, 11, 2, 7, 9, 9, 29, 12, 18, 5, 23, 8, 7, 5, 6, 5, 3, 21, 6, 4, 7, 5, 11, 2, 17, 2, 10, 11, 9, 17, 33, 32, 7, 4, 10, 14, 6, 7, 7, 7, 3, 5, 22, 3, 12, 6, 14, 10, 6, 17, 7, 2, 4, 23, 3, 7, 11, 2, 6, 4, 6, 10, 9, 4, 3, 5, 6, 12, 13, 9, 3, 6, 3, 3, 5, 14, 3, 8, 22, 27, 32, 2, 9, 27, 27, 10, 2, 2, 11, 13, 33, 16, 17, 5, 3, 5, 16, 2, 5, 2, 2, 14, 9, 16, 17, 34, 13, 4, 7, 6, 2, 8, 3, 12, 29, 12, 27, 9, 4, 35, 10, 30, 6, 6, 3, 25, 20, 8, 5, 9, 3, 8, 10, 9, 3, 2, 3, 18, 7, 5, 14, 7, 27, 7, 5, 3, 3, 6, 8, 9, 4, 12, 8, 5, 5, 2, 5, 4, 10, 14, 13, 4, 18, 2, 14, 2, 11, 18, 9, 2, 4, 6, 3, 6, 9, 6, 3, 3, 12, 4, 7, 6, 14, 8, 5, 4, 10, 4, 4, 10, 30, 10, 9, 6, 4, 27, 13, 31, 6, 19, 2, 6, 10, 4, 17, 31, 9, 15, 3, 8, 8, 9, 15, 9, 5, 17, 12, 10, 4, 14, 7, 12, 7, 11, 4, 3, 13, 29, 2, 20, 3, 2, 6, 11, 9, 7, 4, 3, 3, 6, 10, 5, 3, 10, 13, 7, 11, 4, 20, 5, 2, 24, 6, 8, 5, 3, 8, 7, 7, 10, 9, 8, 4, 9, 4, 5, 15, 3, 2, 20, 3, 8, 11, 24, 3, 9, 18, 11, 6, 6, 13, 14, 15, 9, 13, 3, 2, 6, 2, 6, 4, 11, 4, 19, 3, 6, 3, 18, 8, 11, 7, 13, 7, 8, 4, 13, 3, 10, 7, 29, 4, 2, 4, 3, 27, 2, 14, 7, 10, 5, 10, 11, 13, 27, 3, 4, 16, 5, 7, 7, 8, 4, 7, 24, 16, 9, 3, 9, 3, 5, 3, 6, 4, 4, 4, 8, 5, 6, 4, 13, 14, 11, 2, 4, 2, 6, 3, 7, 6, 16, 2, 7, 6, 11, 14, 5, 19, 2, 5, 18, 2, 8, 12, 8, 9, 3, 10, 3, 17, 8, 7, 18, 25, 6, 10, 4, 3, 4, 5, 15, 8, 7, 8, 3, 6, 2, 10, 15, 7, 16, 5, 11, 3, 8, 19, 3, 10, 5, 2, 16, 7, 6, 7, 28, 16, 14, 34, 9, 15, 7, 4, 4, 15, 11, 22, 10, 10, 3, 9, 13, 18, 10, 19, 17, 6, 10, 7, 2, 7, 34, 12, 8, 15, 10, 5, 2, 4, 14, 16, 8, 3, 17, 15, 9, 4, 9, 12, 3, 5, 5, 4, 19, 31, 9, 18, 16, 4, 5, 3, 9, 17, 4, 11, 11, 3, 17, 24, 9, 4, 2, 13, 30, 9, 4, 7, 3, 9, 4, 3, 8, 11, 3, 8, 7, 6, 13, 10, 9, 9, 5, 4, 9, 8, 6, 6, 20, 6, 10, 9, 6, 39, 6, 5, 12, 3, 21, 12, 31, 4, 32, 3, 1, 13, 4, 7, 3, 10, 30, 26, 4, 4, 5, 10, 5, 7, 2, 19, 8, 3, 6, 4, 7, 6, 7, 3, 6, 5, 33, 2, 18, 15, 6, 16, 13, 5, 7, 14, 7, 11, 18, 5, 5, 12, 10, 10, 24, 10, 7, 2, 4, 20, 9, 9, 7, 16, 13, 15, 12, 7, 5, 8, 17, 11, 24, 31, 3, 3, 13, 10, 6, 2, 12, 3, 5, 6, 4, 1, 13, 5, 9, 8, 9, 25, 6, 3, 4, 12, 4, 4, 25, 11, 26, 3, 1, 3, 5, 2, 14, 6, 12, 13, 9, 27, 14, 18, 14, 5, 4, 17, 3, 2, 3, 14, 30, 20, 10, 14, 7, 18, 9, 4, 13, 11, 14, 22, 21, 5, 2, 6, 5, 23, 7, 12, 13, 15, 3, 24, 7, 32, 12, 2, 6, 14, 11, 8, 21, 4, 4, 6, 8, 30, 3, 5, 9, 26, 7, 11, 3, 3, 5, 2, 14, 1, 10, 12, 9, 10, 7, 4, 5, 21, 5, 13, 4, 5, 18, 12, 6, 6, 3, 2, 1, 4, 5, 16, 6, 9, 3, 8, 13, 5, 15, 27, 9, 16, 6, 5, 8, 5, 4, 12, 9, 14, 8, 14, 13, 11, 13, 7, 5, 14, 11, 5, 32, 2, 10, 4, 4, 24, 9, 3, 5, 2, 17, 11, 5, 4, 15, 4, 10, 2, 5, 5, 19, 6, 3, 14, 12, 11, 20, 16, 14, 11, 7, 13, 7, 13, 8, 6, 10, 11, 3, 19, 2, 4, 7, 27, 7, 7, 6, 29, 5, 5, 9, 17, 6, 11, 10, 7, 3, 3, 10, 17, 11, 9, 20, 12, 5, 18, 2, 14, 21, 4, 4, 13, 11, 9, 28, 10, 14, 10, 5, 13, 14, 9, 6, 4, 3, 18, 2, 3, 23, 3, 18, 2, 30, 4, 9, 10, 3, 18, 5, 6, 29, 14, 5, 10, 6, 11, 6, 4, 4, 21, 3, 4, 3, 5, 6, 9, 11, 2, 2, 9, 8, 6, 17, 19, 2, 8, 11, 2, 24, 8, 33, 7, 12, 14, 4, 11, 5, 3, 29, 7, 8, 6, 10, 12, 6, 35, 24, 2, 2, 3, 2, 3, 11, 3, 4, 4, 5, 4, 6, 14, 9, 7, 14, 19, 9, 11, 26, 10, 12, 7, 17, 31, 11, 6, 8, 5, 7, 1, 9, 30, 6, 14, 24, 4, 18, 3, 7, 6, 12, 2, 5, 12, 6, 14, 2, 13, 20, 10, 6, 4, 13, 8, 4, 5, 8, 4, 6, 5, 10, 6, 12, 4, 5, 4, 2, 7, 7, 25, 8, 5, 3, 7, 8, 11, 5, 3, 3, 4, 5, 8, 2, 14, 6, 6, 8, 11, 2, 14, 4, 2, 5, 14, 7, 3, 3, 11, 8, 12, 17, 9, 2, 2, 2, 9, 4, 7, 25, 7, 10, 17, 10, 2, 14, 8, 5, 7, 10, 10, 9, 8, 8, 15, 8, 9, 9, 7, 23, 5, 12, 4, 2, 6, 5, 12, 1, 15, 12, 33, 5, 16, 4, 32, 3, 5, 8, 7, 3, 10, 17, 11, 2, 13, 3, 1, 9, 7, 5, 10, 10, 8, 26, 6, 2, 9, 4, 3, 5, 7, 7, 8, 6, 6, 27, 10, 2, 9, 8, 5, 16, 2, 6, 8, 30, 2, 5, 31, 6, 10, 8, 3, 13, 8, 18, 7, 4, 3, 5, 16, 24, 16, 5, 4, 7, 3, 7, 3, 5, 3, 17, 3, 2, 4, 9, 7, 3, 9, 13, 2, 4, 6, 29, 10, 19, 8, 30, 20, 4, 12, 3, 10, 12, 8, 8, 13, 3, 2, 2, 2, 3, 7, 7, 9, 10, 5, 12, 5, 4, 3, 2, 16, 6, 10, 8, 22, 33, 4, 15, 27, 3, 11, 13, 2, 10, 36, 8, 12, 10, 11, 3, 9, 5, 26, 12, 28, 7, 6, 18, 7, 15, 10, 6, 11, 6, 10, 8, 4, 16, 4, 1, 5, 3, 6, 12, 8, 4, 14, 5, 10, 7, 17, 4, 4, 6, 2, 16, 5, 7, 16, 26, 12, 3, 6, 10, 9, 10, 16, 5, 9, 2, 15, 1, 3, 5, 5, 38, 13, 23, 3, 15, 14, 10, 2, 2, 10, 3, 5, 13, 30, 9, 22, 5, 2, 13, 4, 5, 11, 3, 16, 31, 16, 2, 14, 14, 12, 3, 7, 17, 4, 24, 6, 6, 12, 11, 20, 6, 14, 4, 31, 4, 6, 8, 14, 8, 7, 6, 5, 30, 24, 2, 9, 4, 18, 12, 3, 11, 5, 21, 5, 18, 10, 24, 6, 15, 14, 21, 15, 16, 3, 11, 14, 5, 11, 12, 11, 35, 1, 33, 10, 9, 13, 4, 9, 32, 14, 25, 16, 6, 7, 3, 26, 7, 12, 12, 13, 3, 6, 5, 7, 9, 15, 3, 8, 4, 18, 4, 3, 17, 3, 8, 4, 8, 13, 4, 19, 3, 6, 12, 6, 11, 10, 10, 20, 4, 8, 9, 11, 5, 12, 2, 4, 4, 4, 3, 10, 20, 11, 7, 3, 5, 3, 16, 4, 17, 6, 7, 10, 5, 4, 7, 9, 2, 9, 8, 15, 9, 3, 6, 10, 14, 9, 15, 21, 10, 7, 23, 16, 7, 2, 6, 5, 8, 6, 26, 7, 13, 5, 7, 9, 4, 5, 5, 4, 3, 9, 9, 3, 8, 4, 9, 10, 6, 7, 5, 6, 6, 3, 2, 10, 3, 7, 7, 6, 10, 7, 8, 8, 6, 3, 2, 10, 6, 5, 13, 11, 16, 18, 6, 10, 10, 8, 7, 3, 12, 8, 3, 13, 7, 16, 12, 23, 11, 7, 8, 22, 6, 6, 5, 10, 3, 7, 4, 4, 5, 6, 5, 11, 9, 11, 2, 9, 7, 12, 6, 11, 28, 1, 4, 2, 25, 31, 4, 10, 4, 28, 5, 8, 1, 5, 4, 10, 4, 13, 7, 7, 22, 8, 11, 6, 7, 2, 10, 2, 9, 15, 2, 29, 4, 17, 4, 3, 3, 26, 6, 12, 3, 3, 6, 6, 4, 3, 2, 3, 6, 8, 3, 5, 16, 8, 4, 4, 14, 7, 7, 8, 8, 5, 13, 7, 5, 19, 15, 5, 9, 36, 11, 3, 7, 11, 4, 2, 6, 13, 4, 4, 6, 17, 6, 7, 7, 3, 22, 3, 2, 19, 2, 5, 3, 4, 17, 11, 3, 8, 4, 2, 31, 27, 5, 7, 11, 18, 27, 12, 3, 4, 28, 3, 18, 8, 7, 6, 6, 24, 6, 6, 8, 15, 18, 2, 3, 3, 9, 12, 11, 2, 10, 6, 17, 7, 5, 13, 7, 13, 4, 7, 4, 18, 7, 4, 9, 9, 7, 3, 8, 12, 6, 34, 6, 16, 5, 9, 8, 23, 9, 11, 5, 13, 4, 8, 3, 7, 5, 8, 7, 13, 3, 22, 5, 5, 18, 6, 12, 10, 15, 14, 9, 10, 23, 6, 36, 4, 4, 2, 14, 12, 12, 5, 39, 15, 19, 2, 3, 35, 10, 8, 13, 1, 17, 2, 19, 14, 7, 19, 8, 2, 9, 15, 7, 7, 12, 9, 4, 3, 8, 3, 2, 10, 2, 32, 5, 5, 12, 1, 5, 10, 14, 14, 6, 11, 33, 33, 12, 9, 7, 2, 21, 4, 9, 9, 15, 8, 10, 25, 22, 5, 8, 3, 7, 2, 2, 7, 10, 12, 28, 2, 7, 29, 11, 3, 4, 10, 7, 20, 14, 4, 5, 11, 6, 10, 4, 22, 8, 11, 3, 4, 20, 8, 8, 7, 14, 9, 11, 2, 5, 6, 3, 7, 23, 4, 4, 23, 3, 13, 10, 4, 12, 2, 13, 6, 5, 6, 10, 8, 6, 4, 7, 15, 7, 4, 12, 7, 26, 11, 7, 6, 6, 24, 8, 10, 3, 4, 4, 7, 6, 18, 12, 14, 7, 15, 7, 18, 2, 19, 7, 18, 4, 4, 5, 14, 11, 10, 1, 3, 8, 32, 19, 4, 11, 21, 3, 26, 6, 10, 4, 6, 10, 32, 10, 10, 11, 11, 4, 9, 16, 8, 25, 23, 9, 4, 4, 6, 6, 22, 18, 11, 3, 9, 13, 9, 9, 5, 5, 12, 7, 6, 9, 2, 3, 3, 4, 5, 7, 15, 6, 14, 4, 8, 7, 11, 24, 19, 11, 23, 3, 6, 11, 1, 4, 7, 10, 6, 19, 5, 14, 7, 3, 17, 6, 10, 7, 5, 4, 9, 7, 18, 5, 27, 5, 7, 15, 13, 11, 4, 4, 5, 5, 12, 4, 7, 12, 3, 13, 6, 19, 2, 7, 6, 8, 13, 3, 11, 2, 21, 13, 14, 4, 28, 17, 5, 4, 2, 22, 11, 9, 12, 8, 3, 10, 4, 3, 20, 2, 5, 11, 8, 12, 2, 26, 31, 9, 10, 9, 11, 4, 8, 25, 9, 11, 16, 5, 6, 11, 15, 39, 11, 9, 2, 4, 7, 4, 33, 35, 3, 8, 36, 16, 33, 18, 13, 9, 3, 5, 3, 11, 5, 6, 2, 4, 8, 8, 6, 11, 2, 5, 10, 7, 21, 14, 7, 5, 11, 3, 4, 2, 10, 14, 5, 7, 9, 3, 30, 6, 2, 7, 5, 4, 3, 2, 23, 6, 7, 3, 6, 3, 6, 5, 6, 5, 6, 3, 10, 1, 6, 12, 2, 5, 17, 24, 5, 9, 10, 6, 20, 8, 10, 7, 9, 4, 3, 3, 14, 4, 22, 23, 6, 10, 5, 6, 33, 5, 6, 2, 4, 5, 3, 7, 11, 16, 5, 9, 8, 14, 3, 12, 4, 28, 2, 8, 12, 4, 6, 11, 2, 13, 12, 16, 4, 2, 8, 14, 5, 4, 2, 6, 4, 13, 18, 5, 3, 3, 4, 3, 5, 20, 15, 13, 10, 14, 9, 7, 22, 10, 5, 8, 8, 2, 13, 3, 9, 8, 7, 3, 7, 12, 12, 6, 24, 1, 8, 10, 5, 12, 5, 6, 5, 4, 3, 8, 2, 4, 6, 11, 7, 31, 6, 15, 2, 29, 6, 2, 3, 12, 1, 12, 10, 3, 2, 9, 20, 13, 4, 8, 19, 19, 3, 5, 13, 29, 4, 8, 7, 9, 19, 4, 7, 10, 3, 15, 15, 6, 3, 10, 13, 4, 21, 15, 7, 10, 10, 5, 7, 20, 6, 6, 17, 6, 6, 5, 16, 10, 4, 7, 5, 10, 16, 10, 8, 12, 11, 6, 4, 22, 9, 2, 5, 14, 20, 27, 22, 16, 2, 1, 18, 8, 2, 8, 32, 6, 6, 5, 6, 4, 12, 5, 11, 17, 3, 11, 2, 15, 11, 3, 12, 5, 9, 25, 5, 4, 9, 18, 8, 8, 8, 7, 6, 12, 21, 5, 21, 30, 3, 2, 3, 27, 2, 10, 10, 3, 3, 4, 4, 7, 3, 5, 8, 3, 5, 5, 6, 13, 6, 8, 3, 17, 24, 32, 14, 19, 13, 5, 8, 3, 4, 12, 6, 6, 4, 9, 2, 9, 30, 11, 19, 8, 8, 4, 3, 9, 16, 3, 6, 17, 3, 3, 7, 2, 7, 14, 7, 5, 7, 5, 12, 2, 2, 5, 5, 13, 4, 11, 17, 14, 11, 7, 4, 19, 20, 14, 8, 25, 7, 16, 3, 3, 9, 9, 25, 8, 32, 8, 40, 8, 4, 10, 12, 14, 13, 7, 7, 17, 9, 9, 19, 5, 7, 8, 7, 7, 18, 3, 5, 6, 16, 3, 11, 9, 12, 7, 3, 8, 4, 2, 31, 4, 33, 37, 29, 15, 2, 16, 25, 24, 2, 3, 13, 3, 6, 18, 10, 1, 15, 7, 5, 7, 2, 4, 6, 3, 11, 5, 9, 5, 5, 15, 1, 5, 8, 4, 37, 11, 13, 6, 8, 8, 10, 10, 8, 5, 2, 3, 17, 2, 24, 18, 7, 7, 8, 4, 14, 3, 9, 12, 27, 10, 3, 11, 7, 2, 10, 17, 1, 14, 8, 7, 6, 5, 11, 21, 22, 3, 5, 9, 4, 7, 20, 10, 13, 10, 19, 5, 11, 20, 6, 34, 10, 32, 12, 10, 22, 23, 7, 9, 3, 5, 5, 9, 9, 6, 6, 16, 28, 18, 12, 3, 11, 6, 3, 8, 15, 5, 6, 6, 9, 4, 8, 24, 12, 15, 10, 19, 10, 2, 14, 7, 28, 16, 11, 9, 9, 6, 23, 9, 11, 4, 25, 15, 16, 4, 8, 14, 6, 11, 4, 12, 8, 11, 15, 17, 10, 9, 19, 4, 2, 3, 6, 4, 7, 11, 12, 2, 22, 7, 6, 21, 5, 14, 3, 11, 22, 6, 3, 4, 3, 13, 6, 20, 11, 19, 16, 8, 8, 15, 43, 3, 15, 9, 29, 14, 3, 10, 6, 4, 37, 24, 6, 8, 7, 5, 3, 10, 11, 10, 4, 31, 19, 6, 23, 25, 21, 7, 6, 14, 5, 18, 9, 16, 4, 4, 16, 28, 4, 2, 11, 9, 24, 11, 10, 7, 16, 9, 7, 16, 13, 4, 8, 3, 19, 9, 13, 6, 37, 19, 3, 5, 10, 7, 2, 5, 18, 12, 4, 9, 2, 30, 12, 26, 7, 11, 5, 4, 10, 5, 3, 11, 12, 33, 5, 5, 6, 12, 4, 10, 8, 19, 18, 4, 7, 21, 11, 13, 11, 30, 14, 11, 14, 9, 6, 3, 2, 9, 8, 3, 9, 23, 3, 12, 35, 15, 26, 21, 19, 13, 9, 19, 29, 28, 10, 21, 1, 23, 5, 4, 11, 4, 11, 23, 3, 34, 23, 5, 12, 15, 19, 9, 9, 17, 19, 13, 12, 11, 10, 5, 12, 26, 6, 10, 3, 12, 24, 7, 4, 23, 20, 12, 9, 5, 2, 25, 2, 31, 2, 14, 5, 1, 13, 3, 8, 5, 32, 22, 19, 9, 7, 7, 2, 4, 13, 20, 3, 7, 21, 7, 3, 7, 2, 24, 32, 13, 1, 38, 12, 12, 11, 13, 26, 5, 5, 5, 27, 21, 4, 23, 5, 25, 8, 1, 12, 13, 4, 3, 36, 17, 3, 26, 6, 7, 9, 9, 6, 3, 3, 8, 16, 18, 4, 8, 8, 8, 5, 9, 17, 26, 5, 7, 7, 4, 13, 36, 5, 28, 28, 30, 28, 8, 2, 24, 13, 3, 13, 1, 4, 14, 4, 9, 6, 14, 7, 16, 6, 8, 11, 8, 8, 12, 10, 12, 11, 10, 24, 11, 2, 9, 35, 13, 9, 5, 37, 12, 6, 7, 22, 11, 3, 13, 26, 11, 24, 3, 28, 6, 9, 13, 2, 21, 6, 20, 34, 7, 7, 11, 8, 7, 11, 5, 24, 3, 10, 1, 12, 27, 10, 8, 8, 12, 2, 6, 14, 6, 3, 16, 12, 16, 3, 12, 12, 2, 30, 7, 7, 12, 8, 1, 8, 6, 4, 2, 17, 6, 4, 8, 3, 6, 9, 6, 5, 3, 22, 17, 25, 10, 3, 5, 16, 19, 13, 11, 4, 7, 3, 5, 12, 10, 10, 6, 11, 16, 4, 3, 3, 19, 5, 5, 10, 5, 31, 9, 26, 14, 40, 3, 2, 5, 14, 11, 3, 28, 10, 6, 6, 2, 6, 8, 3, 4, 6, 6, 20, 21, 8, 4, 1, 3, 20, 4, 7, 4, 15, 1, 9, 16, 32, 7, 8, 2, 14, 10, 24, 4, 6, 28, 10, 6, 9, 7, 2, 7, 13, 14, 8, 1, 14, 9, 5, 6, 6, 2, 3, 2, 2, 14, 21, 4, 10, 5, 9, 3, 3, 7, 8, 10, 13, 9, 6, 19, 2, 10, 26, 5, 6, 10, 3, 2, 3, 8, 4, 4, 7, 27, 8, 9, 31, 18, 9, 7, 6, 3, 1, 11, 37, 10, 6, 7, 6, 7, 2, 6, 22, 18, 1, 4, 18, 7, 9, 8, 25, 7, 6, 5, 9, 6, 3, 25, 16, 3, 4, 8, 17, 9, 12, 8, 6, 18, 8, 8, 40, 2, 17, 3, 10, 34, 2, 9, 2, 10, 14, 7, 4, 10, 5, 7, 9, 26, 20, 5, 6, 5, 7, 8, 10, 4, 6, 8, 22, 7, 14, 12, 5, 31, 3, 5, 11, 3, 4, 19, 5, 11, 4, 20, 7, 4, 3, 12, 2, 7, 4, 9, 3, 7, 6, 25, 8, 3, 7, 17, 9, 15, 12, 11, 8, 14, 4, 6, 15, 2, 5, 5, 5, 10, 3, 17, 12, 7, 5, 4, 30, 4, 9, 6, 1, 5, 6, 3, 14, 12, 19, 2, 7, 15, 4, 5, 10, 5, 7, 2, 16, 7, 9, 21, 7, 12, 4, 6, 7, 23, 2, 10, 2, 1, 4, 11, 12, 28, 9, 5, 14, 3, 4, 32, 10, 17, 4, 4, 3, 3, 14, 4, 1, 4, 7, 6, 12, 8, 4, 5, 12, 2, 3, 8, 3, 18, 4, 3, 4, 7, 13, 8, 19, 26, 3, 4, 5, 12, 22, 24, 3, 18, 3, 6, 12, 23, 6, 5, 4, 3, 14, 3, 7, 5, 3, 31, 7, 28, 5, 12, 22, 7, 16, 3, 6, 27, 8, 32, 10, 5, 3, 20, 4, 1, 24, 5, 10, 8, 5, 21, 3, 15, 14, 7, 8, 6, 9, 12, 10, 3, 9, 3, 7, 21, 5, 10, 3, 9, 6, 3, 11, 12, 7, 6, 6, 8, 12, 1, 13, 9, 6, 19, 6, 6, 9, 8, 8, 10, 5, 5, 1, 5, 6, 7, 27, 13, 30, 10, 8, 8, 11, 12, 5, 6, 6, 30, 6, 7, 7, 31, 13, 14, 2, 4, 9, 3, 5, 4, 25, 8, 4, 13, 15, 8, 15, 6, 2, 3, 11, 19, 7, 11, 8, 4, 11, 6, 19, 3, 7, 17, 13, 8, 8, 8, 7, 6, 3, 21, 7, 7, 4, 15, 5, 7, 15, 8, 6, 30, 7, 7, 31, 7, 29, 4, 3, 10, 22, 7, 3, 21, 4, 28, 2, 12, 14, 2, 5, 1, 5, 2, 9, 10, 5, 6, 11, 7, 4, 15, 10, 10, 8, 8, 15, 17, 4, 5, 38, 18, 17, 8, 6, 23, 5, 3, 9, 9, 8, 4, 13, 4, 17, 5, 3, 5, 16, 13, 29, 23, 13, 11, 2, 6, 18, 24, 14, 10, 20, 6, 3, 20, 15, 12, 2, 8, 6, 4, 4, 22, 14, 25, 32, 27, 9, 8, 13, 24, 15, 13, 6, 3, 5, 14, 6, 4, 4, 10, 3, 5, 4, 7, 9, 20, 4, 9, 11, 14, 4, 21, 4, 3, 2, 15, 10, 11, 7, 8, 12, 9, 33, 9, 15, 1, 20, 6, 4, 4, 9, 14, 3, 9, 4, 4, 11, 4, 2, 3, 22, 8, 33, 4, 6, 18, 9, 4, 6, 3, 11, 15, 6, 7, 7, 2, 10, 11, 14, 5, 9, 1, 22, 7, 31, 7, 4, 7, 4, 3, 17, 3, 11, 4, 6, 10, 19, 11, 13, 11, 10, 12, 3, 3, 36, 11, 8, 4, 3, 12, 11, 3, 3, 8, 10, 11, 4, 21, 12, 10, 8, 5, 16, 7, 12, 4, 4, 16, 10, 12, 30, 24, 11, 36, 11, 14, 4, 8, 6, 27, 13, 11, 1, 11, 3, 8, 6, 7, 10, 16, 9, 5, 14, 5, 7, 12, 4, 7, 2, 3, 8, 7, 4, 8, 12, 2, 9, 2, 35, 7, 9, 6, 8, 9, 6, 4, 6, 10, 5, 4, 13, 4, 22, 3, 14, 3, 39, 9, 6, 2, 2, 2, 6, 14, 7, 4, 3, 7, 3, 9, 16, 15, 4, 6, 4, 42, 1, 10, 6, 11, 5, 10, 9, 6, 5, 7, 9, 9, 13, 6, 2, 24, 10, 6, 10, 13, 5, 3, 13, 11, 8, 8, 8, 7, 39, 3, 5, 4, 9, 6, 7, 10, 9, 31, 7, 26, 1, 6, 11, 7, 15, 4, 2, 13, 5, 26, 8, 9, 13, 3, 3, 7, 7, 6, 3, 4, 13, 33, 30, 32, 8, 2, 12, 3, 3, 7, 11, 22, 15, 5, 10, 9, 5, 10, 21, 2, 5, 26, 4, 7, 3, 4, 4, 4, 22, 4, 28, 9, 9, 2, 10, 4, 4, 4, 3, 8, 29, 5, 12, 5, 6, 8, 4, 20, 19, 28, 6, 22, 5, 12, 12, 1, 8, 28, 7, 4, 10, 6, 11, 25, 24, 5, 10, 16, 5, 15, 7, 6, 26, 11, 1, 5, 15, 8, 7, 6, 5, 11, 17, 7, 4, 19, 4, 14, 12, 6, 6, 9, 7, 9, 8, 11, 5, 4, 8, 3, 28, 34, 3, 10, 5, 17, 5, 10, 11, 5, 33, 5, 4, 10, 28, 10, 23, 12, 29, 4, 6, 6, 7, 3, 5, 7, 4, 8, 2, 10, 4, 2, 9, 6, 5, 12, 16, 4, 15, 8, 9, 35, 10, 8, 5, 3, 38, 8, 6, 2, 2, 6, 40, 20, 9, 7, 3, 25, 19, 31, 2, 5, 2, 10, 25, 5, 17, 4, 4, 3, 8, 9, 15, 24, 10, 15, 4, 23, 8, 16, 5, 17, 16, 24, 4, 4, 7, 11, 23, 5, 10, 2, 11, 13, 5, 9, 9, 11, 8, 12, 8, 1, 14, 18, 13, 10, 33, 7, 4, 15, 2, 7, 5, 9, 13, 16, 7, 2, 3, 14, 9, 9, 19, 2, 7, 7, 12, 7, 7, 9, 3, 6, 11, 13, 22, 8, 10, 6, 16, 9, 19, 33, 11, 8, 7, 2, 8, 16, 8, 9, 5, 8, 34, 22, 15, 11, 22, 7, 4, 4, 15, 3, 23, 7, 3, 5, 9, 10, 7, 5, 6, 18, 35, 16, 5, 4, 11, 17, 4, 17, 11, 3, 7, 9, 10, 15, 2, 2, 5, 7, 18, 17, 5, 4, 26, 4, 18, 33, 7, 9, 8, 2, 8, 7, 19, 7, 9, 3, 2, 13, 6, 26, 7, 10, 8, 11, 2, 22, 12, 19, 8, 4, 24, 6, 7, 6, 6, 2, 3, 18, 3, 7, 10, 6, 2, 6, 7, 13, 7, 22, 5, 4, 32, 4, 18, 12, 8, 21, 6, 5, 6, 10, 3, 4, 4, 7, 4, 7, 3, 4, 5, 14, 7, 2, 6, 3, 7, 6, 10, 7, 9, 14, 9, 4, 4, 20, 4, 12, 2, 10, 3, 20, 4, 8, 3, 5, 28, 7, 5, 29, 13, 6, 6, 5, 16, 5, 9, 10, 5, 26, 1, 8, 14, 6, 22, 7, 5, 4, 5, 3, 7, 7, 13, 26, 8, 2, 2, 7, 7, 17, 9, 7, 3, 5, 8, 4, 4, 10, 3, 21, 8, 10, 11, 10, 6, 9, 6, 4, 18, 28, 5, 9, 15, 5, 2, 16, 8, 4, 1, 3, 6, 1, 13, 15, 36, 10, 17, 28, 15, 5, 14, 12, 3, 4, 5, 3, 15, 4, 6, 8, 10, 35, 5, 8, 6, 38, 3, 9, 13, 5, 4, 9, 8, 2, 6, 6, 5, 11, 4, 9, 4, 17, 9, 12, 6, 17, 16, 5, 10, 2, 11, 7, 21, 4, 12, 5, 25, 10, 3, 4, 25, 15, 16, 9, 5, 8, 27, 9, 2, 4, 4, 4, 2, 2, 2, 18, 2, 24, 14, 6, 24, 9, 3, 3, 9, 6, 8, 6, 2, 4, 15, 9, 6, 6, 21, 8, 8, 11, 5, 7, 1, 11, 4, 6, 11, 3, 4, 5, 7, 9, 6, 4, 6, 12, 5, 22, 3, 4, 2, 8, 23, 29, 15, 3, 8, 3, 5, 13, 15, 7, 3, 4, 4, 4, 11, 5, 4, 5, 4, 12, 3, 3, 1, 8, 7, 3, 3, 13, 12, 9, 5, 21, 21, 8, 3, 12, 16, 9, 7, 3, 23, 15, 8, 7, 23, 5, 5, 2, 4, 8, 14, 8, 2, 13, 4, 3, 11, 6, 19, 4, 5, 5, 5, 22, 4, 4, 19, 9, 8, 20, 6, 5, 12, 10, 14, 3, 11, 12, 1, 5, 5, 5, 16, 13, 13, 16, 5, 10, 3, 6, 2, 3, 4, 18, 3, 9, 12, 17, 7, 5, 4, 3, 21, 5, 17, 12, 4, 35, 1, 1, 4, 13, 18, 10, 6]\n"
          ]
        }
      ]
    },
    {
      "cell_type": "markdown",
      "metadata": {
        "id": "tYPjzqDBBvz6"
      },
      "source": [
        "\n",
        "# Base de dados Artigo 2 (HateBR)"
      ]
    },
    {
      "cell_type": "code",
      "execution_count": null,
      "metadata": {
        "id": "l-uoAaXl70zc"
      },
      "outputs": [],
      "source": [
        "base_hatebr = pd.read_csv('/content/drive/MyDrive/Dataset/HateBR.csv')"
      ]
    },
    {
      "cell_type": "code",
      "execution_count": null,
      "metadata": {
        "id": "hZCd_C5U8kt9",
        "colab": {
          "base_uri": "https://localhost:8080/",
          "height": 423
        },
        "outputId": "58348e68-f05f-4aa6-8814-bb1415956e15"
      },
      "outputs": [
        {
          "output_type": "execute_result",
          "data": {
            "text/plain": [
              "                                     instagram_comments  offensive_language  \\\n",
              "0                                         este lixo ...                   1   \n",
              "1                                          Mais um lixo                   1   \n",
              "2                       Essa nao tem vergonha na cara!!                   1   \n",
              "3                        Essa mulher é doente.pilantra!                   1   \n",
              "4                                   Comunista safada...                   1   \n",
              "...                                                 ...                 ...   \n",
              "6995                      Time perdendo a credibilidade                   0   \n",
              "6996  Siga em frente Presidente Bolsonaro! Afinal o ...                   0   \n",
              "6997  Tantas coisas importantes para resolver e fica...                   0   \n",
              "6998  A TIME escolhe quem eles quiser, isso não sign...                   0   \n",
              "6999  Hitler também foi considerado o homem do ano p...                   0   \n",
              "\n",
              "      offensiveness_levels hate_speech  \n",
              "0                        1          -1  \n",
              "1                        1          -1  \n",
              "2                        2          -1  \n",
              "3                        3          -1  \n",
              "4                        2         5,8  \n",
              "...                    ...         ...  \n",
              "6995                     0           0  \n",
              "6996                     0           0  \n",
              "6997                     0           0  \n",
              "6998                     0           0  \n",
              "6999                     0           0  \n",
              "\n",
              "[7000 rows x 4 columns]"
            ],
            "text/html": [
              "\n",
              "  <div id=\"df-842d0dd4-a138-45b9-92e7-d924efc6d3b9\">\n",
              "    <div class=\"colab-df-container\">\n",
              "      <div>\n",
              "<style scoped>\n",
              "    .dataframe tbody tr th:only-of-type {\n",
              "        vertical-align: middle;\n",
              "    }\n",
              "\n",
              "    .dataframe tbody tr th {\n",
              "        vertical-align: top;\n",
              "    }\n",
              "\n",
              "    .dataframe thead th {\n",
              "        text-align: right;\n",
              "    }\n",
              "</style>\n",
              "<table border=\"1\" class=\"dataframe\">\n",
              "  <thead>\n",
              "    <tr style=\"text-align: right;\">\n",
              "      <th></th>\n",
              "      <th>instagram_comments</th>\n",
              "      <th>offensive_language</th>\n",
              "      <th>offensiveness_levels</th>\n",
              "      <th>hate_speech</th>\n",
              "    </tr>\n",
              "  </thead>\n",
              "  <tbody>\n",
              "    <tr>\n",
              "      <th>0</th>\n",
              "      <td>este lixo ...</td>\n",
              "      <td>1</td>\n",
              "      <td>1</td>\n",
              "      <td>-1</td>\n",
              "    </tr>\n",
              "    <tr>\n",
              "      <th>1</th>\n",
              "      <td>Mais um lixo</td>\n",
              "      <td>1</td>\n",
              "      <td>1</td>\n",
              "      <td>-1</td>\n",
              "    </tr>\n",
              "    <tr>\n",
              "      <th>2</th>\n",
              "      <td>Essa nao tem vergonha na cara!!</td>\n",
              "      <td>1</td>\n",
              "      <td>2</td>\n",
              "      <td>-1</td>\n",
              "    </tr>\n",
              "    <tr>\n",
              "      <th>3</th>\n",
              "      <td>Essa mulher é doente.pilantra!</td>\n",
              "      <td>1</td>\n",
              "      <td>3</td>\n",
              "      <td>-1</td>\n",
              "    </tr>\n",
              "    <tr>\n",
              "      <th>4</th>\n",
              "      <td>Comunista safada...</td>\n",
              "      <td>1</td>\n",
              "      <td>2</td>\n",
              "      <td>5,8</td>\n",
              "    </tr>\n",
              "    <tr>\n",
              "      <th>...</th>\n",
              "      <td>...</td>\n",
              "      <td>...</td>\n",
              "      <td>...</td>\n",
              "      <td>...</td>\n",
              "    </tr>\n",
              "    <tr>\n",
              "      <th>6995</th>\n",
              "      <td>Time perdendo a credibilidade</td>\n",
              "      <td>0</td>\n",
              "      <td>0</td>\n",
              "      <td>0</td>\n",
              "    </tr>\n",
              "    <tr>\n",
              "      <th>6996</th>\n",
              "      <td>Siga em frente Presidente Bolsonaro! Afinal o ...</td>\n",
              "      <td>0</td>\n",
              "      <td>0</td>\n",
              "      <td>0</td>\n",
              "    </tr>\n",
              "    <tr>\n",
              "      <th>6997</th>\n",
              "      <td>Tantas coisas importantes para resolver e fica...</td>\n",
              "      <td>0</td>\n",
              "      <td>0</td>\n",
              "      <td>0</td>\n",
              "    </tr>\n",
              "    <tr>\n",
              "      <th>6998</th>\n",
              "      <td>A TIME escolhe quem eles quiser, isso não sign...</td>\n",
              "      <td>0</td>\n",
              "      <td>0</td>\n",
              "      <td>0</td>\n",
              "    </tr>\n",
              "    <tr>\n",
              "      <th>6999</th>\n",
              "      <td>Hitler também foi considerado o homem do ano p...</td>\n",
              "      <td>0</td>\n",
              "      <td>0</td>\n",
              "      <td>0</td>\n",
              "    </tr>\n",
              "  </tbody>\n",
              "</table>\n",
              "<p>7000 rows × 4 columns</p>\n",
              "</div>\n",
              "      <button class=\"colab-df-convert\" onclick=\"convertToInteractive('df-842d0dd4-a138-45b9-92e7-d924efc6d3b9')\"\n",
              "              title=\"Convert this dataframe to an interactive table.\"\n",
              "              style=\"display:none;\">\n",
              "        \n",
              "  <svg xmlns=\"http://www.w3.org/2000/svg\" height=\"24px\"viewBox=\"0 0 24 24\"\n",
              "       width=\"24px\">\n",
              "    <path d=\"M0 0h24v24H0V0z\" fill=\"none\"/>\n",
              "    <path d=\"M18.56 5.44l.94 2.06.94-2.06 2.06-.94-2.06-.94-.94-2.06-.94 2.06-2.06.94zm-11 1L8.5 8.5l.94-2.06 2.06-.94-2.06-.94L8.5 2.5l-.94 2.06-2.06.94zm10 10l.94 2.06.94-2.06 2.06-.94-2.06-.94-.94-2.06-.94 2.06-2.06.94z\"/><path d=\"M17.41 7.96l-1.37-1.37c-.4-.4-.92-.59-1.43-.59-.52 0-1.04.2-1.43.59L10.3 9.45l-7.72 7.72c-.78.78-.78 2.05 0 2.83L4 21.41c.39.39.9.59 1.41.59.51 0 1.02-.2 1.41-.59l7.78-7.78 2.81-2.81c.8-.78.8-2.07 0-2.86zM5.41 20L4 18.59l7.72-7.72 1.47 1.35L5.41 20z\"/>\n",
              "  </svg>\n",
              "      </button>\n",
              "      \n",
              "  <style>\n",
              "    .colab-df-container {\n",
              "      display:flex;\n",
              "      flex-wrap:wrap;\n",
              "      gap: 12px;\n",
              "    }\n",
              "\n",
              "    .colab-df-convert {\n",
              "      background-color: #E8F0FE;\n",
              "      border: none;\n",
              "      border-radius: 50%;\n",
              "      cursor: pointer;\n",
              "      display: none;\n",
              "      fill: #1967D2;\n",
              "      height: 32px;\n",
              "      padding: 0 0 0 0;\n",
              "      width: 32px;\n",
              "    }\n",
              "\n",
              "    .colab-df-convert:hover {\n",
              "      background-color: #E2EBFA;\n",
              "      box-shadow: 0px 1px 2px rgba(60, 64, 67, 0.3), 0px 1px 3px 1px rgba(60, 64, 67, 0.15);\n",
              "      fill: #174EA6;\n",
              "    }\n",
              "\n",
              "    [theme=dark] .colab-df-convert {\n",
              "      background-color: #3B4455;\n",
              "      fill: #D2E3FC;\n",
              "    }\n",
              "\n",
              "    [theme=dark] .colab-df-convert:hover {\n",
              "      background-color: #434B5C;\n",
              "      box-shadow: 0px 1px 3px 1px rgba(0, 0, 0, 0.15);\n",
              "      filter: drop-shadow(0px 1px 2px rgba(0, 0, 0, 0.3));\n",
              "      fill: #FFFFFF;\n",
              "    }\n",
              "  </style>\n",
              "\n",
              "      <script>\n",
              "        const buttonEl =\n",
              "          document.querySelector('#df-842d0dd4-a138-45b9-92e7-d924efc6d3b9 button.colab-df-convert');\n",
              "        buttonEl.style.display =\n",
              "          google.colab.kernel.accessAllowed ? 'block' : 'none';\n",
              "\n",
              "        async function convertToInteractive(key) {\n",
              "          const element = document.querySelector('#df-842d0dd4-a138-45b9-92e7-d924efc6d3b9');\n",
              "          const dataTable =\n",
              "            await google.colab.kernel.invokeFunction('convertToInteractive',\n",
              "                                                     [key], {});\n",
              "          if (!dataTable) return;\n",
              "\n",
              "          const docLinkHtml = 'Like what you see? Visit the ' +\n",
              "            '<a target=\"_blank\" href=https://colab.research.google.com/notebooks/data_table.ipynb>data table notebook</a>'\n",
              "            + ' to learn more about interactive tables.';\n",
              "          element.innerHTML = '';\n",
              "          dataTable['output_type'] = 'display_data';\n",
              "          await google.colab.output.renderOutput(dataTable, element);\n",
              "          const docLink = document.createElement('div');\n",
              "          docLink.innerHTML = docLinkHtml;\n",
              "          element.appendChild(docLink);\n",
              "        }\n",
              "      </script>\n",
              "    </div>\n",
              "  </div>\n",
              "  "
            ]
          },
          "metadata": {},
          "execution_count": 127
        }
      ],
      "source": [
        "base_hatebr"
      ]
    },
    {
      "cell_type": "markdown",
      "metadata": {
        "id": "brgJeGzjh9M5"
      },
      "source": [
        "**Verificando o tamanho da Base**"
      ]
    },
    {
      "cell_type": "code",
      "execution_count": null,
      "metadata": {
        "id": "e-eqAjVKi-a-",
        "colab": {
          "base_uri": "https://localhost:8080/"
        },
        "outputId": "1b39f8a4-b713-44fe-9e90-b67c05e8a926"
      },
      "outputs": [
        {
          "output_type": "execute_result",
          "data": {
            "text/plain": [
              "(7000, 4)"
            ]
          },
          "metadata": {},
          "execution_count": 128
        }
      ],
      "source": [
        "base_hatebr.shape #linhas x colunas"
      ]
    },
    {
      "cell_type": "markdown",
      "metadata": {
        "id": "KDl351XWifm_"
      },
      "source": [
        "**Conferindo o total de textos por categorias**"
      ]
    },
    {
      "cell_type": "markdown",
      "metadata": {
        "id": "rCswXplAiw6-"
      },
      "source": [
        "Com o código abaixo podemos ver que os dados estão balanceados(número de classificação são iguais)"
      ]
    },
    {
      "cell_type": "code",
      "execution_count": null,
      "metadata": {
        "id": "664cJMUyuR9R",
        "colab": {
          "base_uri": "https://localhost:8080/"
        },
        "outputId": "66ba36fe-fe0c-44f3-d1e9-b24d00ae0c18"
      },
      "outputs": [
        {
          "output_type": "execute_result",
          "data": {
            "text/plain": [
              "1    3500\n",
              "0    3500\n",
              "Name: offensive_language, dtype: int64"
            ]
          },
          "metadata": {},
          "execution_count": 129
        }
      ],
      "source": [
        "base_hatebr['offensive_language'].value_counts() "
      ]
    },
    {
      "cell_type": "code",
      "execution_count": null,
      "metadata": {
        "id": "L1m485nwur6B",
        "colab": {
          "base_uri": "https://localhost:8080/"
        },
        "outputId": "2cb27caa-0030-403e-fc12-91da3d05a2ca"
      },
      "outputs": [
        {
          "output_type": "execute_result",
          "data": {
            "text/plain": [
              "0    3500\n",
              "2    1440\n",
              "1    1281\n",
              "3     779\n",
              "Name: offensiveness_levels, dtype: int64"
            ]
          },
          "metadata": {},
          "execution_count": 130
        }
      ],
      "source": [
        "# np.unique(base_hatebr['offensiveness_levels'], return_counts= True)\n",
        "base_hatebr['offensiveness_levels'].value_counts() "
      ]
    },
    {
      "cell_type": "code",
      "execution_count": null,
      "metadata": {
        "id": "P2L8pZDZu4CR",
        "colab": {
          "base_uri": "https://localhost:8080/"
        },
        "outputId": "683224b7-c346-49d4-fb0b-d69cdabdb08c"
      },
      "outputs": [
        {
          "output_type": "execute_result",
          "data": {
            "text/plain": [
              "9         1\n",
              "5,7       1\n",
              "3,5       1\n",
              "4,6       2\n",
              "1         2\n",
              "2,5       4\n",
              "3,8       6\n",
              "6         6\n",
              "5,8      11\n",
              "4        15\n",
              "3        20\n",
              "2        28\n",
              "7        46\n",
              "8        80\n",
              "5       479\n",
              "-1     2798\n",
              "0      3500\n",
              "Name: hate_speech, dtype: int64"
            ]
          },
          "metadata": {},
          "execution_count": 131
        }
      ],
      "source": [
        "# np.unique(base_hatebr['hate_speech'], return_counts= True)\n",
        "base_hatebr['hate_speech'].value_counts(ascending = True)  #verificar certinho do que se trata estes dados"
      ]
    },
    {
      "cell_type": "code",
      "execution_count": null,
      "metadata": {
        "id": "4Uf_yr5btzyO"
      },
      "outputs": [],
      "source": [
        "comments = [] \n",
        "stop_words = set(stopwords.words('portuguese')) #setando o banco de stopwords em PT-BR\n",
        "\n",
        "for words in base_hatebr ['instagram_comments']:\n",
        "  only_latters =re.sub(\"[^a-zA-Z]\", \" \", words) # somente letras\n",
        "  tokens = nltk.word_tokenize(only_latters) # tokenize the sentence \n",
        "  lower_case = [l.lower() for l in tokens] # converter all letters to low case \n",
        "  filtered_result = list(filter(lambda l: l not in stop_words and  l not in stop, lower_case)) # Remove stopwords from the comments\n",
        "  comments.append(' '.join(filtered_result))\n",
        "  "
      ]
    },
    {
      "cell_type": "code",
      "execution_count": null,
      "metadata": {
        "id": "k9qYqGkeuRT1",
        "colab": {
          "base_uri": "https://localhost:8080/"
        },
        "outputId": "46118952-8dca-4f29-cc7b-4d9f96e9c4e6"
      },
      "outputs": [
        {
          "output_type": "stream",
          "name": "stderr",
          "text": [
            "/usr/local/lib/python3.8/dist-packages/sklearn/utils/deprecation.py:87: FutureWarning: Function get_feature_names is deprecated; get_feature_names is deprecated in 1.0 and will be removed in 1.2. Please use get_feature_names_out instead.\n",
            "  warnings.warn(msg, category=FutureWarning)\n"
          ]
        }
      ],
      "source": [
        "#using CountVectorizer to get the most important unigrams\n",
        "co = CountVectorizer(ngram_range=(1,1))\n",
        "count = co.fit_transform(comments)\n",
        "important_unigrams =pd.DataFrame(count.sum(axis=0), columns=co.get_feature_names()).T.sort_values(0, ascending = False)"
      ]
    },
    {
      "cell_type": "code",
      "execution_count": null,
      "metadata": {
        "id": "MFJXsdzCuTrt",
        "colab": {
          "base_uri": "https://localhost:8080/",
          "height": 206
        },
        "outputId": "03648076-4f82-4967-ebb3-bff754d88a19"
      },
      "outputs": [
        {
          "output_type": "execute_result",
          "data": {
            "text/plain": [
              "              0\n",
              "presidente  458\n",
              "est         440\n",
              "pra         437\n",
              "brasil      389\n",
              "ns          380"
            ],
            "text/html": [
              "\n",
              "  <div id=\"df-1572ae40-f1ee-4585-8462-a8bc2a6b0627\">\n",
              "    <div class=\"colab-df-container\">\n",
              "      <div>\n",
              "<style scoped>\n",
              "    .dataframe tbody tr th:only-of-type {\n",
              "        vertical-align: middle;\n",
              "    }\n",
              "\n",
              "    .dataframe tbody tr th {\n",
              "        vertical-align: top;\n",
              "    }\n",
              "\n",
              "    .dataframe thead th {\n",
              "        text-align: right;\n",
              "    }\n",
              "</style>\n",
              "<table border=\"1\" class=\"dataframe\">\n",
              "  <thead>\n",
              "    <tr style=\"text-align: right;\">\n",
              "      <th></th>\n",
              "      <th>0</th>\n",
              "    </tr>\n",
              "  </thead>\n",
              "  <tbody>\n",
              "    <tr>\n",
              "      <th>presidente</th>\n",
              "      <td>458</td>\n",
              "    </tr>\n",
              "    <tr>\n",
              "      <th>est</th>\n",
              "      <td>440</td>\n",
              "    </tr>\n",
              "    <tr>\n",
              "      <th>pra</th>\n",
              "      <td>437</td>\n",
              "    </tr>\n",
              "    <tr>\n",
              "      <th>brasil</th>\n",
              "      <td>389</td>\n",
              "    </tr>\n",
              "    <tr>\n",
              "      <th>ns</th>\n",
              "      <td>380</td>\n",
              "    </tr>\n",
              "  </tbody>\n",
              "</table>\n",
              "</div>\n",
              "      <button class=\"colab-df-convert\" onclick=\"convertToInteractive('df-1572ae40-f1ee-4585-8462-a8bc2a6b0627')\"\n",
              "              title=\"Convert this dataframe to an interactive table.\"\n",
              "              style=\"display:none;\">\n",
              "        \n",
              "  <svg xmlns=\"http://www.w3.org/2000/svg\" height=\"24px\"viewBox=\"0 0 24 24\"\n",
              "       width=\"24px\">\n",
              "    <path d=\"M0 0h24v24H0V0z\" fill=\"none\"/>\n",
              "    <path d=\"M18.56 5.44l.94 2.06.94-2.06 2.06-.94-2.06-.94-.94-2.06-.94 2.06-2.06.94zm-11 1L8.5 8.5l.94-2.06 2.06-.94-2.06-.94L8.5 2.5l-.94 2.06-2.06.94zm10 10l.94 2.06.94-2.06 2.06-.94-2.06-.94-.94-2.06-.94 2.06-2.06.94z\"/><path d=\"M17.41 7.96l-1.37-1.37c-.4-.4-.92-.59-1.43-.59-.52 0-1.04.2-1.43.59L10.3 9.45l-7.72 7.72c-.78.78-.78 2.05 0 2.83L4 21.41c.39.39.9.59 1.41.59.51 0 1.02-.2 1.41-.59l7.78-7.78 2.81-2.81c.8-.78.8-2.07 0-2.86zM5.41 20L4 18.59l7.72-7.72 1.47 1.35L5.41 20z\"/>\n",
              "  </svg>\n",
              "      </button>\n",
              "      \n",
              "  <style>\n",
              "    .colab-df-container {\n",
              "      display:flex;\n",
              "      flex-wrap:wrap;\n",
              "      gap: 12px;\n",
              "    }\n",
              "\n",
              "    .colab-df-convert {\n",
              "      background-color: #E8F0FE;\n",
              "      border: none;\n",
              "      border-radius: 50%;\n",
              "      cursor: pointer;\n",
              "      display: none;\n",
              "      fill: #1967D2;\n",
              "      height: 32px;\n",
              "      padding: 0 0 0 0;\n",
              "      width: 32px;\n",
              "    }\n",
              "\n",
              "    .colab-df-convert:hover {\n",
              "      background-color: #E2EBFA;\n",
              "      box-shadow: 0px 1px 2px rgba(60, 64, 67, 0.3), 0px 1px 3px 1px rgba(60, 64, 67, 0.15);\n",
              "      fill: #174EA6;\n",
              "    }\n",
              "\n",
              "    [theme=dark] .colab-df-convert {\n",
              "      background-color: #3B4455;\n",
              "      fill: #D2E3FC;\n",
              "    }\n",
              "\n",
              "    [theme=dark] .colab-df-convert:hover {\n",
              "      background-color: #434B5C;\n",
              "      box-shadow: 0px 1px 3px 1px rgba(0, 0, 0, 0.15);\n",
              "      filter: drop-shadow(0px 1px 2px rgba(0, 0, 0, 0.3));\n",
              "      fill: #FFFFFF;\n",
              "    }\n",
              "  </style>\n",
              "\n",
              "      <script>\n",
              "        const buttonEl =\n",
              "          document.querySelector('#df-1572ae40-f1ee-4585-8462-a8bc2a6b0627 button.colab-df-convert');\n",
              "        buttonEl.style.display =\n",
              "          google.colab.kernel.accessAllowed ? 'block' : 'none';\n",
              "\n",
              "        async function convertToInteractive(key) {\n",
              "          const element = document.querySelector('#df-1572ae40-f1ee-4585-8462-a8bc2a6b0627');\n",
              "          const dataTable =\n",
              "            await google.colab.kernel.invokeFunction('convertToInteractive',\n",
              "                                                     [key], {});\n",
              "          if (!dataTable) return;\n",
              "\n",
              "          const docLinkHtml = 'Like what you see? Visit the ' +\n",
              "            '<a target=\"_blank\" href=https://colab.research.google.com/notebooks/data_table.ipynb>data table notebook</a>'\n",
              "            + ' to learn more about interactive tables.';\n",
              "          element.innerHTML = '';\n",
              "          dataTable['output_type'] = 'display_data';\n",
              "          await google.colab.output.renderOutput(dataTable, element);\n",
              "          const docLink = document.createElement('div');\n",
              "          docLink.innerHTML = docLinkHtml;\n",
              "          element.appendChild(docLink);\n",
              "        }\n",
              "      </script>\n",
              "    </div>\n",
              "  </div>\n",
              "  "
            ]
          },
          "metadata": {},
          "execution_count": 134
        }
      ],
      "source": [
        "important_unigrams[:5]"
      ]
    },
    {
      "cell_type": "code",
      "execution_count": null,
      "metadata": {
        "id": "wK12FsGnGFb9",
        "colab": {
          "base_uri": "https://localhost:8080/"
        },
        "outputId": "e88c57b6-6e4a-4b1d-91f8-fdace881e68b"
      },
      "outputs": [
        {
          "output_type": "stream",
          "name": "stderr",
          "text": [
            "/usr/local/lib/python3.8/dist-packages/sklearn/utils/deprecation.py:87: FutureWarning: Function get_feature_names is deprecated; get_feature_names is deprecated in 1.0 and will be removed in 1.2. Please use get_feature_names_out instead.\n",
            "  warnings.warn(msg, category=FutureWarning)\n"
          ]
        }
      ],
      "source": [
        "#using CountVectorizer to get the most important unigrams\n",
        "co = CountVectorizer(ngram_range=(1,1))\n",
        "count = co.fit_transform(base_hatebr ['instagram_comments'])\n",
        "important_unigrams =pd.DataFrame(count.sum(axis=0), columns=co.get_feature_names()).T.sort_values(0, ascending = False)"
      ]
    },
    {
      "cell_type": "code",
      "execution_count": null,
      "metadata": {
        "id": "orKAfv40G-Ye",
        "colab": {
          "base_uri": "https://localhost:8080/",
          "height": 206
        },
        "outputId": "d7f20cf3-7b75-4178-8b05-9cc27eedc2bb"
      },
      "outputs": [
        {
          "output_type": "execute_result",
          "data": {
            "text/plain": [
              "        0\n",
              "que  2434\n",
              "de   2069\n",
              "não  1264\n",
              "do   1014\n",
              "um    782"
            ],
            "text/html": [
              "\n",
              "  <div id=\"df-0b7d3fdc-938d-49e6-8bbd-924f4cbeb4a8\">\n",
              "    <div class=\"colab-df-container\">\n",
              "      <div>\n",
              "<style scoped>\n",
              "    .dataframe tbody tr th:only-of-type {\n",
              "        vertical-align: middle;\n",
              "    }\n",
              "\n",
              "    .dataframe tbody tr th {\n",
              "        vertical-align: top;\n",
              "    }\n",
              "\n",
              "    .dataframe thead th {\n",
              "        text-align: right;\n",
              "    }\n",
              "</style>\n",
              "<table border=\"1\" class=\"dataframe\">\n",
              "  <thead>\n",
              "    <tr style=\"text-align: right;\">\n",
              "      <th></th>\n",
              "      <th>0</th>\n",
              "    </tr>\n",
              "  </thead>\n",
              "  <tbody>\n",
              "    <tr>\n",
              "      <th>que</th>\n",
              "      <td>2434</td>\n",
              "    </tr>\n",
              "    <tr>\n",
              "      <th>de</th>\n",
              "      <td>2069</td>\n",
              "    </tr>\n",
              "    <tr>\n",
              "      <th>não</th>\n",
              "      <td>1264</td>\n",
              "    </tr>\n",
              "    <tr>\n",
              "      <th>do</th>\n",
              "      <td>1014</td>\n",
              "    </tr>\n",
              "    <tr>\n",
              "      <th>um</th>\n",
              "      <td>782</td>\n",
              "    </tr>\n",
              "  </tbody>\n",
              "</table>\n",
              "</div>\n",
              "      <button class=\"colab-df-convert\" onclick=\"convertToInteractive('df-0b7d3fdc-938d-49e6-8bbd-924f4cbeb4a8')\"\n",
              "              title=\"Convert this dataframe to an interactive table.\"\n",
              "              style=\"display:none;\">\n",
              "        \n",
              "  <svg xmlns=\"http://www.w3.org/2000/svg\" height=\"24px\"viewBox=\"0 0 24 24\"\n",
              "       width=\"24px\">\n",
              "    <path d=\"M0 0h24v24H0V0z\" fill=\"none\"/>\n",
              "    <path d=\"M18.56 5.44l.94 2.06.94-2.06 2.06-.94-2.06-.94-.94-2.06-.94 2.06-2.06.94zm-11 1L8.5 8.5l.94-2.06 2.06-.94-2.06-.94L8.5 2.5l-.94 2.06-2.06.94zm10 10l.94 2.06.94-2.06 2.06-.94-2.06-.94-.94-2.06-.94 2.06-2.06.94z\"/><path d=\"M17.41 7.96l-1.37-1.37c-.4-.4-.92-.59-1.43-.59-.52 0-1.04.2-1.43.59L10.3 9.45l-7.72 7.72c-.78.78-.78 2.05 0 2.83L4 21.41c.39.39.9.59 1.41.59.51 0 1.02-.2 1.41-.59l7.78-7.78 2.81-2.81c.8-.78.8-2.07 0-2.86zM5.41 20L4 18.59l7.72-7.72 1.47 1.35L5.41 20z\"/>\n",
              "  </svg>\n",
              "      </button>\n",
              "      \n",
              "  <style>\n",
              "    .colab-df-container {\n",
              "      display:flex;\n",
              "      flex-wrap:wrap;\n",
              "      gap: 12px;\n",
              "    }\n",
              "\n",
              "    .colab-df-convert {\n",
              "      background-color: #E8F0FE;\n",
              "      border: none;\n",
              "      border-radius: 50%;\n",
              "      cursor: pointer;\n",
              "      display: none;\n",
              "      fill: #1967D2;\n",
              "      height: 32px;\n",
              "      padding: 0 0 0 0;\n",
              "      width: 32px;\n",
              "    }\n",
              "\n",
              "    .colab-df-convert:hover {\n",
              "      background-color: #E2EBFA;\n",
              "      box-shadow: 0px 1px 2px rgba(60, 64, 67, 0.3), 0px 1px 3px 1px rgba(60, 64, 67, 0.15);\n",
              "      fill: #174EA6;\n",
              "    }\n",
              "\n",
              "    [theme=dark] .colab-df-convert {\n",
              "      background-color: #3B4455;\n",
              "      fill: #D2E3FC;\n",
              "    }\n",
              "\n",
              "    [theme=dark] .colab-df-convert:hover {\n",
              "      background-color: #434B5C;\n",
              "      box-shadow: 0px 1px 3px 1px rgba(0, 0, 0, 0.15);\n",
              "      filter: drop-shadow(0px 1px 2px rgba(0, 0, 0, 0.3));\n",
              "      fill: #FFFFFF;\n",
              "    }\n",
              "  </style>\n",
              "\n",
              "      <script>\n",
              "        const buttonEl =\n",
              "          document.querySelector('#df-0b7d3fdc-938d-49e6-8bbd-924f4cbeb4a8 button.colab-df-convert');\n",
              "        buttonEl.style.display =\n",
              "          google.colab.kernel.accessAllowed ? 'block' : 'none';\n",
              "\n",
              "        async function convertToInteractive(key) {\n",
              "          const element = document.querySelector('#df-0b7d3fdc-938d-49e6-8bbd-924f4cbeb4a8');\n",
              "          const dataTable =\n",
              "            await google.colab.kernel.invokeFunction('convertToInteractive',\n",
              "                                                     [key], {});\n",
              "          if (!dataTable) return;\n",
              "\n",
              "          const docLinkHtml = 'Like what you see? Visit the ' +\n",
              "            '<a target=\"_blank\" href=https://colab.research.google.com/notebooks/data_table.ipynb>data table notebook</a>'\n",
              "            + ' to learn more about interactive tables.';\n",
              "          element.innerHTML = '';\n",
              "          dataTable['output_type'] = 'display_data';\n",
              "          await google.colab.output.renderOutput(dataTable, element);\n",
              "          const docLink = document.createElement('div');\n",
              "          docLink.innerHTML = docLinkHtml;\n",
              "          element.appendChild(docLink);\n",
              "        }\n",
              "      </script>\n",
              "    </div>\n",
              "  </div>\n",
              "  "
            ]
          },
          "metadata": {},
          "execution_count": 136
        }
      ],
      "source": [
        "important_unigrams[:5]"
      ]
    },
    {
      "cell_type": "markdown",
      "metadata": {
        "id": "XO2gfkoYUGxe"
      },
      "source": [
        "**Verificando a quantidade de palavras na base (com e sem Stopwords)**\n"
      ]
    },
    {
      "cell_type": "code",
      "execution_count": null,
      "metadata": {
        "id": "GbHk5_SYT2DB",
        "colab": {
          "base_uri": "https://localhost:8080/"
        },
        "outputId": "0893d761-fef2-43ff-f39d-b21015d3a0cf"
      },
      "outputs": [
        {
          "output_type": "stream",
          "name": "stdout",
          "text": [
            "Quantidade de palavras com Stopwords: 81007 palavras\n",
            "Quantidade de palavras sem Stopwords: 53598 palavras\n"
          ]
        }
      ],
      "source": [
        "lista_quantidade_palavras_base_hatebr_com_sw = []\n",
        "quantidade_palavras_com_sw = 0\n",
        "for texto in base_hatebr ['instagram_comments']:\n",
        "  palavras = texto.split(' ')\n",
        "  lista_quantidade_palavras_base_hatebr_com_sw.append(len(palavras))\n",
        "  quantidade_palavras_com_sw += len(palavras)\n",
        "\n",
        "lista_quantidade_palavras_base_hatebr_sem_sw = []\n",
        "quantidade_palavras_sem_sw = 0\n",
        "for texto in comments:\n",
        "  palavras = texto.split(' ')\n",
        "  lista_quantidade_palavras_base_hatebr_sem_sw.append(len(palavras))\n",
        "  quantidade_palavras_sem_sw += len(palavras)\n",
        "\n",
        "\n",
        "print(f'Quantidade de palavras com Stopwords: {quantidade_palavras_com_sw} palavras')\n",
        "print(f'Quantidade de palavras sem Stopwords: {quantidade_palavras_sem_sw} palavras')"
      ]
    },
    {
      "cell_type": "code",
      "source": [
        "tam_base = len(base_hatebr ['instagram_comments'])\n",
        "\n",
        "print(tam_base)\n",
        "\n",
        "print(f'Tamanho médio da base com Stop Words: {round(quantidade_palavras_com_sw/tam_base, 2)} ')\n",
        "print(f'Tamanho médio da base sem Stop Words: {round(quantidade_palavras_sem_sw/tam_base, 2)} \\n')\n",
        "\n",
        "print(f'Desvio padrão da base com Stop Words: {round(np.std(lista_quantidade_palavras_base_hatebr_com_sw),2)}')\n",
        "print(f'Desvio padrão da base sem Stop Words: {round(np.std(lista_quantidade_palavras_base_hatebr_sem_sw),2)}')\n",
        "\n"
      ],
      "metadata": {
        "colab": {
          "base_uri": "https://localhost:8080/"
        },
        "id": "csmp2J8Rn0cb",
        "outputId": "810f9926-e26d-41b4-d9dd-e9f4a45ad5ea"
      },
      "execution_count": null,
      "outputs": [
        {
          "output_type": "stream",
          "name": "stdout",
          "text": [
            "7000\n",
            "Tamanho médio da base com Stop Words: 11.57 \n",
            "Tamanho médio da base sem Stop Words: 7.66 \n",
            "\n",
            "Desvio padrão da base com Stop Words: 14.25\n",
            "Desvio padrão da base sem Stop Words: 9.16\n"
          ]
        }
      ]
    },
    {
      "cell_type": "markdown",
      "metadata": {
        "id": "6QSLgylbB9AB"
      },
      "source": [
        "# Base de dados Artigo 3 (OffComBR2 e OffComBR3)"
      ]
    },
    {
      "cell_type": "code",
      "execution_count": 91,
      "metadata": {
        "id": "zf_smICj-hrC"
      },
      "outputs": [],
      "source": [
        "base_offcombr2 = pd.read_csv('/content/drive/MyDrive/Dataset/OffComBR2.csv')"
      ]
    },
    {
      "cell_type": "code",
      "execution_count": 92,
      "metadata": {
        "id": "Nsdlqk_r-y_K",
        "colab": {
          "base_uri": "https://localhost:8080/",
          "height": 423
        },
        "outputId": "6c3e334c-0a8b-405a-c1b9-3cca6f654ddc"
      },
      "outputs": [
        {
          "output_type": "execute_result",
          "data": {
            "text/plain": [
              "     Class                                              Texto\n",
              "0      yes              Votaram no PEZAO Agora tomem no CZAO'\n",
              "1       no  cuidado com a poupanca pessoal Lembram o que a...\n",
              "2       no  Sabe o que eu acho engracado os nossos governa...\n",
              "3      yes  os cariocas tem o que merecem um pessoal que s...\n",
              "4       no             Podiam retirar dos lucros dos bancos '\n",
              "...    ...                                                ...\n",
              "1245   yes                                       LIXO DO CRL'\n",
              "1246   yes  ela esta fazendo isso para aparecer Nao e gay ...\n",
              "1247   yes  Volta pra jaula sua macaca vou pegar meu xicot...\n",
              "1248   yes  Achei que a macaca vivia apenas na floresta ou...\n",
              "1249   yes  Espera essa neve derreter e usa ela pra lavar ...\n",
              "\n",
              "[1250 rows x 2 columns]"
            ],
            "text/html": [
              "\n",
              "  <div id=\"df-d63adde3-424c-4f6a-b3e5-ea3a2247de1e\">\n",
              "    <div class=\"colab-df-container\">\n",
              "      <div>\n",
              "<style scoped>\n",
              "    .dataframe tbody tr th:only-of-type {\n",
              "        vertical-align: middle;\n",
              "    }\n",
              "\n",
              "    .dataframe tbody tr th {\n",
              "        vertical-align: top;\n",
              "    }\n",
              "\n",
              "    .dataframe thead th {\n",
              "        text-align: right;\n",
              "    }\n",
              "</style>\n",
              "<table border=\"1\" class=\"dataframe\">\n",
              "  <thead>\n",
              "    <tr style=\"text-align: right;\">\n",
              "      <th></th>\n",
              "      <th>Class</th>\n",
              "      <th>Texto</th>\n",
              "    </tr>\n",
              "  </thead>\n",
              "  <tbody>\n",
              "    <tr>\n",
              "      <th>0</th>\n",
              "      <td>yes</td>\n",
              "      <td>Votaram no PEZAO Agora tomem no CZAO'</td>\n",
              "    </tr>\n",
              "    <tr>\n",
              "      <th>1</th>\n",
              "      <td>no</td>\n",
              "      <td>cuidado com a poupanca pessoal Lembram o que a...</td>\n",
              "    </tr>\n",
              "    <tr>\n",
              "      <th>2</th>\n",
              "      <td>no</td>\n",
              "      <td>Sabe o que eu acho engracado os nossos governa...</td>\n",
              "    </tr>\n",
              "    <tr>\n",
              "      <th>3</th>\n",
              "      <td>yes</td>\n",
              "      <td>os cariocas tem o que merecem um pessoal que s...</td>\n",
              "    </tr>\n",
              "    <tr>\n",
              "      <th>4</th>\n",
              "      <td>no</td>\n",
              "      <td>Podiam retirar dos lucros dos bancos '</td>\n",
              "    </tr>\n",
              "    <tr>\n",
              "      <th>...</th>\n",
              "      <td>...</td>\n",
              "      <td>...</td>\n",
              "    </tr>\n",
              "    <tr>\n",
              "      <th>1245</th>\n",
              "      <td>yes</td>\n",
              "      <td>LIXO DO CRL'</td>\n",
              "    </tr>\n",
              "    <tr>\n",
              "      <th>1246</th>\n",
              "      <td>yes</td>\n",
              "      <td>ela esta fazendo isso para aparecer Nao e gay ...</td>\n",
              "    </tr>\n",
              "    <tr>\n",
              "      <th>1247</th>\n",
              "      <td>yes</td>\n",
              "      <td>Volta pra jaula sua macaca vou pegar meu xicot...</td>\n",
              "    </tr>\n",
              "    <tr>\n",
              "      <th>1248</th>\n",
              "      <td>yes</td>\n",
              "      <td>Achei que a macaca vivia apenas na floresta ou...</td>\n",
              "    </tr>\n",
              "    <tr>\n",
              "      <th>1249</th>\n",
              "      <td>yes</td>\n",
              "      <td>Espera essa neve derreter e usa ela pra lavar ...</td>\n",
              "    </tr>\n",
              "  </tbody>\n",
              "</table>\n",
              "<p>1250 rows × 2 columns</p>\n",
              "</div>\n",
              "      <button class=\"colab-df-convert\" onclick=\"convertToInteractive('df-d63adde3-424c-4f6a-b3e5-ea3a2247de1e')\"\n",
              "              title=\"Convert this dataframe to an interactive table.\"\n",
              "              style=\"display:none;\">\n",
              "        \n",
              "  <svg xmlns=\"http://www.w3.org/2000/svg\" height=\"24px\"viewBox=\"0 0 24 24\"\n",
              "       width=\"24px\">\n",
              "    <path d=\"M0 0h24v24H0V0z\" fill=\"none\"/>\n",
              "    <path d=\"M18.56 5.44l.94 2.06.94-2.06 2.06-.94-2.06-.94-.94-2.06-.94 2.06-2.06.94zm-11 1L8.5 8.5l.94-2.06 2.06-.94-2.06-.94L8.5 2.5l-.94 2.06-2.06.94zm10 10l.94 2.06.94-2.06 2.06-.94-2.06-.94-.94-2.06-.94 2.06-2.06.94z\"/><path d=\"M17.41 7.96l-1.37-1.37c-.4-.4-.92-.59-1.43-.59-.52 0-1.04.2-1.43.59L10.3 9.45l-7.72 7.72c-.78.78-.78 2.05 0 2.83L4 21.41c.39.39.9.59 1.41.59.51 0 1.02-.2 1.41-.59l7.78-7.78 2.81-2.81c.8-.78.8-2.07 0-2.86zM5.41 20L4 18.59l7.72-7.72 1.47 1.35L5.41 20z\"/>\n",
              "  </svg>\n",
              "      </button>\n",
              "      \n",
              "  <style>\n",
              "    .colab-df-container {\n",
              "      display:flex;\n",
              "      flex-wrap:wrap;\n",
              "      gap: 12px;\n",
              "    }\n",
              "\n",
              "    .colab-df-convert {\n",
              "      background-color: #E8F0FE;\n",
              "      border: none;\n",
              "      border-radius: 50%;\n",
              "      cursor: pointer;\n",
              "      display: none;\n",
              "      fill: #1967D2;\n",
              "      height: 32px;\n",
              "      padding: 0 0 0 0;\n",
              "      width: 32px;\n",
              "    }\n",
              "\n",
              "    .colab-df-convert:hover {\n",
              "      background-color: #E2EBFA;\n",
              "      box-shadow: 0px 1px 2px rgba(60, 64, 67, 0.3), 0px 1px 3px 1px rgba(60, 64, 67, 0.15);\n",
              "      fill: #174EA6;\n",
              "    }\n",
              "\n",
              "    [theme=dark] .colab-df-convert {\n",
              "      background-color: #3B4455;\n",
              "      fill: #D2E3FC;\n",
              "    }\n",
              "\n",
              "    [theme=dark] .colab-df-convert:hover {\n",
              "      background-color: #434B5C;\n",
              "      box-shadow: 0px 1px 3px 1px rgba(0, 0, 0, 0.15);\n",
              "      filter: drop-shadow(0px 1px 2px rgba(0, 0, 0, 0.3));\n",
              "      fill: #FFFFFF;\n",
              "    }\n",
              "  </style>\n",
              "\n",
              "      <script>\n",
              "        const buttonEl =\n",
              "          document.querySelector('#df-d63adde3-424c-4f6a-b3e5-ea3a2247de1e button.colab-df-convert');\n",
              "        buttonEl.style.display =\n",
              "          google.colab.kernel.accessAllowed ? 'block' : 'none';\n",
              "\n",
              "        async function convertToInteractive(key) {\n",
              "          const element = document.querySelector('#df-d63adde3-424c-4f6a-b3e5-ea3a2247de1e');\n",
              "          const dataTable =\n",
              "            await google.colab.kernel.invokeFunction('convertToInteractive',\n",
              "                                                     [key], {});\n",
              "          if (!dataTable) return;\n",
              "\n",
              "          const docLinkHtml = 'Like what you see? Visit the ' +\n",
              "            '<a target=\"_blank\" href=https://colab.research.google.com/notebooks/data_table.ipynb>data table notebook</a>'\n",
              "            + ' to learn more about interactive tables.';\n",
              "          element.innerHTML = '';\n",
              "          dataTable['output_type'] = 'display_data';\n",
              "          await google.colab.output.renderOutput(dataTable, element);\n",
              "          const docLink = document.createElement('div');\n",
              "          docLink.innerHTML = docLinkHtml;\n",
              "          element.appendChild(docLink);\n",
              "        }\n",
              "      </script>\n",
              "    </div>\n",
              "  </div>\n",
              "  "
            ]
          },
          "metadata": {},
          "execution_count": 92
        }
      ],
      "source": [
        "base_offcombr2"
      ]
    },
    {
      "cell_type": "code",
      "execution_count": 93,
      "metadata": {
        "id": "6c7MYo4rwpk0",
        "colab": {
          "base_uri": "https://localhost:8080/"
        },
        "outputId": "2da84cd1-af44-45e8-9c73-a357bbe07687"
      },
      "outputs": [
        {
          "output_type": "execute_result",
          "data": {
            "text/plain": [
              "no     831\n",
              "yes    419\n",
              "Name: Class, dtype: int64"
            ]
          },
          "metadata": {},
          "execution_count": 93
        }
      ],
      "source": [
        "# np.unique(base_offcombr2['Class'], return_counts= True)\n",
        "base_offcombr2['Class'].value_counts()"
      ]
    },
    {
      "cell_type": "code",
      "execution_count": 94,
      "metadata": {
        "id": "la8t6e_Euoek"
      },
      "outputs": [],
      "source": [
        "comments = [] \n",
        "stop_words = set(stopwords.words('portuguese')) #setando o banco de stopwords em PT-BR\n",
        "\n",
        "for words in base_offcombr2 ['Texto']:\n",
        "  only_latters =re.sub(\"[^a-zA-Z]\", \" \", words) # somente letras\n",
        "  tokens = nltk.word_tokenize(only_latters) # tokenize the sentence \n",
        "  lower_case = [l.lower() for l in tokens] # converter all letters to low case \n",
        "  filtered_result = list(filter(lambda l: l not in stop_words, lower_case)) # Remove stopwords from the comments\n",
        "  comments.append(' '.join(filtered_result))\n"
      ]
    },
    {
      "cell_type": "code",
      "execution_count": 95,
      "metadata": {
        "id": "OcWEyH4Luzlc",
        "colab": {
          "base_uri": "https://localhost:8080/"
        },
        "outputId": "4ccf2ca0-a1e3-460c-f65c-204517587d5b"
      },
      "outputs": [
        {
          "output_type": "stream",
          "name": "stderr",
          "text": [
            "/usr/local/lib/python3.8/dist-packages/sklearn/utils/deprecation.py:87: FutureWarning: Function get_feature_names is deprecated; get_feature_names is deprecated in 1.0 and will be removed in 1.2. Please use get_feature_names_out instead.\n",
            "  warnings.warn(msg, category=FutureWarning)\n"
          ]
        }
      ],
      "source": [
        "#using CountVectorizer to get the most important unigrams\n",
        "co = CountVectorizer(ngram_range=(1,1))\n",
        "count = co.fit_transform(comments)\n",
        "important_unigrams =pd.DataFrame(count.sum(axis=0), columns=co.get_feature_names()).T.sort_values(0, ascending = False)"
      ]
    },
    {
      "cell_type": "code",
      "execution_count": 96,
      "metadata": {
        "id": "2_WGUdonu1vF",
        "colab": {
          "base_uri": "https://localhost:8080/",
          "height": 206
        },
        "outputId": "369b9e44-fe35-4684-836b-468e3d44b200"
      },
      "outputs": [
        {
          "output_type": "execute_result",
          "data": {
            "text/plain": [
              "       0\n",
              "nao  340\n",
              "vai  131\n",
              "so   107\n",
              "pra   97\n",
              "ja    75"
            ],
            "text/html": [
              "\n",
              "  <div id=\"df-b6f80185-b9c6-40c6-bd21-c33553b05cbd\">\n",
              "    <div class=\"colab-df-container\">\n",
              "      <div>\n",
              "<style scoped>\n",
              "    .dataframe tbody tr th:only-of-type {\n",
              "        vertical-align: middle;\n",
              "    }\n",
              "\n",
              "    .dataframe tbody tr th {\n",
              "        vertical-align: top;\n",
              "    }\n",
              "\n",
              "    .dataframe thead th {\n",
              "        text-align: right;\n",
              "    }\n",
              "</style>\n",
              "<table border=\"1\" class=\"dataframe\">\n",
              "  <thead>\n",
              "    <tr style=\"text-align: right;\">\n",
              "      <th></th>\n",
              "      <th>0</th>\n",
              "    </tr>\n",
              "  </thead>\n",
              "  <tbody>\n",
              "    <tr>\n",
              "      <th>nao</th>\n",
              "      <td>340</td>\n",
              "    </tr>\n",
              "    <tr>\n",
              "      <th>vai</th>\n",
              "      <td>131</td>\n",
              "    </tr>\n",
              "    <tr>\n",
              "      <th>so</th>\n",
              "      <td>107</td>\n",
              "    </tr>\n",
              "    <tr>\n",
              "      <th>pra</th>\n",
              "      <td>97</td>\n",
              "    </tr>\n",
              "    <tr>\n",
              "      <th>ja</th>\n",
              "      <td>75</td>\n",
              "    </tr>\n",
              "  </tbody>\n",
              "</table>\n",
              "</div>\n",
              "      <button class=\"colab-df-convert\" onclick=\"convertToInteractive('df-b6f80185-b9c6-40c6-bd21-c33553b05cbd')\"\n",
              "              title=\"Convert this dataframe to an interactive table.\"\n",
              "              style=\"display:none;\">\n",
              "        \n",
              "  <svg xmlns=\"http://www.w3.org/2000/svg\" height=\"24px\"viewBox=\"0 0 24 24\"\n",
              "       width=\"24px\">\n",
              "    <path d=\"M0 0h24v24H0V0z\" fill=\"none\"/>\n",
              "    <path d=\"M18.56 5.44l.94 2.06.94-2.06 2.06-.94-2.06-.94-.94-2.06-.94 2.06-2.06.94zm-11 1L8.5 8.5l.94-2.06 2.06-.94-2.06-.94L8.5 2.5l-.94 2.06-2.06.94zm10 10l.94 2.06.94-2.06 2.06-.94-2.06-.94-.94-2.06-.94 2.06-2.06.94z\"/><path d=\"M17.41 7.96l-1.37-1.37c-.4-.4-.92-.59-1.43-.59-.52 0-1.04.2-1.43.59L10.3 9.45l-7.72 7.72c-.78.78-.78 2.05 0 2.83L4 21.41c.39.39.9.59 1.41.59.51 0 1.02-.2 1.41-.59l7.78-7.78 2.81-2.81c.8-.78.8-2.07 0-2.86zM5.41 20L4 18.59l7.72-7.72 1.47 1.35L5.41 20z\"/>\n",
              "  </svg>\n",
              "      </button>\n",
              "      \n",
              "  <style>\n",
              "    .colab-df-container {\n",
              "      display:flex;\n",
              "      flex-wrap:wrap;\n",
              "      gap: 12px;\n",
              "    }\n",
              "\n",
              "    .colab-df-convert {\n",
              "      background-color: #E8F0FE;\n",
              "      border: none;\n",
              "      border-radius: 50%;\n",
              "      cursor: pointer;\n",
              "      display: none;\n",
              "      fill: #1967D2;\n",
              "      height: 32px;\n",
              "      padding: 0 0 0 0;\n",
              "      width: 32px;\n",
              "    }\n",
              "\n",
              "    .colab-df-convert:hover {\n",
              "      background-color: #E2EBFA;\n",
              "      box-shadow: 0px 1px 2px rgba(60, 64, 67, 0.3), 0px 1px 3px 1px rgba(60, 64, 67, 0.15);\n",
              "      fill: #174EA6;\n",
              "    }\n",
              "\n",
              "    [theme=dark] .colab-df-convert {\n",
              "      background-color: #3B4455;\n",
              "      fill: #D2E3FC;\n",
              "    }\n",
              "\n",
              "    [theme=dark] .colab-df-convert:hover {\n",
              "      background-color: #434B5C;\n",
              "      box-shadow: 0px 1px 3px 1px rgba(0, 0, 0, 0.15);\n",
              "      filter: drop-shadow(0px 1px 2px rgba(0, 0, 0, 0.3));\n",
              "      fill: #FFFFFF;\n",
              "    }\n",
              "  </style>\n",
              "\n",
              "      <script>\n",
              "        const buttonEl =\n",
              "          document.querySelector('#df-b6f80185-b9c6-40c6-bd21-c33553b05cbd button.colab-df-convert');\n",
              "        buttonEl.style.display =\n",
              "          google.colab.kernel.accessAllowed ? 'block' : 'none';\n",
              "\n",
              "        async function convertToInteractive(key) {\n",
              "          const element = document.querySelector('#df-b6f80185-b9c6-40c6-bd21-c33553b05cbd');\n",
              "          const dataTable =\n",
              "            await google.colab.kernel.invokeFunction('convertToInteractive',\n",
              "                                                     [key], {});\n",
              "          if (!dataTable) return;\n",
              "\n",
              "          const docLinkHtml = 'Like what you see? Visit the ' +\n",
              "            '<a target=\"_blank\" href=https://colab.research.google.com/notebooks/data_table.ipynb>data table notebook</a>'\n",
              "            + ' to learn more about interactive tables.';\n",
              "          element.innerHTML = '';\n",
              "          dataTable['output_type'] = 'display_data';\n",
              "          await google.colab.output.renderOutput(dataTable, element);\n",
              "          const docLink = document.createElement('div');\n",
              "          docLink.innerHTML = docLinkHtml;\n",
              "          element.appendChild(docLink);\n",
              "        }\n",
              "      </script>\n",
              "    </div>\n",
              "  </div>\n",
              "  "
            ]
          },
          "metadata": {},
          "execution_count": 96
        }
      ],
      "source": [
        "important_unigrams[:5]"
      ]
    },
    {
      "cell_type": "code",
      "execution_count": 97,
      "metadata": {
        "id": "SeqOPVd9XRMP",
        "colab": {
          "base_uri": "https://localhost:8080/"
        },
        "outputId": "9feea171-9771-4379-dcf0-c700ade011dc"
      },
      "outputs": [
        {
          "output_type": "stream",
          "name": "stderr",
          "text": [
            "/usr/local/lib/python3.8/dist-packages/sklearn/utils/deprecation.py:87: FutureWarning: Function get_feature_names is deprecated; get_feature_names is deprecated in 1.0 and will be removed in 1.2. Please use get_feature_names_out instead.\n",
            "  warnings.warn(msg, category=FutureWarning)\n"
          ]
        }
      ],
      "source": [
        "#using CountVectorizer to get the most important unigrams\n",
        "co = CountVectorizer(ngram_range=(1,1))\n",
        "count = co.fit_transform(base_offcombr2 ['Texto'])\n",
        "important_unigrams =pd.DataFrame(count.sum(axis=0), columns=co.get_feature_names()).T.sort_values(0, ascending = False)"
      ]
    },
    {
      "cell_type": "code",
      "execution_count": 98,
      "metadata": {
        "id": "-H9mRakzXcLR",
        "colab": {
          "base_uri": "https://localhost:8080/",
          "height": 206
        },
        "outputId": "7ea56373-4c4c-45de-9ae9-052bbc955e3d"
      },
      "outputs": [
        {
          "output_type": "execute_result",
          "data": {
            "text/plain": [
              "       0\n",
              "de   474\n",
              "que  462\n",
              "nao  340\n",
              "do   212\n",
              "da   160"
            ],
            "text/html": [
              "\n",
              "  <div id=\"df-77c97add-61f3-48ff-9abe-ee1e1b7bea35\">\n",
              "    <div class=\"colab-df-container\">\n",
              "      <div>\n",
              "<style scoped>\n",
              "    .dataframe tbody tr th:only-of-type {\n",
              "        vertical-align: middle;\n",
              "    }\n",
              "\n",
              "    .dataframe tbody tr th {\n",
              "        vertical-align: top;\n",
              "    }\n",
              "\n",
              "    .dataframe thead th {\n",
              "        text-align: right;\n",
              "    }\n",
              "</style>\n",
              "<table border=\"1\" class=\"dataframe\">\n",
              "  <thead>\n",
              "    <tr style=\"text-align: right;\">\n",
              "      <th></th>\n",
              "      <th>0</th>\n",
              "    </tr>\n",
              "  </thead>\n",
              "  <tbody>\n",
              "    <tr>\n",
              "      <th>de</th>\n",
              "      <td>474</td>\n",
              "    </tr>\n",
              "    <tr>\n",
              "      <th>que</th>\n",
              "      <td>462</td>\n",
              "    </tr>\n",
              "    <tr>\n",
              "      <th>nao</th>\n",
              "      <td>340</td>\n",
              "    </tr>\n",
              "    <tr>\n",
              "      <th>do</th>\n",
              "      <td>212</td>\n",
              "    </tr>\n",
              "    <tr>\n",
              "      <th>da</th>\n",
              "      <td>160</td>\n",
              "    </tr>\n",
              "  </tbody>\n",
              "</table>\n",
              "</div>\n",
              "      <button class=\"colab-df-convert\" onclick=\"convertToInteractive('df-77c97add-61f3-48ff-9abe-ee1e1b7bea35')\"\n",
              "              title=\"Convert this dataframe to an interactive table.\"\n",
              "              style=\"display:none;\">\n",
              "        \n",
              "  <svg xmlns=\"http://www.w3.org/2000/svg\" height=\"24px\"viewBox=\"0 0 24 24\"\n",
              "       width=\"24px\">\n",
              "    <path d=\"M0 0h24v24H0V0z\" fill=\"none\"/>\n",
              "    <path d=\"M18.56 5.44l.94 2.06.94-2.06 2.06-.94-2.06-.94-.94-2.06-.94 2.06-2.06.94zm-11 1L8.5 8.5l.94-2.06 2.06-.94-2.06-.94L8.5 2.5l-.94 2.06-2.06.94zm10 10l.94 2.06.94-2.06 2.06-.94-2.06-.94-.94-2.06-.94 2.06-2.06.94z\"/><path d=\"M17.41 7.96l-1.37-1.37c-.4-.4-.92-.59-1.43-.59-.52 0-1.04.2-1.43.59L10.3 9.45l-7.72 7.72c-.78.78-.78 2.05 0 2.83L4 21.41c.39.39.9.59 1.41.59.51 0 1.02-.2 1.41-.59l7.78-7.78 2.81-2.81c.8-.78.8-2.07 0-2.86zM5.41 20L4 18.59l7.72-7.72 1.47 1.35L5.41 20z\"/>\n",
              "  </svg>\n",
              "      </button>\n",
              "      \n",
              "  <style>\n",
              "    .colab-df-container {\n",
              "      display:flex;\n",
              "      flex-wrap:wrap;\n",
              "      gap: 12px;\n",
              "    }\n",
              "\n",
              "    .colab-df-convert {\n",
              "      background-color: #E8F0FE;\n",
              "      border: none;\n",
              "      border-radius: 50%;\n",
              "      cursor: pointer;\n",
              "      display: none;\n",
              "      fill: #1967D2;\n",
              "      height: 32px;\n",
              "      padding: 0 0 0 0;\n",
              "      width: 32px;\n",
              "    }\n",
              "\n",
              "    .colab-df-convert:hover {\n",
              "      background-color: #E2EBFA;\n",
              "      box-shadow: 0px 1px 2px rgba(60, 64, 67, 0.3), 0px 1px 3px 1px rgba(60, 64, 67, 0.15);\n",
              "      fill: #174EA6;\n",
              "    }\n",
              "\n",
              "    [theme=dark] .colab-df-convert {\n",
              "      background-color: #3B4455;\n",
              "      fill: #D2E3FC;\n",
              "    }\n",
              "\n",
              "    [theme=dark] .colab-df-convert:hover {\n",
              "      background-color: #434B5C;\n",
              "      box-shadow: 0px 1px 3px 1px rgba(0, 0, 0, 0.15);\n",
              "      filter: drop-shadow(0px 1px 2px rgba(0, 0, 0, 0.3));\n",
              "      fill: #FFFFFF;\n",
              "    }\n",
              "  </style>\n",
              "\n",
              "      <script>\n",
              "        const buttonEl =\n",
              "          document.querySelector('#df-77c97add-61f3-48ff-9abe-ee1e1b7bea35 button.colab-df-convert');\n",
              "        buttonEl.style.display =\n",
              "          google.colab.kernel.accessAllowed ? 'block' : 'none';\n",
              "\n",
              "        async function convertToInteractive(key) {\n",
              "          const element = document.querySelector('#df-77c97add-61f3-48ff-9abe-ee1e1b7bea35');\n",
              "          const dataTable =\n",
              "            await google.colab.kernel.invokeFunction('convertToInteractive',\n",
              "                                                     [key], {});\n",
              "          if (!dataTable) return;\n",
              "\n",
              "          const docLinkHtml = 'Like what you see? Visit the ' +\n",
              "            '<a target=\"_blank\" href=https://colab.research.google.com/notebooks/data_table.ipynb>data table notebook</a>'\n",
              "            + ' to learn more about interactive tables.';\n",
              "          element.innerHTML = '';\n",
              "          dataTable['output_type'] = 'display_data';\n",
              "          await google.colab.output.renderOutput(dataTable, element);\n",
              "          const docLink = document.createElement('div');\n",
              "          docLink.innerHTML = docLinkHtml;\n",
              "          element.appendChild(docLink);\n",
              "        }\n",
              "      </script>\n",
              "    </div>\n",
              "  </div>\n",
              "  "
            ]
          },
          "metadata": {},
          "execution_count": 98
        }
      ],
      "source": [
        "important_unigrams[:5]"
      ]
    },
    {
      "cell_type": "code",
      "execution_count": 99,
      "metadata": {
        "id": "GL-N5tqv0T1J",
        "colab": {
          "base_uri": "https://localhost:8080/"
        },
        "outputId": "0b1349b0-b0b1-4cbd-f35c-d51f7a91d65d"
      },
      "outputs": [
        {
          "output_type": "stream",
          "name": "stdout",
          "text": [
            "Quantidade de palavras com Stopwords: 17156 palavras\n",
            "Quantidade de palavras sem Stopwords: 10112 palavras\n"
          ]
        }
      ],
      "source": [
        "lista_quantidade_palavras_base_offcombr2_com_sw = []\n",
        "quantidade_palavras_com_sw = 0\n",
        "for texto in base_offcombr2['Texto']:\n",
        "  palavras = texto.split(' ')\n",
        "  lista_quantidade_palavras_base_offcombr2_com_sw.append(len(palavras))\n",
        "  quantidade_palavras_com_sw += len(palavras)\n",
        "\n",
        "lista_quantidade_palavras_base_offcombr2_sem_sw = []\n",
        "quantidade_palavras_sem_sw = 0\n",
        "for texto in comments:\n",
        "  palavras = texto.split(' ')\n",
        "  lista_quantidade_palavras_base_offcombr2_sem_sw.append(len(palavras))\n",
        "  quantidade_palavras_sem_sw += len(palavras)\n",
        "\n",
        "\n",
        "print(f'Quantidade de palavras com Stopwords: {quantidade_palavras_com_sw} palavras')\n",
        "print(f'Quantidade de palavras sem Stopwords: {quantidade_palavras_sem_sw} palavras')"
      ]
    },
    {
      "cell_type": "code",
      "source": [
        "tam_base = len(base_offcombr2 ['Texto'])\n",
        "\n",
        "print(f'Tamanho médio da base com Stop Words: {round(quantidade_palavras_com_sw/tam_base, 2)} ')\n",
        "print(f'Tamanho médio da base sem Stop Words: {round(quantidade_palavras_sem_sw/tam_base, 2)} \\n')\n",
        "\n",
        "print(f'Desvio padrão da base com Stop Words: {round(np.std(lista_quantidade_palavras_base_offcombr2_com_sw),2)}')\n",
        "print(f'Desvio padrão da base sem Stop Words: {round(np.std( lista_quantidade_palavras_base_offcombr2_sem_sw),2)}')\n"
      ],
      "metadata": {
        "colab": {
          "base_uri": "https://localhost:8080/"
        },
        "id": "5OXoI4L3rBsS",
        "outputId": "89ea8037-2985-4e3f-cc11-93447502fe82"
      },
      "execution_count": 100,
      "outputs": [
        {
          "output_type": "stream",
          "name": "stdout",
          "text": [
            "Tamanho médio da base com Stop Words: 13.72 \n",
            "Tamanho médio da base sem Stop Words: 8.09 \n",
            "\n",
            "Desvio padrão da base com Stop Words: 11.36\n",
            "Desvio padrão da base sem Stop Words: 6.54\n"
          ]
        }
      ]
    },
    {
      "cell_type": "code",
      "execution_count": 101,
      "metadata": {
        "id": "b8lsm6Vw_tuz"
      },
      "outputs": [],
      "source": [
        "base_offcombr3 = pd.read_csv('/content/drive/MyDrive/Dataset/OffComBR3.csv')"
      ]
    },
    {
      "cell_type": "code",
      "execution_count": 102,
      "metadata": {
        "id": "gFcXdKD6AIcJ",
        "colab": {
          "base_uri": "https://localhost:8080/",
          "height": 423
        },
        "outputId": "35f2e705-28d1-417c-85ca-c354e7f813e3"
      },
      "outputs": [
        {
          "output_type": "execute_result",
          "data": {
            "text/plain": [
              "     Class                                              Texto\n",
              "0      yes              Votaram no PEZAO Agora tomem no CZAO'\n",
              "1       no  cuidado com a poupanca pessoal Lembram o que a...\n",
              "2       no  Sabe o que eu acho engracado os nossos governa...\n",
              "3       no             Podiam retirar dos lucros dos bancos '\n",
              "4       no  CADE O GALVAO PRA NARRAR AGORA   FALIIIIUUUUUU...\n",
              "...    ...                                                ...\n",
              "1028    no  Cruz so tem agilidade mesmo poder de nocaute z...\n",
              "1029    no  Meus caros amigos enigmaticosNao deveriam comp...\n",
              "1030   yes  Ele chamava pra atras da escola e sentava nos ...\n",
              "1031    no  Jhalim Rabei ate fiquei assustado comecei a le...\n",
              "1032    no  Irmao Honorato sempre falando verdades e agind...\n",
              "\n",
              "[1033 rows x 2 columns]"
            ],
            "text/html": [
              "\n",
              "  <div id=\"df-0cdf54ec-48ac-4d1e-a199-af3b4bf4984f\">\n",
              "    <div class=\"colab-df-container\">\n",
              "      <div>\n",
              "<style scoped>\n",
              "    .dataframe tbody tr th:only-of-type {\n",
              "        vertical-align: middle;\n",
              "    }\n",
              "\n",
              "    .dataframe tbody tr th {\n",
              "        vertical-align: top;\n",
              "    }\n",
              "\n",
              "    .dataframe thead th {\n",
              "        text-align: right;\n",
              "    }\n",
              "</style>\n",
              "<table border=\"1\" class=\"dataframe\">\n",
              "  <thead>\n",
              "    <tr style=\"text-align: right;\">\n",
              "      <th></th>\n",
              "      <th>Class</th>\n",
              "      <th>Texto</th>\n",
              "    </tr>\n",
              "  </thead>\n",
              "  <tbody>\n",
              "    <tr>\n",
              "      <th>0</th>\n",
              "      <td>yes</td>\n",
              "      <td>Votaram no PEZAO Agora tomem no CZAO'</td>\n",
              "    </tr>\n",
              "    <tr>\n",
              "      <th>1</th>\n",
              "      <td>no</td>\n",
              "      <td>cuidado com a poupanca pessoal Lembram o que a...</td>\n",
              "    </tr>\n",
              "    <tr>\n",
              "      <th>2</th>\n",
              "      <td>no</td>\n",
              "      <td>Sabe o que eu acho engracado os nossos governa...</td>\n",
              "    </tr>\n",
              "    <tr>\n",
              "      <th>3</th>\n",
              "      <td>no</td>\n",
              "      <td>Podiam retirar dos lucros dos bancos '</td>\n",
              "    </tr>\n",
              "    <tr>\n",
              "      <th>4</th>\n",
              "      <td>no</td>\n",
              "      <td>CADE O GALVAO PRA NARRAR AGORA   FALIIIIUUUUUU...</td>\n",
              "    </tr>\n",
              "    <tr>\n",
              "      <th>...</th>\n",
              "      <td>...</td>\n",
              "      <td>...</td>\n",
              "    </tr>\n",
              "    <tr>\n",
              "      <th>1028</th>\n",
              "      <td>no</td>\n",
              "      <td>Cruz so tem agilidade mesmo poder de nocaute z...</td>\n",
              "    </tr>\n",
              "    <tr>\n",
              "      <th>1029</th>\n",
              "      <td>no</td>\n",
              "      <td>Meus caros amigos enigmaticosNao deveriam comp...</td>\n",
              "    </tr>\n",
              "    <tr>\n",
              "      <th>1030</th>\n",
              "      <td>yes</td>\n",
              "      <td>Ele chamava pra atras da escola e sentava nos ...</td>\n",
              "    </tr>\n",
              "    <tr>\n",
              "      <th>1031</th>\n",
              "      <td>no</td>\n",
              "      <td>Jhalim Rabei ate fiquei assustado comecei a le...</td>\n",
              "    </tr>\n",
              "    <tr>\n",
              "      <th>1032</th>\n",
              "      <td>no</td>\n",
              "      <td>Irmao Honorato sempre falando verdades e agind...</td>\n",
              "    </tr>\n",
              "  </tbody>\n",
              "</table>\n",
              "<p>1033 rows × 2 columns</p>\n",
              "</div>\n",
              "      <button class=\"colab-df-convert\" onclick=\"convertToInteractive('df-0cdf54ec-48ac-4d1e-a199-af3b4bf4984f')\"\n",
              "              title=\"Convert this dataframe to an interactive table.\"\n",
              "              style=\"display:none;\">\n",
              "        \n",
              "  <svg xmlns=\"http://www.w3.org/2000/svg\" height=\"24px\"viewBox=\"0 0 24 24\"\n",
              "       width=\"24px\">\n",
              "    <path d=\"M0 0h24v24H0V0z\" fill=\"none\"/>\n",
              "    <path d=\"M18.56 5.44l.94 2.06.94-2.06 2.06-.94-2.06-.94-.94-2.06-.94 2.06-2.06.94zm-11 1L8.5 8.5l.94-2.06 2.06-.94-2.06-.94L8.5 2.5l-.94 2.06-2.06.94zm10 10l.94 2.06.94-2.06 2.06-.94-2.06-.94-.94-2.06-.94 2.06-2.06.94z\"/><path d=\"M17.41 7.96l-1.37-1.37c-.4-.4-.92-.59-1.43-.59-.52 0-1.04.2-1.43.59L10.3 9.45l-7.72 7.72c-.78.78-.78 2.05 0 2.83L4 21.41c.39.39.9.59 1.41.59.51 0 1.02-.2 1.41-.59l7.78-7.78 2.81-2.81c.8-.78.8-2.07 0-2.86zM5.41 20L4 18.59l7.72-7.72 1.47 1.35L5.41 20z\"/>\n",
              "  </svg>\n",
              "      </button>\n",
              "      \n",
              "  <style>\n",
              "    .colab-df-container {\n",
              "      display:flex;\n",
              "      flex-wrap:wrap;\n",
              "      gap: 12px;\n",
              "    }\n",
              "\n",
              "    .colab-df-convert {\n",
              "      background-color: #E8F0FE;\n",
              "      border: none;\n",
              "      border-radius: 50%;\n",
              "      cursor: pointer;\n",
              "      display: none;\n",
              "      fill: #1967D2;\n",
              "      height: 32px;\n",
              "      padding: 0 0 0 0;\n",
              "      width: 32px;\n",
              "    }\n",
              "\n",
              "    .colab-df-convert:hover {\n",
              "      background-color: #E2EBFA;\n",
              "      box-shadow: 0px 1px 2px rgba(60, 64, 67, 0.3), 0px 1px 3px 1px rgba(60, 64, 67, 0.15);\n",
              "      fill: #174EA6;\n",
              "    }\n",
              "\n",
              "    [theme=dark] .colab-df-convert {\n",
              "      background-color: #3B4455;\n",
              "      fill: #D2E3FC;\n",
              "    }\n",
              "\n",
              "    [theme=dark] .colab-df-convert:hover {\n",
              "      background-color: #434B5C;\n",
              "      box-shadow: 0px 1px 3px 1px rgba(0, 0, 0, 0.15);\n",
              "      filter: drop-shadow(0px 1px 2px rgba(0, 0, 0, 0.3));\n",
              "      fill: #FFFFFF;\n",
              "    }\n",
              "  </style>\n",
              "\n",
              "      <script>\n",
              "        const buttonEl =\n",
              "          document.querySelector('#df-0cdf54ec-48ac-4d1e-a199-af3b4bf4984f button.colab-df-convert');\n",
              "        buttonEl.style.display =\n",
              "          google.colab.kernel.accessAllowed ? 'block' : 'none';\n",
              "\n",
              "        async function convertToInteractive(key) {\n",
              "          const element = document.querySelector('#df-0cdf54ec-48ac-4d1e-a199-af3b4bf4984f');\n",
              "          const dataTable =\n",
              "            await google.colab.kernel.invokeFunction('convertToInteractive',\n",
              "                                                     [key], {});\n",
              "          if (!dataTable) return;\n",
              "\n",
              "          const docLinkHtml = 'Like what you see? Visit the ' +\n",
              "            '<a target=\"_blank\" href=https://colab.research.google.com/notebooks/data_table.ipynb>data table notebook</a>'\n",
              "            + ' to learn more about interactive tables.';\n",
              "          element.innerHTML = '';\n",
              "          dataTable['output_type'] = 'display_data';\n",
              "          await google.colab.output.renderOutput(dataTable, element);\n",
              "          const docLink = document.createElement('div');\n",
              "          docLink.innerHTML = docLinkHtml;\n",
              "          element.appendChild(docLink);\n",
              "        }\n",
              "      </script>\n",
              "    </div>\n",
              "  </div>\n",
              "  "
            ]
          },
          "metadata": {},
          "execution_count": 102
        }
      ],
      "source": [
        "base_offcombr3"
      ]
    },
    {
      "cell_type": "code",
      "execution_count": 103,
      "metadata": {
        "id": "wnBte7OTHUaQ",
        "colab": {
          "base_uri": "https://localhost:8080/"
        },
        "outputId": "8f44024a-6242-4459-a935-a784938ce265"
      },
      "outputs": [
        {
          "output_type": "execute_result",
          "data": {
            "text/plain": [
              "no     831\n",
              "yes    202\n",
              "Name: Class, dtype: int64"
            ]
          },
          "metadata": {},
          "execution_count": 103
        }
      ],
      "source": [
        "# np.unique(base_offcombr2['Class'], return_counts= True)\n",
        "base_offcombr3['Class'].value_counts()"
      ]
    },
    {
      "cell_type": "code",
      "source": [
        "lista_quantidade_palavras_base_offcombr3_com_sw = []\n",
        "quantidade_palavras_com_sw = 0\n",
        "for texto in base_offcombr3['Texto']:\n",
        "  palavras = texto.split(' ')\n",
        "  lista_quantidade_palavras_base_offcombr3_com_sw.append(len(palavras))\n",
        "  quantidade_palavras_com_sw += len(palavras)\n",
        "\n",
        "lista_quantidade_palavras_base_offcombr3_sem_sw = []\n",
        "quantidade_palavras_sem_sw = 0\n",
        "for texto in comments:\n",
        "  palavras = texto.split(' ')\n",
        "  lista_quantidade_palavras_base_offcombr3_sem_sw.append(len(palavras))\n",
        "  quantidade_palavras_sem_sw += len(palavras)\n",
        "\n",
        "\n",
        "print(f'Quantidade de palavras com Stopwords: {quantidade_palavras_com_sw} palavras')\n",
        "print(f'Quantidade de palavras sem Stopwords: {quantidade_palavras_sem_sw} palavras')"
      ],
      "metadata": {
        "colab": {
          "base_uri": "https://localhost:8080/"
        },
        "id": "P71IjZqk4ajJ",
        "outputId": "b01152e2-5d07-4070-b9f0-479250d43a62"
      },
      "execution_count": 104,
      "outputs": [
        {
          "output_type": "stream",
          "name": "stdout",
          "text": [
            "Quantidade de palavras com Stopwords: 14632 palavras\n",
            "Quantidade de palavras sem Stopwords: 10112 palavras\n"
          ]
        }
      ]
    },
    {
      "cell_type": "code",
      "execution_count": 105,
      "metadata": {
        "id": "uxyI2RHhvfHT"
      },
      "outputs": [],
      "source": [
        "comments = [] \n",
        "stop_words = set(stopwords.words('portuguese')) #setando o banco de stopwords em PT-BR\n",
        "\n",
        "for words in base_offcombr3 ['Texto']:\n",
        "  only_latters =re.sub(\"[^a-zA-Z]\", \" \", words) # somente letras\n",
        "  tokens = nltk.word_tokenize(only_latters) # tokenize the sentence \n",
        "  lower_case = [l.lower() for l in tokens] # converter all letters to low case \n",
        "  filtered_result = list(filter(lambda l: l not in stop_words, lower_case)) # Remove stopwords from the comments\n",
        "  comments.append(' '.join(filtered_result))\n"
      ]
    },
    {
      "cell_type": "code",
      "execution_count": 106,
      "metadata": {
        "id": "osv6TP67vmG8",
        "colab": {
          "base_uri": "https://localhost:8080/"
        },
        "outputId": "ce264907-20b2-4b44-e92a-6c7c5ece0f03"
      },
      "outputs": [
        {
          "output_type": "stream",
          "name": "stderr",
          "text": [
            "/usr/local/lib/python3.8/dist-packages/sklearn/utils/deprecation.py:87: FutureWarning: Function get_feature_names is deprecated; get_feature_names is deprecated in 1.0 and will be removed in 1.2. Please use get_feature_names_out instead.\n",
            "  warnings.warn(msg, category=FutureWarning)\n"
          ]
        }
      ],
      "source": [
        "#using CountVectorizer to get the most important unigrams\n",
        "co = CountVectorizer(ngram_range=(1,1))\n",
        "count = co.fit_transform(comments)\n",
        "important_unigrams =pd.DataFrame(count.sum(axis=0), columns=co.get_feature_names()).T.sort_values(0, ascending = False)"
      ]
    },
    {
      "cell_type": "code",
      "execution_count": 107,
      "metadata": {
        "id": "w8kbDq6jvsHj",
        "colab": {
          "base_uri": "https://localhost:8080/",
          "height": 206
        },
        "outputId": "7105f187-4416-4c64-c06c-46d7f9da7d83"
      },
      "outputs": [
        {
          "output_type": "execute_result",
          "data": {
            "text/plain": [
              "       0\n",
              "nao  293\n",
              "vai   99\n",
              "so    90\n",
              "pra   81\n",
              "ja    68"
            ],
            "text/html": [
              "\n",
              "  <div id=\"df-e0aeb558-d3af-4415-8376-66fc0012d6b5\">\n",
              "    <div class=\"colab-df-container\">\n",
              "      <div>\n",
              "<style scoped>\n",
              "    .dataframe tbody tr th:only-of-type {\n",
              "        vertical-align: middle;\n",
              "    }\n",
              "\n",
              "    .dataframe tbody tr th {\n",
              "        vertical-align: top;\n",
              "    }\n",
              "\n",
              "    .dataframe thead th {\n",
              "        text-align: right;\n",
              "    }\n",
              "</style>\n",
              "<table border=\"1\" class=\"dataframe\">\n",
              "  <thead>\n",
              "    <tr style=\"text-align: right;\">\n",
              "      <th></th>\n",
              "      <th>0</th>\n",
              "    </tr>\n",
              "  </thead>\n",
              "  <tbody>\n",
              "    <tr>\n",
              "      <th>nao</th>\n",
              "      <td>293</td>\n",
              "    </tr>\n",
              "    <tr>\n",
              "      <th>vai</th>\n",
              "      <td>99</td>\n",
              "    </tr>\n",
              "    <tr>\n",
              "      <th>so</th>\n",
              "      <td>90</td>\n",
              "    </tr>\n",
              "    <tr>\n",
              "      <th>pra</th>\n",
              "      <td>81</td>\n",
              "    </tr>\n",
              "    <tr>\n",
              "      <th>ja</th>\n",
              "      <td>68</td>\n",
              "    </tr>\n",
              "  </tbody>\n",
              "</table>\n",
              "</div>\n",
              "      <button class=\"colab-df-convert\" onclick=\"convertToInteractive('df-e0aeb558-d3af-4415-8376-66fc0012d6b5')\"\n",
              "              title=\"Convert this dataframe to an interactive table.\"\n",
              "              style=\"display:none;\">\n",
              "        \n",
              "  <svg xmlns=\"http://www.w3.org/2000/svg\" height=\"24px\"viewBox=\"0 0 24 24\"\n",
              "       width=\"24px\">\n",
              "    <path d=\"M0 0h24v24H0V0z\" fill=\"none\"/>\n",
              "    <path d=\"M18.56 5.44l.94 2.06.94-2.06 2.06-.94-2.06-.94-.94-2.06-.94 2.06-2.06.94zm-11 1L8.5 8.5l.94-2.06 2.06-.94-2.06-.94L8.5 2.5l-.94 2.06-2.06.94zm10 10l.94 2.06.94-2.06 2.06-.94-2.06-.94-.94-2.06-.94 2.06-2.06.94z\"/><path d=\"M17.41 7.96l-1.37-1.37c-.4-.4-.92-.59-1.43-.59-.52 0-1.04.2-1.43.59L10.3 9.45l-7.72 7.72c-.78.78-.78 2.05 0 2.83L4 21.41c.39.39.9.59 1.41.59.51 0 1.02-.2 1.41-.59l7.78-7.78 2.81-2.81c.8-.78.8-2.07 0-2.86zM5.41 20L4 18.59l7.72-7.72 1.47 1.35L5.41 20z\"/>\n",
              "  </svg>\n",
              "      </button>\n",
              "      \n",
              "  <style>\n",
              "    .colab-df-container {\n",
              "      display:flex;\n",
              "      flex-wrap:wrap;\n",
              "      gap: 12px;\n",
              "    }\n",
              "\n",
              "    .colab-df-convert {\n",
              "      background-color: #E8F0FE;\n",
              "      border: none;\n",
              "      border-radius: 50%;\n",
              "      cursor: pointer;\n",
              "      display: none;\n",
              "      fill: #1967D2;\n",
              "      height: 32px;\n",
              "      padding: 0 0 0 0;\n",
              "      width: 32px;\n",
              "    }\n",
              "\n",
              "    .colab-df-convert:hover {\n",
              "      background-color: #E2EBFA;\n",
              "      box-shadow: 0px 1px 2px rgba(60, 64, 67, 0.3), 0px 1px 3px 1px rgba(60, 64, 67, 0.15);\n",
              "      fill: #174EA6;\n",
              "    }\n",
              "\n",
              "    [theme=dark] .colab-df-convert {\n",
              "      background-color: #3B4455;\n",
              "      fill: #D2E3FC;\n",
              "    }\n",
              "\n",
              "    [theme=dark] .colab-df-convert:hover {\n",
              "      background-color: #434B5C;\n",
              "      box-shadow: 0px 1px 3px 1px rgba(0, 0, 0, 0.15);\n",
              "      filter: drop-shadow(0px 1px 2px rgba(0, 0, 0, 0.3));\n",
              "      fill: #FFFFFF;\n",
              "    }\n",
              "  </style>\n",
              "\n",
              "      <script>\n",
              "        const buttonEl =\n",
              "          document.querySelector('#df-e0aeb558-d3af-4415-8376-66fc0012d6b5 button.colab-df-convert');\n",
              "        buttonEl.style.display =\n",
              "          google.colab.kernel.accessAllowed ? 'block' : 'none';\n",
              "\n",
              "        async function convertToInteractive(key) {\n",
              "          const element = document.querySelector('#df-e0aeb558-d3af-4415-8376-66fc0012d6b5');\n",
              "          const dataTable =\n",
              "            await google.colab.kernel.invokeFunction('convertToInteractive',\n",
              "                                                     [key], {});\n",
              "          if (!dataTable) return;\n",
              "\n",
              "          const docLinkHtml = 'Like what you see? Visit the ' +\n",
              "            '<a target=\"_blank\" href=https://colab.research.google.com/notebooks/data_table.ipynb>data table notebook</a>'\n",
              "            + ' to learn more about interactive tables.';\n",
              "          element.innerHTML = '';\n",
              "          dataTable['output_type'] = 'display_data';\n",
              "          await google.colab.output.renderOutput(dataTable, element);\n",
              "          const docLink = document.createElement('div');\n",
              "          docLink.innerHTML = docLinkHtml;\n",
              "          element.appendChild(docLink);\n",
              "        }\n",
              "      </script>\n",
              "    </div>\n",
              "  </div>\n",
              "  "
            ]
          },
          "metadata": {},
          "execution_count": 107
        }
      ],
      "source": [
        "important_unigrams[:5]"
      ]
    },
    {
      "cell_type": "code",
      "execution_count": 108,
      "metadata": {
        "id": "8mxGpzvRvv8-",
        "colab": {
          "base_uri": "https://localhost:8080/"
        },
        "outputId": "4386dde7-2e8a-487c-fc88-6ac616593c58"
      },
      "outputs": [
        {
          "output_type": "stream",
          "name": "stderr",
          "text": [
            "/usr/local/lib/python3.8/dist-packages/sklearn/utils/deprecation.py:87: FutureWarning: Function get_feature_names is deprecated; get_feature_names is deprecated in 1.0 and will be removed in 1.2. Please use get_feature_names_out instead.\n",
            "  warnings.warn(msg, category=FutureWarning)\n"
          ]
        }
      ],
      "source": [
        "#using CountVectorizer to get the most important unigrams\n",
        "co = CountVectorizer(ngram_range=(1,1))\n",
        "count = co.fit_transform(base_offcombr3 ['Texto'])\n",
        "important_unigrams =pd.DataFrame(count.sum(axis=0), columns=co.get_feature_names()).T.sort_values(0, ascending = False)"
      ]
    },
    {
      "cell_type": "code",
      "execution_count": 109,
      "metadata": {
        "id": "cpDYL2BpwCVq",
        "colab": {
          "base_uri": "https://localhost:8080/",
          "height": 206
        },
        "outputId": "6872dbf7-69b7-4768-fa84-15058754d7bb"
      },
      "outputs": [
        {
          "output_type": "execute_result",
          "data": {
            "text/plain": [
              "       0\n",
              "que  403\n",
              "de   399\n",
              "nao  293\n",
              "do   177\n",
              "da   138"
            ],
            "text/html": [
              "\n",
              "  <div id=\"df-8c452359-fc8d-46b1-a339-d9b378f2973e\">\n",
              "    <div class=\"colab-df-container\">\n",
              "      <div>\n",
              "<style scoped>\n",
              "    .dataframe tbody tr th:only-of-type {\n",
              "        vertical-align: middle;\n",
              "    }\n",
              "\n",
              "    .dataframe tbody tr th {\n",
              "        vertical-align: top;\n",
              "    }\n",
              "\n",
              "    .dataframe thead th {\n",
              "        text-align: right;\n",
              "    }\n",
              "</style>\n",
              "<table border=\"1\" class=\"dataframe\">\n",
              "  <thead>\n",
              "    <tr style=\"text-align: right;\">\n",
              "      <th></th>\n",
              "      <th>0</th>\n",
              "    </tr>\n",
              "  </thead>\n",
              "  <tbody>\n",
              "    <tr>\n",
              "      <th>que</th>\n",
              "      <td>403</td>\n",
              "    </tr>\n",
              "    <tr>\n",
              "      <th>de</th>\n",
              "      <td>399</td>\n",
              "    </tr>\n",
              "    <tr>\n",
              "      <th>nao</th>\n",
              "      <td>293</td>\n",
              "    </tr>\n",
              "    <tr>\n",
              "      <th>do</th>\n",
              "      <td>177</td>\n",
              "    </tr>\n",
              "    <tr>\n",
              "      <th>da</th>\n",
              "      <td>138</td>\n",
              "    </tr>\n",
              "  </tbody>\n",
              "</table>\n",
              "</div>\n",
              "      <button class=\"colab-df-convert\" onclick=\"convertToInteractive('df-8c452359-fc8d-46b1-a339-d9b378f2973e')\"\n",
              "              title=\"Convert this dataframe to an interactive table.\"\n",
              "              style=\"display:none;\">\n",
              "        \n",
              "  <svg xmlns=\"http://www.w3.org/2000/svg\" height=\"24px\"viewBox=\"0 0 24 24\"\n",
              "       width=\"24px\">\n",
              "    <path d=\"M0 0h24v24H0V0z\" fill=\"none\"/>\n",
              "    <path d=\"M18.56 5.44l.94 2.06.94-2.06 2.06-.94-2.06-.94-.94-2.06-.94 2.06-2.06.94zm-11 1L8.5 8.5l.94-2.06 2.06-.94-2.06-.94L8.5 2.5l-.94 2.06-2.06.94zm10 10l.94 2.06.94-2.06 2.06-.94-2.06-.94-.94-2.06-.94 2.06-2.06.94z\"/><path d=\"M17.41 7.96l-1.37-1.37c-.4-.4-.92-.59-1.43-.59-.52 0-1.04.2-1.43.59L10.3 9.45l-7.72 7.72c-.78.78-.78 2.05 0 2.83L4 21.41c.39.39.9.59 1.41.59.51 0 1.02-.2 1.41-.59l7.78-7.78 2.81-2.81c.8-.78.8-2.07 0-2.86zM5.41 20L4 18.59l7.72-7.72 1.47 1.35L5.41 20z\"/>\n",
              "  </svg>\n",
              "      </button>\n",
              "      \n",
              "  <style>\n",
              "    .colab-df-container {\n",
              "      display:flex;\n",
              "      flex-wrap:wrap;\n",
              "      gap: 12px;\n",
              "    }\n",
              "\n",
              "    .colab-df-convert {\n",
              "      background-color: #E8F0FE;\n",
              "      border: none;\n",
              "      border-radius: 50%;\n",
              "      cursor: pointer;\n",
              "      display: none;\n",
              "      fill: #1967D2;\n",
              "      height: 32px;\n",
              "      padding: 0 0 0 0;\n",
              "      width: 32px;\n",
              "    }\n",
              "\n",
              "    .colab-df-convert:hover {\n",
              "      background-color: #E2EBFA;\n",
              "      box-shadow: 0px 1px 2px rgba(60, 64, 67, 0.3), 0px 1px 3px 1px rgba(60, 64, 67, 0.15);\n",
              "      fill: #174EA6;\n",
              "    }\n",
              "\n",
              "    [theme=dark] .colab-df-convert {\n",
              "      background-color: #3B4455;\n",
              "      fill: #D2E3FC;\n",
              "    }\n",
              "\n",
              "    [theme=dark] .colab-df-convert:hover {\n",
              "      background-color: #434B5C;\n",
              "      box-shadow: 0px 1px 3px 1px rgba(0, 0, 0, 0.15);\n",
              "      filter: drop-shadow(0px 1px 2px rgba(0, 0, 0, 0.3));\n",
              "      fill: #FFFFFF;\n",
              "    }\n",
              "  </style>\n",
              "\n",
              "      <script>\n",
              "        const buttonEl =\n",
              "          document.querySelector('#df-8c452359-fc8d-46b1-a339-d9b378f2973e button.colab-df-convert');\n",
              "        buttonEl.style.display =\n",
              "          google.colab.kernel.accessAllowed ? 'block' : 'none';\n",
              "\n",
              "        async function convertToInteractive(key) {\n",
              "          const element = document.querySelector('#df-8c452359-fc8d-46b1-a339-d9b378f2973e');\n",
              "          const dataTable =\n",
              "            await google.colab.kernel.invokeFunction('convertToInteractive',\n",
              "                                                     [key], {});\n",
              "          if (!dataTable) return;\n",
              "\n",
              "          const docLinkHtml = 'Like what you see? Visit the ' +\n",
              "            '<a target=\"_blank\" href=https://colab.research.google.com/notebooks/data_table.ipynb>data table notebook</a>'\n",
              "            + ' to learn more about interactive tables.';\n",
              "          element.innerHTML = '';\n",
              "          dataTable['output_type'] = 'display_data';\n",
              "          await google.colab.output.renderOutput(dataTable, element);\n",
              "          const docLink = document.createElement('div');\n",
              "          docLink.innerHTML = docLinkHtml;\n",
              "          element.appendChild(docLink);\n",
              "        }\n",
              "      </script>\n",
              "    </div>\n",
              "  </div>\n",
              "  "
            ]
          },
          "metadata": {},
          "execution_count": 109
        }
      ],
      "source": [
        "important_unigrams[:5]"
      ]
    },
    {
      "cell_type": "code",
      "source": [
        "lista_quantidade_palavras_base_offcombr3_com_sw = []\n",
        "quantidade_palavras_com_sw = 0\n",
        "for texto in base_offcombr3['Texto']:\n",
        "  palavras = texto.split(' ')\n",
        "  lista_quantidade_palavras_base_offcombr3_com_sw.append(len(palavras))\n",
        "  quantidade_palavras_com_sw += len(palavras)\n",
        "\n",
        "lista_quantidade_palavras_base_offcombr3_sem_sw = []\n",
        "quantidade_palavras_sem_sw = 0\n",
        "for texto in comments:\n",
        "  palavras = texto.split(' ')\n",
        "  lista_quantidade_palavras_base_offcombr3_sem_sw.append(len(palavras))\n",
        "  quantidade_palavras_sem_sw += len(palavras)\n",
        "\n",
        "\n",
        "print(f'Quantidade de palavras com Stopwords: {quantidade_palavras_com_sw} palavras')\n",
        "print(f'Quantidade de palavras sem Stopwords: {quantidade_palavras_sem_sw} palavras')"
      ],
      "metadata": {
        "colab": {
          "base_uri": "https://localhost:8080/"
        },
        "id": "2_7Ho5EFu2rr",
        "outputId": "f568f6c2-dc4d-4131-c31a-6fbc8f0cf9f0"
      },
      "execution_count": 110,
      "outputs": [
        {
          "output_type": "stream",
          "name": "stdout",
          "text": [
            "Quantidade de palavras com Stopwords: 14632 palavras\n",
            "Quantidade de palavras sem Stopwords: 8585 palavras\n"
          ]
        }
      ]
    },
    {
      "cell_type": "code",
      "source": [
        "tam_base = len(base_offcombr3 ['Texto'])\n",
        "\n",
        "print(f'Tamanho médio da base com Stop Words: {round(quantidade_palavras_com_sw/tam_base, 2)} ')\n",
        "print(f'Tamanho médio da base sem Stop Words: {round(quantidade_palavras_sem_sw/tam_base, 2)} \\n')\n",
        "\n",
        "print(f'Desvio padrão da base com Stop Words: {round(np.std(lista_quantidade_palavras_base_offcombr3_com_sw),2)}')\n",
        "print(f'Desvio padrão da base sem Stop Words: {round(np.std( lista_quantidade_palavras_base_offcombr3_sem_sw),2)}')\n"
      ],
      "metadata": {
        "colab": {
          "base_uri": "https://localhost:8080/"
        },
        "id": "xRULdrBdvL5U",
        "outputId": "b50b0e15-ded0-4551-8412-038f9b74746b"
      },
      "execution_count": 111,
      "outputs": [
        {
          "output_type": "stream",
          "name": "stdout",
          "text": [
            "Tamanho médio da base com Stop Words: 14.16 \n",
            "Tamanho médio da base sem Stop Words: 8.31 \n",
            "\n",
            "Desvio padrão da base com Stop Words: 11.58\n",
            "Desvio padrão da base sem Stop Words: 6.67\n"
          ]
        }
      ]
    },
    {
      "cell_type": "markdown",
      "metadata": {
        "id": "YEKEWTH3COlJ"
      },
      "source": [
        "# Base de dados Artigo 4 (base_hate_speech_binary e hate_speech_hierarchical)"
      ]
    },
    {
      "cell_type": "code",
      "execution_count": 131,
      "metadata": {
        "id": "JYsnycpIAWYj"
      },
      "outputs": [],
      "source": [
        "base_hate_speech_binary = pd.read_csv('/content/drive/MyDrive/Dataset/2019-05-28_portuguese_hate_speech_binary_classification.csv')"
      ]
    },
    {
      "cell_type": "code",
      "execution_count": 132,
      "metadata": {
        "id": "r6rzzA61AlHy",
        "colab": {
          "base_uri": "https://localhost:8080/",
          "height": 624
        },
        "outputId": "efca6001-702a-4a99-9b56-7ea3ea8ff524"
      },
      "outputs": [
        {
          "output_type": "execute_result",
          "data": {
            "text/plain": [
              "                                                   text  hatespeech_comb  \\\n",
              "0     @__andrea__b \\nO cara vive em outro mundo\\nNão...                1   \n",
              "1     @_carmeloneto Estes incompetentes não cuidam n...                0   \n",
              "2     @_carmeloneto \\nOs 'cumpanhero' quebraram toda...                0   \n",
              "3     @_GlitteryKisses é isso não conseguem pensar n...                0   \n",
              "4                   @_iglira bom dia macaco branco haha                1   \n",
              "...                                                 ...              ...   \n",
              "5665  @zecarlosantos2 é o unico que nao se corrompe....                0   \n",
              "5666  @zqkitowz sei das cotas, mas não sabia disso, ...                1   \n",
              "5667  @zqkitowz sim, a maioria do eleitorado é mulhe...                0   \n",
              "5668  @zurcju seguir no tt é facíl, apresentar as am...                1   \n",
              "5669  na vdd a culpa é do menino de 11 anos otário q...                1   \n",
              "\n",
              "      hatespeech_G1 annotator_G1  hatespeech_G2 annotator_G2  hatespeech_G3  \\\n",
              "0                 1            A            1.0            V              0   \n",
              "1                 1            D            0.0            V              0   \n",
              "2                 1            A            0.0            B              0   \n",
              "3                 0            C            0.0            V              0   \n",
              "4                 0            A            1.0            I              1   \n",
              "...             ...          ...            ...          ...            ...   \n",
              "5665              1            C            0.0            B              0   \n",
              "5666              1            D            1.0           It              0   \n",
              "5667              0            C            0.0            V              0   \n",
              "5668              1            C            1.0            S              0   \n",
              "5669              1            E            1.0           It              0   \n",
              "\n",
              "     annotator_G3  \n",
              "0               E  \n",
              "1               C  \n",
              "2               E  \n",
              "3               D  \n",
              "4               E  \n",
              "...           ...  \n",
              "5665            A  \n",
              "5666            A  \n",
              "5667            C  \n",
              "5668            A  \n",
              "5669            D  \n",
              "\n",
              "[5670 rows x 8 columns]"
            ],
            "text/html": [
              "\n",
              "  <div id=\"df-d182954f-2086-4a01-9a9c-79589bd52152\">\n",
              "    <div class=\"colab-df-container\">\n",
              "      <div>\n",
              "<style scoped>\n",
              "    .dataframe tbody tr th:only-of-type {\n",
              "        vertical-align: middle;\n",
              "    }\n",
              "\n",
              "    .dataframe tbody tr th {\n",
              "        vertical-align: top;\n",
              "    }\n",
              "\n",
              "    .dataframe thead th {\n",
              "        text-align: right;\n",
              "    }\n",
              "</style>\n",
              "<table border=\"1\" class=\"dataframe\">\n",
              "  <thead>\n",
              "    <tr style=\"text-align: right;\">\n",
              "      <th></th>\n",
              "      <th>text</th>\n",
              "      <th>hatespeech_comb</th>\n",
              "      <th>hatespeech_G1</th>\n",
              "      <th>annotator_G1</th>\n",
              "      <th>hatespeech_G2</th>\n",
              "      <th>annotator_G2</th>\n",
              "      <th>hatespeech_G3</th>\n",
              "      <th>annotator_G3</th>\n",
              "    </tr>\n",
              "  </thead>\n",
              "  <tbody>\n",
              "    <tr>\n",
              "      <th>0</th>\n",
              "      <td>@__andrea__b \\nO cara vive em outro mundo\\nNão...</td>\n",
              "      <td>1</td>\n",
              "      <td>1</td>\n",
              "      <td>A</td>\n",
              "      <td>1.0</td>\n",
              "      <td>V</td>\n",
              "      <td>0</td>\n",
              "      <td>E</td>\n",
              "    </tr>\n",
              "    <tr>\n",
              "      <th>1</th>\n",
              "      <td>@_carmeloneto Estes incompetentes não cuidam n...</td>\n",
              "      <td>0</td>\n",
              "      <td>1</td>\n",
              "      <td>D</td>\n",
              "      <td>0.0</td>\n",
              "      <td>V</td>\n",
              "      <td>0</td>\n",
              "      <td>C</td>\n",
              "    </tr>\n",
              "    <tr>\n",
              "      <th>2</th>\n",
              "      <td>@_carmeloneto \\nOs 'cumpanhero' quebraram toda...</td>\n",
              "      <td>0</td>\n",
              "      <td>1</td>\n",
              "      <td>A</td>\n",
              "      <td>0.0</td>\n",
              "      <td>B</td>\n",
              "      <td>0</td>\n",
              "      <td>E</td>\n",
              "    </tr>\n",
              "    <tr>\n",
              "      <th>3</th>\n",
              "      <td>@_GlitteryKisses é isso não conseguem pensar n...</td>\n",
              "      <td>0</td>\n",
              "      <td>0</td>\n",
              "      <td>C</td>\n",
              "      <td>0.0</td>\n",
              "      <td>V</td>\n",
              "      <td>0</td>\n",
              "      <td>D</td>\n",
              "    </tr>\n",
              "    <tr>\n",
              "      <th>4</th>\n",
              "      <td>@_iglira bom dia macaco branco haha</td>\n",
              "      <td>1</td>\n",
              "      <td>0</td>\n",
              "      <td>A</td>\n",
              "      <td>1.0</td>\n",
              "      <td>I</td>\n",
              "      <td>1</td>\n",
              "      <td>E</td>\n",
              "    </tr>\n",
              "    <tr>\n",
              "      <th>...</th>\n",
              "      <td>...</td>\n",
              "      <td>...</td>\n",
              "      <td>...</td>\n",
              "      <td>...</td>\n",
              "      <td>...</td>\n",
              "      <td>...</td>\n",
              "      <td>...</td>\n",
              "      <td>...</td>\n",
              "    </tr>\n",
              "    <tr>\n",
              "      <th>5665</th>\n",
              "      <td>@zecarlosantos2 é o unico que nao se corrompe....</td>\n",
              "      <td>0</td>\n",
              "      <td>1</td>\n",
              "      <td>C</td>\n",
              "      <td>0.0</td>\n",
              "      <td>B</td>\n",
              "      <td>0</td>\n",
              "      <td>A</td>\n",
              "    </tr>\n",
              "    <tr>\n",
              "      <th>5666</th>\n",
              "      <td>@zqkitowz sei das cotas, mas não sabia disso, ...</td>\n",
              "      <td>1</td>\n",
              "      <td>1</td>\n",
              "      <td>D</td>\n",
              "      <td>1.0</td>\n",
              "      <td>It</td>\n",
              "      <td>0</td>\n",
              "      <td>A</td>\n",
              "    </tr>\n",
              "    <tr>\n",
              "      <th>5667</th>\n",
              "      <td>@zqkitowz sim, a maioria do eleitorado é mulhe...</td>\n",
              "      <td>0</td>\n",
              "      <td>0</td>\n",
              "      <td>C</td>\n",
              "      <td>0.0</td>\n",
              "      <td>V</td>\n",
              "      <td>0</td>\n",
              "      <td>C</td>\n",
              "    </tr>\n",
              "    <tr>\n",
              "      <th>5668</th>\n",
              "      <td>@zurcju seguir no tt é facíl, apresentar as am...</td>\n",
              "      <td>1</td>\n",
              "      <td>1</td>\n",
              "      <td>C</td>\n",
              "      <td>1.0</td>\n",
              "      <td>S</td>\n",
              "      <td>0</td>\n",
              "      <td>A</td>\n",
              "    </tr>\n",
              "    <tr>\n",
              "      <th>5669</th>\n",
              "      <td>na vdd a culpa é do menino de 11 anos otário q...</td>\n",
              "      <td>1</td>\n",
              "      <td>1</td>\n",
              "      <td>E</td>\n",
              "      <td>1.0</td>\n",
              "      <td>It</td>\n",
              "      <td>0</td>\n",
              "      <td>D</td>\n",
              "    </tr>\n",
              "  </tbody>\n",
              "</table>\n",
              "<p>5670 rows × 8 columns</p>\n",
              "</div>\n",
              "      <button class=\"colab-df-convert\" onclick=\"convertToInteractive('df-d182954f-2086-4a01-9a9c-79589bd52152')\"\n",
              "              title=\"Convert this dataframe to an interactive table.\"\n",
              "              style=\"display:none;\">\n",
              "        \n",
              "  <svg xmlns=\"http://www.w3.org/2000/svg\" height=\"24px\"viewBox=\"0 0 24 24\"\n",
              "       width=\"24px\">\n",
              "    <path d=\"M0 0h24v24H0V0z\" fill=\"none\"/>\n",
              "    <path d=\"M18.56 5.44l.94 2.06.94-2.06 2.06-.94-2.06-.94-.94-2.06-.94 2.06-2.06.94zm-11 1L8.5 8.5l.94-2.06 2.06-.94-2.06-.94L8.5 2.5l-.94 2.06-2.06.94zm10 10l.94 2.06.94-2.06 2.06-.94-2.06-.94-.94-2.06-.94 2.06-2.06.94z\"/><path d=\"M17.41 7.96l-1.37-1.37c-.4-.4-.92-.59-1.43-.59-.52 0-1.04.2-1.43.59L10.3 9.45l-7.72 7.72c-.78.78-.78 2.05 0 2.83L4 21.41c.39.39.9.59 1.41.59.51 0 1.02-.2 1.41-.59l7.78-7.78 2.81-2.81c.8-.78.8-2.07 0-2.86zM5.41 20L4 18.59l7.72-7.72 1.47 1.35L5.41 20z\"/>\n",
              "  </svg>\n",
              "      </button>\n",
              "      \n",
              "  <style>\n",
              "    .colab-df-container {\n",
              "      display:flex;\n",
              "      flex-wrap:wrap;\n",
              "      gap: 12px;\n",
              "    }\n",
              "\n",
              "    .colab-df-convert {\n",
              "      background-color: #E8F0FE;\n",
              "      border: none;\n",
              "      border-radius: 50%;\n",
              "      cursor: pointer;\n",
              "      display: none;\n",
              "      fill: #1967D2;\n",
              "      height: 32px;\n",
              "      padding: 0 0 0 0;\n",
              "      width: 32px;\n",
              "    }\n",
              "\n",
              "    .colab-df-convert:hover {\n",
              "      background-color: #E2EBFA;\n",
              "      box-shadow: 0px 1px 2px rgba(60, 64, 67, 0.3), 0px 1px 3px 1px rgba(60, 64, 67, 0.15);\n",
              "      fill: #174EA6;\n",
              "    }\n",
              "\n",
              "    [theme=dark] .colab-df-convert {\n",
              "      background-color: #3B4455;\n",
              "      fill: #D2E3FC;\n",
              "    }\n",
              "\n",
              "    [theme=dark] .colab-df-convert:hover {\n",
              "      background-color: #434B5C;\n",
              "      box-shadow: 0px 1px 3px 1px rgba(0, 0, 0, 0.15);\n",
              "      filter: drop-shadow(0px 1px 2px rgba(0, 0, 0, 0.3));\n",
              "      fill: #FFFFFF;\n",
              "    }\n",
              "  </style>\n",
              "\n",
              "      <script>\n",
              "        const buttonEl =\n",
              "          document.querySelector('#df-d182954f-2086-4a01-9a9c-79589bd52152 button.colab-df-convert');\n",
              "        buttonEl.style.display =\n",
              "          google.colab.kernel.accessAllowed ? 'block' : 'none';\n",
              "\n",
              "        async function convertToInteractive(key) {\n",
              "          const element = document.querySelector('#df-d182954f-2086-4a01-9a9c-79589bd52152');\n",
              "          const dataTable =\n",
              "            await google.colab.kernel.invokeFunction('convertToInteractive',\n",
              "                                                     [key], {});\n",
              "          if (!dataTable) return;\n",
              "\n",
              "          const docLinkHtml = 'Like what you see? Visit the ' +\n",
              "            '<a target=\"_blank\" href=https://colab.research.google.com/notebooks/data_table.ipynb>data table notebook</a>'\n",
              "            + ' to learn more about interactive tables.';\n",
              "          element.innerHTML = '';\n",
              "          dataTable['output_type'] = 'display_data';\n",
              "          await google.colab.output.renderOutput(dataTable, element);\n",
              "          const docLink = document.createElement('div');\n",
              "          docLink.innerHTML = docLinkHtml;\n",
              "          element.appendChild(docLink);\n",
              "        }\n",
              "      </script>\n",
              "    </div>\n",
              "  </div>\n",
              "  "
            ]
          },
          "metadata": {},
          "execution_count": 132
        }
      ],
      "source": [
        "base_hate_speech_binary"
      ]
    },
    {
      "cell_type": "code",
      "execution_count": 133,
      "metadata": {
        "id": "1EwtHXpYcJ6J",
        "colab": {
          "base_uri": "https://localhost:8080/"
        },
        "outputId": "34ca5504-0f5a-4c27-8f49-b83cb06d647e"
      },
      "outputs": [
        {
          "output_type": "execute_result",
          "data": {
            "text/plain": [
              "0    3882\n",
              "1    1788\n",
              "Name: hatespeech_comb, dtype: int64"
            ]
          },
          "metadata": {},
          "execution_count": 133
        }
      ],
      "source": [
        "base_hate_speech_binary['hatespeech_comb'].value_counts() "
      ]
    },
    {
      "cell_type": "code",
      "execution_count": 134,
      "metadata": {
        "id": "KvZyzI681Vtm"
      },
      "outputs": [],
      "source": [
        "comments = [] \n",
        "stop_words = set(stopwords.words('portuguese')) #setando o banco de stopwords em PT-BR\n",
        "\n",
        "for words in base_hate_speech_binary['text']:\n",
        "  only_latters =re.sub(\"[^a-zA-Z]\", \" \", words) # somente letras\n",
        "  tokens = nltk.word_tokenize(only_latters) # tokenize the sentence \n",
        "  lower_case = [l.lower() for l in tokens] # converter all letters to low case \n",
        "  filtered_result = list(filter(lambda l: l not in stop_words, lower_case)) # Remove stopwords from the comments\n",
        "  comments.append(' '.join(filtered_result))"
      ]
    },
    {
      "cell_type": "code",
      "execution_count": 135,
      "metadata": {
        "id": "9xGQKzBz1bDU",
        "colab": {
          "base_uri": "https://localhost:8080/"
        },
        "outputId": "c16f4af0-8613-4b42-d029-d1841bda72b5"
      },
      "outputs": [
        {
          "output_type": "stream",
          "name": "stderr",
          "text": [
            "/usr/local/lib/python3.8/dist-packages/sklearn/utils/deprecation.py:87: FutureWarning: Function get_feature_names is deprecated; get_feature_names is deprecated in 1.0 and will be removed in 1.2. Please use get_feature_names_out instead.\n",
            "  warnings.warn(msg, category=FutureWarning)\n"
          ]
        }
      ],
      "source": [
        "#using CountVectorizer to get the most important unigrams\n",
        "co = CountVectorizer(ngram_range=(1,1))\n",
        "count = co.fit_transform(comments)\n",
        "important_unigrams =pd.DataFrame(count.sum(axis=0), columns=co.get_feature_names()).T.sort_values(0, ascending = False)"
      ]
    },
    {
      "cell_type": "code",
      "execution_count": 136,
      "metadata": {
        "id": "M8JeWudx12qP",
        "colab": {
          "base_uri": "https://localhost:8080/",
          "height": 206
        },
        "outputId": "76f66ef2-f3af-40a8-9c28-805c6383c98a"
      },
      "outputs": [
        {
          "output_type": "execute_result",
          "data": {
            "text/plain": [
              "           0\n",
              "co      2424\n",
              "https   2348\n",
              "rt      1134\n",
              "mulher   516\n",
              "pra      491"
            ],
            "text/html": [
              "\n",
              "  <div id=\"df-839f132b-6df9-4b1a-a222-996cde442f19\">\n",
              "    <div class=\"colab-df-container\">\n",
              "      <div>\n",
              "<style scoped>\n",
              "    .dataframe tbody tr th:only-of-type {\n",
              "        vertical-align: middle;\n",
              "    }\n",
              "\n",
              "    .dataframe tbody tr th {\n",
              "        vertical-align: top;\n",
              "    }\n",
              "\n",
              "    .dataframe thead th {\n",
              "        text-align: right;\n",
              "    }\n",
              "</style>\n",
              "<table border=\"1\" class=\"dataframe\">\n",
              "  <thead>\n",
              "    <tr style=\"text-align: right;\">\n",
              "      <th></th>\n",
              "      <th>0</th>\n",
              "    </tr>\n",
              "  </thead>\n",
              "  <tbody>\n",
              "    <tr>\n",
              "      <th>co</th>\n",
              "      <td>2424</td>\n",
              "    </tr>\n",
              "    <tr>\n",
              "      <th>https</th>\n",
              "      <td>2348</td>\n",
              "    </tr>\n",
              "    <tr>\n",
              "      <th>rt</th>\n",
              "      <td>1134</td>\n",
              "    </tr>\n",
              "    <tr>\n",
              "      <th>mulher</th>\n",
              "      <td>516</td>\n",
              "    </tr>\n",
              "    <tr>\n",
              "      <th>pra</th>\n",
              "      <td>491</td>\n",
              "    </tr>\n",
              "  </tbody>\n",
              "</table>\n",
              "</div>\n",
              "      <button class=\"colab-df-convert\" onclick=\"convertToInteractive('df-839f132b-6df9-4b1a-a222-996cde442f19')\"\n",
              "              title=\"Convert this dataframe to an interactive table.\"\n",
              "              style=\"display:none;\">\n",
              "        \n",
              "  <svg xmlns=\"http://www.w3.org/2000/svg\" height=\"24px\"viewBox=\"0 0 24 24\"\n",
              "       width=\"24px\">\n",
              "    <path d=\"M0 0h24v24H0V0z\" fill=\"none\"/>\n",
              "    <path d=\"M18.56 5.44l.94 2.06.94-2.06 2.06-.94-2.06-.94-.94-2.06-.94 2.06-2.06.94zm-11 1L8.5 8.5l.94-2.06 2.06-.94-2.06-.94L8.5 2.5l-.94 2.06-2.06.94zm10 10l.94 2.06.94-2.06 2.06-.94-2.06-.94-.94-2.06-.94 2.06-2.06.94z\"/><path d=\"M17.41 7.96l-1.37-1.37c-.4-.4-.92-.59-1.43-.59-.52 0-1.04.2-1.43.59L10.3 9.45l-7.72 7.72c-.78.78-.78 2.05 0 2.83L4 21.41c.39.39.9.59 1.41.59.51 0 1.02-.2 1.41-.59l7.78-7.78 2.81-2.81c.8-.78.8-2.07 0-2.86zM5.41 20L4 18.59l7.72-7.72 1.47 1.35L5.41 20z\"/>\n",
              "  </svg>\n",
              "      </button>\n",
              "      \n",
              "  <style>\n",
              "    .colab-df-container {\n",
              "      display:flex;\n",
              "      flex-wrap:wrap;\n",
              "      gap: 12px;\n",
              "    }\n",
              "\n",
              "    .colab-df-convert {\n",
              "      background-color: #E8F0FE;\n",
              "      border: none;\n",
              "      border-radius: 50%;\n",
              "      cursor: pointer;\n",
              "      display: none;\n",
              "      fill: #1967D2;\n",
              "      height: 32px;\n",
              "      padding: 0 0 0 0;\n",
              "      width: 32px;\n",
              "    }\n",
              "\n",
              "    .colab-df-convert:hover {\n",
              "      background-color: #E2EBFA;\n",
              "      box-shadow: 0px 1px 2px rgba(60, 64, 67, 0.3), 0px 1px 3px 1px rgba(60, 64, 67, 0.15);\n",
              "      fill: #174EA6;\n",
              "    }\n",
              "\n",
              "    [theme=dark] .colab-df-convert {\n",
              "      background-color: #3B4455;\n",
              "      fill: #D2E3FC;\n",
              "    }\n",
              "\n",
              "    [theme=dark] .colab-df-convert:hover {\n",
              "      background-color: #434B5C;\n",
              "      box-shadow: 0px 1px 3px 1px rgba(0, 0, 0, 0.15);\n",
              "      filter: drop-shadow(0px 1px 2px rgba(0, 0, 0, 0.3));\n",
              "      fill: #FFFFFF;\n",
              "    }\n",
              "  </style>\n",
              "\n",
              "      <script>\n",
              "        const buttonEl =\n",
              "          document.querySelector('#df-839f132b-6df9-4b1a-a222-996cde442f19 button.colab-df-convert');\n",
              "        buttonEl.style.display =\n",
              "          google.colab.kernel.accessAllowed ? 'block' : 'none';\n",
              "\n",
              "        async function convertToInteractive(key) {\n",
              "          const element = document.querySelector('#df-839f132b-6df9-4b1a-a222-996cde442f19');\n",
              "          const dataTable =\n",
              "            await google.colab.kernel.invokeFunction('convertToInteractive',\n",
              "                                                     [key], {});\n",
              "          if (!dataTable) return;\n",
              "\n",
              "          const docLinkHtml = 'Like what you see? Visit the ' +\n",
              "            '<a target=\"_blank\" href=https://colab.research.google.com/notebooks/data_table.ipynb>data table notebook</a>'\n",
              "            + ' to learn more about interactive tables.';\n",
              "          element.innerHTML = '';\n",
              "          dataTable['output_type'] = 'display_data';\n",
              "          await google.colab.output.renderOutput(dataTable, element);\n",
              "          const docLink = document.createElement('div');\n",
              "          docLink.innerHTML = docLinkHtml;\n",
              "          element.appendChild(docLink);\n",
              "        }\n",
              "      </script>\n",
              "    </div>\n",
              "  </div>\n",
              "  "
            ]
          },
          "metadata": {},
          "execution_count": 136
        }
      ],
      "source": [
        "important_unigrams[:5]"
      ]
    },
    {
      "cell_type": "code",
      "execution_count": 137,
      "metadata": {
        "id": "SFA14iOL1_J8",
        "colab": {
          "base_uri": "https://localhost:8080/"
        },
        "outputId": "b84e7c04-ee9d-4e80-c033-339440b27359"
      },
      "outputs": [
        {
          "output_type": "stream",
          "name": "stderr",
          "text": [
            "/usr/local/lib/python3.8/dist-packages/sklearn/utils/deprecation.py:87: FutureWarning: Function get_feature_names is deprecated; get_feature_names is deprecated in 1.0 and will be removed in 1.2. Please use get_feature_names_out instead.\n",
            "  warnings.warn(msg, category=FutureWarning)\n"
          ]
        }
      ],
      "source": [
        "#using CountVectorizer to get the most important unigrams\n",
        "co = CountVectorizer(ngram_range=(1,1))\n",
        "count = co.fit_transform(base_hate_speech_binary['text'])\n",
        "important_unigrams =pd.DataFrame(count.sum(axis=0), columns=co.get_feature_names()).T.sort_values(0, ascending = False)"
      ]
    },
    {
      "cell_type": "code",
      "execution_count": 138,
      "metadata": {
        "id": "aGBFvShD2JEX",
        "colab": {
          "base_uri": "https://localhost:8080/",
          "height": 206
        },
        "outputId": "d88a65c1-2e04-49b5-98b4-10528e054a9a"
      },
      "outputs": [
        {
          "output_type": "execute_result",
          "data": {
            "text/plain": [
              "          0\n",
              "de     2457\n",
              "co     2421\n",
              "https  2338\n",
              "que    2141\n",
              "não    1644"
            ],
            "text/html": [
              "\n",
              "  <div id=\"df-6b2c0900-f076-4bd8-b91f-2320d782aa33\">\n",
              "    <div class=\"colab-df-container\">\n",
              "      <div>\n",
              "<style scoped>\n",
              "    .dataframe tbody tr th:only-of-type {\n",
              "        vertical-align: middle;\n",
              "    }\n",
              "\n",
              "    .dataframe tbody tr th {\n",
              "        vertical-align: top;\n",
              "    }\n",
              "\n",
              "    .dataframe thead th {\n",
              "        text-align: right;\n",
              "    }\n",
              "</style>\n",
              "<table border=\"1\" class=\"dataframe\">\n",
              "  <thead>\n",
              "    <tr style=\"text-align: right;\">\n",
              "      <th></th>\n",
              "      <th>0</th>\n",
              "    </tr>\n",
              "  </thead>\n",
              "  <tbody>\n",
              "    <tr>\n",
              "      <th>de</th>\n",
              "      <td>2457</td>\n",
              "    </tr>\n",
              "    <tr>\n",
              "      <th>co</th>\n",
              "      <td>2421</td>\n",
              "    </tr>\n",
              "    <tr>\n",
              "      <th>https</th>\n",
              "      <td>2338</td>\n",
              "    </tr>\n",
              "    <tr>\n",
              "      <th>que</th>\n",
              "      <td>2141</td>\n",
              "    </tr>\n",
              "    <tr>\n",
              "      <th>não</th>\n",
              "      <td>1644</td>\n",
              "    </tr>\n",
              "  </tbody>\n",
              "</table>\n",
              "</div>\n",
              "      <button class=\"colab-df-convert\" onclick=\"convertToInteractive('df-6b2c0900-f076-4bd8-b91f-2320d782aa33')\"\n",
              "              title=\"Convert this dataframe to an interactive table.\"\n",
              "              style=\"display:none;\">\n",
              "        \n",
              "  <svg xmlns=\"http://www.w3.org/2000/svg\" height=\"24px\"viewBox=\"0 0 24 24\"\n",
              "       width=\"24px\">\n",
              "    <path d=\"M0 0h24v24H0V0z\" fill=\"none\"/>\n",
              "    <path d=\"M18.56 5.44l.94 2.06.94-2.06 2.06-.94-2.06-.94-.94-2.06-.94 2.06-2.06.94zm-11 1L8.5 8.5l.94-2.06 2.06-.94-2.06-.94L8.5 2.5l-.94 2.06-2.06.94zm10 10l.94 2.06.94-2.06 2.06-.94-2.06-.94-.94-2.06-.94 2.06-2.06.94z\"/><path d=\"M17.41 7.96l-1.37-1.37c-.4-.4-.92-.59-1.43-.59-.52 0-1.04.2-1.43.59L10.3 9.45l-7.72 7.72c-.78.78-.78 2.05 0 2.83L4 21.41c.39.39.9.59 1.41.59.51 0 1.02-.2 1.41-.59l7.78-7.78 2.81-2.81c.8-.78.8-2.07 0-2.86zM5.41 20L4 18.59l7.72-7.72 1.47 1.35L5.41 20z\"/>\n",
              "  </svg>\n",
              "      </button>\n",
              "      \n",
              "  <style>\n",
              "    .colab-df-container {\n",
              "      display:flex;\n",
              "      flex-wrap:wrap;\n",
              "      gap: 12px;\n",
              "    }\n",
              "\n",
              "    .colab-df-convert {\n",
              "      background-color: #E8F0FE;\n",
              "      border: none;\n",
              "      border-radius: 50%;\n",
              "      cursor: pointer;\n",
              "      display: none;\n",
              "      fill: #1967D2;\n",
              "      height: 32px;\n",
              "      padding: 0 0 0 0;\n",
              "      width: 32px;\n",
              "    }\n",
              "\n",
              "    .colab-df-convert:hover {\n",
              "      background-color: #E2EBFA;\n",
              "      box-shadow: 0px 1px 2px rgba(60, 64, 67, 0.3), 0px 1px 3px 1px rgba(60, 64, 67, 0.15);\n",
              "      fill: #174EA6;\n",
              "    }\n",
              "\n",
              "    [theme=dark] .colab-df-convert {\n",
              "      background-color: #3B4455;\n",
              "      fill: #D2E3FC;\n",
              "    }\n",
              "\n",
              "    [theme=dark] .colab-df-convert:hover {\n",
              "      background-color: #434B5C;\n",
              "      box-shadow: 0px 1px 3px 1px rgba(0, 0, 0, 0.15);\n",
              "      filter: drop-shadow(0px 1px 2px rgba(0, 0, 0, 0.3));\n",
              "      fill: #FFFFFF;\n",
              "    }\n",
              "  </style>\n",
              "\n",
              "      <script>\n",
              "        const buttonEl =\n",
              "          document.querySelector('#df-6b2c0900-f076-4bd8-b91f-2320d782aa33 button.colab-df-convert');\n",
              "        buttonEl.style.display =\n",
              "          google.colab.kernel.accessAllowed ? 'block' : 'none';\n",
              "\n",
              "        async function convertToInteractive(key) {\n",
              "          const element = document.querySelector('#df-6b2c0900-f076-4bd8-b91f-2320d782aa33');\n",
              "          const dataTable =\n",
              "            await google.colab.kernel.invokeFunction('convertToInteractive',\n",
              "                                                     [key], {});\n",
              "          if (!dataTable) return;\n",
              "\n",
              "          const docLinkHtml = 'Like what you see? Visit the ' +\n",
              "            '<a target=\"_blank\" href=https://colab.research.google.com/notebooks/data_table.ipynb>data table notebook</a>'\n",
              "            + ' to learn more about interactive tables.';\n",
              "          element.innerHTML = '';\n",
              "          dataTable['output_type'] = 'display_data';\n",
              "          await google.colab.output.renderOutput(dataTable, element);\n",
              "          const docLink = document.createElement('div');\n",
              "          docLink.innerHTML = docLinkHtml;\n",
              "          element.appendChild(docLink);\n",
              "        }\n",
              "      </script>\n",
              "    </div>\n",
              "  </div>\n",
              "  "
            ]
          },
          "metadata": {},
          "execution_count": 138
        }
      ],
      "source": [
        "important_unigrams[:5]"
      ]
    },
    {
      "cell_type": "code",
      "execution_count": 139,
      "metadata": {
        "id": "wrBTUUQL44JM",
        "colab": {
          "base_uri": "https://localhost:8080/"
        },
        "outputId": "ba753651-d5e8-45c5-c31d-8a133228a81e"
      },
      "outputs": [
        {
          "output_type": "stream",
          "name": "stdout",
          "text": [
            "Quantidade de palavras com Stopwords: 88619 palavras\n",
            "Quantidade de palavras sem Stopwords: 71717 palavras\n"
          ]
        }
      ],
      "source": [
        "lista_quantidade_palavras_base_hate_speech_binary_com_sw = []\n",
        "quantidade_palavras_com_sw = 0\n",
        "for texto in base_hate_speech_binary['text']:\n",
        "  palavras = texto.split(' ')\n",
        "  lista_quantidade_palavras_base_hate_speech_binary_com_sw.append(len(palavras))\n",
        "  quantidade_palavras_com_sw += len(palavras)\n",
        "\n",
        "lista_quantidade_palavras_base_hate_speech_binary_sem_sw = []\n",
        "quantidade_palavras_sem_sw = 0\n",
        "for texto in comments:\n",
        "  palavras = texto.split(' ')\n",
        "  lista_quantidade_palavras_base_hate_speech_binary_sem_sw.append(len(palavras))\n",
        "  quantidade_palavras_sem_sw += len(palavras)\n",
        "\n",
        "\n",
        "print(f'Quantidade de palavras com Stopwords: {quantidade_palavras_com_sw} palavras')\n",
        "print(f'Quantidade de palavras sem Stopwords: {quantidade_palavras_sem_sw} palavras')"
      ]
    },
    {
      "cell_type": "code",
      "source": [
        "tam_base = len( base_hate_speech_binary['text'])\n",
        "\n",
        "print(f'Tamanho médio da base com Stop Words: {round(quantidade_palavras_com_sw/tam_base, 2)} ')\n",
        "print(f'Tamanho médio da base sem Stop Words: {round(quantidade_palavras_sem_sw/tam_base, 2)} \\n')\n",
        "\n",
        "print(f'Desvio padrão da base sem Stop Words: {round(np.std(lista_quantidade_palavras_base_hate_speech_binary_com_sw),2)}')\n",
        "print(f'Desvio padrão da base com Stop Words: {round(np.std(lista_quantidade_palavras_base_hate_speech_binary_sem_sw),2)}')\n"
      ],
      "metadata": {
        "colab": {
          "base_uri": "https://localhost:8080/"
        },
        "id": "zDJniauDu6K_",
        "outputId": "17bc2cc5-49eb-4c8e-b98a-577f3a92f68e"
      },
      "execution_count": 140,
      "outputs": [
        {
          "output_type": "stream",
          "name": "stdout",
          "text": [
            "Tamanho médio da base com Stop Words: 15.63 \n",
            "Tamanho médio da base sem Stop Words: 12.65 \n",
            "\n",
            "Desvio padrão da base sem Stop Words: 6.37\n",
            "Desvio padrão da base com Stop Words: 4.64\n"
          ]
        }
      ]
    },
    {
      "cell_type": "code",
      "execution_count": 141,
      "metadata": {
        "id": "fHuD05UqAsry"
      },
      "outputs": [],
      "source": [
        "hate_speech_hierarchical = pd.read_csv('/content/drive/MyDrive/Dataset/2019-05-28_portuguese_hate_speech_hierarchical_classification.csv')"
      ]
    },
    {
      "cell_type": "code",
      "execution_count": 142,
      "metadata": {
        "id": "3mho89VlBAf6",
        "colab": {
          "base_uri": "https://localhost:8080/",
          "height": 956
        },
        "outputId": "47924c3b-0c8e-431a-cdcb-020b0e83e380"
      },
      "outputs": [
        {
          "output_type": "execute_result",
          "data": {
            "text/plain": [
              "                                                   text  Hate.speech  Sexism  \\\n",
              "0                      \"não come mel, morde marimbondo\"            0       0   \n",
              "1                          não tem pinto, tem orgulho !            0       0   \n",
              "2     Não vê essa merda de Crepúsculo! Pra isso temo...            0       0   \n",
              "3     não da tapa na bundinha, da cotovelada nas cos...            0       0   \n",
              "4     o diminutivo INHO não acompanha a trajetória d...            1       1   \n",
              "...                                                 ...          ...     ...   \n",
              "5663  Na minha sala só tem viado e sapatão  e a cois...            1       0   \n",
              "5664  PARABENS SAPATÃO SDDS @attomiter https://t.co/...            1       0   \n",
              "5665  RT @toquedeveludo: Agora um poema:\\nEu sou sap...            1       0   \n",
              "5666  O mundo das sapatao é mais ligado do que eu im...            1       0   \n",
              "5667  Gente, sapatão é uma coisa q me assusta https:...            1       0   \n",
              "\n",
              "      Body  Racism  Ideology  Homophobia  Origin  Religion  Health  ...  \\\n",
              "0        0       0         0           0       0         0       0  ...   \n",
              "1        0       0         0           0       0         0       0  ...   \n",
              "2        0       0         0           0       0         0       0  ...   \n",
              "3        0       0         0           0       0         0       0  ...   \n",
              "4        0       0         0           0       0         0       0  ...   \n",
              "...    ...     ...       ...         ...     ...       ...     ...  ...   \n",
              "5663     0       0         0           1       0         0       0  ...   \n",
              "5664     0       0         0           1       0         0       0  ...   \n",
              "5665     0       0         0           1       0         0       0  ...   \n",
              "5666     0       0         0           1       0         0       0  ...   \n",
              "5667     0       0         0           1       0         0       0  ...   \n",
              "\n",
              "      Thin.women  Arabic  East.europeans  Africans  South.Americans  \\\n",
              "0              0       0               0         0                0   \n",
              "1              0       0               0         0                0   \n",
              "2              0       0               0         0                0   \n",
              "3              0       0               0         0                0   \n",
              "4              0       0               0         0                0   \n",
              "...          ...     ...             ...       ...              ...   \n",
              "5663           0       0               0         0                0   \n",
              "5664           0       0               0         0                0   \n",
              "5665           0       0               0         0                0   \n",
              "5666           0       0               0         0                0   \n",
              "5667           0       0               0         0                0   \n",
              "\n",
              "      Brazilians  Migrants  Homossexuals  Thin.people  Ageing  \n",
              "0              0         0             0            0       0  \n",
              "1              0         0             0            0       0  \n",
              "2              0         0             0            0       0  \n",
              "3              0         0             0            0       0  \n",
              "4              0         0             0            0       0  \n",
              "...          ...       ...           ...          ...     ...  \n",
              "5663           0         0             1            0       0  \n",
              "5664           0         0             1            0       0  \n",
              "5665           0         0             1            0       0  \n",
              "5666           0         0             1            0       0  \n",
              "5667           0         0             1            0       0  \n",
              "\n",
              "[5668 rows x 80 columns]"
            ],
            "text/html": [
              "\n",
              "  <div id=\"df-dc314246-89fb-4c26-acdf-998761fefbd6\">\n",
              "    <div class=\"colab-df-container\">\n",
              "      <div>\n",
              "<style scoped>\n",
              "    .dataframe tbody tr th:only-of-type {\n",
              "        vertical-align: middle;\n",
              "    }\n",
              "\n",
              "    .dataframe tbody tr th {\n",
              "        vertical-align: top;\n",
              "    }\n",
              "\n",
              "    .dataframe thead th {\n",
              "        text-align: right;\n",
              "    }\n",
              "</style>\n",
              "<table border=\"1\" class=\"dataframe\">\n",
              "  <thead>\n",
              "    <tr style=\"text-align: right;\">\n",
              "      <th></th>\n",
              "      <th>text</th>\n",
              "      <th>Hate.speech</th>\n",
              "      <th>Sexism</th>\n",
              "      <th>Body</th>\n",
              "      <th>Racism</th>\n",
              "      <th>Ideology</th>\n",
              "      <th>Homophobia</th>\n",
              "      <th>Origin</th>\n",
              "      <th>Religion</th>\n",
              "      <th>Health</th>\n",
              "      <th>...</th>\n",
              "      <th>Thin.women</th>\n",
              "      <th>Arabic</th>\n",
              "      <th>East.europeans</th>\n",
              "      <th>Africans</th>\n",
              "      <th>South.Americans</th>\n",
              "      <th>Brazilians</th>\n",
              "      <th>Migrants</th>\n",
              "      <th>Homossexuals</th>\n",
              "      <th>Thin.people</th>\n",
              "      <th>Ageing</th>\n",
              "    </tr>\n",
              "  </thead>\n",
              "  <tbody>\n",
              "    <tr>\n",
              "      <th>0</th>\n",
              "      <td>\"não come mel, morde marimbondo\"</td>\n",
              "      <td>0</td>\n",
              "      <td>0</td>\n",
              "      <td>0</td>\n",
              "      <td>0</td>\n",
              "      <td>0</td>\n",
              "      <td>0</td>\n",
              "      <td>0</td>\n",
              "      <td>0</td>\n",
              "      <td>0</td>\n",
              "      <td>...</td>\n",
              "      <td>0</td>\n",
              "      <td>0</td>\n",
              "      <td>0</td>\n",
              "      <td>0</td>\n",
              "      <td>0</td>\n",
              "      <td>0</td>\n",
              "      <td>0</td>\n",
              "      <td>0</td>\n",
              "      <td>0</td>\n",
              "      <td>0</td>\n",
              "    </tr>\n",
              "    <tr>\n",
              "      <th>1</th>\n",
              "      <td>não tem pinto, tem orgulho !</td>\n",
              "      <td>0</td>\n",
              "      <td>0</td>\n",
              "      <td>0</td>\n",
              "      <td>0</td>\n",
              "      <td>0</td>\n",
              "      <td>0</td>\n",
              "      <td>0</td>\n",
              "      <td>0</td>\n",
              "      <td>0</td>\n",
              "      <td>...</td>\n",
              "      <td>0</td>\n",
              "      <td>0</td>\n",
              "      <td>0</td>\n",
              "      <td>0</td>\n",
              "      <td>0</td>\n",
              "      <td>0</td>\n",
              "      <td>0</td>\n",
              "      <td>0</td>\n",
              "      <td>0</td>\n",
              "      <td>0</td>\n",
              "    </tr>\n",
              "    <tr>\n",
              "      <th>2</th>\n",
              "      <td>Não vê essa merda de Crepúsculo! Pra isso temo...</td>\n",
              "      <td>0</td>\n",
              "      <td>0</td>\n",
              "      <td>0</td>\n",
              "      <td>0</td>\n",
              "      <td>0</td>\n",
              "      <td>0</td>\n",
              "      <td>0</td>\n",
              "      <td>0</td>\n",
              "      <td>0</td>\n",
              "      <td>...</td>\n",
              "      <td>0</td>\n",
              "      <td>0</td>\n",
              "      <td>0</td>\n",
              "      <td>0</td>\n",
              "      <td>0</td>\n",
              "      <td>0</td>\n",
              "      <td>0</td>\n",
              "      <td>0</td>\n",
              "      <td>0</td>\n",
              "      <td>0</td>\n",
              "    </tr>\n",
              "    <tr>\n",
              "      <th>3</th>\n",
              "      <td>não da tapa na bundinha, da cotovelada nas cos...</td>\n",
              "      <td>0</td>\n",
              "      <td>0</td>\n",
              "      <td>0</td>\n",
              "      <td>0</td>\n",
              "      <td>0</td>\n",
              "      <td>0</td>\n",
              "      <td>0</td>\n",
              "      <td>0</td>\n",
              "      <td>0</td>\n",
              "      <td>...</td>\n",
              "      <td>0</td>\n",
              "      <td>0</td>\n",
              "      <td>0</td>\n",
              "      <td>0</td>\n",
              "      <td>0</td>\n",
              "      <td>0</td>\n",
              "      <td>0</td>\n",
              "      <td>0</td>\n",
              "      <td>0</td>\n",
              "      <td>0</td>\n",
              "    </tr>\n",
              "    <tr>\n",
              "      <th>4</th>\n",
              "      <td>o diminutivo INHO não acompanha a trajetória d...</td>\n",
              "      <td>1</td>\n",
              "      <td>1</td>\n",
              "      <td>0</td>\n",
              "      <td>0</td>\n",
              "      <td>0</td>\n",
              "      <td>0</td>\n",
              "      <td>0</td>\n",
              "      <td>0</td>\n",
              "      <td>0</td>\n",
              "      <td>...</td>\n",
              "      <td>0</td>\n",
              "      <td>0</td>\n",
              "      <td>0</td>\n",
              "      <td>0</td>\n",
              "      <td>0</td>\n",
              "      <td>0</td>\n",
              "      <td>0</td>\n",
              "      <td>0</td>\n",
              "      <td>0</td>\n",
              "      <td>0</td>\n",
              "    </tr>\n",
              "    <tr>\n",
              "      <th>...</th>\n",
              "      <td>...</td>\n",
              "      <td>...</td>\n",
              "      <td>...</td>\n",
              "      <td>...</td>\n",
              "      <td>...</td>\n",
              "      <td>...</td>\n",
              "      <td>...</td>\n",
              "      <td>...</td>\n",
              "      <td>...</td>\n",
              "      <td>...</td>\n",
              "      <td>...</td>\n",
              "      <td>...</td>\n",
              "      <td>...</td>\n",
              "      <td>...</td>\n",
              "      <td>...</td>\n",
              "      <td>...</td>\n",
              "      <td>...</td>\n",
              "      <td>...</td>\n",
              "      <td>...</td>\n",
              "      <td>...</td>\n",
              "      <td>...</td>\n",
              "    </tr>\n",
              "    <tr>\n",
              "      <th>5663</th>\n",
              "      <td>Na minha sala só tem viado e sapatão  e a cois...</td>\n",
              "      <td>1</td>\n",
              "      <td>0</td>\n",
              "      <td>0</td>\n",
              "      <td>0</td>\n",
              "      <td>0</td>\n",
              "      <td>1</td>\n",
              "      <td>0</td>\n",
              "      <td>0</td>\n",
              "      <td>0</td>\n",
              "      <td>...</td>\n",
              "      <td>0</td>\n",
              "      <td>0</td>\n",
              "      <td>0</td>\n",
              "      <td>0</td>\n",
              "      <td>0</td>\n",
              "      <td>0</td>\n",
              "      <td>0</td>\n",
              "      <td>1</td>\n",
              "      <td>0</td>\n",
              "      <td>0</td>\n",
              "    </tr>\n",
              "    <tr>\n",
              "      <th>5664</th>\n",
              "      <td>PARABENS SAPATÃO SDDS @attomiter https://t.co/...</td>\n",
              "      <td>1</td>\n",
              "      <td>0</td>\n",
              "      <td>0</td>\n",
              "      <td>0</td>\n",
              "      <td>0</td>\n",
              "      <td>1</td>\n",
              "      <td>0</td>\n",
              "      <td>0</td>\n",
              "      <td>0</td>\n",
              "      <td>...</td>\n",
              "      <td>0</td>\n",
              "      <td>0</td>\n",
              "      <td>0</td>\n",
              "      <td>0</td>\n",
              "      <td>0</td>\n",
              "      <td>0</td>\n",
              "      <td>0</td>\n",
              "      <td>1</td>\n",
              "      <td>0</td>\n",
              "      <td>0</td>\n",
              "    </tr>\n",
              "    <tr>\n",
              "      <th>5665</th>\n",
              "      <td>RT @toquedeveludo: Agora um poema:\\nEu sou sap...</td>\n",
              "      <td>1</td>\n",
              "      <td>0</td>\n",
              "      <td>0</td>\n",
              "      <td>0</td>\n",
              "      <td>0</td>\n",
              "      <td>1</td>\n",
              "      <td>0</td>\n",
              "      <td>0</td>\n",
              "      <td>0</td>\n",
              "      <td>...</td>\n",
              "      <td>0</td>\n",
              "      <td>0</td>\n",
              "      <td>0</td>\n",
              "      <td>0</td>\n",
              "      <td>0</td>\n",
              "      <td>0</td>\n",
              "      <td>0</td>\n",
              "      <td>1</td>\n",
              "      <td>0</td>\n",
              "      <td>0</td>\n",
              "    </tr>\n",
              "    <tr>\n",
              "      <th>5666</th>\n",
              "      <td>O mundo das sapatao é mais ligado do que eu im...</td>\n",
              "      <td>1</td>\n",
              "      <td>0</td>\n",
              "      <td>0</td>\n",
              "      <td>0</td>\n",
              "      <td>0</td>\n",
              "      <td>1</td>\n",
              "      <td>0</td>\n",
              "      <td>0</td>\n",
              "      <td>0</td>\n",
              "      <td>...</td>\n",
              "      <td>0</td>\n",
              "      <td>0</td>\n",
              "      <td>0</td>\n",
              "      <td>0</td>\n",
              "      <td>0</td>\n",
              "      <td>0</td>\n",
              "      <td>0</td>\n",
              "      <td>1</td>\n",
              "      <td>0</td>\n",
              "      <td>0</td>\n",
              "    </tr>\n",
              "    <tr>\n",
              "      <th>5667</th>\n",
              "      <td>Gente, sapatão é uma coisa q me assusta https:...</td>\n",
              "      <td>1</td>\n",
              "      <td>0</td>\n",
              "      <td>0</td>\n",
              "      <td>0</td>\n",
              "      <td>0</td>\n",
              "      <td>1</td>\n",
              "      <td>0</td>\n",
              "      <td>0</td>\n",
              "      <td>0</td>\n",
              "      <td>...</td>\n",
              "      <td>0</td>\n",
              "      <td>0</td>\n",
              "      <td>0</td>\n",
              "      <td>0</td>\n",
              "      <td>0</td>\n",
              "      <td>0</td>\n",
              "      <td>0</td>\n",
              "      <td>1</td>\n",
              "      <td>0</td>\n",
              "      <td>0</td>\n",
              "    </tr>\n",
              "  </tbody>\n",
              "</table>\n",
              "<p>5668 rows × 80 columns</p>\n",
              "</div>\n",
              "      <button class=\"colab-df-convert\" onclick=\"convertToInteractive('df-dc314246-89fb-4c26-acdf-998761fefbd6')\"\n",
              "              title=\"Convert this dataframe to an interactive table.\"\n",
              "              style=\"display:none;\">\n",
              "        \n",
              "  <svg xmlns=\"http://www.w3.org/2000/svg\" height=\"24px\"viewBox=\"0 0 24 24\"\n",
              "       width=\"24px\">\n",
              "    <path d=\"M0 0h24v24H0V0z\" fill=\"none\"/>\n",
              "    <path d=\"M18.56 5.44l.94 2.06.94-2.06 2.06-.94-2.06-.94-.94-2.06-.94 2.06-2.06.94zm-11 1L8.5 8.5l.94-2.06 2.06-.94-2.06-.94L8.5 2.5l-.94 2.06-2.06.94zm10 10l.94 2.06.94-2.06 2.06-.94-2.06-.94-.94-2.06-.94 2.06-2.06.94z\"/><path d=\"M17.41 7.96l-1.37-1.37c-.4-.4-.92-.59-1.43-.59-.52 0-1.04.2-1.43.59L10.3 9.45l-7.72 7.72c-.78.78-.78 2.05 0 2.83L4 21.41c.39.39.9.59 1.41.59.51 0 1.02-.2 1.41-.59l7.78-7.78 2.81-2.81c.8-.78.8-2.07 0-2.86zM5.41 20L4 18.59l7.72-7.72 1.47 1.35L5.41 20z\"/>\n",
              "  </svg>\n",
              "      </button>\n",
              "      \n",
              "  <style>\n",
              "    .colab-df-container {\n",
              "      display:flex;\n",
              "      flex-wrap:wrap;\n",
              "      gap: 12px;\n",
              "    }\n",
              "\n",
              "    .colab-df-convert {\n",
              "      background-color: #E8F0FE;\n",
              "      border: none;\n",
              "      border-radius: 50%;\n",
              "      cursor: pointer;\n",
              "      display: none;\n",
              "      fill: #1967D2;\n",
              "      height: 32px;\n",
              "      padding: 0 0 0 0;\n",
              "      width: 32px;\n",
              "    }\n",
              "\n",
              "    .colab-df-convert:hover {\n",
              "      background-color: #E2EBFA;\n",
              "      box-shadow: 0px 1px 2px rgba(60, 64, 67, 0.3), 0px 1px 3px 1px rgba(60, 64, 67, 0.15);\n",
              "      fill: #174EA6;\n",
              "    }\n",
              "\n",
              "    [theme=dark] .colab-df-convert {\n",
              "      background-color: #3B4455;\n",
              "      fill: #D2E3FC;\n",
              "    }\n",
              "\n",
              "    [theme=dark] .colab-df-convert:hover {\n",
              "      background-color: #434B5C;\n",
              "      box-shadow: 0px 1px 3px 1px rgba(0, 0, 0, 0.15);\n",
              "      filter: drop-shadow(0px 1px 2px rgba(0, 0, 0, 0.3));\n",
              "      fill: #FFFFFF;\n",
              "    }\n",
              "  </style>\n",
              "\n",
              "      <script>\n",
              "        const buttonEl =\n",
              "          document.querySelector('#df-dc314246-89fb-4c26-acdf-998761fefbd6 button.colab-df-convert');\n",
              "        buttonEl.style.display =\n",
              "          google.colab.kernel.accessAllowed ? 'block' : 'none';\n",
              "\n",
              "        async function convertToInteractive(key) {\n",
              "          const element = document.querySelector('#df-dc314246-89fb-4c26-acdf-998761fefbd6');\n",
              "          const dataTable =\n",
              "            await google.colab.kernel.invokeFunction('convertToInteractive',\n",
              "                                                     [key], {});\n",
              "          if (!dataTable) return;\n",
              "\n",
              "          const docLinkHtml = 'Like what you see? Visit the ' +\n",
              "            '<a target=\"_blank\" href=https://colab.research.google.com/notebooks/data_table.ipynb>data table notebook</a>'\n",
              "            + ' to learn more about interactive tables.';\n",
              "          element.innerHTML = '';\n",
              "          dataTable['output_type'] = 'display_data';\n",
              "          await google.colab.output.renderOutput(dataTable, element);\n",
              "          const docLink = document.createElement('div');\n",
              "          docLink.innerHTML = docLinkHtml;\n",
              "          element.appendChild(docLink);\n",
              "        }\n",
              "      </script>\n",
              "    </div>\n",
              "  </div>\n",
              "  "
            ]
          },
          "metadata": {},
          "execution_count": 142
        }
      ],
      "source": [
        "hate_speech_hierarchical"
      ]
    },
    {
      "cell_type": "code",
      "execution_count": 143,
      "metadata": {
        "id": "8XfWNYSJeJHi"
      },
      "outputs": [],
      "source": [
        "comments = [] \n",
        "stop_words = set(stopwords.words('portuguese')) #setando o banco de stopwords em PT-BR\n",
        "\n",
        "for words in hate_speech_hierarchical['text']:\n",
        "  only_latters =re.sub(\"[^a-zA-Z]\", \" \", words) # somente letras\n",
        "  tokens = nltk.word_tokenize(only_latters) # tokenize the sentence \n",
        "  lower_case = [l.lower() for l in tokens] # converter all letters to low case \n",
        "  filtered_result = list(filter(lambda l: l not in stop_words, lower_case)) # Remove stopwords from the comments\n",
        "  comments.append(' '.join(filtered_result))"
      ]
    },
    {
      "cell_type": "code",
      "execution_count": 144,
      "metadata": {
        "id": "Zx54ATy0eUlw",
        "colab": {
          "base_uri": "https://localhost:8080/"
        },
        "outputId": "e907a23c-4cd0-4d38-c560-7bae461edd9a"
      },
      "outputs": [
        {
          "output_type": "stream",
          "name": "stderr",
          "text": [
            "/usr/local/lib/python3.8/dist-packages/sklearn/utils/deprecation.py:87: FutureWarning: Function get_feature_names is deprecated; get_feature_names is deprecated in 1.0 and will be removed in 1.2. Please use get_feature_names_out instead.\n",
            "  warnings.warn(msg, category=FutureWarning)\n"
          ]
        }
      ],
      "source": [
        "#using CountVectorizer to get the most important unigrams\n",
        "co = CountVectorizer(ngram_range=(1,1))\n",
        "count = co.fit_transform(comments)\n",
        "important_unigrams =pd.DataFrame(count.sum(axis=0), columns=co.get_feature_names()).T.sort_values(0, ascending = False)"
      ]
    },
    {
      "cell_type": "code",
      "execution_count": 145,
      "metadata": {
        "id": "kweZ1KhCeXsp",
        "colab": {
          "base_uri": "https://localhost:8080/",
          "height": 206
        },
        "outputId": "a17ec113-4866-485c-fe09-bfbf84f917e4"
      },
      "outputs": [
        {
          "output_type": "execute_result",
          "data": {
            "text/plain": [
              "           0\n",
              "co      2425\n",
              "https   2396\n",
              "rt      1134\n",
              "mulher   516\n",
              "pra      491"
            ],
            "text/html": [
              "\n",
              "  <div id=\"df-11f61b86-ad58-45a7-b854-0acd96cf6f99\">\n",
              "    <div class=\"colab-df-container\">\n",
              "      <div>\n",
              "<style scoped>\n",
              "    .dataframe tbody tr th:only-of-type {\n",
              "        vertical-align: middle;\n",
              "    }\n",
              "\n",
              "    .dataframe tbody tr th {\n",
              "        vertical-align: top;\n",
              "    }\n",
              "\n",
              "    .dataframe thead th {\n",
              "        text-align: right;\n",
              "    }\n",
              "</style>\n",
              "<table border=\"1\" class=\"dataframe\">\n",
              "  <thead>\n",
              "    <tr style=\"text-align: right;\">\n",
              "      <th></th>\n",
              "      <th>0</th>\n",
              "    </tr>\n",
              "  </thead>\n",
              "  <tbody>\n",
              "    <tr>\n",
              "      <th>co</th>\n",
              "      <td>2425</td>\n",
              "    </tr>\n",
              "    <tr>\n",
              "      <th>https</th>\n",
              "      <td>2396</td>\n",
              "    </tr>\n",
              "    <tr>\n",
              "      <th>rt</th>\n",
              "      <td>1134</td>\n",
              "    </tr>\n",
              "    <tr>\n",
              "      <th>mulher</th>\n",
              "      <td>516</td>\n",
              "    </tr>\n",
              "    <tr>\n",
              "      <th>pra</th>\n",
              "      <td>491</td>\n",
              "    </tr>\n",
              "  </tbody>\n",
              "</table>\n",
              "</div>\n",
              "      <button class=\"colab-df-convert\" onclick=\"convertToInteractive('df-11f61b86-ad58-45a7-b854-0acd96cf6f99')\"\n",
              "              title=\"Convert this dataframe to an interactive table.\"\n",
              "              style=\"display:none;\">\n",
              "        \n",
              "  <svg xmlns=\"http://www.w3.org/2000/svg\" height=\"24px\"viewBox=\"0 0 24 24\"\n",
              "       width=\"24px\">\n",
              "    <path d=\"M0 0h24v24H0V0z\" fill=\"none\"/>\n",
              "    <path d=\"M18.56 5.44l.94 2.06.94-2.06 2.06-.94-2.06-.94-.94-2.06-.94 2.06-2.06.94zm-11 1L8.5 8.5l.94-2.06 2.06-.94-2.06-.94L8.5 2.5l-.94 2.06-2.06.94zm10 10l.94 2.06.94-2.06 2.06-.94-2.06-.94-.94-2.06-.94 2.06-2.06.94z\"/><path d=\"M17.41 7.96l-1.37-1.37c-.4-.4-.92-.59-1.43-.59-.52 0-1.04.2-1.43.59L10.3 9.45l-7.72 7.72c-.78.78-.78 2.05 0 2.83L4 21.41c.39.39.9.59 1.41.59.51 0 1.02-.2 1.41-.59l7.78-7.78 2.81-2.81c.8-.78.8-2.07 0-2.86zM5.41 20L4 18.59l7.72-7.72 1.47 1.35L5.41 20z\"/>\n",
              "  </svg>\n",
              "      </button>\n",
              "      \n",
              "  <style>\n",
              "    .colab-df-container {\n",
              "      display:flex;\n",
              "      flex-wrap:wrap;\n",
              "      gap: 12px;\n",
              "    }\n",
              "\n",
              "    .colab-df-convert {\n",
              "      background-color: #E8F0FE;\n",
              "      border: none;\n",
              "      border-radius: 50%;\n",
              "      cursor: pointer;\n",
              "      display: none;\n",
              "      fill: #1967D2;\n",
              "      height: 32px;\n",
              "      padding: 0 0 0 0;\n",
              "      width: 32px;\n",
              "    }\n",
              "\n",
              "    .colab-df-convert:hover {\n",
              "      background-color: #E2EBFA;\n",
              "      box-shadow: 0px 1px 2px rgba(60, 64, 67, 0.3), 0px 1px 3px 1px rgba(60, 64, 67, 0.15);\n",
              "      fill: #174EA6;\n",
              "    }\n",
              "\n",
              "    [theme=dark] .colab-df-convert {\n",
              "      background-color: #3B4455;\n",
              "      fill: #D2E3FC;\n",
              "    }\n",
              "\n",
              "    [theme=dark] .colab-df-convert:hover {\n",
              "      background-color: #434B5C;\n",
              "      box-shadow: 0px 1px 3px 1px rgba(0, 0, 0, 0.15);\n",
              "      filter: drop-shadow(0px 1px 2px rgba(0, 0, 0, 0.3));\n",
              "      fill: #FFFFFF;\n",
              "    }\n",
              "  </style>\n",
              "\n",
              "      <script>\n",
              "        const buttonEl =\n",
              "          document.querySelector('#df-11f61b86-ad58-45a7-b854-0acd96cf6f99 button.colab-df-convert');\n",
              "        buttonEl.style.display =\n",
              "          google.colab.kernel.accessAllowed ? 'block' : 'none';\n",
              "\n",
              "        async function convertToInteractive(key) {\n",
              "          const element = document.querySelector('#df-11f61b86-ad58-45a7-b854-0acd96cf6f99');\n",
              "          const dataTable =\n",
              "            await google.colab.kernel.invokeFunction('convertToInteractive',\n",
              "                                                     [key], {});\n",
              "          if (!dataTable) return;\n",
              "\n",
              "          const docLinkHtml = 'Like what you see? Visit the ' +\n",
              "            '<a target=\"_blank\" href=https://colab.research.google.com/notebooks/data_table.ipynb>data table notebook</a>'\n",
              "            + ' to learn more about interactive tables.';\n",
              "          element.innerHTML = '';\n",
              "          dataTable['output_type'] = 'display_data';\n",
              "          await google.colab.output.renderOutput(dataTable, element);\n",
              "          const docLink = document.createElement('div');\n",
              "          docLink.innerHTML = docLinkHtml;\n",
              "          element.appendChild(docLink);\n",
              "        }\n",
              "      </script>\n",
              "    </div>\n",
              "  </div>\n",
              "  "
            ]
          },
          "metadata": {},
          "execution_count": 145
        }
      ],
      "source": [
        "important_unigrams[:5]"
      ]
    },
    {
      "cell_type": "code",
      "execution_count": 146,
      "metadata": {
        "id": "P__AKWr3eiBA",
        "colab": {
          "base_uri": "https://localhost:8080/"
        },
        "outputId": "46cc35ed-1c81-42bd-b014-fb7a3f9080f5"
      },
      "outputs": [
        {
          "output_type": "stream",
          "name": "stderr",
          "text": [
            "/usr/local/lib/python3.8/dist-packages/sklearn/utils/deprecation.py:87: FutureWarning: Function get_feature_names is deprecated; get_feature_names is deprecated in 1.0 and will be removed in 1.2. Please use get_feature_names_out instead.\n",
            "  warnings.warn(msg, category=FutureWarning)\n"
          ]
        }
      ],
      "source": [
        "#using CountVectorizer to get the most important unigrams\n",
        "co = CountVectorizer(ngram_range=(1,1))\n",
        "count = co.fit_transform(hate_speech_hierarchical['text'])\n",
        "important_unigrams =pd.DataFrame(count.sum(axis=0), columns=co.get_feature_names()).T.sort_values(0, ascending = False)"
      ]
    },
    {
      "cell_type": "code",
      "execution_count": 147,
      "metadata": {
        "id": "tWw_rWPyel--",
        "colab": {
          "base_uri": "https://localhost:8080/",
          "height": 206
        },
        "outputId": "091676ee-41bb-428c-bac6-2fc7406178cd"
      },
      "outputs": [
        {
          "output_type": "execute_result",
          "data": {
            "text/plain": [
              "          0\n",
              "de     2457\n",
              "co     2422\n",
              "https  2395\n",
              "que    2140\n",
              "não    1647"
            ],
            "text/html": [
              "\n",
              "  <div id=\"df-6de0d6b8-4b99-46eb-9c53-38c0298db18f\">\n",
              "    <div class=\"colab-df-container\">\n",
              "      <div>\n",
              "<style scoped>\n",
              "    .dataframe tbody tr th:only-of-type {\n",
              "        vertical-align: middle;\n",
              "    }\n",
              "\n",
              "    .dataframe tbody tr th {\n",
              "        vertical-align: top;\n",
              "    }\n",
              "\n",
              "    .dataframe thead th {\n",
              "        text-align: right;\n",
              "    }\n",
              "</style>\n",
              "<table border=\"1\" class=\"dataframe\">\n",
              "  <thead>\n",
              "    <tr style=\"text-align: right;\">\n",
              "      <th></th>\n",
              "      <th>0</th>\n",
              "    </tr>\n",
              "  </thead>\n",
              "  <tbody>\n",
              "    <tr>\n",
              "      <th>de</th>\n",
              "      <td>2457</td>\n",
              "    </tr>\n",
              "    <tr>\n",
              "      <th>co</th>\n",
              "      <td>2422</td>\n",
              "    </tr>\n",
              "    <tr>\n",
              "      <th>https</th>\n",
              "      <td>2395</td>\n",
              "    </tr>\n",
              "    <tr>\n",
              "      <th>que</th>\n",
              "      <td>2140</td>\n",
              "    </tr>\n",
              "    <tr>\n",
              "      <th>não</th>\n",
              "      <td>1647</td>\n",
              "    </tr>\n",
              "  </tbody>\n",
              "</table>\n",
              "</div>\n",
              "      <button class=\"colab-df-convert\" onclick=\"convertToInteractive('df-6de0d6b8-4b99-46eb-9c53-38c0298db18f')\"\n",
              "              title=\"Convert this dataframe to an interactive table.\"\n",
              "              style=\"display:none;\">\n",
              "        \n",
              "  <svg xmlns=\"http://www.w3.org/2000/svg\" height=\"24px\"viewBox=\"0 0 24 24\"\n",
              "       width=\"24px\">\n",
              "    <path d=\"M0 0h24v24H0V0z\" fill=\"none\"/>\n",
              "    <path d=\"M18.56 5.44l.94 2.06.94-2.06 2.06-.94-2.06-.94-.94-2.06-.94 2.06-2.06.94zm-11 1L8.5 8.5l.94-2.06 2.06-.94-2.06-.94L8.5 2.5l-.94 2.06-2.06.94zm10 10l.94 2.06.94-2.06 2.06-.94-2.06-.94-.94-2.06-.94 2.06-2.06.94z\"/><path d=\"M17.41 7.96l-1.37-1.37c-.4-.4-.92-.59-1.43-.59-.52 0-1.04.2-1.43.59L10.3 9.45l-7.72 7.72c-.78.78-.78 2.05 0 2.83L4 21.41c.39.39.9.59 1.41.59.51 0 1.02-.2 1.41-.59l7.78-7.78 2.81-2.81c.8-.78.8-2.07 0-2.86zM5.41 20L4 18.59l7.72-7.72 1.47 1.35L5.41 20z\"/>\n",
              "  </svg>\n",
              "      </button>\n",
              "      \n",
              "  <style>\n",
              "    .colab-df-container {\n",
              "      display:flex;\n",
              "      flex-wrap:wrap;\n",
              "      gap: 12px;\n",
              "    }\n",
              "\n",
              "    .colab-df-convert {\n",
              "      background-color: #E8F0FE;\n",
              "      border: none;\n",
              "      border-radius: 50%;\n",
              "      cursor: pointer;\n",
              "      display: none;\n",
              "      fill: #1967D2;\n",
              "      height: 32px;\n",
              "      padding: 0 0 0 0;\n",
              "      width: 32px;\n",
              "    }\n",
              "\n",
              "    .colab-df-convert:hover {\n",
              "      background-color: #E2EBFA;\n",
              "      box-shadow: 0px 1px 2px rgba(60, 64, 67, 0.3), 0px 1px 3px 1px rgba(60, 64, 67, 0.15);\n",
              "      fill: #174EA6;\n",
              "    }\n",
              "\n",
              "    [theme=dark] .colab-df-convert {\n",
              "      background-color: #3B4455;\n",
              "      fill: #D2E3FC;\n",
              "    }\n",
              "\n",
              "    [theme=dark] .colab-df-convert:hover {\n",
              "      background-color: #434B5C;\n",
              "      box-shadow: 0px 1px 3px 1px rgba(0, 0, 0, 0.15);\n",
              "      filter: drop-shadow(0px 1px 2px rgba(0, 0, 0, 0.3));\n",
              "      fill: #FFFFFF;\n",
              "    }\n",
              "  </style>\n",
              "\n",
              "      <script>\n",
              "        const buttonEl =\n",
              "          document.querySelector('#df-6de0d6b8-4b99-46eb-9c53-38c0298db18f button.colab-df-convert');\n",
              "        buttonEl.style.display =\n",
              "          google.colab.kernel.accessAllowed ? 'block' : 'none';\n",
              "\n",
              "        async function convertToInteractive(key) {\n",
              "          const element = document.querySelector('#df-6de0d6b8-4b99-46eb-9c53-38c0298db18f');\n",
              "          const dataTable =\n",
              "            await google.colab.kernel.invokeFunction('convertToInteractive',\n",
              "                                                     [key], {});\n",
              "          if (!dataTable) return;\n",
              "\n",
              "          const docLinkHtml = 'Like what you see? Visit the ' +\n",
              "            '<a target=\"_blank\" href=https://colab.research.google.com/notebooks/data_table.ipynb>data table notebook</a>'\n",
              "            + ' to learn more about interactive tables.';\n",
              "          element.innerHTML = '';\n",
              "          dataTable['output_type'] = 'display_data';\n",
              "          await google.colab.output.renderOutput(dataTable, element);\n",
              "          const docLink = document.createElement('div');\n",
              "          docLink.innerHTML = docLinkHtml;\n",
              "          element.appendChild(docLink);\n",
              "        }\n",
              "      </script>\n",
              "    </div>\n",
              "  </div>\n",
              "  "
            ]
          },
          "metadata": {},
          "execution_count": 147
        }
      ],
      "source": [
        "important_unigrams[:5]"
      ]
    },
    {
      "cell_type": "code",
      "source": [
        "lista_quantidade_palavras_hate_speech_hierarchical_com_sw = []\n",
        "quantidade_palavras_com_sw = 0\n",
        "for texto in hate_speech_hierarchical['text']:\n",
        "  palavras = texto.split(' ')\n",
        "  lista_quantidade_palavras_hate_speech_hierarchical_com_sw.append(len(palavras))\n",
        "  quantidade_palavras_com_sw += len(palavras)\n",
        "\n",
        "lista_quantidade_palavras_hate_speech_hierarchical_sem_sw = []\n",
        "quantidade_palavras_sem_sw = 0\n",
        "for texto in comments:\n",
        "  palavras = texto.split(' ')\n",
        "  lista_quantidade_palavras_hate_speech_hierarchical_sem_sw.append(len(palavras))\n",
        "  quantidade_palavras_sem_sw += len(palavras)\n",
        "\n",
        "\n",
        "print(f'Quantidade de palavras com Stopwords: {quantidade_palavras_com_sw} palavras')\n",
        "print(f'Quantidade de palavras sem Stopwords: {quantidade_palavras_sem_sw} palavras')"
      ],
      "metadata": {
        "colab": {
          "base_uri": "https://localhost:8080/"
        },
        "id": "lu4DQLuG7NCw",
        "outputId": "b98897de-7bcc-4f7a-fcd9-df3fe83a8ce3"
      },
      "execution_count": 148,
      "outputs": [
        {
          "output_type": "stream",
          "name": "stdout",
          "text": [
            "Quantidade de palavras com Stopwords: 88777 palavras\n",
            "Quantidade de palavras sem Stopwords: 71762 palavras\n"
          ]
        }
      ]
    },
    {
      "cell_type": "code",
      "source": [
        "tam_base = len( base_hate_speech_binary['text'])\n",
        "\n",
        "print(f'Tamanho médio da base com Stop Words: {round(quantidade_palavras_com_sw/tam_base, 2)} ')\n",
        "print(f'Tamanho médio da base sem Stop Words: {round(quantidade_palavras_sem_sw/tam_base, 2)} \\n')\n",
        "\n",
        "print(f'Desvio padrão da base sem Stop Words: {round(np.std(lista_quantidade_palavras_hate_speech_hierarchical_com_sw),2)}')\n",
        "print(f'Desvio padrão da base com Stop Words: {round(np.std(lista_quantidade_palavras_hate_speech_hierarchical_sem_sw),2)}')\n"
      ],
      "metadata": {
        "colab": {
          "base_uri": "https://localhost:8080/"
        },
        "id": "JXl8G4iMv6eJ",
        "outputId": "d170024e-627f-4bb5-acd4-6445505eb90e"
      },
      "execution_count": 149,
      "outputs": [
        {
          "output_type": "stream",
          "name": "stdout",
          "text": [
            "Tamanho médio da base com Stop Words: 15.66 \n",
            "Tamanho médio da base sem Stop Words: 12.66 \n",
            "\n",
            "Desvio padrão da base sem Stop Words: 6.36\n",
            "Desvio padrão da base com Stop Words: 4.64\n"
          ]
        }
      ]
    }
  ],
  "metadata": {
    "colab": {
      "provenance": [],
      "mount_file_id": "1d-ZwV2RKDe-RcARAdcoXGS_U16B7nVtF",
      "authorship_tag": "ABX9TyPEvKnTWp6V/YIbDWamQRz+",
      "include_colab_link": true
    },
    "kernelspec": {
      "display_name": "Python 3",
      "name": "python3"
    },
    "language_info": {
      "name": "python"
    }
  },
  "nbformat": 4,
  "nbformat_minor": 0
}