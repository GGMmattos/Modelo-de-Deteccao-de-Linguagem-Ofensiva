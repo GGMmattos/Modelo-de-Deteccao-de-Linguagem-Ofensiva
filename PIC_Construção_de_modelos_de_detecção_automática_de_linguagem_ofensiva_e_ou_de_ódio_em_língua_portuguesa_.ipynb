{
  "cells": [
    {
      "cell_type": "markdown",
      "metadata": {
        "id": "view-in-github",
        "colab_type": "text"
      },
      "source": [
        "<a href=\"https://colab.research.google.com/github/GGMmattos/PIC/blob/main/PIC_Constru%C3%A7%C3%A3o_de_modelos_de_detec%C3%A7%C3%A3o_autom%C3%A1tica_de_linguagem_ofensiva_e_ou_de_%C3%B3dio_em_l%C3%ADngua_portuguesa_.ipynb\" target=\"_parent\"><img src=\"https://colab.research.google.com/assets/colab-badge.svg\" alt=\"Open In Colab\"/></a>"
      ]
    },
    {
      "cell_type": "markdown",
      "metadata": {
        "id": "9Nk28_EJ5rrK"
      },
      "source": [
        "# Importação das bibliotecas básicas"
      ]
    },
    {
      "cell_type": "code",
      "execution_count": 112,
      "metadata": {
        "colab": {
          "base_uri": "https://localhost:8080/"
        },
        "id": "A7CySTp569VC",
        "outputId": "b3c25f47-8d3f-46af-a0b1-9c741d3595ee"
      },
      "outputs": [
        {
          "output_type": "stream",
          "name": "stdout",
          "text": [
            "Looking in indexes: https://pypi.org/simple, https://us-python.pkg.dev/colab-wheels/public/simple/\n",
            "Requirement already satisfied: plotly in /usr/local/lib/python3.8/dist-packages (5.13.1)\n",
            "Requirement already satisfied: tenacity>=6.2.0 in /usr/local/lib/python3.8/dist-packages (from plotly) (8.2.1)\n"
          ]
        }
      ],
      "source": [
        " !pip install plotly --upgrade"
      ]
    },
    {
      "cell_type": "code",
      "execution_count": 113,
      "metadata": {
        "id": "jGaF3Nmg9EmA",
        "colab": {
          "base_uri": "https://localhost:8080/"
        },
        "outputId": "e708c6b2-31a6-448e-b25d-e48dcf084fc7"
      },
      "outputs": [
        {
          "output_type": "stream",
          "name": "stderr",
          "text": [
            "[nltk_data] Downloading package stopwords to /root/nltk_data...\n",
            "[nltk_data]   Package stopwords is already up-to-date!\n"
          ]
        },
        {
          "output_type": "execute_result",
          "data": {
            "text/plain": [
              "True"
            ]
          },
          "metadata": {},
          "execution_count": 113
        },
        {
          "output_type": "stream",
          "name": "stderr",
          "text": [
            "[nltk_data] Downloading package punkt to /root/nltk_data...\n",
            "[nltk_data]   Package punkt is already up-to-date!\n"
          ]
        },
        {
          "output_type": "execute_result",
          "data": {
            "text/plain": [
              "True"
            ]
          },
          "metadata": {},
          "execution_count": 113
        }
      ],
      "source": [
        "from sklearn.metrics._plot.confusion_matrix import confusion_matrix\n",
        "#Importing needed libraries \n",
        "\n",
        "from pandas.core.window.ewm import OnlineExponentialMovingWindow\n",
        "import pandas as pd #Biblioteca para carregamento de arquivo csv\n",
        "import numpy as np\n",
        "import seaborn as sns #Para visualização de gráficos\n",
        "import matplotlib.pyplot as plt #Para visualização de gráficos\n",
        "import plotly.express as px #Biblioteca para geração de gráfico dinámico\n",
        "%matplotlib inline\n",
        "from collections import Counter\n",
        "from sklearn.feature_extraction.text import CountVectorizer\n",
        "from sklearn.feature_extraction.text import TfidfTransformer\n",
        "\n",
        "#NLTK tools for text processing \n",
        "\n",
        "import re, nltk\n",
        "from nltk import word_tokenize\n",
        "from nltk.corpus import stopwords\n",
        "from wordcloud import WordCloud, STOPWORDS\n",
        "\n",
        "#Modeling packages \n",
        "\n",
        "from sklearn.model_selection import train_test_split\n",
        "from sklearn.linear_model import LogisticRegression\n",
        "from sklearn.ensemble import RandomForestClassifier\n",
        "from sklearn.metrics import accuracy_score\n",
        "from sklearn.metrics import f1_score\n",
        "from sklearn.metrics import confusion_matrix\n",
        "\n",
        "from IPython.core.interactiveshell import InteractiveShell\n",
        "InteractiveShell.ast_node_interactivity ='all'\n",
        "\n",
        "import nltk \n",
        "nltk.download('stopwords')\n",
        "nltk.download('punkt')"
      ]
    },
    {
      "cell_type": "markdown",
      "metadata": {
        "id": "9OYClPKp_r5v"
      },
      "source": [
        "# Base de dados Artigo 1 (ToLD-BR)\n",
        "\n",
        "---\n",
        "\n"
      ]
    },
    {
      "cell_type": "code",
      "execution_count": null,
      "metadata": {
        "id": "9ZcsRLHU_2Bv"
      },
      "outputs": [],
      "source": [
        "base_toldbr = pd.read_csv('/content/drive/MyDrive/Dataset/ToLD-BR.csv') #importação da base de dados"
      ]
    },
    {
      "cell_type": "code",
      "source": [
        "base_toldbr"
      ],
      "metadata": {
        "colab": {
          "base_uri": "https://localhost:8080/",
          "height": 424
        },
        "id": "idql62h-7FmP",
        "outputId": "8f888701-aba0-4603-d5c3-40a8dad5fee3"
      },
      "execution_count": null,
      "outputs": [
        {
          "output_type": "execute_result",
          "data": {
            "text/plain": [
              "                                                    text  homophobia  obscene  \\\n",
              "0      Meu nivel de amizade com isis é ela ter meu in...         0.0      0.0   \n",
              "1      rt @user @user o cara adultera dados, que fora...         0.0      0.0   \n",
              "2      @user @user @user o cara só é simplesmente o m...         0.0      2.0   \n",
              "3      eu to chorando vei vsf e eu nem staneio izone ...         0.0      1.0   \n",
              "4      Eleitor do Bolsonaro é tão ignorante q não per...         0.0      1.0   \n",
              "...                                                  ...         ...      ...   \n",
              "20995                          @user faz favor vai carai         0.0      0.0   \n",
              "20996  só queria conhecer alguém que não conhece o he...         1.0      0.0   \n",
              "20997  vcs militam na hora errada em cima de memes, p...         0.0      0.0   \n",
              "20998  @user porra any eu tava c dor de cabeca e fui ...         0.0      0.0   \n",
              "20999  saudades da iasmin de 2017 eu era gótica demai...         0.0      0.0   \n",
              "\n",
              "       insult  racism  misogyny  xenophobia  \n",
              "0         2.0     0.0       0.0         0.0  \n",
              "1         1.0     0.0       0.0         0.0  \n",
              "2         1.0     0.0       0.0         0.0  \n",
              "3         0.0     0.0       0.0         0.0  \n",
              "4         2.0     0.0       0.0         0.0  \n",
              "...       ...     ...       ...         ...  \n",
              "20995     0.0     0.0       0.0         0.0  \n",
              "20996     0.0     0.0       0.0         0.0  \n",
              "20997     0.0     0.0       0.0         0.0  \n",
              "20998     0.0     0.0       0.0         0.0  \n",
              "20999     0.0     0.0       0.0         0.0  \n",
              "\n",
              "[21000 rows x 7 columns]"
            ],
            "text/html": [
              "\n",
              "  <div id=\"df-ee07462d-7182-4c5b-a4ad-7238db96365e\">\n",
              "    <div class=\"colab-df-container\">\n",
              "      <div>\n",
              "<style scoped>\n",
              "    .dataframe tbody tr th:only-of-type {\n",
              "        vertical-align: middle;\n",
              "    }\n",
              "\n",
              "    .dataframe tbody tr th {\n",
              "        vertical-align: top;\n",
              "    }\n",
              "\n",
              "    .dataframe thead th {\n",
              "        text-align: right;\n",
              "    }\n",
              "</style>\n",
              "<table border=\"1\" class=\"dataframe\">\n",
              "  <thead>\n",
              "    <tr style=\"text-align: right;\">\n",
              "      <th></th>\n",
              "      <th>text</th>\n",
              "      <th>homophobia</th>\n",
              "      <th>obscene</th>\n",
              "      <th>insult</th>\n",
              "      <th>racism</th>\n",
              "      <th>misogyny</th>\n",
              "      <th>xenophobia</th>\n",
              "    </tr>\n",
              "  </thead>\n",
              "  <tbody>\n",
              "    <tr>\n",
              "      <th>0</th>\n",
              "      <td>Meu nivel de amizade com isis é ela ter meu in...</td>\n",
              "      <td>0.0</td>\n",
              "      <td>0.0</td>\n",
              "      <td>2.0</td>\n",
              "      <td>0.0</td>\n",
              "      <td>0.0</td>\n",
              "      <td>0.0</td>\n",
              "    </tr>\n",
              "    <tr>\n",
              "      <th>1</th>\n",
              "      <td>rt @user @user o cara adultera dados, que fora...</td>\n",
              "      <td>0.0</td>\n",
              "      <td>0.0</td>\n",
              "      <td>1.0</td>\n",
              "      <td>0.0</td>\n",
              "      <td>0.0</td>\n",
              "      <td>0.0</td>\n",
              "    </tr>\n",
              "    <tr>\n",
              "      <th>2</th>\n",
              "      <td>@user @user @user o cara só é simplesmente o m...</td>\n",
              "      <td>0.0</td>\n",
              "      <td>2.0</td>\n",
              "      <td>1.0</td>\n",
              "      <td>0.0</td>\n",
              "      <td>0.0</td>\n",
              "      <td>0.0</td>\n",
              "    </tr>\n",
              "    <tr>\n",
              "      <th>3</th>\n",
              "      <td>eu to chorando vei vsf e eu nem staneio izone ...</td>\n",
              "      <td>0.0</td>\n",
              "      <td>1.0</td>\n",
              "      <td>0.0</td>\n",
              "      <td>0.0</td>\n",
              "      <td>0.0</td>\n",
              "      <td>0.0</td>\n",
              "    </tr>\n",
              "    <tr>\n",
              "      <th>4</th>\n",
              "      <td>Eleitor do Bolsonaro é tão ignorante q não per...</td>\n",
              "      <td>0.0</td>\n",
              "      <td>1.0</td>\n",
              "      <td>2.0</td>\n",
              "      <td>0.0</td>\n",
              "      <td>0.0</td>\n",
              "      <td>0.0</td>\n",
              "    </tr>\n",
              "    <tr>\n",
              "      <th>...</th>\n",
              "      <td>...</td>\n",
              "      <td>...</td>\n",
              "      <td>...</td>\n",
              "      <td>...</td>\n",
              "      <td>...</td>\n",
              "      <td>...</td>\n",
              "      <td>...</td>\n",
              "    </tr>\n",
              "    <tr>\n",
              "      <th>20995</th>\n",
              "      <td>@user faz favor vai carai</td>\n",
              "      <td>0.0</td>\n",
              "      <td>0.0</td>\n",
              "      <td>0.0</td>\n",
              "      <td>0.0</td>\n",
              "      <td>0.0</td>\n",
              "      <td>0.0</td>\n",
              "    </tr>\n",
              "    <tr>\n",
              "      <th>20996</th>\n",
              "      <td>só queria conhecer alguém que não conhece o he...</td>\n",
              "      <td>1.0</td>\n",
              "      <td>0.0</td>\n",
              "      <td>0.0</td>\n",
              "      <td>0.0</td>\n",
              "      <td>0.0</td>\n",
              "      <td>0.0</td>\n",
              "    </tr>\n",
              "    <tr>\n",
              "      <th>20997</th>\n",
              "      <td>vcs militam na hora errada em cima de memes, p...</td>\n",
              "      <td>0.0</td>\n",
              "      <td>0.0</td>\n",
              "      <td>0.0</td>\n",
              "      <td>0.0</td>\n",
              "      <td>0.0</td>\n",
              "      <td>0.0</td>\n",
              "    </tr>\n",
              "    <tr>\n",
              "      <th>20998</th>\n",
              "      <td>@user porra any eu tava c dor de cabeca e fui ...</td>\n",
              "      <td>0.0</td>\n",
              "      <td>0.0</td>\n",
              "      <td>0.0</td>\n",
              "      <td>0.0</td>\n",
              "      <td>0.0</td>\n",
              "      <td>0.0</td>\n",
              "    </tr>\n",
              "    <tr>\n",
              "      <th>20999</th>\n",
              "      <td>saudades da iasmin de 2017 eu era gótica demai...</td>\n",
              "      <td>0.0</td>\n",
              "      <td>0.0</td>\n",
              "      <td>0.0</td>\n",
              "      <td>0.0</td>\n",
              "      <td>0.0</td>\n",
              "      <td>0.0</td>\n",
              "    </tr>\n",
              "  </tbody>\n",
              "</table>\n",
              "<p>21000 rows × 7 columns</p>\n",
              "</div>\n",
              "      <button class=\"colab-df-convert\" onclick=\"convertToInteractive('df-ee07462d-7182-4c5b-a4ad-7238db96365e')\"\n",
              "              title=\"Convert this dataframe to an interactive table.\"\n",
              "              style=\"display:none;\">\n",
              "        \n",
              "  <svg xmlns=\"http://www.w3.org/2000/svg\" height=\"24px\"viewBox=\"0 0 24 24\"\n",
              "       width=\"24px\">\n",
              "    <path d=\"M0 0h24v24H0V0z\" fill=\"none\"/>\n",
              "    <path d=\"M18.56 5.44l.94 2.06.94-2.06 2.06-.94-2.06-.94-.94-2.06-.94 2.06-2.06.94zm-11 1L8.5 8.5l.94-2.06 2.06-.94-2.06-.94L8.5 2.5l-.94 2.06-2.06.94zm10 10l.94 2.06.94-2.06 2.06-.94-2.06-.94-.94-2.06-.94 2.06-2.06.94z\"/><path d=\"M17.41 7.96l-1.37-1.37c-.4-.4-.92-.59-1.43-.59-.52 0-1.04.2-1.43.59L10.3 9.45l-7.72 7.72c-.78.78-.78 2.05 0 2.83L4 21.41c.39.39.9.59 1.41.59.51 0 1.02-.2 1.41-.59l7.78-7.78 2.81-2.81c.8-.78.8-2.07 0-2.86zM5.41 20L4 18.59l7.72-7.72 1.47 1.35L5.41 20z\"/>\n",
              "  </svg>\n",
              "      </button>\n",
              "      \n",
              "  <style>\n",
              "    .colab-df-container {\n",
              "      display:flex;\n",
              "      flex-wrap:wrap;\n",
              "      gap: 12px;\n",
              "    }\n",
              "\n",
              "    .colab-df-convert {\n",
              "      background-color: #E8F0FE;\n",
              "      border: none;\n",
              "      border-radius: 50%;\n",
              "      cursor: pointer;\n",
              "      display: none;\n",
              "      fill: #1967D2;\n",
              "      height: 32px;\n",
              "      padding: 0 0 0 0;\n",
              "      width: 32px;\n",
              "    }\n",
              "\n",
              "    .colab-df-convert:hover {\n",
              "      background-color: #E2EBFA;\n",
              "      box-shadow: 0px 1px 2px rgba(60, 64, 67, 0.3), 0px 1px 3px 1px rgba(60, 64, 67, 0.15);\n",
              "      fill: #174EA6;\n",
              "    }\n",
              "\n",
              "    [theme=dark] .colab-df-convert {\n",
              "      background-color: #3B4455;\n",
              "      fill: #D2E3FC;\n",
              "    }\n",
              "\n",
              "    [theme=dark] .colab-df-convert:hover {\n",
              "      background-color: #434B5C;\n",
              "      box-shadow: 0px 1px 3px 1px rgba(0, 0, 0, 0.15);\n",
              "      filter: drop-shadow(0px 1px 2px rgba(0, 0, 0, 0.3));\n",
              "      fill: #FFFFFF;\n",
              "    }\n",
              "  </style>\n",
              "\n",
              "      <script>\n",
              "        const buttonEl =\n",
              "          document.querySelector('#df-ee07462d-7182-4c5b-a4ad-7238db96365e button.colab-df-convert');\n",
              "        buttonEl.style.display =\n",
              "          google.colab.kernel.accessAllowed ? 'block' : 'none';\n",
              "\n",
              "        async function convertToInteractive(key) {\n",
              "          const element = document.querySelector('#df-ee07462d-7182-4c5b-a4ad-7238db96365e');\n",
              "          const dataTable =\n",
              "            await google.colab.kernel.invokeFunction('convertToInteractive',\n",
              "                                                     [key], {});\n",
              "          if (!dataTable) return;\n",
              "\n",
              "          const docLinkHtml = 'Like what you see? Visit the ' +\n",
              "            '<a target=\"_blank\" href=https://colab.research.google.com/notebooks/data_table.ipynb>data table notebook</a>'\n",
              "            + ' to learn more about interactive tables.';\n",
              "          element.innerHTML = '';\n",
              "          dataTable['output_type'] = 'display_data';\n",
              "          await google.colab.output.renderOutput(dataTable, element);\n",
              "          const docLink = document.createElement('div');\n",
              "          docLink.innerHTML = docLinkHtml;\n",
              "          element.appendChild(docLink);\n",
              "        }\n",
              "      </script>\n",
              "    </div>\n",
              "  </div>\n",
              "  "
            ]
          },
          "metadata": {},
          "execution_count": 4
        }
      ]
    },
    {
      "cell_type": "markdown",
      "metadata": {
        "id": "4_hK4fiilUOX"
      },
      "source": [
        "**Verificando o tamanho do dataset**"
      ]
    },
    {
      "cell_type": "code",
      "execution_count": null,
      "metadata": {
        "id": "4iCjuTGblQT_",
        "colab": {
          "base_uri": "https://localhost:8080/"
        },
        "outputId": "b4ae7277-c794-47e9-e6f9-78c06fb1c434"
      },
      "outputs": [
        {
          "output_type": "execute_result",
          "data": {
            "text/plain": [
              "(21000, 7)"
            ]
          },
          "metadata": {},
          "execution_count": 5
        }
      ],
      "source": [
        "base_toldbr.shape #linhas x colunas"
      ]
    },
    {
      "cell_type": "markdown",
      "metadata": {
        "id": "m7T56SbbiqRO"
      },
      "source": [
        "**Conferindo o total de textos por categorias**"
      ]
    },
    {
      "cell_type": "code",
      "execution_count": null,
      "metadata": {
        "id": "YQhyYPPBcRz7",
        "colab": {
          "base_uri": "https://localhost:8080/"
        },
        "outputId": "479afb99-ff3f-4e46-992b-713c759bec3e"
      },
      "outputs": [
        {
          "output_type": "execute_result",
          "data": {
            "text/plain": [
              "0.0    20656\n",
              "1.0      168\n",
              "2.0      102\n",
              "3.0       74\n",
              "Name: homophobia, dtype: int64"
            ]
          },
          "metadata": {},
          "execution_count": 6
        }
      ],
      "source": [
        "base_toldbr['homophobia'].value_counts() "
      ]
    },
    {
      "cell_type": "code",
      "execution_count": null,
      "metadata": {
        "id": "SzvZg8rodjUA",
        "colab": {
          "base_uri": "https://localhost:8080/"
        },
        "outputId": "b952c79e-74fa-4372-80b8-7cc75f869631"
      },
      "outputs": [
        {
          "output_type": "execute_result",
          "data": {
            "text/plain": [
              "0.0    14348\n",
              "1.0     4249\n",
              "2.0     1791\n",
              "3.0      612\n",
              "Name: obscene, dtype: int64"
            ]
          },
          "metadata": {},
          "execution_count": 7
        }
      ],
      "source": [
        "base_toldbr['obscene'].value_counts()"
      ]
    },
    {
      "cell_type": "code",
      "execution_count": null,
      "metadata": {
        "id": "e59CBJogn0XL",
        "colab": {
          "base_uri": "https://localhost:8080/"
        },
        "outputId": "00be3ca4-f45e-47a4-aa6a-1366667f55ef"
      },
      "outputs": [
        {
          "output_type": "execute_result",
          "data": {
            "text/plain": [
              "0.0    16615\n",
              "1.0     2516\n",
              "2.0     1352\n",
              "3.0      517\n",
              "Name: insult, dtype: int64"
            ]
          },
          "metadata": {},
          "execution_count": 8
        }
      ],
      "source": [
        "base_toldbr['insult'].value_counts()"
      ]
    },
    {
      "cell_type": "code",
      "execution_count": null,
      "metadata": {
        "id": "kX25ruw8ds5S",
        "colab": {
          "base_uri": "https://localhost:8080/"
        },
        "outputId": "f80c1a88-5465-4243-ac42-e21659434783"
      },
      "outputs": [
        {
          "output_type": "execute_result",
          "data": {
            "text/plain": [
              "0.0    20862\n",
              "1.0      105\n",
              "2.0       27\n",
              "3.0        6\n",
              "Name: racism, dtype: int64"
            ]
          },
          "metadata": {},
          "execution_count": 9
        }
      ],
      "source": [
        "base_toldbr['racism'].value_counts()"
      ]
    },
    {
      "cell_type": "code",
      "execution_count": null,
      "metadata": {
        "id": "nWdjwPfadxiS",
        "colab": {
          "base_uri": "https://localhost:8080/"
        },
        "outputId": "779506fa-5320-4072-bd5d-81092f54a54d"
      },
      "outputs": [
        {
          "output_type": "execute_result",
          "data": {
            "text/plain": [
              "0.0    20537\n",
              "1.0      330\n",
              "2.0      104\n",
              "3.0       29\n",
              "Name: misogyny, dtype: int64"
            ]
          },
          "metadata": {},
          "execution_count": 10
        }
      ],
      "source": [
        "base_toldbr['misogyny'].value_counts()"
      ]
    },
    {
      "cell_type": "code",
      "execution_count": null,
      "metadata": {
        "id": "3poiO-DMd37c",
        "colab": {
          "base_uri": "https://localhost:8080/"
        },
        "outputId": "8fc3ed52-5d8d-4d2c-f7c0-2b942166a275"
      },
      "outputs": [
        {
          "output_type": "execute_result",
          "data": {
            "text/plain": [
              "0.0    20849\n",
              "1.0      109\n",
              "2.0       27\n",
              "3.0       15\n",
              "Name: xenophobia, dtype: int64"
            ]
          },
          "metadata": {},
          "execution_count": 11
        }
      ],
      "source": [
        "base_toldbr['xenophobia'].value_counts()"
      ]
    },
    {
      "cell_type": "markdown",
      "metadata": {
        "id": "fr6HMvGwmzij"
      },
      "source": [
        "Verificando valores nulos e tipos de dados"
      ]
    },
    {
      "cell_type": "code",
      "execution_count": null,
      "metadata": {
        "id": "gXSxgFiWm41y",
        "colab": {
          "base_uri": "https://localhost:8080/"
        },
        "outputId": "03b461c3-4783-48c0-cf0b-509038caaf9d"
      },
      "outputs": [
        {
          "output_type": "stream",
          "name": "stdout",
          "text": [
            "<class 'pandas.core.frame.DataFrame'>\n",
            "RangeIndex: 21000 entries, 0 to 20999\n",
            "Data columns (total 7 columns):\n",
            " #   Column      Non-Null Count  Dtype  \n",
            "---  ------      --------------  -----  \n",
            " 0   text        21000 non-null  object \n",
            " 1   homophobia  21000 non-null  float64\n",
            " 2   obscene     21000 non-null  float64\n",
            " 3   insult      21000 non-null  float64\n",
            " 4   racism      21000 non-null  float64\n",
            " 5   misogyny    21000 non-null  float64\n",
            " 6   xenophobia  21000 non-null  float64\n",
            "dtypes: float64(6), object(1)\n",
            "memory usage: 1.1+ MB\n"
          ]
        }
      ],
      "source": [
        "base_toldbr.info()"
      ]
    },
    {
      "cell_type": "markdown",
      "metadata": {
        "id": "ek1DskPinVKk"
      },
      "source": [
        "**Como verificado logo acima não há valores NULL**"
      ]
    },
    {
      "cell_type": "code",
      "execution_count": null,
      "metadata": {
        "id": "mEzgQLocnMW6",
        "colab": {
          "base_uri": "https://localhost:8080/"
        },
        "outputId": "c765a2e4-4e84-4c82-c4ac-a1ce935efb5d"
      },
      "outputs": [
        {
          "output_type": "execute_result",
          "data": {
            "text/plain": [
              "text          0\n",
              "homophobia    0\n",
              "obscene       0\n",
              "insult        0\n",
              "racism        0\n",
              "misogyny      0\n",
              "xenophobia    0\n",
              "dtype: int64"
            ]
          },
          "metadata": {},
          "execution_count": 13
        }
      ],
      "source": [
        "base_toldbr.isnull().sum()"
      ]
    },
    {
      "cell_type": "markdown",
      "metadata": {
        "id": "COveV-Q5bAk6"
      },
      "source": [
        "**Donwload dos pacotes que permitirão fazer os trabalhos de PLN**"
      ]
    },
    {
      "cell_type": "markdown",
      "metadata": {
        "id": "UwuB-M69bKNB"
      },
      "source": [
        "**Limpeza dos dados**"
      ]
    },
    {
      "cell_type": "markdown",
      "metadata": {
        "id": "Yk-ffkGAEPJ9"
      },
      "source": [
        "**O que é Stop Words?**\n",
        "\n",
        "Stop words (ou palavras de parada – tradução livre) são palavras que podem ser consideradas irrelevantes para o conjunto de resultados a ser exibido em uma busca realizada em uma search engine. Exemplos: as, e, os, de, para, com, sem, foi."
      ]
    },
    {
      "cell_type": "code",
      "execution_count": null,
      "metadata": {
        "id": "XBs5VCk0bJxG"
      },
      "outputs": [],
      "source": [
        "comments = [] \n",
        "stop_words = set(stopwords.words('portuguese')) #setando o banco de stopwords em PT-BR\n",
        "\n",
        "for words in base_toldbr['text']:\n",
        "  only_latters =re.sub(\"[^a-zA-Z]\", \" \", words) # somente letras\n",
        "  tokens = nltk.word_tokenize(only_latters) # tokenize the sentence \n",
        "  lower_case = [l.lower() for l in tokens] # converter all letters to low case \n",
        "  stop = ['user', 'rt', 'https']\n",
        "  filtered_result = list(filter(lambda l: l not in stop_words and  l not in stop, lower_case)) # Remove stopwords from the comments\n",
        "  comments.append(' '.join(filtered_result))\n",
        "  \n",
        "\n",
        "    \n"
      ]
    },
    {
      "cell_type": "markdown",
      "metadata": {
        "id": "uo_F1UyPVxpG"
      },
      "source": [
        "Ranque das palavras únicas com base na frequência de cada palavra\n"
      ]
    },
    {
      "cell_type": "code",
      "execution_count": null,
      "metadata": {
        "id": "P4Qk4odjUIHw",
        "colab": {
          "base_uri": "https://localhost:8080/"
        },
        "outputId": "f4ea8a92-9544-4e33-d6de-f215527f7ad1"
      },
      "outputs": [
        {
          "output_type": "stream",
          "name": "stderr",
          "text": [
            "/usr/local/lib/python3.8/dist-packages/sklearn/utils/deprecation.py:87: FutureWarning: Function get_feature_names is deprecated; get_feature_names is deprecated in 1.0 and will be removed in 1.2. Please use get_feature_names_out instead.\n",
            "  warnings.warn(msg, category=FutureWarning)\n"
          ]
        }
      ],
      "source": [
        "#using CountVectorizer to get the most important unigrams\n",
        "co = CountVectorizer(ngram_range=(1,1))\n",
        "count = co.fit_transform(comments)\n",
        "important_unigrams =pd.DataFrame(count.sum(axis=0), columns=co.get_feature_names()).T.sort_values(0, ascending = False)"
      ]
    },
    {
      "cell_type": "markdown",
      "metadata": {
        "id": "FvygoW0s0eXC"
      },
      "source": [
        "**Rank de palavras com maior frequência sem Stopword** "
      ]
    },
    {
      "cell_type": "code",
      "execution_count": null,
      "metadata": {
        "id": "mEcRPP1SVZht",
        "colab": {
          "base_uri": "https://localhost:8080/",
          "height": 206
        },
        "outputId": "ed8afe8a-3545-406f-8c14-12936707a69c"
      },
      "outputs": [
        {
          "output_type": "execute_result",
          "data": {
            "text/plain": [
              "            0\n",
              "co       3619\n",
              "pra      2999\n",
              "porra    1941\n",
              "pqp      1726\n",
              "caralho  1688"
            ],
            "text/html": [
              "\n",
              "  <div id=\"df-ff50919f-7b82-4689-bb63-661b0aa792da\">\n",
              "    <div class=\"colab-df-container\">\n",
              "      <div>\n",
              "<style scoped>\n",
              "    .dataframe tbody tr th:only-of-type {\n",
              "        vertical-align: middle;\n",
              "    }\n",
              "\n",
              "    .dataframe tbody tr th {\n",
              "        vertical-align: top;\n",
              "    }\n",
              "\n",
              "    .dataframe thead th {\n",
              "        text-align: right;\n",
              "    }\n",
              "</style>\n",
              "<table border=\"1\" class=\"dataframe\">\n",
              "  <thead>\n",
              "    <tr style=\"text-align: right;\">\n",
              "      <th></th>\n",
              "      <th>0</th>\n",
              "    </tr>\n",
              "  </thead>\n",
              "  <tbody>\n",
              "    <tr>\n",
              "      <th>co</th>\n",
              "      <td>3619</td>\n",
              "    </tr>\n",
              "    <tr>\n",
              "      <th>pra</th>\n",
              "      <td>2999</td>\n",
              "    </tr>\n",
              "    <tr>\n",
              "      <th>porra</th>\n",
              "      <td>1941</td>\n",
              "    </tr>\n",
              "    <tr>\n",
              "      <th>pqp</th>\n",
              "      <td>1726</td>\n",
              "    </tr>\n",
              "    <tr>\n",
              "      <th>caralho</th>\n",
              "      <td>1688</td>\n",
              "    </tr>\n",
              "  </tbody>\n",
              "</table>\n",
              "</div>\n",
              "      <button class=\"colab-df-convert\" onclick=\"convertToInteractive('df-ff50919f-7b82-4689-bb63-661b0aa792da')\"\n",
              "              title=\"Convert this dataframe to an interactive table.\"\n",
              "              style=\"display:none;\">\n",
              "        \n",
              "  <svg xmlns=\"http://www.w3.org/2000/svg\" height=\"24px\"viewBox=\"0 0 24 24\"\n",
              "       width=\"24px\">\n",
              "    <path d=\"M0 0h24v24H0V0z\" fill=\"none\"/>\n",
              "    <path d=\"M18.56 5.44l.94 2.06.94-2.06 2.06-.94-2.06-.94-.94-2.06-.94 2.06-2.06.94zm-11 1L8.5 8.5l.94-2.06 2.06-.94-2.06-.94L8.5 2.5l-.94 2.06-2.06.94zm10 10l.94 2.06.94-2.06 2.06-.94-2.06-.94-.94-2.06-.94 2.06-2.06.94z\"/><path d=\"M17.41 7.96l-1.37-1.37c-.4-.4-.92-.59-1.43-.59-.52 0-1.04.2-1.43.59L10.3 9.45l-7.72 7.72c-.78.78-.78 2.05 0 2.83L4 21.41c.39.39.9.59 1.41.59.51 0 1.02-.2 1.41-.59l7.78-7.78 2.81-2.81c.8-.78.8-2.07 0-2.86zM5.41 20L4 18.59l7.72-7.72 1.47 1.35L5.41 20z\"/>\n",
              "  </svg>\n",
              "      </button>\n",
              "      \n",
              "  <style>\n",
              "    .colab-df-container {\n",
              "      display:flex;\n",
              "      flex-wrap:wrap;\n",
              "      gap: 12px;\n",
              "    }\n",
              "\n",
              "    .colab-df-convert {\n",
              "      background-color: #E8F0FE;\n",
              "      border: none;\n",
              "      border-radius: 50%;\n",
              "      cursor: pointer;\n",
              "      display: none;\n",
              "      fill: #1967D2;\n",
              "      height: 32px;\n",
              "      padding: 0 0 0 0;\n",
              "      width: 32px;\n",
              "    }\n",
              "\n",
              "    .colab-df-convert:hover {\n",
              "      background-color: #E2EBFA;\n",
              "      box-shadow: 0px 1px 2px rgba(60, 64, 67, 0.3), 0px 1px 3px 1px rgba(60, 64, 67, 0.15);\n",
              "      fill: #174EA6;\n",
              "    }\n",
              "\n",
              "    [theme=dark] .colab-df-convert {\n",
              "      background-color: #3B4455;\n",
              "      fill: #D2E3FC;\n",
              "    }\n",
              "\n",
              "    [theme=dark] .colab-df-convert:hover {\n",
              "      background-color: #434B5C;\n",
              "      box-shadow: 0px 1px 3px 1px rgba(0, 0, 0, 0.15);\n",
              "      filter: drop-shadow(0px 1px 2px rgba(0, 0, 0, 0.3));\n",
              "      fill: #FFFFFF;\n",
              "    }\n",
              "  </style>\n",
              "\n",
              "      <script>\n",
              "        const buttonEl =\n",
              "          document.querySelector('#df-ff50919f-7b82-4689-bb63-661b0aa792da button.colab-df-convert');\n",
              "        buttonEl.style.display =\n",
              "          google.colab.kernel.accessAllowed ? 'block' : 'none';\n",
              "\n",
              "        async function convertToInteractive(key) {\n",
              "          const element = document.querySelector('#df-ff50919f-7b82-4689-bb63-661b0aa792da');\n",
              "          const dataTable =\n",
              "            await google.colab.kernel.invokeFunction('convertToInteractive',\n",
              "                                                     [key], {});\n",
              "          if (!dataTable) return;\n",
              "\n",
              "          const docLinkHtml = 'Like what you see? Visit the ' +\n",
              "            '<a target=\"_blank\" href=https://colab.research.google.com/notebooks/data_table.ipynb>data table notebook</a>'\n",
              "            + ' to learn more about interactive tables.';\n",
              "          element.innerHTML = '';\n",
              "          dataTable['output_type'] = 'display_data';\n",
              "          await google.colab.output.renderOutput(dataTable, element);\n",
              "          const docLink = document.createElement('div');\n",
              "          docLink.innerHTML = docLinkHtml;\n",
              "          element.appendChild(docLink);\n",
              "        }\n",
              "      </script>\n",
              "    </div>\n",
              "  </div>\n",
              "  "
            ]
          },
          "metadata": {},
          "execution_count": 16
        }
      ],
      "source": [
        "important_unigrams[:5]"
      ]
    },
    {
      "cell_type": "markdown",
      "metadata": {
        "id": "Ehdt9fgEBMCW"
      },
      "source": [
        "**Rank de palavras com maior frequência com Stopword** "
      ]
    },
    {
      "cell_type": "code",
      "execution_count": null,
      "metadata": {
        "id": "EuMKUKkMVvWr",
        "colab": {
          "base_uri": "https://localhost:8080/"
        },
        "outputId": "f3be1d18-af9a-49a2-f344-663b16a1f9e4"
      },
      "outputs": [
        {
          "output_type": "stream",
          "name": "stderr",
          "text": [
            "/usr/local/lib/python3.8/dist-packages/sklearn/utils/deprecation.py:87: FutureWarning: Function get_feature_names is deprecated; get_feature_names is deprecated in 1.0 and will be removed in 1.2. Please use get_feature_names_out instead.\n",
            "  warnings.warn(msg, category=FutureWarning)\n"
          ]
        }
      ],
      "source": [
        "#using CountVectorizer to get the most important unigrams\n",
        "co = CountVectorizer(ngram_range=(1,1))\n",
        "count = co.fit_transform(base_toldbr['text'])\n",
        "important_unigrams =pd.DataFrame(count.sum(axis=0), columns=co.get_feature_names()).T.sort_values(0, ascending = False)"
      ]
    },
    {
      "cell_type": "code",
      "execution_count": null,
      "metadata": {
        "id": "p-A2R0HKBa-o",
        "colab": {
          "base_uri": "https://localhost:8080/",
          "height": 206
        },
        "outputId": "c8324ff4-a3f7-4d85-d523-a79ed75c5a12"
      },
      "outputs": [
        {
          "output_type": "execute_result",
          "data": {
            "text/plain": [
              "          0\n",
              "user  13270\n",
              "que    8045\n",
              "de     7814\n",
              "eu     5644\n",
              "não    3875"
            ],
            "text/html": [
              "\n",
              "  <div id=\"df-0e203679-095d-4761-9406-54975313519c\">\n",
              "    <div class=\"colab-df-container\">\n",
              "      <div>\n",
              "<style scoped>\n",
              "    .dataframe tbody tr th:only-of-type {\n",
              "        vertical-align: middle;\n",
              "    }\n",
              "\n",
              "    .dataframe tbody tr th {\n",
              "        vertical-align: top;\n",
              "    }\n",
              "\n",
              "    .dataframe thead th {\n",
              "        text-align: right;\n",
              "    }\n",
              "</style>\n",
              "<table border=\"1\" class=\"dataframe\">\n",
              "  <thead>\n",
              "    <tr style=\"text-align: right;\">\n",
              "      <th></th>\n",
              "      <th>0</th>\n",
              "    </tr>\n",
              "  </thead>\n",
              "  <tbody>\n",
              "    <tr>\n",
              "      <th>user</th>\n",
              "      <td>13270</td>\n",
              "    </tr>\n",
              "    <tr>\n",
              "      <th>que</th>\n",
              "      <td>8045</td>\n",
              "    </tr>\n",
              "    <tr>\n",
              "      <th>de</th>\n",
              "      <td>7814</td>\n",
              "    </tr>\n",
              "    <tr>\n",
              "      <th>eu</th>\n",
              "      <td>5644</td>\n",
              "    </tr>\n",
              "    <tr>\n",
              "      <th>não</th>\n",
              "      <td>3875</td>\n",
              "    </tr>\n",
              "  </tbody>\n",
              "</table>\n",
              "</div>\n",
              "      <button class=\"colab-df-convert\" onclick=\"convertToInteractive('df-0e203679-095d-4761-9406-54975313519c')\"\n",
              "              title=\"Convert this dataframe to an interactive table.\"\n",
              "              style=\"display:none;\">\n",
              "        \n",
              "  <svg xmlns=\"http://www.w3.org/2000/svg\" height=\"24px\"viewBox=\"0 0 24 24\"\n",
              "       width=\"24px\">\n",
              "    <path d=\"M0 0h24v24H0V0z\" fill=\"none\"/>\n",
              "    <path d=\"M18.56 5.44l.94 2.06.94-2.06 2.06-.94-2.06-.94-.94-2.06-.94 2.06-2.06.94zm-11 1L8.5 8.5l.94-2.06 2.06-.94-2.06-.94L8.5 2.5l-.94 2.06-2.06.94zm10 10l.94 2.06.94-2.06 2.06-.94-2.06-.94-.94-2.06-.94 2.06-2.06.94z\"/><path d=\"M17.41 7.96l-1.37-1.37c-.4-.4-.92-.59-1.43-.59-.52 0-1.04.2-1.43.59L10.3 9.45l-7.72 7.72c-.78.78-.78 2.05 0 2.83L4 21.41c.39.39.9.59 1.41.59.51 0 1.02-.2 1.41-.59l7.78-7.78 2.81-2.81c.8-.78.8-2.07 0-2.86zM5.41 20L4 18.59l7.72-7.72 1.47 1.35L5.41 20z\"/>\n",
              "  </svg>\n",
              "      </button>\n",
              "      \n",
              "  <style>\n",
              "    .colab-df-container {\n",
              "      display:flex;\n",
              "      flex-wrap:wrap;\n",
              "      gap: 12px;\n",
              "    }\n",
              "\n",
              "    .colab-df-convert {\n",
              "      background-color: #E8F0FE;\n",
              "      border: none;\n",
              "      border-radius: 50%;\n",
              "      cursor: pointer;\n",
              "      display: none;\n",
              "      fill: #1967D2;\n",
              "      height: 32px;\n",
              "      padding: 0 0 0 0;\n",
              "      width: 32px;\n",
              "    }\n",
              "\n",
              "    .colab-df-convert:hover {\n",
              "      background-color: #E2EBFA;\n",
              "      box-shadow: 0px 1px 2px rgba(60, 64, 67, 0.3), 0px 1px 3px 1px rgba(60, 64, 67, 0.15);\n",
              "      fill: #174EA6;\n",
              "    }\n",
              "\n",
              "    [theme=dark] .colab-df-convert {\n",
              "      background-color: #3B4455;\n",
              "      fill: #D2E3FC;\n",
              "    }\n",
              "\n",
              "    [theme=dark] .colab-df-convert:hover {\n",
              "      background-color: #434B5C;\n",
              "      box-shadow: 0px 1px 3px 1px rgba(0, 0, 0, 0.15);\n",
              "      filter: drop-shadow(0px 1px 2px rgba(0, 0, 0, 0.3));\n",
              "      fill: #FFFFFF;\n",
              "    }\n",
              "  </style>\n",
              "\n",
              "      <script>\n",
              "        const buttonEl =\n",
              "          document.querySelector('#df-0e203679-095d-4761-9406-54975313519c button.colab-df-convert');\n",
              "        buttonEl.style.display =\n",
              "          google.colab.kernel.accessAllowed ? 'block' : 'none';\n",
              "\n",
              "        async function convertToInteractive(key) {\n",
              "          const element = document.querySelector('#df-0e203679-095d-4761-9406-54975313519c');\n",
              "          const dataTable =\n",
              "            await google.colab.kernel.invokeFunction('convertToInteractive',\n",
              "                                                     [key], {});\n",
              "          if (!dataTable) return;\n",
              "\n",
              "          const docLinkHtml = 'Like what you see? Visit the ' +\n",
              "            '<a target=\"_blank\" href=https://colab.research.google.com/notebooks/data_table.ipynb>data table notebook</a>'\n",
              "            + ' to learn more about interactive tables.';\n",
              "          element.innerHTML = '';\n",
              "          dataTable['output_type'] = 'display_data';\n",
              "          await google.colab.output.renderOutput(dataTable, element);\n",
              "          const docLink = document.createElement('div');\n",
              "          docLink.innerHTML = docLinkHtml;\n",
              "          element.appendChild(docLink);\n",
              "        }\n",
              "      </script>\n",
              "    </div>\n",
              "  </div>\n",
              "  "
            ]
          },
          "metadata": {},
          "execution_count": 18
        }
      ],
      "source": [
        "important_unigrams[:5]"
      ]
    },
    {
      "cell_type": "markdown",
      "metadata": {
        "id": "C4qq_CT1DJtw"
      },
      "source": [
        "**Verificando a quantidade de palavras na base (com e sem Stopwords)**\n"
      ]
    },
    {
      "cell_type": "code",
      "execution_count": null,
      "metadata": {
        "id": "eS8TFNEd1BZd",
        "colab": {
          "base_uri": "https://localhost:8080/"
        },
        "outputId": "20040af7-518a-4f49-b7d9-9116f51cadc7"
      },
      "outputs": [
        {
          "output_type": "stream",
          "name": "stdout",
          "text": [
            "Quantidade de palavras com Stopwords: 325819 palavras\n",
            "Quantidade de palavras sem Stopwords: 218143 palavras\n"
          ]
        }
      ],
      "source": [
        "lista_quantidade_palavras_toldbr_com_sw = []\n",
        "quantidade_palavras_com_sw = 0\n",
        "for texto in base_toldbr['text']:\n",
        "  palavras = texto.split(' ')\n",
        "  lista_quantidade_palavras_toldbr_com_sw.append(len(palavras))\n",
        "  quantidade_palavras_com_sw += len(palavras)\n",
        "\n",
        "lista_quantidade_palavras_toldbr_sem_sw = []\n",
        "quantidade_palavras_sem_sw = 0\n",
        "for texto in comments:\n",
        "  palavras = texto.split(' ')\n",
        "  lista_quantidade_palavras_toldbr_sem_sw.append(len(palavras))\n",
        "  quantidade_palavras_sem_sw += len(palavras)\n",
        "\n",
        "\n",
        "print(f'Quantidade de palavras com Stopwords: {quantidade_palavras_com_sw} palavras')\n",
        "print(f'Quantidade de palavras sem Stopwords: {quantidade_palavras_sem_sw} palavras')"
      ]
    },
    {
      "cell_type": "markdown",
      "source": [
        "**Tamanho médio e desvio padrão dos textos em termos do número de palavras para a base como um todo** "
      ],
      "metadata": {
        "id": "JaexBMFthm5k"
      }
    },
    {
      "cell_type": "code",
      "execution_count": null,
      "metadata": {
        "id": "FA46r3VceeCG",
        "colab": {
          "base_uri": "https://localhost:8080/"
        },
        "outputId": "bfeffa7e-8c5b-4b7b-828e-fd6256555901"
      },
      "outputs": [
        {
          "output_type": "stream",
          "name": "stdout",
          "text": [
            "Tamanho médio da base com Stop Words: 15.52 \n",
            "Tamanho médio da base sem Stop Words: 10.39 \n",
            "\n",
            "Desvio padrão da base com Stop Words: 11.64\n",
            "Desvio padrão da base sem Stop Words: 7.76\n"
          ]
        }
      ],
      "source": [
        "tam_base = len(base_toldbr['text'])\n",
        "\n",
        "print(f'Tamanho médio da base com Stop Words: {round(quantidade_palavras_com_sw/tam_base, 2)} ')\n",
        "print(f'Tamanho médio da base sem Stop Words: {round(quantidade_palavras_sem_sw/tam_base, 2)} \\n')\n",
        "\n",
        "print(f'Desvio padrão da base com Stop Words: {round(np.std(lista_quantidade_palavras_toldbr_com_sw),2)}')\n",
        "print(f'Desvio padrão da base sem Stop Words: {round(np.std(lista_quantidade_palavras_toldbr_sem_sw),2)}')\n"
      ]
    },
    {
      "cell_type": "markdown",
      "source": [
        "**tamanho médio e desvio padrão dos textos em termos do número de palavras para cada categoria**"
      ],
      "metadata": {
        "id": "Sh7C-YFoOtcA"
      }
    },
    {
      "cell_type": "markdown",
      "source": [
        "homofobia\n"
      ],
      "metadata": {
        "id": "8CDKK95aO4f0"
      }
    },
    {
      "cell_type": "code",
      "source": [
        "homofobia = base_toldbr.loc[base_toldbr['homophobia'] != 0.0 ]\n",
        "\n",
        "commentarios_homofobicos = [] \n",
        "stop_words = set(stopwords.words('portuguese')) #setando o banco de stopwords em PT-BR\n",
        "\n",
        "for words in homofobia['text']:\n",
        "  only_latters =re.sub(\"[^a-zA-Z]\", \" \", words) # somente letras\n",
        "  tokens = nltk.word_tokenize(only_latters) # tokenize the sentence \n",
        "  lower_case = [l.lower() for l in tokens] # converter all letters to low case \n",
        "  stop = ['user', 'rt', 'https']\n",
        "  filtered_result = list(filter(lambda l: l not in stop_words and  l not in stop, lower_case)) # Remove stopwords from the comments\n",
        "  commentarios_homofobicos.append(' '.join(filtered_result))\n",
        "\n",
        "lista_quantidade_palavras = []\n",
        "quantidade_palavras = 0\n",
        "for texto in commentarios_homofobicos:\n",
        "  palavras = texto.split(' ')\n",
        "  lista_quantidade_palavras.append(len(palavras))\n",
        "  quantidade_palavras += len(palavras)\n",
        "print(f'Quantidade de palavras para texto rotulados como homofobico: {quantidade_palavras} palavras')\n",
        "print(f'Tamanho médio da base para comentários rotulados homofobico: {round(quantidade_palavras/len(lista_quantidade_palavras), 2)} ')\n",
        "print(f'Desvio padrão: {round(np.std(lista_quantidade_palavras),2)}')\n"
      ],
      "metadata": {
        "colab": {
          "base_uri": "https://localhost:8080/"
        },
        "id": "ceG_HismNQ2V",
        "outputId": "b3085820-c6e6-4342-aa7b-32037a8a6ae4"
      },
      "execution_count": null,
      "outputs": [
        {
          "output_type": "stream",
          "name": "stdout",
          "text": [
            "Quantidade de palavras para texto rotulados como homofobico: 3509 palavras\n",
            "Tamanho médio da base para comentários rotulados homofobico: 10.2 \n",
            "Desvio padrão: 7.87\n"
          ]
        }
      ]
    },
    {
      "cell_type": "markdown",
      "source": [
        "Obceno"
      ],
      "metadata": {
        "id": "_leecX--O83S"
      }
    },
    {
      "cell_type": "code",
      "source": [
        "obsceno = base_toldbr.loc[base_toldbr['obscene'] != 0.0 ]\n",
        "comentarios_obscenos = [] \n",
        "stop_words = set(stopwords.words('portuguese')) #setando o banco de stopwords em PT-BR\n",
        "\n",
        "for words in obsceno['text']:\n",
        "  only_latters =re.sub(\"[^a-zA-Z]\", \" \", words) # somente letras\n",
        "  tokens = nltk.word_tokenize(only_latters) # tokenize the sentence \n",
        "  lower_case = [l.lower() for l in tokens] # converter all letters to low case \n",
        "  stop = ['user', 'rt', 'https']\n",
        "  filtered_result = list(filter(lambda l: l not in stop_words and  l not in stop, lower_case)) # Remove stopwords from the comments\n",
        "  comentarios_obscenos.append(' '.join(filtered_result))\n",
        "\n",
        "\n",
        "lista_quantidade_palavras = []\n",
        "quantidade_palavras = 0\n",
        "for texto in comentarios_obscenos:\n",
        "  palavras = texto.split(' ')\n",
        "  lista_quantidade_palavras.append(len(palavras))\n",
        "  quantidade_palavras += len(palavras)\n",
        "print(f'Quantidade de palavras para texto rotulados como obsceno: {quantidade_palavras} palavras')\n",
        "print(f'Tamanho médio da base para comentários rotulados obsceno: {round(quantidade_palavras/len(lista_quantidade_palavras), 2)} ')\n",
        "print(f'Desvio padrão: {round(np.std(lista_quantidade_palavras),2)}')\n",
        "\n",
        "\n",
        "\n"
      ],
      "metadata": {
        "colab": {
          "base_uri": "https://localhost:8080/"
        },
        "id": "ShaXzAbcO_UZ",
        "outputId": "a602126b-a10f-4393-d46f-3afa09047cdf"
      },
      "execution_count": null,
      "outputs": [
        {
          "output_type": "stream",
          "name": "stdout",
          "text": [
            "Quantidade de palavras para texto rotulados como obsceno: 65293 palavras\n",
            "Tamanho médio da base para comentários rotulados obsceno: 9.82 \n",
            "Desvio padrão: 7.15\n"
          ]
        }
      ]
    },
    {
      "cell_type": "markdown",
      "source": [
        "Insulto"
      ],
      "metadata": {
        "id": "hsodEAnqPLeF"
      }
    },
    {
      "cell_type": "code",
      "source": [
        "insulto = base_toldbr.loc[base_toldbr['insult'] != 0.0 ]\n",
        "\n",
        "comentarios_insulto = [] \n",
        "stop_words = set(stopwords.words('portuguese')) #setando o banco de stopwords em PT-BR\n",
        "\n",
        "for words in insulto['text']:\n",
        "  only_latters =re.sub(\"[^a-zA-Z]\", \" \", words) # somente letras\n",
        "  tokens = nltk.word_tokenize(only_latters) # tokenize the sentence \n",
        "  lower_case = [l.lower() for l in tokens] # converter all letters to low case \n",
        "  stop = ['user', 'rt', 'https']\n",
        "  filtered_result = list(filter(lambda l: l not in stop_words and  l not in stop, lower_case)) # Remove stopwords from the comments\n",
        "  comentarios_insulto.append(' '.join(filtered_result))\n",
        "\n",
        "\n",
        "lista_quantidade_palavras = []\n",
        "quantidade_palavras = 0\n",
        "for texto in comentarios_insulto:\n",
        "  palavras = texto.split(' ')\n",
        "  lista_quantidade_palavras.append(len(palavras))\n",
        "  quantidade_palavras += len(palavras)\n",
        "print(f'Quantidade de palavras para texto rotulados como insulto: {quantidade_palavras} palavras')\n",
        "print(f'Tamanho médio da base para comentários rotulados como insulto: {round(quantidade_palavras/len(lista_quantidade_palavras), 2)} ')\n",
        "print(f'Desvio padrão: {round(np.std(lista_quantidade_palavras),2)}')"
      ],
      "metadata": {
        "colab": {
          "base_uri": "https://localhost:8080/"
        },
        "id": "8iT19lYDPlLI",
        "outputId": "14b9067d-8ded-4600-840a-1ee2e217fdf4"
      },
      "execution_count": null,
      "outputs": [
        {
          "output_type": "stream",
          "name": "stdout",
          "text": [
            "Quantidade de palavras para texto rotulados como insulto: 48692 palavras\n",
            "Tamanho médio da base para comentários rotulados como insulto: 11.1 \n",
            "Desvio padrão: 8.35\n"
          ]
        }
      ]
    },
    {
      "cell_type": "markdown",
      "source": [
        "Racismo"
      ],
      "metadata": {
        "id": "nuFK7s01PtRc"
      }
    },
    {
      "cell_type": "code",
      "source": [
        "racismo = base_toldbr.loc[base_toldbr['racism'] != 0.0 ]\n",
        "comentarios_racismo = [] \n",
        "stop_words = set(stopwords.words('portuguese')) #setando o banco de stopwords em PT-BR\n",
        "\n",
        "for words in racismo['text']:\n",
        "  only_latters =re.sub(\"[^a-zA-Z]\", \" \", words) # somente letras\n",
        "  tokens = nltk.word_tokenize(only_latters) # tokenize the sentence \n",
        "  lower_case = [l.lower() for l in tokens] # converter all letters to low case \n",
        "  stop = ['user', 'rt', 'https']\n",
        "  filtered_result = list(filter(lambda l: l not in stop_words and  l not in stop, lower_case)) # Remove stopwords from the comments\n",
        "  comentarios_racismo.append(' '.join(filtered_result))\n",
        "\n",
        "\n",
        "lista_quantidade_palavras = []\n",
        "quantidade_palavras = 0\n",
        "for texto in comentarios_racismo:\n",
        "  palavras = texto.split(' ')\n",
        "  lista_quantidade_palavras.append(len(palavras))\n",
        "  quantidade_palavras += len(palavras)\n",
        "print(f'Quantidade de palavras para texto rotulados como racismo: {quantidade_palavras} palavras')\n",
        "print(f'Tamanho médio da base para comentários rotulados racismo: {round(quantidade_palavras/len(lista_quantidade_palavras), 2)} ')\n",
        "print(f'Desvio padrão: {round(np.std(lista_quantidade_palavras),2)}')"
      ],
      "metadata": {
        "colab": {
          "base_uri": "https://localhost:8080/"
        },
        "id": "Yjv2szCxPyVa",
        "outputId": "5cdaa574-1251-4e5f-fa9f-3ac57e17d287"
      },
      "execution_count": null,
      "outputs": [
        {
          "output_type": "stream",
          "name": "stdout",
          "text": [
            "Quantidade de palavras para texto rotulados como racismo: 1608 palavras\n",
            "Tamanho médio da base para comentários rotulados racismo: 11.65 \n",
            "Desvio padrão: 8.71\n"
          ]
        }
      ]
    },
    {
      "cell_type": "markdown",
      "source": [
        "Misoginia "
      ],
      "metadata": {
        "id": "0PtnS708MStn"
      }
    },
    {
      "cell_type": "code",
      "source": [
        "misoginia = base_toldbr.loc[base_toldbr['misogyny'] != 0.0 ]\n",
        "comentarios_misoginia = [] \n",
        "stop_words = set(stopwords.words('portuguese')) #setando o banco de stopwords em PT-BR\n",
        "\n",
        "for words in misoginia['text']:\n",
        "  only_latters =re.sub(\"[^a-zA-Z]\", \" \", words) # somente letras\n",
        "  tokens = nltk.word_tokenize(only_latters) # tokenize the sentence \n",
        "  lower_case = [l.lower() for l in tokens] # converter all letters to low case \n",
        "  stop = ['user', 'rt', 'https']\n",
        "  filtered_result = list(filter(lambda l: l not in stop_words and  l not in stop, lower_case)) # Remove stopwords from the comments\n",
        "  comentarios_misoginia.append(' '.join(filtered_result))\n",
        "\n",
        "\n",
        "lista_quantidade_palavras = []\n",
        "quantidade_palavras = 0\n",
        "for texto in comentarios_obscenos:\n",
        "  palavras = texto.split(' ')\n",
        "  lista_quantidade_palavras.append(len(palavras))\n",
        "  quantidade_palavras += len(palavras)\n",
        "print(f'Quantidade de palavras para texto rotulados como misoginia: {quantidade_palavras} palavras')\n",
        "print(f'Tamanho médio da base para comentários rotulados misoginia: {round(quantidade_palavras/len(lista_quantidade_palavras), 2)} ')\n",
        "print(f'Desvio padrão: {round(np.std(lista_quantidade_palavras),2)}')"
      ],
      "metadata": {
        "colab": {
          "base_uri": "https://localhost:8080/"
        },
        "id": "4o_AiKGTMRmP",
        "outputId": "89b88d47-4c83-45d9-d77d-67f83b7d5b07"
      },
      "execution_count": null,
      "outputs": [
        {
          "output_type": "stream",
          "name": "stdout",
          "text": [
            "Quantidade de palavras para texto rotulados como misoginia: 65293 palavras\n",
            "Tamanho médio da base para comentários rotulados misoginia: 9.82 \n",
            "Desvio padrão: 7.15\n"
          ]
        }
      ]
    },
    {
      "cell_type": "markdown",
      "source": [
        "Xenofobia "
      ],
      "metadata": {
        "id": "1fdl9qi7OEBC"
      }
    },
    {
      "cell_type": "code",
      "source": [
        "xenofobia = base_toldbr.loc[base_toldbr['xenophobia'] != 0.0 ]\n",
        "comentarios_xenofobia = [] \n",
        "stop_words = set(stopwords.words('portuguese')) #setando o banco de stopwords em PT-BR\n",
        "\n",
        "for words in xenofobia['text']:\n",
        "  only_latters =re.sub(\"[^a-zA-Z]\", \" \", words) # somente letras\n",
        "  tokens = nltk.word_tokenize(only_latters) # tokenize the sentence \n",
        "  lower_case = [l.lower() for l in tokens] # converter all letters to low case \n",
        "  stop = ['user', 'rt', 'https']\n",
        "  filtered_result = list(filter(lambda l: l not in stop_words and  l not in stop, lower_case)) # Remove stopwords from the comments\n",
        "  comentarios_xenofobia.append(' '.join(filtered_result))\n",
        "\n",
        "\n",
        "lista_quantidade_palavras = []\n",
        "quantidade_palavras = 0\n",
        "for texto in comentarios_xenofobia:\n",
        "  palavras = texto.split(' ')\n",
        "  lista_quantidade_palavras.append(len(palavras))\n",
        "  quantidade_palavras += len(palavras)\n",
        "print(f'Quantidade de palavras para texto rotulados como xenofobia: {quantidade_palavras} palavras')\n",
        "print(f'Tamanho médio da base para comentários rotulados xenofobia: {round(quantidade_palavras/len(lista_quantidade_palavras), 2)} ')\n",
        "print(f'Desvio padrão: {round(np.std(lista_quantidade_palavras),2)}')\n",
        "\n"
      ],
      "metadata": {
        "colab": {
          "base_uri": "https://localhost:8080/"
        },
        "id": "0nnmUucLOFU3",
        "outputId": "c28167c4-8e22-40e5-964d-db86aaaabe89"
      },
      "execution_count": null,
      "outputs": [
        {
          "output_type": "stream",
          "name": "stdout",
          "text": [
            "Quantidade de palavras para texto rotulados como xenofobia: 1906 palavras\n",
            "Tamanho médio da base para comentários rotulados xenofobia: 12.62 \n",
            "Desvio padrão: 8.96\n"
          ]
        }
      ]
    },
    {
      "cell_type": "markdown",
      "metadata": {
        "id": "tYPjzqDBBvz6"
      },
      "source": [
        "\n",
        "# Base de dados Artigo 2 (HateBR)"
      ]
    },
    {
      "cell_type": "code",
      "execution_count": null,
      "metadata": {
        "id": "l-uoAaXl70zc"
      },
      "outputs": [],
      "source": [
        "base_hatebr = pd.read_csv('/content/drive/MyDrive/Dataset/HateBR.csv')"
      ]
    },
    {
      "cell_type": "code",
      "execution_count": null,
      "metadata": {
        "id": "hZCd_C5U8kt9",
        "colab": {
          "base_uri": "https://localhost:8080/"
        },
        "outputId": "055a777a-a0d4-4a2b-ec58-c3bce34e37f7"
      },
      "outputs": [
        {
          "output_type": "execute_result",
          "data": {
            "text/plain": [
              "                                     instagram_comments  offensive_language  \\\n",
              "0                                         este lixo ...                   1   \n",
              "1                                          Mais um lixo                   1   \n",
              "2                       Essa nao tem vergonha na cara!!                   1   \n",
              "3                        Essa mulher é doente.pilantra!                   1   \n",
              "4                                   Comunista safada...                   1   \n",
              "...                                                 ...                 ...   \n",
              "6995                      Time perdendo a credibilidade                   0   \n",
              "6996  Siga em frente Presidente Bolsonaro! Afinal o ...                   0   \n",
              "6997  Tantas coisas importantes para resolver e fica...                   0   \n",
              "6998  A TIME escolhe quem eles quiser, isso não sign...                   0   \n",
              "6999  Hitler também foi considerado o homem do ano p...                   0   \n",
              "\n",
              "      offensiveness_levels hate_speech  \n",
              "0                        1          -1  \n",
              "1                        1          -1  \n",
              "2                        2          -1  \n",
              "3                        3          -1  \n",
              "4                        2         5,8  \n",
              "...                    ...         ...  \n",
              "6995                     0           0  \n",
              "6996                     0           0  \n",
              "6997                     0           0  \n",
              "6998                     0           0  \n",
              "6999                     0           0  \n",
              "\n",
              "[7000 rows x 4 columns]"
            ],
            "text/html": [
              "\n",
              "  <div id=\"df-d447fb63-fdfd-46e8-82db-66bb768a5d55\">\n",
              "    <div class=\"colab-df-container\">\n",
              "      <div>\n",
              "<style scoped>\n",
              "    .dataframe tbody tr th:only-of-type {\n",
              "        vertical-align: middle;\n",
              "    }\n",
              "\n",
              "    .dataframe tbody tr th {\n",
              "        vertical-align: top;\n",
              "    }\n",
              "\n",
              "    .dataframe thead th {\n",
              "        text-align: right;\n",
              "    }\n",
              "</style>\n",
              "<table border=\"1\" class=\"dataframe\">\n",
              "  <thead>\n",
              "    <tr style=\"text-align: right;\">\n",
              "      <th></th>\n",
              "      <th>instagram_comments</th>\n",
              "      <th>offensive_language</th>\n",
              "      <th>offensiveness_levels</th>\n",
              "      <th>hate_speech</th>\n",
              "    </tr>\n",
              "  </thead>\n",
              "  <tbody>\n",
              "    <tr>\n",
              "      <th>0</th>\n",
              "      <td>este lixo ...</td>\n",
              "      <td>1</td>\n",
              "      <td>1</td>\n",
              "      <td>-1</td>\n",
              "    </tr>\n",
              "    <tr>\n",
              "      <th>1</th>\n",
              "      <td>Mais um lixo</td>\n",
              "      <td>1</td>\n",
              "      <td>1</td>\n",
              "      <td>-1</td>\n",
              "    </tr>\n",
              "    <tr>\n",
              "      <th>2</th>\n",
              "      <td>Essa nao tem vergonha na cara!!</td>\n",
              "      <td>1</td>\n",
              "      <td>2</td>\n",
              "      <td>-1</td>\n",
              "    </tr>\n",
              "    <tr>\n",
              "      <th>3</th>\n",
              "      <td>Essa mulher é doente.pilantra!</td>\n",
              "      <td>1</td>\n",
              "      <td>3</td>\n",
              "      <td>-1</td>\n",
              "    </tr>\n",
              "    <tr>\n",
              "      <th>4</th>\n",
              "      <td>Comunista safada...</td>\n",
              "      <td>1</td>\n",
              "      <td>2</td>\n",
              "      <td>5,8</td>\n",
              "    </tr>\n",
              "    <tr>\n",
              "      <th>...</th>\n",
              "      <td>...</td>\n",
              "      <td>...</td>\n",
              "      <td>...</td>\n",
              "      <td>...</td>\n",
              "    </tr>\n",
              "    <tr>\n",
              "      <th>6995</th>\n",
              "      <td>Time perdendo a credibilidade</td>\n",
              "      <td>0</td>\n",
              "      <td>0</td>\n",
              "      <td>0</td>\n",
              "    </tr>\n",
              "    <tr>\n",
              "      <th>6996</th>\n",
              "      <td>Siga em frente Presidente Bolsonaro! Afinal o ...</td>\n",
              "      <td>0</td>\n",
              "      <td>0</td>\n",
              "      <td>0</td>\n",
              "    </tr>\n",
              "    <tr>\n",
              "      <th>6997</th>\n",
              "      <td>Tantas coisas importantes para resolver e fica...</td>\n",
              "      <td>0</td>\n",
              "      <td>0</td>\n",
              "      <td>0</td>\n",
              "    </tr>\n",
              "    <tr>\n",
              "      <th>6998</th>\n",
              "      <td>A TIME escolhe quem eles quiser, isso não sign...</td>\n",
              "      <td>0</td>\n",
              "      <td>0</td>\n",
              "      <td>0</td>\n",
              "    </tr>\n",
              "    <tr>\n",
              "      <th>6999</th>\n",
              "      <td>Hitler também foi considerado o homem do ano p...</td>\n",
              "      <td>0</td>\n",
              "      <td>0</td>\n",
              "      <td>0</td>\n",
              "    </tr>\n",
              "  </tbody>\n",
              "</table>\n",
              "<p>7000 rows × 4 columns</p>\n",
              "</div>\n",
              "      <button class=\"colab-df-convert\" onclick=\"convertToInteractive('df-d447fb63-fdfd-46e8-82db-66bb768a5d55')\"\n",
              "              title=\"Convert this dataframe to an interactive table.\"\n",
              "              style=\"display:none;\">\n",
              "        \n",
              "  <svg xmlns=\"http://www.w3.org/2000/svg\" height=\"24px\"viewBox=\"0 0 24 24\"\n",
              "       width=\"24px\">\n",
              "    <path d=\"M0 0h24v24H0V0z\" fill=\"none\"/>\n",
              "    <path d=\"M18.56 5.44l.94 2.06.94-2.06 2.06-.94-2.06-.94-.94-2.06-.94 2.06-2.06.94zm-11 1L8.5 8.5l.94-2.06 2.06-.94-2.06-.94L8.5 2.5l-.94 2.06-2.06.94zm10 10l.94 2.06.94-2.06 2.06-.94-2.06-.94-.94-2.06-.94 2.06-2.06.94z\"/><path d=\"M17.41 7.96l-1.37-1.37c-.4-.4-.92-.59-1.43-.59-.52 0-1.04.2-1.43.59L10.3 9.45l-7.72 7.72c-.78.78-.78 2.05 0 2.83L4 21.41c.39.39.9.59 1.41.59.51 0 1.02-.2 1.41-.59l7.78-7.78 2.81-2.81c.8-.78.8-2.07 0-2.86zM5.41 20L4 18.59l7.72-7.72 1.47 1.35L5.41 20z\"/>\n",
              "  </svg>\n",
              "      </button>\n",
              "      \n",
              "  <style>\n",
              "    .colab-df-container {\n",
              "      display:flex;\n",
              "      flex-wrap:wrap;\n",
              "      gap: 12px;\n",
              "    }\n",
              "\n",
              "    .colab-df-convert {\n",
              "      background-color: #E8F0FE;\n",
              "      border: none;\n",
              "      border-radius: 50%;\n",
              "      cursor: pointer;\n",
              "      display: none;\n",
              "      fill: #1967D2;\n",
              "      height: 32px;\n",
              "      padding: 0 0 0 0;\n",
              "      width: 32px;\n",
              "    }\n",
              "\n",
              "    .colab-df-convert:hover {\n",
              "      background-color: #E2EBFA;\n",
              "      box-shadow: 0px 1px 2px rgba(60, 64, 67, 0.3), 0px 1px 3px 1px rgba(60, 64, 67, 0.15);\n",
              "      fill: #174EA6;\n",
              "    }\n",
              "\n",
              "    [theme=dark] .colab-df-convert {\n",
              "      background-color: #3B4455;\n",
              "      fill: #D2E3FC;\n",
              "    }\n",
              "\n",
              "    [theme=dark] .colab-df-convert:hover {\n",
              "      background-color: #434B5C;\n",
              "      box-shadow: 0px 1px 3px 1px rgba(0, 0, 0, 0.15);\n",
              "      filter: drop-shadow(0px 1px 2px rgba(0, 0, 0, 0.3));\n",
              "      fill: #FFFFFF;\n",
              "    }\n",
              "  </style>\n",
              "\n",
              "      <script>\n",
              "        const buttonEl =\n",
              "          document.querySelector('#df-d447fb63-fdfd-46e8-82db-66bb768a5d55 button.colab-df-convert');\n",
              "        buttonEl.style.display =\n",
              "          google.colab.kernel.accessAllowed ? 'block' : 'none';\n",
              "\n",
              "        async function convertToInteractive(key) {\n",
              "          const element = document.querySelector('#df-d447fb63-fdfd-46e8-82db-66bb768a5d55');\n",
              "          const dataTable =\n",
              "            await google.colab.kernel.invokeFunction('convertToInteractive',\n",
              "                                                     [key], {});\n",
              "          if (!dataTable) return;\n",
              "\n",
              "          const docLinkHtml = 'Like what you see? Visit the ' +\n",
              "            '<a target=\"_blank\" href=https://colab.research.google.com/notebooks/data_table.ipynb>data table notebook</a>'\n",
              "            + ' to learn more about interactive tables.';\n",
              "          element.innerHTML = '';\n",
              "          dataTable['output_type'] = 'display_data';\n",
              "          await google.colab.output.renderOutput(dataTable, element);\n",
              "          const docLink = document.createElement('div');\n",
              "          docLink.innerHTML = docLinkHtml;\n",
              "          element.appendChild(docLink);\n",
              "        }\n",
              "      </script>\n",
              "    </div>\n",
              "  </div>\n",
              "  "
            ]
          },
          "metadata": {},
          "execution_count": 28
        }
      ],
      "source": [
        "base_hatebr"
      ]
    },
    {
      "cell_type": "markdown",
      "metadata": {
        "id": "brgJeGzjh9M5"
      },
      "source": [
        "**Verificando o tamanho da Base**"
      ]
    },
    {
      "cell_type": "code",
      "execution_count": null,
      "metadata": {
        "id": "e-eqAjVKi-a-",
        "colab": {
          "base_uri": "https://localhost:8080/"
        },
        "outputId": "4dd79302-d324-405a-d896-83b0b4b48114"
      },
      "outputs": [
        {
          "output_type": "execute_result",
          "data": {
            "text/plain": [
              "(7000, 4)"
            ]
          },
          "metadata": {},
          "execution_count": 29
        }
      ],
      "source": [
        "base_hatebr.shape #linhas x colunas"
      ]
    },
    {
      "cell_type": "markdown",
      "metadata": {
        "id": "KDl351XWifm_"
      },
      "source": [
        "**Conferindo o total de textos por categorias**"
      ]
    },
    {
      "cell_type": "markdown",
      "metadata": {
        "id": "rCswXplAiw6-"
      },
      "source": [
        "Com o código abaixo podemos ver que os dados estão balanceados(número de classificação são iguais)"
      ]
    },
    {
      "cell_type": "code",
      "execution_count": null,
      "metadata": {
        "id": "664cJMUyuR9R",
        "colab": {
          "base_uri": "https://localhost:8080/"
        },
        "outputId": "7c098d2c-5158-4d29-c894-0b86d0cefb9b"
      },
      "outputs": [
        {
          "output_type": "execute_result",
          "data": {
            "text/plain": [
              "1    3500\n",
              "0    3500\n",
              "Name: offensive_language, dtype: int64"
            ]
          },
          "metadata": {},
          "execution_count": 30
        }
      ],
      "source": [
        "base_hatebr['offensive_language'].value_counts() "
      ]
    },
    {
      "cell_type": "code",
      "execution_count": null,
      "metadata": {
        "id": "L1m485nwur6B",
        "colab": {
          "base_uri": "https://localhost:8080/"
        },
        "outputId": "a3c137c8-a6d1-43e7-d526-762bdd4be622"
      },
      "outputs": [
        {
          "output_type": "execute_result",
          "data": {
            "text/plain": [
              "0    3500\n",
              "2    1440\n",
              "1    1281\n",
              "3     779\n",
              "Name: offensiveness_levels, dtype: int64"
            ]
          },
          "metadata": {},
          "execution_count": 31
        }
      ],
      "source": [
        "# np.unique(base_hatebr['offensiveness_levels'], return_counts= True)\n",
        "base_hatebr['offensiveness_levels'].value_counts() "
      ]
    },
    {
      "cell_type": "code",
      "execution_count": null,
      "metadata": {
        "id": "P2L8pZDZu4CR",
        "colab": {
          "base_uri": "https://localhost:8080/"
        },
        "outputId": "24b9c141-12cb-4a4b-8031-3974f0246bea"
      },
      "outputs": [
        {
          "output_type": "execute_result",
          "data": {
            "text/plain": [
              "9         1\n",
              "5,7       1\n",
              "3,5       1\n",
              "4,6       2\n",
              "1         2\n",
              "2,5       4\n",
              "3,8       6\n",
              "6         6\n",
              "5,8      11\n",
              "4        15\n",
              "3        20\n",
              "2        28\n",
              "7        46\n",
              "8        80\n",
              "5       479\n",
              "-1     2798\n",
              "0      3500\n",
              "Name: hate_speech, dtype: int64"
            ]
          },
          "metadata": {},
          "execution_count": 32
        }
      ],
      "source": [
        "# np.unique(base_hatebr['hate_speech'], return_counts= True)\n",
        "base_hatebr['hate_speech'].value_counts(ascending = True)  #verificar certinho do que se trata estes dados"
      ]
    },
    {
      "cell_type": "code",
      "execution_count": null,
      "metadata": {
        "id": "4Uf_yr5btzyO"
      },
      "outputs": [],
      "source": [
        "comments = [] \n",
        "stop_words = set(stopwords.words('portuguese')) #setando o banco de stopwords em PT-BR\n",
        "\n",
        "for words in base_hatebr ['instagram_comments']:\n",
        "  only_latters =re.sub(\"[^a-zA-Z]\", \" \", words) # somente letras\n",
        "  tokens = nltk.word_tokenize(only_latters) # tokenize the sentence \n",
        "  lower_case = [l.lower() for l in tokens] # converter all letters to low case \n",
        "  filtered_result = list(filter(lambda l: l not in stop_words and  l not in stop, lower_case)) # Remove stopwords from the comments\n",
        "  comments.append(' '.join(filtered_result))\n",
        "  "
      ]
    },
    {
      "cell_type": "code",
      "execution_count": null,
      "metadata": {
        "id": "k9qYqGkeuRT1",
        "colab": {
          "base_uri": "https://localhost:8080/"
        },
        "outputId": "f763b93d-e289-4895-b6fd-634e199fe8c0"
      },
      "outputs": [
        {
          "output_type": "stream",
          "name": "stderr",
          "text": [
            "/usr/local/lib/python3.8/dist-packages/sklearn/utils/deprecation.py:87: FutureWarning: Function get_feature_names is deprecated; get_feature_names is deprecated in 1.0 and will be removed in 1.2. Please use get_feature_names_out instead.\n",
            "  warnings.warn(msg, category=FutureWarning)\n"
          ]
        }
      ],
      "source": [
        "#using CountVectorizer to get the most important unigrams\n",
        "co = CountVectorizer(ngram_range=(1,1))\n",
        "count = co.fit_transform(comments)\n",
        "important_unigrams =pd.DataFrame(count.sum(axis=0), columns=co.get_feature_names()).T.sort_values(0, ascending = False)"
      ]
    },
    {
      "cell_type": "code",
      "execution_count": null,
      "metadata": {
        "id": "MFJXsdzCuTrt",
        "colab": {
          "base_uri": "https://localhost:8080/"
        },
        "outputId": "8113211e-04e0-4a96-ec75-29a137aff8e4"
      },
      "outputs": [
        {
          "output_type": "execute_result",
          "data": {
            "text/plain": [
              "              0\n",
              "presidente  458\n",
              "est         440\n",
              "pra         437\n",
              "brasil      389\n",
              "ns          380"
            ],
            "text/html": [
              "\n",
              "  <div id=\"df-48e9ba0b-cbde-4e03-8383-4569c55c26d4\">\n",
              "    <div class=\"colab-df-container\">\n",
              "      <div>\n",
              "<style scoped>\n",
              "    .dataframe tbody tr th:only-of-type {\n",
              "        vertical-align: middle;\n",
              "    }\n",
              "\n",
              "    .dataframe tbody tr th {\n",
              "        vertical-align: top;\n",
              "    }\n",
              "\n",
              "    .dataframe thead th {\n",
              "        text-align: right;\n",
              "    }\n",
              "</style>\n",
              "<table border=\"1\" class=\"dataframe\">\n",
              "  <thead>\n",
              "    <tr style=\"text-align: right;\">\n",
              "      <th></th>\n",
              "      <th>0</th>\n",
              "    </tr>\n",
              "  </thead>\n",
              "  <tbody>\n",
              "    <tr>\n",
              "      <th>presidente</th>\n",
              "      <td>458</td>\n",
              "    </tr>\n",
              "    <tr>\n",
              "      <th>est</th>\n",
              "      <td>440</td>\n",
              "    </tr>\n",
              "    <tr>\n",
              "      <th>pra</th>\n",
              "      <td>437</td>\n",
              "    </tr>\n",
              "    <tr>\n",
              "      <th>brasil</th>\n",
              "      <td>389</td>\n",
              "    </tr>\n",
              "    <tr>\n",
              "      <th>ns</th>\n",
              "      <td>380</td>\n",
              "    </tr>\n",
              "  </tbody>\n",
              "</table>\n",
              "</div>\n",
              "      <button class=\"colab-df-convert\" onclick=\"convertToInteractive('df-48e9ba0b-cbde-4e03-8383-4569c55c26d4')\"\n",
              "              title=\"Convert this dataframe to an interactive table.\"\n",
              "              style=\"display:none;\">\n",
              "        \n",
              "  <svg xmlns=\"http://www.w3.org/2000/svg\" height=\"24px\"viewBox=\"0 0 24 24\"\n",
              "       width=\"24px\">\n",
              "    <path d=\"M0 0h24v24H0V0z\" fill=\"none\"/>\n",
              "    <path d=\"M18.56 5.44l.94 2.06.94-2.06 2.06-.94-2.06-.94-.94-2.06-.94 2.06-2.06.94zm-11 1L8.5 8.5l.94-2.06 2.06-.94-2.06-.94L8.5 2.5l-.94 2.06-2.06.94zm10 10l.94 2.06.94-2.06 2.06-.94-2.06-.94-.94-2.06-.94 2.06-2.06.94z\"/><path d=\"M17.41 7.96l-1.37-1.37c-.4-.4-.92-.59-1.43-.59-.52 0-1.04.2-1.43.59L10.3 9.45l-7.72 7.72c-.78.78-.78 2.05 0 2.83L4 21.41c.39.39.9.59 1.41.59.51 0 1.02-.2 1.41-.59l7.78-7.78 2.81-2.81c.8-.78.8-2.07 0-2.86zM5.41 20L4 18.59l7.72-7.72 1.47 1.35L5.41 20z\"/>\n",
              "  </svg>\n",
              "      </button>\n",
              "      \n",
              "  <style>\n",
              "    .colab-df-container {\n",
              "      display:flex;\n",
              "      flex-wrap:wrap;\n",
              "      gap: 12px;\n",
              "    }\n",
              "\n",
              "    .colab-df-convert {\n",
              "      background-color: #E8F0FE;\n",
              "      border: none;\n",
              "      border-radius: 50%;\n",
              "      cursor: pointer;\n",
              "      display: none;\n",
              "      fill: #1967D2;\n",
              "      height: 32px;\n",
              "      padding: 0 0 0 0;\n",
              "      width: 32px;\n",
              "    }\n",
              "\n",
              "    .colab-df-convert:hover {\n",
              "      background-color: #E2EBFA;\n",
              "      box-shadow: 0px 1px 2px rgba(60, 64, 67, 0.3), 0px 1px 3px 1px rgba(60, 64, 67, 0.15);\n",
              "      fill: #174EA6;\n",
              "    }\n",
              "\n",
              "    [theme=dark] .colab-df-convert {\n",
              "      background-color: #3B4455;\n",
              "      fill: #D2E3FC;\n",
              "    }\n",
              "\n",
              "    [theme=dark] .colab-df-convert:hover {\n",
              "      background-color: #434B5C;\n",
              "      box-shadow: 0px 1px 3px 1px rgba(0, 0, 0, 0.15);\n",
              "      filter: drop-shadow(0px 1px 2px rgba(0, 0, 0, 0.3));\n",
              "      fill: #FFFFFF;\n",
              "    }\n",
              "  </style>\n",
              "\n",
              "      <script>\n",
              "        const buttonEl =\n",
              "          document.querySelector('#df-48e9ba0b-cbde-4e03-8383-4569c55c26d4 button.colab-df-convert');\n",
              "        buttonEl.style.display =\n",
              "          google.colab.kernel.accessAllowed ? 'block' : 'none';\n",
              "\n",
              "        async function convertToInteractive(key) {\n",
              "          const element = document.querySelector('#df-48e9ba0b-cbde-4e03-8383-4569c55c26d4');\n",
              "          const dataTable =\n",
              "            await google.colab.kernel.invokeFunction('convertToInteractive',\n",
              "                                                     [key], {});\n",
              "          if (!dataTable) return;\n",
              "\n",
              "          const docLinkHtml = 'Like what you see? Visit the ' +\n",
              "            '<a target=\"_blank\" href=https://colab.research.google.com/notebooks/data_table.ipynb>data table notebook</a>'\n",
              "            + ' to learn more about interactive tables.';\n",
              "          element.innerHTML = '';\n",
              "          dataTable['output_type'] = 'display_data';\n",
              "          await google.colab.output.renderOutput(dataTable, element);\n",
              "          const docLink = document.createElement('div');\n",
              "          docLink.innerHTML = docLinkHtml;\n",
              "          element.appendChild(docLink);\n",
              "        }\n",
              "      </script>\n",
              "    </div>\n",
              "  </div>\n",
              "  "
            ]
          },
          "metadata": {},
          "execution_count": 35
        }
      ],
      "source": [
        "important_unigrams[:5]"
      ]
    },
    {
      "cell_type": "code",
      "execution_count": null,
      "metadata": {
        "id": "wK12FsGnGFb9",
        "colab": {
          "base_uri": "https://localhost:8080/"
        },
        "outputId": "5a2b5e44-1310-49a2-ff1e-ec32b8bab56f"
      },
      "outputs": [
        {
          "output_type": "stream",
          "name": "stderr",
          "text": [
            "/usr/local/lib/python3.8/dist-packages/sklearn/utils/deprecation.py:87: FutureWarning: Function get_feature_names is deprecated; get_feature_names is deprecated in 1.0 and will be removed in 1.2. Please use get_feature_names_out instead.\n",
            "  warnings.warn(msg, category=FutureWarning)\n"
          ]
        }
      ],
      "source": [
        "#using CountVectorizer to get the most important unigrams\n",
        "co = CountVectorizer(ngram_range=(1,1))\n",
        "count = co.fit_transform(base_hatebr ['instagram_comments'])\n",
        "important_unigrams =pd.DataFrame(count.sum(axis=0), columns=co.get_feature_names()).T.sort_values(0, ascending = False)"
      ]
    },
    {
      "cell_type": "code",
      "execution_count": null,
      "metadata": {
        "id": "orKAfv40G-Ye",
        "colab": {
          "base_uri": "https://localhost:8080/"
        },
        "outputId": "cba47ac1-95ec-4011-9674-cde5e4b0fbaf"
      },
      "outputs": [
        {
          "output_type": "execute_result",
          "data": {
            "text/plain": [
              "        0\n",
              "que  2434\n",
              "de   2069\n",
              "não  1264\n",
              "do   1014\n",
              "um    782"
            ],
            "text/html": [
              "\n",
              "  <div id=\"df-c6d6e790-f6c5-47c7-bf14-5aad79812325\">\n",
              "    <div class=\"colab-df-container\">\n",
              "      <div>\n",
              "<style scoped>\n",
              "    .dataframe tbody tr th:only-of-type {\n",
              "        vertical-align: middle;\n",
              "    }\n",
              "\n",
              "    .dataframe tbody tr th {\n",
              "        vertical-align: top;\n",
              "    }\n",
              "\n",
              "    .dataframe thead th {\n",
              "        text-align: right;\n",
              "    }\n",
              "</style>\n",
              "<table border=\"1\" class=\"dataframe\">\n",
              "  <thead>\n",
              "    <tr style=\"text-align: right;\">\n",
              "      <th></th>\n",
              "      <th>0</th>\n",
              "    </tr>\n",
              "  </thead>\n",
              "  <tbody>\n",
              "    <tr>\n",
              "      <th>que</th>\n",
              "      <td>2434</td>\n",
              "    </tr>\n",
              "    <tr>\n",
              "      <th>de</th>\n",
              "      <td>2069</td>\n",
              "    </tr>\n",
              "    <tr>\n",
              "      <th>não</th>\n",
              "      <td>1264</td>\n",
              "    </tr>\n",
              "    <tr>\n",
              "      <th>do</th>\n",
              "      <td>1014</td>\n",
              "    </tr>\n",
              "    <tr>\n",
              "      <th>um</th>\n",
              "      <td>782</td>\n",
              "    </tr>\n",
              "  </tbody>\n",
              "</table>\n",
              "</div>\n",
              "      <button class=\"colab-df-convert\" onclick=\"convertToInteractive('df-c6d6e790-f6c5-47c7-bf14-5aad79812325')\"\n",
              "              title=\"Convert this dataframe to an interactive table.\"\n",
              "              style=\"display:none;\">\n",
              "        \n",
              "  <svg xmlns=\"http://www.w3.org/2000/svg\" height=\"24px\"viewBox=\"0 0 24 24\"\n",
              "       width=\"24px\">\n",
              "    <path d=\"M0 0h24v24H0V0z\" fill=\"none\"/>\n",
              "    <path d=\"M18.56 5.44l.94 2.06.94-2.06 2.06-.94-2.06-.94-.94-2.06-.94 2.06-2.06.94zm-11 1L8.5 8.5l.94-2.06 2.06-.94-2.06-.94L8.5 2.5l-.94 2.06-2.06.94zm10 10l.94 2.06.94-2.06 2.06-.94-2.06-.94-.94-2.06-.94 2.06-2.06.94z\"/><path d=\"M17.41 7.96l-1.37-1.37c-.4-.4-.92-.59-1.43-.59-.52 0-1.04.2-1.43.59L10.3 9.45l-7.72 7.72c-.78.78-.78 2.05 0 2.83L4 21.41c.39.39.9.59 1.41.59.51 0 1.02-.2 1.41-.59l7.78-7.78 2.81-2.81c.8-.78.8-2.07 0-2.86zM5.41 20L4 18.59l7.72-7.72 1.47 1.35L5.41 20z\"/>\n",
              "  </svg>\n",
              "      </button>\n",
              "      \n",
              "  <style>\n",
              "    .colab-df-container {\n",
              "      display:flex;\n",
              "      flex-wrap:wrap;\n",
              "      gap: 12px;\n",
              "    }\n",
              "\n",
              "    .colab-df-convert {\n",
              "      background-color: #E8F0FE;\n",
              "      border: none;\n",
              "      border-radius: 50%;\n",
              "      cursor: pointer;\n",
              "      display: none;\n",
              "      fill: #1967D2;\n",
              "      height: 32px;\n",
              "      padding: 0 0 0 0;\n",
              "      width: 32px;\n",
              "    }\n",
              "\n",
              "    .colab-df-convert:hover {\n",
              "      background-color: #E2EBFA;\n",
              "      box-shadow: 0px 1px 2px rgba(60, 64, 67, 0.3), 0px 1px 3px 1px rgba(60, 64, 67, 0.15);\n",
              "      fill: #174EA6;\n",
              "    }\n",
              "\n",
              "    [theme=dark] .colab-df-convert {\n",
              "      background-color: #3B4455;\n",
              "      fill: #D2E3FC;\n",
              "    }\n",
              "\n",
              "    [theme=dark] .colab-df-convert:hover {\n",
              "      background-color: #434B5C;\n",
              "      box-shadow: 0px 1px 3px 1px rgba(0, 0, 0, 0.15);\n",
              "      filter: drop-shadow(0px 1px 2px rgba(0, 0, 0, 0.3));\n",
              "      fill: #FFFFFF;\n",
              "    }\n",
              "  </style>\n",
              "\n",
              "      <script>\n",
              "        const buttonEl =\n",
              "          document.querySelector('#df-c6d6e790-f6c5-47c7-bf14-5aad79812325 button.colab-df-convert');\n",
              "        buttonEl.style.display =\n",
              "          google.colab.kernel.accessAllowed ? 'block' : 'none';\n",
              "\n",
              "        async function convertToInteractive(key) {\n",
              "          const element = document.querySelector('#df-c6d6e790-f6c5-47c7-bf14-5aad79812325');\n",
              "          const dataTable =\n",
              "            await google.colab.kernel.invokeFunction('convertToInteractive',\n",
              "                                                     [key], {});\n",
              "          if (!dataTable) return;\n",
              "\n",
              "          const docLinkHtml = 'Like what you see? Visit the ' +\n",
              "            '<a target=\"_blank\" href=https://colab.research.google.com/notebooks/data_table.ipynb>data table notebook</a>'\n",
              "            + ' to learn more about interactive tables.';\n",
              "          element.innerHTML = '';\n",
              "          dataTable['output_type'] = 'display_data';\n",
              "          await google.colab.output.renderOutput(dataTable, element);\n",
              "          const docLink = document.createElement('div');\n",
              "          docLink.innerHTML = docLinkHtml;\n",
              "          element.appendChild(docLink);\n",
              "        }\n",
              "      </script>\n",
              "    </div>\n",
              "  </div>\n",
              "  "
            ]
          },
          "metadata": {},
          "execution_count": 37
        }
      ],
      "source": [
        "important_unigrams[:5]"
      ]
    },
    {
      "cell_type": "markdown",
      "metadata": {
        "id": "XO2gfkoYUGxe"
      },
      "source": [
        "**Verificando a quantidade de palavras na base (com e sem Stopwords)**\n"
      ]
    },
    {
      "cell_type": "code",
      "execution_count": null,
      "metadata": {
        "id": "GbHk5_SYT2DB",
        "colab": {
          "base_uri": "https://localhost:8080/"
        },
        "outputId": "bf8787cb-69a4-44cf-8fe2-f021599e8e88"
      },
      "outputs": [
        {
          "output_type": "stream",
          "name": "stdout",
          "text": [
            "Quantidade de palavras com Stopwords: 81007 palavras\n",
            "Quantidade de palavras sem Stopwords: 53598 palavras\n"
          ]
        }
      ],
      "source": [
        "lista_quantidade_palavras_base_hatebr_com_sw = []\n",
        "quantidade_palavras_com_sw = 0\n",
        "for texto in base_hatebr ['instagram_comments']:\n",
        "  palavras = texto.split(' ')\n",
        "  lista_quantidade_palavras_base_hatebr_com_sw.append(len(palavras))\n",
        "  quantidade_palavras_com_sw += len(palavras)\n",
        "\n",
        "lista_quantidade_palavras_base_hatebr_sem_sw = []\n",
        "quantidade_palavras_sem_sw = 0\n",
        "for texto in comments:\n",
        "  palavras = texto.split(' ')\n",
        "  lista_quantidade_palavras_base_hatebr_sem_sw.append(len(palavras))\n",
        "  quantidade_palavras_sem_sw += len(palavras)\n",
        "\n",
        "\n",
        "print(f'Quantidade de palavras com Stopwords: {quantidade_palavras_com_sw} palavras')\n",
        "print(f'Quantidade de palavras sem Stopwords: {quantidade_palavras_sem_sw} palavras')"
      ]
    },
    {
      "cell_type": "code",
      "source": [
        "tam_base = len(base_hatebr ['instagram_comments'])\n",
        "\n",
        "print(tam_base)\n",
        "\n",
        "print(f'Tamanho médio da base com Stop Words: {round(quantidade_palavras_com_sw/tam_base, 2)} ')\n",
        "print(f'Tamanho médio da base sem Stop Words: {round(quantidade_palavras_sem_sw/tam_base, 2)} \\n')\n",
        "\n",
        "print(f'Desvio padrão da base com Stop Words: {round(np.std(lista_quantidade_palavras_base_hatebr_com_sw),2)}')\n",
        "print(f'Desvio padrão da base sem Stop Words: {round(np.std(lista_quantidade_palavras_base_hatebr_sem_sw),2)}')\n",
        "\n"
      ],
      "metadata": {
        "colab": {
          "base_uri": "https://localhost:8080/"
        },
        "id": "csmp2J8Rn0cb",
        "outputId": "5c08a827-8bf2-4c68-8daa-9192614b6917"
      },
      "execution_count": null,
      "outputs": [
        {
          "output_type": "stream",
          "name": "stdout",
          "text": [
            "7000\n",
            "Tamanho médio da base com Stop Words: 11.57 \n",
            "Tamanho médio da base sem Stop Words: 7.66 \n",
            "\n",
            "Desvio padrão da base com Stop Words: 14.25\n",
            "Desvio padrão da base sem Stop Words: 9.16\n"
          ]
        }
      ]
    },
    {
      "cell_type": "markdown",
      "source": [
        "**tamanho médio e desvio padrão dos textos em termos do número de palavras para cada categoria**"
      ],
      "metadata": {
        "id": "feXi8VohQfVT"
      }
    },
    {
      "cell_type": "markdown",
      "source": [
        "Categoria Ofensiva"
      ],
      "metadata": {
        "id": "i6roLIc7Q2y4"
      }
    },
    {
      "cell_type": "code",
      "source": [
        "offensive_language = base_hatebr.loc[base_hatebr['offensive_language'] == 1 ] #Pegando apenas as informações com linguagem ofensiva \n",
        "comentarios_ofensivos = [] \n",
        "stop_words = set(stopwords.words('portuguese')) #setando o banco de stopwords em PT-BR\n",
        "\n",
        "for words in offensive_language['instagram_comments']:\n",
        "  only_latters =re.sub(\"[^a-zA-Z]\", \" \", words) # somente letras\n",
        "  tokens = nltk.word_tokenize(only_latters) # tokenize the sentence \n",
        "  lower_case = [l.lower() for l in tokens] # converter all letters to low case \n",
        "  filtered_result = list(filter(lambda l: l not in stop_words, lower_case)) # Remove stopwords from the comments\n",
        "  comentarios_ofensivos.append(' '.join(filtered_result))\n",
        "\n",
        "\n",
        "lista_quantidade_palavras = []\n",
        "quantidade_palavras = 0\n",
        "for texto in comentarios_ofensivos:\n",
        "  palavras = texto.split(' ')\n",
        "  lista_quantidade_palavras.append(len(palavras))\n",
        "  quantidade_palavras += len(palavras)\n",
        "print(f'Quantidade de palavras para texto rotulados como linguagem ofensiva: {quantidade_palavras} palavras')\n",
        "print(f'Tamanho médio da base para comentários rotulados como linguagem ofensivo ofensiva: {round(quantidade_palavras/len(lista_quantidade_palavras), 2)} ')\n",
        "print(f'Desvio padrão: {round(np.std(lista_quantidade_palavras),2)}')\n"
      ],
      "metadata": {
        "colab": {
          "base_uri": "https://localhost:8080/"
        },
        "id": "rtSJxJw_PaPi",
        "outputId": "95a5976f-eba6-465e-d958-ae639a8c1f7f"
      },
      "execution_count": null,
      "outputs": [
        {
          "output_type": "stream",
          "name": "stdout",
          "text": [
            "Quantidade de palavras para texto rotulados como linguagem ofensiva: 28970 palavras\n",
            "Tamanho médio da base para comentários rotulados como linguagem ofensivo ofensiva: 8.28 \n",
            "Desvio padrão: 9.26\n"
          ]
        }
      ]
    },
    {
      "cell_type": "markdown",
      "source": [
        "Categoria não ofensiva"
      ],
      "metadata": {
        "id": "mw-i-AEjQ653"
      }
    },
    {
      "cell_type": "code",
      "source": [
        "offensive_language = base_hatebr.loc[base_hatebr['offensive_language'] == 0 ] #Pegando apenas as informações com linguagem não ofensiva \n",
        "comentarios_nao_ofensivos = [] \n",
        "stop_words = set(stopwords.words('portuguese')) #setando o banco de stopwords em PT-BR\n",
        "\n",
        "for words in offensive_language['instagram_comments']:\n",
        "  only_latters =re.sub(\"[^a-zA-Z]\", \" \", words) # somente letras\n",
        "  tokens = nltk.word_tokenize(only_latters) # tokenize the sentence \n",
        "  lower_case = [l.lower() for l in tokens] # converter all letters to low case \n",
        "  filtered_result = list(filter(lambda l: l not in stop_words, lower_case)) # Remove stopwords from the comments\n",
        "  comentarios_nao_ofensivos.append(' '.join(filtered_result))\n",
        "\n",
        "\n",
        "lista_quantidade_palavras = []\n",
        "quantidade_palavras = 0\n",
        "for texto in comentarios_nao_ofensivos:\n",
        "  palavras = texto.split(' ')\n",
        "  lista_quantidade_palavras.append(len(palavras))\n",
        "  quantidade_palavras += len(palavras)\n",
        "print(f'Quantidade de palavras para texto rotulados como não ofensivo : {quantidade_palavras} palavras')\n",
        "print(f'Tamanho médio da base para comentários rotulados não ofensivo: {round(quantidade_palavras/len(lista_quantidade_palavras), 2)} ')\n",
        "print(f'Desvio padrão: {round(np.std(lista_quantidade_palavras),2)}')\n"
      ],
      "metadata": {
        "colab": {
          "base_uri": "https://localhost:8080/"
        },
        "id": "iXgxcA5uQ9bY",
        "outputId": "74836397-fa5a-40c6-b19c-795f4ac66eca"
      },
      "execution_count": null,
      "outputs": [
        {
          "output_type": "stream",
          "name": "stdout",
          "text": [
            "Quantidade de palavras para texto rotulados como não ofensivo : 24632 palavras\n",
            "Tamanho médio da base para comentários rotulados não ofensivo: 7.04 \n",
            "Desvio padrão: 9.02\n"
          ]
        }
      ]
    },
    {
      "cell_type": "markdown",
      "metadata": {
        "id": "6QSLgylbB9AB"
      },
      "source": [
        "# Base de dados Artigo 3 (OffComBR2 e OffComBR3)"
      ]
    },
    {
      "cell_type": "code",
      "execution_count": null,
      "metadata": {
        "id": "zf_smICj-hrC"
      },
      "outputs": [],
      "source": [
        "base_offcombr2 = pd.read_csv('/content/drive/MyDrive/Dataset/OffComBR2.csv')"
      ]
    },
    {
      "cell_type": "code",
      "execution_count": null,
      "metadata": {
        "id": "Nsdlqk_r-y_K",
        "colab": {
          "base_uri": "https://localhost:8080/"
        },
        "outputId": "7d7f3674-4d1c-4528-b83f-2fb987e4d4e4"
      },
      "outputs": [
        {
          "output_type": "execute_result",
          "data": {
            "text/plain": [
              "     Class                                              Texto\n",
              "0      yes              Votaram no PEZAO Agora tomem no CZAO'\n",
              "1       no  cuidado com a poupanca pessoal Lembram o que a...\n",
              "2       no  Sabe o que eu acho engracado os nossos governa...\n",
              "3      yes  os cariocas tem o que merecem um pessoal que s...\n",
              "4       no             Podiam retirar dos lucros dos bancos '\n",
              "...    ...                                                ...\n",
              "1245   yes                                       LIXO DO CRL'\n",
              "1246   yes  ela esta fazendo isso para aparecer Nao e gay ...\n",
              "1247   yes  Volta pra jaula sua macaca vou pegar meu xicot...\n",
              "1248   yes  Achei que a macaca vivia apenas na floresta ou...\n",
              "1249   yes  Espera essa neve derreter e usa ela pra lavar ...\n",
              "\n",
              "[1250 rows x 2 columns]"
            ],
            "text/html": [
              "\n",
              "  <div id=\"df-9fd430d9-78c1-4caa-96a6-c48aa98f8b14\">\n",
              "    <div class=\"colab-df-container\">\n",
              "      <div>\n",
              "<style scoped>\n",
              "    .dataframe tbody tr th:only-of-type {\n",
              "        vertical-align: middle;\n",
              "    }\n",
              "\n",
              "    .dataframe tbody tr th {\n",
              "        vertical-align: top;\n",
              "    }\n",
              "\n",
              "    .dataframe thead th {\n",
              "        text-align: right;\n",
              "    }\n",
              "</style>\n",
              "<table border=\"1\" class=\"dataframe\">\n",
              "  <thead>\n",
              "    <tr style=\"text-align: right;\">\n",
              "      <th></th>\n",
              "      <th>Class</th>\n",
              "      <th>Texto</th>\n",
              "    </tr>\n",
              "  </thead>\n",
              "  <tbody>\n",
              "    <tr>\n",
              "      <th>0</th>\n",
              "      <td>yes</td>\n",
              "      <td>Votaram no PEZAO Agora tomem no CZAO'</td>\n",
              "    </tr>\n",
              "    <tr>\n",
              "      <th>1</th>\n",
              "      <td>no</td>\n",
              "      <td>cuidado com a poupanca pessoal Lembram o que a...</td>\n",
              "    </tr>\n",
              "    <tr>\n",
              "      <th>2</th>\n",
              "      <td>no</td>\n",
              "      <td>Sabe o que eu acho engracado os nossos governa...</td>\n",
              "    </tr>\n",
              "    <tr>\n",
              "      <th>3</th>\n",
              "      <td>yes</td>\n",
              "      <td>os cariocas tem o que merecem um pessoal que s...</td>\n",
              "    </tr>\n",
              "    <tr>\n",
              "      <th>4</th>\n",
              "      <td>no</td>\n",
              "      <td>Podiam retirar dos lucros dos bancos '</td>\n",
              "    </tr>\n",
              "    <tr>\n",
              "      <th>...</th>\n",
              "      <td>...</td>\n",
              "      <td>...</td>\n",
              "    </tr>\n",
              "    <tr>\n",
              "      <th>1245</th>\n",
              "      <td>yes</td>\n",
              "      <td>LIXO DO CRL'</td>\n",
              "    </tr>\n",
              "    <tr>\n",
              "      <th>1246</th>\n",
              "      <td>yes</td>\n",
              "      <td>ela esta fazendo isso para aparecer Nao e gay ...</td>\n",
              "    </tr>\n",
              "    <tr>\n",
              "      <th>1247</th>\n",
              "      <td>yes</td>\n",
              "      <td>Volta pra jaula sua macaca vou pegar meu xicot...</td>\n",
              "    </tr>\n",
              "    <tr>\n",
              "      <th>1248</th>\n",
              "      <td>yes</td>\n",
              "      <td>Achei que a macaca vivia apenas na floresta ou...</td>\n",
              "    </tr>\n",
              "    <tr>\n",
              "      <th>1249</th>\n",
              "      <td>yes</td>\n",
              "      <td>Espera essa neve derreter e usa ela pra lavar ...</td>\n",
              "    </tr>\n",
              "  </tbody>\n",
              "</table>\n",
              "<p>1250 rows × 2 columns</p>\n",
              "</div>\n",
              "      <button class=\"colab-df-convert\" onclick=\"convertToInteractive('df-9fd430d9-78c1-4caa-96a6-c48aa98f8b14')\"\n",
              "              title=\"Convert this dataframe to an interactive table.\"\n",
              "              style=\"display:none;\">\n",
              "        \n",
              "  <svg xmlns=\"http://www.w3.org/2000/svg\" height=\"24px\"viewBox=\"0 0 24 24\"\n",
              "       width=\"24px\">\n",
              "    <path d=\"M0 0h24v24H0V0z\" fill=\"none\"/>\n",
              "    <path d=\"M18.56 5.44l.94 2.06.94-2.06 2.06-.94-2.06-.94-.94-2.06-.94 2.06-2.06.94zm-11 1L8.5 8.5l.94-2.06 2.06-.94-2.06-.94L8.5 2.5l-.94 2.06-2.06.94zm10 10l.94 2.06.94-2.06 2.06-.94-2.06-.94-.94-2.06-.94 2.06-2.06.94z\"/><path d=\"M17.41 7.96l-1.37-1.37c-.4-.4-.92-.59-1.43-.59-.52 0-1.04.2-1.43.59L10.3 9.45l-7.72 7.72c-.78.78-.78 2.05 0 2.83L4 21.41c.39.39.9.59 1.41.59.51 0 1.02-.2 1.41-.59l7.78-7.78 2.81-2.81c.8-.78.8-2.07 0-2.86zM5.41 20L4 18.59l7.72-7.72 1.47 1.35L5.41 20z\"/>\n",
              "  </svg>\n",
              "      </button>\n",
              "      \n",
              "  <style>\n",
              "    .colab-df-container {\n",
              "      display:flex;\n",
              "      flex-wrap:wrap;\n",
              "      gap: 12px;\n",
              "    }\n",
              "\n",
              "    .colab-df-convert {\n",
              "      background-color: #E8F0FE;\n",
              "      border: none;\n",
              "      border-radius: 50%;\n",
              "      cursor: pointer;\n",
              "      display: none;\n",
              "      fill: #1967D2;\n",
              "      height: 32px;\n",
              "      padding: 0 0 0 0;\n",
              "      width: 32px;\n",
              "    }\n",
              "\n",
              "    .colab-df-convert:hover {\n",
              "      background-color: #E2EBFA;\n",
              "      box-shadow: 0px 1px 2px rgba(60, 64, 67, 0.3), 0px 1px 3px 1px rgba(60, 64, 67, 0.15);\n",
              "      fill: #174EA6;\n",
              "    }\n",
              "\n",
              "    [theme=dark] .colab-df-convert {\n",
              "      background-color: #3B4455;\n",
              "      fill: #D2E3FC;\n",
              "    }\n",
              "\n",
              "    [theme=dark] .colab-df-convert:hover {\n",
              "      background-color: #434B5C;\n",
              "      box-shadow: 0px 1px 3px 1px rgba(0, 0, 0, 0.15);\n",
              "      filter: drop-shadow(0px 1px 2px rgba(0, 0, 0, 0.3));\n",
              "      fill: #FFFFFF;\n",
              "    }\n",
              "  </style>\n",
              "\n",
              "      <script>\n",
              "        const buttonEl =\n",
              "          document.querySelector('#df-9fd430d9-78c1-4caa-96a6-c48aa98f8b14 button.colab-df-convert');\n",
              "        buttonEl.style.display =\n",
              "          google.colab.kernel.accessAllowed ? 'block' : 'none';\n",
              "\n",
              "        async function convertToInteractive(key) {\n",
              "          const element = document.querySelector('#df-9fd430d9-78c1-4caa-96a6-c48aa98f8b14');\n",
              "          const dataTable =\n",
              "            await google.colab.kernel.invokeFunction('convertToInteractive',\n",
              "                                                     [key], {});\n",
              "          if (!dataTable) return;\n",
              "\n",
              "          const docLinkHtml = 'Like what you see? Visit the ' +\n",
              "            '<a target=\"_blank\" href=https://colab.research.google.com/notebooks/data_table.ipynb>data table notebook</a>'\n",
              "            + ' to learn more about interactive tables.';\n",
              "          element.innerHTML = '';\n",
              "          dataTable['output_type'] = 'display_data';\n",
              "          await google.colab.output.renderOutput(dataTable, element);\n",
              "          const docLink = document.createElement('div');\n",
              "          docLink.innerHTML = docLinkHtml;\n",
              "          element.appendChild(docLink);\n",
              "        }\n",
              "      </script>\n",
              "    </div>\n",
              "  </div>\n",
              "  "
            ]
          },
          "metadata": {},
          "execution_count": 43
        }
      ],
      "source": [
        "base_offcombr2"
      ]
    },
    {
      "cell_type": "code",
      "execution_count": null,
      "metadata": {
        "id": "6c7MYo4rwpk0",
        "colab": {
          "base_uri": "https://localhost:8080/"
        },
        "outputId": "bcc3a5f3-ad03-4732-b575-3b3becf4438c"
      },
      "outputs": [
        {
          "output_type": "execute_result",
          "data": {
            "text/plain": [
              "no     831\n",
              "yes    419\n",
              "Name: Class, dtype: int64"
            ]
          },
          "metadata": {},
          "execution_count": 44
        }
      ],
      "source": [
        "# np.unique(base_offcombr2['Class'], return_counts= True)\n",
        "base_offcombr2['Class'].value_counts()"
      ]
    },
    {
      "cell_type": "code",
      "execution_count": null,
      "metadata": {
        "id": "la8t6e_Euoek"
      },
      "outputs": [],
      "source": [
        "comments = [] \n",
        "stop_words = set(stopwords.words('portuguese')) #setando o banco de stopwords em PT-BR\n",
        "\n",
        "for words in base_offcombr2 ['Texto']:\n",
        "  only_latters =re.sub(\"[^a-zA-Z]\", \" \", words) # somente letras\n",
        "  tokens = nltk.word_tokenize(only_latters) # tokenize the sentence \n",
        "  lower_case = [l.lower() for l in tokens] # converter all letters to low case \n",
        "  filtered_result = list(filter(lambda l: l not in stop_words, lower_case)) # Remove stopwords from the comments\n",
        "  comments.append(' '.join(filtered_result))\n"
      ]
    },
    {
      "cell_type": "code",
      "execution_count": null,
      "metadata": {
        "id": "OcWEyH4Luzlc",
        "colab": {
          "base_uri": "https://localhost:8080/"
        },
        "outputId": "daaad1c2-25c4-4e43-c848-3fb9faa98c2a"
      },
      "outputs": [
        {
          "output_type": "stream",
          "name": "stderr",
          "text": [
            "/usr/local/lib/python3.8/dist-packages/sklearn/utils/deprecation.py:87: FutureWarning: Function get_feature_names is deprecated; get_feature_names is deprecated in 1.0 and will be removed in 1.2. Please use get_feature_names_out instead.\n",
            "  warnings.warn(msg, category=FutureWarning)\n"
          ]
        }
      ],
      "source": [
        "#using CountVectorizer to get the most important unigrams\n",
        "co = CountVectorizer(ngram_range=(1,1))\n",
        "count = co.fit_transform(comments)\n",
        "important_unigrams =pd.DataFrame(count.sum(axis=0), columns=co.get_feature_names()).T.sort_values(0, ascending = False)"
      ]
    },
    {
      "cell_type": "code",
      "execution_count": null,
      "metadata": {
        "id": "2_WGUdonu1vF",
        "colab": {
          "base_uri": "https://localhost:8080/"
        },
        "outputId": "8203c184-3711-44af-b7db-50603b2392d1"
      },
      "outputs": [
        {
          "output_type": "execute_result",
          "data": {
            "text/plain": [
              "       0\n",
              "nao  340\n",
              "vai  131\n",
              "so   107\n",
              "pra   97\n",
              "ja    75"
            ],
            "text/html": [
              "\n",
              "  <div id=\"df-61cce123-522a-4c5a-93e0-a6b03ab3e8f7\">\n",
              "    <div class=\"colab-df-container\">\n",
              "      <div>\n",
              "<style scoped>\n",
              "    .dataframe tbody tr th:only-of-type {\n",
              "        vertical-align: middle;\n",
              "    }\n",
              "\n",
              "    .dataframe tbody tr th {\n",
              "        vertical-align: top;\n",
              "    }\n",
              "\n",
              "    .dataframe thead th {\n",
              "        text-align: right;\n",
              "    }\n",
              "</style>\n",
              "<table border=\"1\" class=\"dataframe\">\n",
              "  <thead>\n",
              "    <tr style=\"text-align: right;\">\n",
              "      <th></th>\n",
              "      <th>0</th>\n",
              "    </tr>\n",
              "  </thead>\n",
              "  <tbody>\n",
              "    <tr>\n",
              "      <th>nao</th>\n",
              "      <td>340</td>\n",
              "    </tr>\n",
              "    <tr>\n",
              "      <th>vai</th>\n",
              "      <td>131</td>\n",
              "    </tr>\n",
              "    <tr>\n",
              "      <th>so</th>\n",
              "      <td>107</td>\n",
              "    </tr>\n",
              "    <tr>\n",
              "      <th>pra</th>\n",
              "      <td>97</td>\n",
              "    </tr>\n",
              "    <tr>\n",
              "      <th>ja</th>\n",
              "      <td>75</td>\n",
              "    </tr>\n",
              "  </tbody>\n",
              "</table>\n",
              "</div>\n",
              "      <button class=\"colab-df-convert\" onclick=\"convertToInteractive('df-61cce123-522a-4c5a-93e0-a6b03ab3e8f7')\"\n",
              "              title=\"Convert this dataframe to an interactive table.\"\n",
              "              style=\"display:none;\">\n",
              "        \n",
              "  <svg xmlns=\"http://www.w3.org/2000/svg\" height=\"24px\"viewBox=\"0 0 24 24\"\n",
              "       width=\"24px\">\n",
              "    <path d=\"M0 0h24v24H0V0z\" fill=\"none\"/>\n",
              "    <path d=\"M18.56 5.44l.94 2.06.94-2.06 2.06-.94-2.06-.94-.94-2.06-.94 2.06-2.06.94zm-11 1L8.5 8.5l.94-2.06 2.06-.94-2.06-.94L8.5 2.5l-.94 2.06-2.06.94zm10 10l.94 2.06.94-2.06 2.06-.94-2.06-.94-.94-2.06-.94 2.06-2.06.94z\"/><path d=\"M17.41 7.96l-1.37-1.37c-.4-.4-.92-.59-1.43-.59-.52 0-1.04.2-1.43.59L10.3 9.45l-7.72 7.72c-.78.78-.78 2.05 0 2.83L4 21.41c.39.39.9.59 1.41.59.51 0 1.02-.2 1.41-.59l7.78-7.78 2.81-2.81c.8-.78.8-2.07 0-2.86zM5.41 20L4 18.59l7.72-7.72 1.47 1.35L5.41 20z\"/>\n",
              "  </svg>\n",
              "      </button>\n",
              "      \n",
              "  <style>\n",
              "    .colab-df-container {\n",
              "      display:flex;\n",
              "      flex-wrap:wrap;\n",
              "      gap: 12px;\n",
              "    }\n",
              "\n",
              "    .colab-df-convert {\n",
              "      background-color: #E8F0FE;\n",
              "      border: none;\n",
              "      border-radius: 50%;\n",
              "      cursor: pointer;\n",
              "      display: none;\n",
              "      fill: #1967D2;\n",
              "      height: 32px;\n",
              "      padding: 0 0 0 0;\n",
              "      width: 32px;\n",
              "    }\n",
              "\n",
              "    .colab-df-convert:hover {\n",
              "      background-color: #E2EBFA;\n",
              "      box-shadow: 0px 1px 2px rgba(60, 64, 67, 0.3), 0px 1px 3px 1px rgba(60, 64, 67, 0.15);\n",
              "      fill: #174EA6;\n",
              "    }\n",
              "\n",
              "    [theme=dark] .colab-df-convert {\n",
              "      background-color: #3B4455;\n",
              "      fill: #D2E3FC;\n",
              "    }\n",
              "\n",
              "    [theme=dark] .colab-df-convert:hover {\n",
              "      background-color: #434B5C;\n",
              "      box-shadow: 0px 1px 3px 1px rgba(0, 0, 0, 0.15);\n",
              "      filter: drop-shadow(0px 1px 2px rgba(0, 0, 0, 0.3));\n",
              "      fill: #FFFFFF;\n",
              "    }\n",
              "  </style>\n",
              "\n",
              "      <script>\n",
              "        const buttonEl =\n",
              "          document.querySelector('#df-61cce123-522a-4c5a-93e0-a6b03ab3e8f7 button.colab-df-convert');\n",
              "        buttonEl.style.display =\n",
              "          google.colab.kernel.accessAllowed ? 'block' : 'none';\n",
              "\n",
              "        async function convertToInteractive(key) {\n",
              "          const element = document.querySelector('#df-61cce123-522a-4c5a-93e0-a6b03ab3e8f7');\n",
              "          const dataTable =\n",
              "            await google.colab.kernel.invokeFunction('convertToInteractive',\n",
              "                                                     [key], {});\n",
              "          if (!dataTable) return;\n",
              "\n",
              "          const docLinkHtml = 'Like what you see? Visit the ' +\n",
              "            '<a target=\"_blank\" href=https://colab.research.google.com/notebooks/data_table.ipynb>data table notebook</a>'\n",
              "            + ' to learn more about interactive tables.';\n",
              "          element.innerHTML = '';\n",
              "          dataTable['output_type'] = 'display_data';\n",
              "          await google.colab.output.renderOutput(dataTable, element);\n",
              "          const docLink = document.createElement('div');\n",
              "          docLink.innerHTML = docLinkHtml;\n",
              "          element.appendChild(docLink);\n",
              "        }\n",
              "      </script>\n",
              "    </div>\n",
              "  </div>\n",
              "  "
            ]
          },
          "metadata": {},
          "execution_count": 47
        }
      ],
      "source": [
        "important_unigrams[:5]"
      ]
    },
    {
      "cell_type": "code",
      "execution_count": null,
      "metadata": {
        "id": "SeqOPVd9XRMP",
        "colab": {
          "base_uri": "https://localhost:8080/"
        },
        "outputId": "1eeac7d9-e6b7-48dc-efb9-2957fe0efd75"
      },
      "outputs": [
        {
          "output_type": "stream",
          "name": "stderr",
          "text": [
            "/usr/local/lib/python3.8/dist-packages/sklearn/utils/deprecation.py:87: FutureWarning: Function get_feature_names is deprecated; get_feature_names is deprecated in 1.0 and will be removed in 1.2. Please use get_feature_names_out instead.\n",
            "  warnings.warn(msg, category=FutureWarning)\n"
          ]
        }
      ],
      "source": [
        "#using CountVectorizer to get the most important unigrams\n",
        "co = CountVectorizer(ngram_range=(1,1))\n",
        "count = co.fit_transform(base_offcombr2 ['Texto'])\n",
        "important_unigrams =pd.DataFrame(count.sum(axis=0), columns=co.get_feature_names()).T.sort_values(0, ascending = False)"
      ]
    },
    {
      "cell_type": "code",
      "execution_count": null,
      "metadata": {
        "id": "-H9mRakzXcLR",
        "colab": {
          "base_uri": "https://localhost:8080/"
        },
        "outputId": "bf9e0bdc-9e74-40bb-bdbd-06bafeca0e92"
      },
      "outputs": [
        {
          "output_type": "execute_result",
          "data": {
            "text/plain": [
              "       0\n",
              "de   474\n",
              "que  462\n",
              "nao  340\n",
              "do   212\n",
              "da   160"
            ],
            "text/html": [
              "\n",
              "  <div id=\"df-2dcc87d7-5ba1-4145-a3d5-10051163450d\">\n",
              "    <div class=\"colab-df-container\">\n",
              "      <div>\n",
              "<style scoped>\n",
              "    .dataframe tbody tr th:only-of-type {\n",
              "        vertical-align: middle;\n",
              "    }\n",
              "\n",
              "    .dataframe tbody tr th {\n",
              "        vertical-align: top;\n",
              "    }\n",
              "\n",
              "    .dataframe thead th {\n",
              "        text-align: right;\n",
              "    }\n",
              "</style>\n",
              "<table border=\"1\" class=\"dataframe\">\n",
              "  <thead>\n",
              "    <tr style=\"text-align: right;\">\n",
              "      <th></th>\n",
              "      <th>0</th>\n",
              "    </tr>\n",
              "  </thead>\n",
              "  <tbody>\n",
              "    <tr>\n",
              "      <th>de</th>\n",
              "      <td>474</td>\n",
              "    </tr>\n",
              "    <tr>\n",
              "      <th>que</th>\n",
              "      <td>462</td>\n",
              "    </tr>\n",
              "    <tr>\n",
              "      <th>nao</th>\n",
              "      <td>340</td>\n",
              "    </tr>\n",
              "    <tr>\n",
              "      <th>do</th>\n",
              "      <td>212</td>\n",
              "    </tr>\n",
              "    <tr>\n",
              "      <th>da</th>\n",
              "      <td>160</td>\n",
              "    </tr>\n",
              "  </tbody>\n",
              "</table>\n",
              "</div>\n",
              "      <button class=\"colab-df-convert\" onclick=\"convertToInteractive('df-2dcc87d7-5ba1-4145-a3d5-10051163450d')\"\n",
              "              title=\"Convert this dataframe to an interactive table.\"\n",
              "              style=\"display:none;\">\n",
              "        \n",
              "  <svg xmlns=\"http://www.w3.org/2000/svg\" height=\"24px\"viewBox=\"0 0 24 24\"\n",
              "       width=\"24px\">\n",
              "    <path d=\"M0 0h24v24H0V0z\" fill=\"none\"/>\n",
              "    <path d=\"M18.56 5.44l.94 2.06.94-2.06 2.06-.94-2.06-.94-.94-2.06-.94 2.06-2.06.94zm-11 1L8.5 8.5l.94-2.06 2.06-.94-2.06-.94L8.5 2.5l-.94 2.06-2.06.94zm10 10l.94 2.06.94-2.06 2.06-.94-2.06-.94-.94-2.06-.94 2.06-2.06.94z\"/><path d=\"M17.41 7.96l-1.37-1.37c-.4-.4-.92-.59-1.43-.59-.52 0-1.04.2-1.43.59L10.3 9.45l-7.72 7.72c-.78.78-.78 2.05 0 2.83L4 21.41c.39.39.9.59 1.41.59.51 0 1.02-.2 1.41-.59l7.78-7.78 2.81-2.81c.8-.78.8-2.07 0-2.86zM5.41 20L4 18.59l7.72-7.72 1.47 1.35L5.41 20z\"/>\n",
              "  </svg>\n",
              "      </button>\n",
              "      \n",
              "  <style>\n",
              "    .colab-df-container {\n",
              "      display:flex;\n",
              "      flex-wrap:wrap;\n",
              "      gap: 12px;\n",
              "    }\n",
              "\n",
              "    .colab-df-convert {\n",
              "      background-color: #E8F0FE;\n",
              "      border: none;\n",
              "      border-radius: 50%;\n",
              "      cursor: pointer;\n",
              "      display: none;\n",
              "      fill: #1967D2;\n",
              "      height: 32px;\n",
              "      padding: 0 0 0 0;\n",
              "      width: 32px;\n",
              "    }\n",
              "\n",
              "    .colab-df-convert:hover {\n",
              "      background-color: #E2EBFA;\n",
              "      box-shadow: 0px 1px 2px rgba(60, 64, 67, 0.3), 0px 1px 3px 1px rgba(60, 64, 67, 0.15);\n",
              "      fill: #174EA6;\n",
              "    }\n",
              "\n",
              "    [theme=dark] .colab-df-convert {\n",
              "      background-color: #3B4455;\n",
              "      fill: #D2E3FC;\n",
              "    }\n",
              "\n",
              "    [theme=dark] .colab-df-convert:hover {\n",
              "      background-color: #434B5C;\n",
              "      box-shadow: 0px 1px 3px 1px rgba(0, 0, 0, 0.15);\n",
              "      filter: drop-shadow(0px 1px 2px rgba(0, 0, 0, 0.3));\n",
              "      fill: #FFFFFF;\n",
              "    }\n",
              "  </style>\n",
              "\n",
              "      <script>\n",
              "        const buttonEl =\n",
              "          document.querySelector('#df-2dcc87d7-5ba1-4145-a3d5-10051163450d button.colab-df-convert');\n",
              "        buttonEl.style.display =\n",
              "          google.colab.kernel.accessAllowed ? 'block' : 'none';\n",
              "\n",
              "        async function convertToInteractive(key) {\n",
              "          const element = document.querySelector('#df-2dcc87d7-5ba1-4145-a3d5-10051163450d');\n",
              "          const dataTable =\n",
              "            await google.colab.kernel.invokeFunction('convertToInteractive',\n",
              "                                                     [key], {});\n",
              "          if (!dataTable) return;\n",
              "\n",
              "          const docLinkHtml = 'Like what you see? Visit the ' +\n",
              "            '<a target=\"_blank\" href=https://colab.research.google.com/notebooks/data_table.ipynb>data table notebook</a>'\n",
              "            + ' to learn more about interactive tables.';\n",
              "          element.innerHTML = '';\n",
              "          dataTable['output_type'] = 'display_data';\n",
              "          await google.colab.output.renderOutput(dataTable, element);\n",
              "          const docLink = document.createElement('div');\n",
              "          docLink.innerHTML = docLinkHtml;\n",
              "          element.appendChild(docLink);\n",
              "        }\n",
              "      </script>\n",
              "    </div>\n",
              "  </div>\n",
              "  "
            ]
          },
          "metadata": {},
          "execution_count": 49
        }
      ],
      "source": [
        "important_unigrams[:5]"
      ]
    },
    {
      "cell_type": "code",
      "execution_count": null,
      "metadata": {
        "id": "GL-N5tqv0T1J",
        "colab": {
          "base_uri": "https://localhost:8080/"
        },
        "outputId": "385564b7-137e-4a66-ca8e-c278f26cfd2f"
      },
      "outputs": [
        {
          "output_type": "stream",
          "name": "stdout",
          "text": [
            "Quantidade de palavras com Stopwords: 17156 palavras\n",
            "Quantidade de palavras sem Stopwords: 10112 palavras\n"
          ]
        }
      ],
      "source": [
        "lista_quantidade_palavras_base_offcombr2_com_sw = []\n",
        "quantidade_palavras_com_sw = 0\n",
        "for texto in base_offcombr2['Texto']:\n",
        "  palavras = texto.split(' ')\n",
        "  lista_quantidade_palavras_base_offcombr2_com_sw.append(len(palavras))\n",
        "  quantidade_palavras_com_sw += len(palavras)\n",
        "\n",
        "lista_quantidade_palavras_base_offcombr2_sem_sw = []\n",
        "quantidade_palavras_sem_sw = 0\n",
        "for texto in comments:\n",
        "  palavras = texto.split(' ')\n",
        "  lista_quantidade_palavras_base_offcombr2_sem_sw.append(len(palavras))\n",
        "  quantidade_palavras_sem_sw += len(palavras)\n",
        "\n",
        "\n",
        "print(f'Quantidade de palavras com Stopwords: {quantidade_palavras_com_sw} palavras')\n",
        "print(f'Quantidade de palavras sem Stopwords: {quantidade_palavras_sem_sw} palavras')"
      ]
    },
    {
      "cell_type": "code",
      "source": [
        "tam_base = len(base_offcombr2 ['Texto'])\n",
        "\n",
        "print(f'Tamanho médio da base com Stop Words: {round(quantidade_palavras_com_sw/tam_base, 2)} ')\n",
        "print(f'Tamanho médio da base sem Stop Words: {round(quantidade_palavras_sem_sw/tam_base, 2)} \\n')\n",
        "\n",
        "print(f'Desvio padrão da base com Stop Words: {round(np.std(lista_quantidade_palavras_base_offcombr2_com_sw),2)}')\n",
        "print(f'Desvio padrão da base sem Stop Words: {round(np.std( lista_quantidade_palavras_base_offcombr2_sem_sw),2)}')\n"
      ],
      "metadata": {
        "colab": {
          "base_uri": "https://localhost:8080/"
        },
        "id": "5OXoI4L3rBsS",
        "outputId": "7e94f9a8-b59d-4810-e653-20da37309594"
      },
      "execution_count": null,
      "outputs": [
        {
          "output_type": "stream",
          "name": "stdout",
          "text": [
            "Tamanho médio da base com Stop Words: 13.72 \n",
            "Tamanho médio da base sem Stop Words: 8.09 \n",
            "\n",
            "Desvio padrão da base com Stop Words: 11.36\n",
            "Desvio padrão da base sem Stop Words: 6.54\n"
          ]
        }
      ]
    },
    {
      "cell_type": "markdown",
      "source": [
        "**tamanho médio e desvio padrão dos textos em termos do número de palavras para cada categoria**"
      ],
      "metadata": {
        "id": "FLtspf42SpMJ"
      }
    },
    {
      "cell_type": "markdown",
      "source": [
        "Com discurso do ódio"
      ],
      "metadata": {
        "id": "1Uu2AFcEUqM5"
      }
    },
    {
      "cell_type": "code",
      "source": [
        "com_odio = base_offcombr2.loc[base_offcombr2['Class'] == 'yes' ] #Pegando apenas as informações com linguagem não ofensiva \n",
        "\n",
        "comentarios_com_odio = [] \n",
        "stop_words = set(stopwords.words('portuguese')) #setando o banco de stopwords em PT-BR\n",
        "\n",
        "for words in com_odio['Texto']:\n",
        "  only_latters =re.sub(\"[^a-zA-Z]\", \" \", words) # somente letras\n",
        "  tokens = nltk.word_tokenize(only_latters) # tokenize the sentence \n",
        "  lower_case = [l.lower() for l in tokens] # converter all letters to low case \n",
        "  filtered_result = list(filter(lambda l: l not in stop_words, lower_case)) # Remove stopwords from the comments\n",
        "  comentarios_com_odio.append(' '.join(filtered_result))\n",
        "\n",
        "\n",
        "lista_quantidade_palavras = []\n",
        "quantidade_palavras = 0\n",
        "for texto in comentarios_com_odio:\n",
        "  palavras = texto.split(' ')\n",
        "  lista_quantidade_palavras.append(len(palavras))\n",
        "  quantidade_palavras += len(palavras)\n",
        "\n",
        "print(f'Quantidade de palavras para texto rotulados como discurso de ódio : {quantidade_palavras} palavras')\n",
        "print(f'Tamanho médio da base para comentários rotulados como discurso de ódio: {round(quantidade_palavras/len(lista_quantidade_palavras), 2)} ')\n",
        "print(f'Desvio padrão: {round(np.std(lista_quantidade_palavras),2)}')\n"
      ],
      "metadata": {
        "colab": {
          "base_uri": "https://localhost:8080/"
        },
        "id": "KN3iwpnHSuMz",
        "outputId": "73dad997-b3a5-4812-9a0c-a5c5e22c3ec6"
      },
      "execution_count": null,
      "outputs": [
        {
          "output_type": "stream",
          "name": "stdout",
          "text": [
            "Quantidade de palavras para texto rotulados como discurso de ódio : 2789 palavras\n",
            "Tamanho médio da base para comentários rotulados como discurso de ódio: 6.66 \n",
            "Desvio padrão: 4.8\n"
          ]
        }
      ]
    },
    {
      "cell_type": "markdown",
      "source": [
        "Sem Discurso de ódio"
      ],
      "metadata": {
        "id": "Edt5_R2Cx7sC"
      }
    },
    {
      "cell_type": "code",
      "source": [
        "sem_odio = base_offcombr2.loc[base_offcombr2['Class'] == 'no' ] #Pegando apenas as informações com linguagem não ofensiva \n",
        "\n",
        "comentarios_sem_odio = [] \n",
        "stop_words = set(stopwords.words('portuguese')) #setando o banco de stopwords em PT-BR\n",
        "\n",
        "for words in sem_odio['Texto']:\n",
        "  only_latters =re.sub(\"[^a-zA-Z]\", \" \", words) # somente letras\n",
        "  tokens = nltk.word_tokenize(only_latters) # tokenize the sentence \n",
        "  lower_case = [l.lower() for l in tokens] # converter all letters to low case \n",
        "  filtered_result = list(filter(lambda l: l not in stop_words, lower_case)) # Remove stopwords from the comments\n",
        "  comentarios_sem_odio.append(' '.join(filtered_result))\n",
        "\n",
        "\n",
        "lista_quantidade_palavras = []\n",
        "quantidade_palavras = 0\n",
        "for texto in comentarios_sem_odio:\n",
        "  palavras = texto.split(' ')\n",
        "  lista_quantidade_palavras.append(len(palavras))\n",
        "  quantidade_palavras += len(palavras)\n",
        "\n",
        "print(f'Quantidade de palavras para texto rotulados como sem discurso de ódio : {quantidade_palavras} palavras')\n",
        "print(f'Tamanho médio da base para comentários rotulados como sem  discurso de ódio: {round(quantidade_palavras/len(lista_quantidade_palavras), 2)} ')\n",
        "print(f'Desvio padrão: {round(np.std(lista_quantidade_palavras),2)}')\n"
      ],
      "metadata": {
        "colab": {
          "base_uri": "https://localhost:8080/"
        },
        "id": "7n5047ofx-Cd",
        "outputId": "c633f26f-6513-4539-cdeb-1dad41578778"
      },
      "execution_count": null,
      "outputs": [
        {
          "output_type": "stream",
          "name": "stdout",
          "text": [
            "Quantidade de palavras para texto rotulados como sem discurso de ódio : 7323 palavras\n",
            "Tamanho médio da base para comentários rotulados como sem  discurso de ódio: 8.81 \n",
            "Desvio padrão: 7.15\n"
          ]
        }
      ]
    },
    {
      "cell_type": "code",
      "execution_count": null,
      "metadata": {
        "id": "b8lsm6Vw_tuz"
      },
      "outputs": [],
      "source": [
        "base_offcombr3 = pd.read_csv('/content/drive/MyDrive/Dataset/OffComBR3.csv')"
      ]
    },
    {
      "cell_type": "code",
      "execution_count": null,
      "metadata": {
        "id": "gFcXdKD6AIcJ",
        "colab": {
          "base_uri": "https://localhost:8080/"
        },
        "outputId": "95a7bb76-a9fa-406e-8c13-4b3889264380"
      },
      "outputs": [
        {
          "output_type": "execute_result",
          "data": {
            "text/plain": [
              "     Class                                              Texto\n",
              "0      yes              Votaram no PEZAO Agora tomem no CZAO'\n",
              "1       no  cuidado com a poupanca pessoal Lembram o que a...\n",
              "2       no  Sabe o que eu acho engracado os nossos governa...\n",
              "3       no             Podiam retirar dos lucros dos bancos '\n",
              "4       no  CADE O GALVAO PRA NARRAR AGORA   FALIIIIUUUUUU...\n",
              "...    ...                                                ...\n",
              "1028    no  Cruz so tem agilidade mesmo poder de nocaute z...\n",
              "1029    no  Meus caros amigos enigmaticosNao deveriam comp...\n",
              "1030   yes  Ele chamava pra atras da escola e sentava nos ...\n",
              "1031    no  Jhalim Rabei ate fiquei assustado comecei a le...\n",
              "1032    no  Irmao Honorato sempre falando verdades e agind...\n",
              "\n",
              "[1033 rows x 2 columns]"
            ],
            "text/html": [
              "\n",
              "  <div id=\"df-1b334bdc-6da4-4300-8e4f-d6a421062bc6\">\n",
              "    <div class=\"colab-df-container\">\n",
              "      <div>\n",
              "<style scoped>\n",
              "    .dataframe tbody tr th:only-of-type {\n",
              "        vertical-align: middle;\n",
              "    }\n",
              "\n",
              "    .dataframe tbody tr th {\n",
              "        vertical-align: top;\n",
              "    }\n",
              "\n",
              "    .dataframe thead th {\n",
              "        text-align: right;\n",
              "    }\n",
              "</style>\n",
              "<table border=\"1\" class=\"dataframe\">\n",
              "  <thead>\n",
              "    <tr style=\"text-align: right;\">\n",
              "      <th></th>\n",
              "      <th>Class</th>\n",
              "      <th>Texto</th>\n",
              "    </tr>\n",
              "  </thead>\n",
              "  <tbody>\n",
              "    <tr>\n",
              "      <th>0</th>\n",
              "      <td>yes</td>\n",
              "      <td>Votaram no PEZAO Agora tomem no CZAO'</td>\n",
              "    </tr>\n",
              "    <tr>\n",
              "      <th>1</th>\n",
              "      <td>no</td>\n",
              "      <td>cuidado com a poupanca pessoal Lembram o que a...</td>\n",
              "    </tr>\n",
              "    <tr>\n",
              "      <th>2</th>\n",
              "      <td>no</td>\n",
              "      <td>Sabe o que eu acho engracado os nossos governa...</td>\n",
              "    </tr>\n",
              "    <tr>\n",
              "      <th>3</th>\n",
              "      <td>no</td>\n",
              "      <td>Podiam retirar dos lucros dos bancos '</td>\n",
              "    </tr>\n",
              "    <tr>\n",
              "      <th>4</th>\n",
              "      <td>no</td>\n",
              "      <td>CADE O GALVAO PRA NARRAR AGORA   FALIIIIUUUUUU...</td>\n",
              "    </tr>\n",
              "    <tr>\n",
              "      <th>...</th>\n",
              "      <td>...</td>\n",
              "      <td>...</td>\n",
              "    </tr>\n",
              "    <tr>\n",
              "      <th>1028</th>\n",
              "      <td>no</td>\n",
              "      <td>Cruz so tem agilidade mesmo poder de nocaute z...</td>\n",
              "    </tr>\n",
              "    <tr>\n",
              "      <th>1029</th>\n",
              "      <td>no</td>\n",
              "      <td>Meus caros amigos enigmaticosNao deveriam comp...</td>\n",
              "    </tr>\n",
              "    <tr>\n",
              "      <th>1030</th>\n",
              "      <td>yes</td>\n",
              "      <td>Ele chamava pra atras da escola e sentava nos ...</td>\n",
              "    </tr>\n",
              "    <tr>\n",
              "      <th>1031</th>\n",
              "      <td>no</td>\n",
              "      <td>Jhalim Rabei ate fiquei assustado comecei a le...</td>\n",
              "    </tr>\n",
              "    <tr>\n",
              "      <th>1032</th>\n",
              "      <td>no</td>\n",
              "      <td>Irmao Honorato sempre falando verdades e agind...</td>\n",
              "    </tr>\n",
              "  </tbody>\n",
              "</table>\n",
              "<p>1033 rows × 2 columns</p>\n",
              "</div>\n",
              "      <button class=\"colab-df-convert\" onclick=\"convertToInteractive('df-1b334bdc-6da4-4300-8e4f-d6a421062bc6')\"\n",
              "              title=\"Convert this dataframe to an interactive table.\"\n",
              "              style=\"display:none;\">\n",
              "        \n",
              "  <svg xmlns=\"http://www.w3.org/2000/svg\" height=\"24px\"viewBox=\"0 0 24 24\"\n",
              "       width=\"24px\">\n",
              "    <path d=\"M0 0h24v24H0V0z\" fill=\"none\"/>\n",
              "    <path d=\"M18.56 5.44l.94 2.06.94-2.06 2.06-.94-2.06-.94-.94-2.06-.94 2.06-2.06.94zm-11 1L8.5 8.5l.94-2.06 2.06-.94-2.06-.94L8.5 2.5l-.94 2.06-2.06.94zm10 10l.94 2.06.94-2.06 2.06-.94-2.06-.94-.94-2.06-.94 2.06-2.06.94z\"/><path d=\"M17.41 7.96l-1.37-1.37c-.4-.4-.92-.59-1.43-.59-.52 0-1.04.2-1.43.59L10.3 9.45l-7.72 7.72c-.78.78-.78 2.05 0 2.83L4 21.41c.39.39.9.59 1.41.59.51 0 1.02-.2 1.41-.59l7.78-7.78 2.81-2.81c.8-.78.8-2.07 0-2.86zM5.41 20L4 18.59l7.72-7.72 1.47 1.35L5.41 20z\"/>\n",
              "  </svg>\n",
              "      </button>\n",
              "      \n",
              "  <style>\n",
              "    .colab-df-container {\n",
              "      display:flex;\n",
              "      flex-wrap:wrap;\n",
              "      gap: 12px;\n",
              "    }\n",
              "\n",
              "    .colab-df-convert {\n",
              "      background-color: #E8F0FE;\n",
              "      border: none;\n",
              "      border-radius: 50%;\n",
              "      cursor: pointer;\n",
              "      display: none;\n",
              "      fill: #1967D2;\n",
              "      height: 32px;\n",
              "      padding: 0 0 0 0;\n",
              "      width: 32px;\n",
              "    }\n",
              "\n",
              "    .colab-df-convert:hover {\n",
              "      background-color: #E2EBFA;\n",
              "      box-shadow: 0px 1px 2px rgba(60, 64, 67, 0.3), 0px 1px 3px 1px rgba(60, 64, 67, 0.15);\n",
              "      fill: #174EA6;\n",
              "    }\n",
              "\n",
              "    [theme=dark] .colab-df-convert {\n",
              "      background-color: #3B4455;\n",
              "      fill: #D2E3FC;\n",
              "    }\n",
              "\n",
              "    [theme=dark] .colab-df-convert:hover {\n",
              "      background-color: #434B5C;\n",
              "      box-shadow: 0px 1px 3px 1px rgba(0, 0, 0, 0.15);\n",
              "      filter: drop-shadow(0px 1px 2px rgba(0, 0, 0, 0.3));\n",
              "      fill: #FFFFFF;\n",
              "    }\n",
              "  </style>\n",
              "\n",
              "      <script>\n",
              "        const buttonEl =\n",
              "          document.querySelector('#df-1b334bdc-6da4-4300-8e4f-d6a421062bc6 button.colab-df-convert');\n",
              "        buttonEl.style.display =\n",
              "          google.colab.kernel.accessAllowed ? 'block' : 'none';\n",
              "\n",
              "        async function convertToInteractive(key) {\n",
              "          const element = document.querySelector('#df-1b334bdc-6da4-4300-8e4f-d6a421062bc6');\n",
              "          const dataTable =\n",
              "            await google.colab.kernel.invokeFunction('convertToInteractive',\n",
              "                                                     [key], {});\n",
              "          if (!dataTable) return;\n",
              "\n",
              "          const docLinkHtml = 'Like what you see? Visit the ' +\n",
              "            '<a target=\"_blank\" href=https://colab.research.google.com/notebooks/data_table.ipynb>data table notebook</a>'\n",
              "            + ' to learn more about interactive tables.';\n",
              "          element.innerHTML = '';\n",
              "          dataTable['output_type'] = 'display_data';\n",
              "          await google.colab.output.renderOutput(dataTable, element);\n",
              "          const docLink = document.createElement('div');\n",
              "          docLink.innerHTML = docLinkHtml;\n",
              "          element.appendChild(docLink);\n",
              "        }\n",
              "      </script>\n",
              "    </div>\n",
              "  </div>\n",
              "  "
            ]
          },
          "metadata": {},
          "execution_count": 55
        }
      ],
      "source": [
        "base_offcombr3"
      ]
    },
    {
      "cell_type": "code",
      "execution_count": null,
      "metadata": {
        "id": "wnBte7OTHUaQ",
        "colab": {
          "base_uri": "https://localhost:8080/"
        },
        "outputId": "4517aed3-98aa-487d-f34e-9b4256dd39ca"
      },
      "outputs": [
        {
          "output_type": "execute_result",
          "data": {
            "text/plain": [
              "no     831\n",
              "yes    202\n",
              "Name: Class, dtype: int64"
            ]
          },
          "metadata": {},
          "execution_count": 56
        }
      ],
      "source": [
        "# np.unique(base_offcombr2['Class'], return_counts= True)\n",
        "base_offcombr3['Class'].value_counts()"
      ]
    },
    {
      "cell_type": "code",
      "source": [
        "lista_quantidade_palavras_base_offcombr3_com_sw = []\n",
        "quantidade_palavras_com_sw = 0\n",
        "for texto in base_offcombr3['Texto']:\n",
        "  palavras = texto.split(' ')\n",
        "  lista_quantidade_palavras_base_offcombr3_com_sw.append(len(palavras))\n",
        "  quantidade_palavras_com_sw += len(palavras)\n",
        "\n",
        "lista_quantidade_palavras_base_offcombr3_sem_sw = []\n",
        "quantidade_palavras_sem_sw = 0\n",
        "for texto in comments:\n",
        "  palavras = texto.split(' ')\n",
        "  lista_quantidade_palavras_base_offcombr3_sem_sw.append(len(palavras))\n",
        "  quantidade_palavras_sem_sw += len(palavras)\n",
        "\n",
        "\n",
        "print(f'Quantidade de palavras com Stopwords: {quantidade_palavras_com_sw} palavras')\n",
        "print(f'Quantidade de palavras sem Stopwords: {quantidade_palavras_sem_sw} palavras')"
      ],
      "metadata": {
        "colab": {
          "base_uri": "https://localhost:8080/"
        },
        "id": "P71IjZqk4ajJ",
        "outputId": "44bb2a7b-b1e5-4f32-a585-4384f889be35"
      },
      "execution_count": null,
      "outputs": [
        {
          "output_type": "stream",
          "name": "stdout",
          "text": [
            "Quantidade de palavras com Stopwords: 14632 palavras\n",
            "Quantidade de palavras sem Stopwords: 10112 palavras\n"
          ]
        }
      ]
    },
    {
      "cell_type": "code",
      "execution_count": null,
      "metadata": {
        "id": "uxyI2RHhvfHT"
      },
      "outputs": [],
      "source": [
        "comments = [] \n",
        "stop_words = set(stopwords.words('portuguese')) #setando o banco de stopwords em PT-BR\n",
        "\n",
        "for words in base_offcombr3 ['Texto']:\n",
        "  only_latters =re.sub(\"[^a-zA-Z]\", \" \", words) # somente letras\n",
        "  tokens = nltk.word_tokenize(only_latters) # tokenize the sentence \n",
        "  lower_case = [l.lower() for l in tokens] # converter all letters to low case \n",
        "  filtered_result = list(filter(lambda l: l not in stop_words, lower_case)) # Remove stopwords from the comments\n",
        "  comments.append(' '.join(filtered_result))\n"
      ]
    },
    {
      "cell_type": "code",
      "execution_count": null,
      "metadata": {
        "id": "osv6TP67vmG8",
        "colab": {
          "base_uri": "https://localhost:8080/"
        },
        "outputId": "6114ff3b-81f9-463f-86e9-fd205ceff331"
      },
      "outputs": [
        {
          "output_type": "stream",
          "name": "stderr",
          "text": [
            "/usr/local/lib/python3.8/dist-packages/sklearn/utils/deprecation.py:87: FutureWarning: Function get_feature_names is deprecated; get_feature_names is deprecated in 1.0 and will be removed in 1.2. Please use get_feature_names_out instead.\n",
            "  warnings.warn(msg, category=FutureWarning)\n"
          ]
        }
      ],
      "source": [
        "#using CountVectorizer to get the most important unigrams\n",
        "co = CountVectorizer(ngram_range=(1,1))\n",
        "count = co.fit_transform(comments)\n",
        "important_unigrams =pd.DataFrame(count.sum(axis=0), columns=co.get_feature_names()).T.sort_values(0, ascending = False)"
      ]
    },
    {
      "cell_type": "code",
      "execution_count": null,
      "metadata": {
        "id": "w8kbDq6jvsHj",
        "colab": {
          "base_uri": "https://localhost:8080/"
        },
        "outputId": "42548a4c-6a3d-4b71-f36e-be56769f35f4"
      },
      "outputs": [
        {
          "output_type": "execute_result",
          "data": {
            "text/plain": [
              "       0\n",
              "nao  293\n",
              "vai   99\n",
              "so    90\n",
              "pra   81\n",
              "ja    68"
            ],
            "text/html": [
              "\n",
              "  <div id=\"df-bfdc1728-38a9-4de5-9846-c24dbf6c5b7a\">\n",
              "    <div class=\"colab-df-container\">\n",
              "      <div>\n",
              "<style scoped>\n",
              "    .dataframe tbody tr th:only-of-type {\n",
              "        vertical-align: middle;\n",
              "    }\n",
              "\n",
              "    .dataframe tbody tr th {\n",
              "        vertical-align: top;\n",
              "    }\n",
              "\n",
              "    .dataframe thead th {\n",
              "        text-align: right;\n",
              "    }\n",
              "</style>\n",
              "<table border=\"1\" class=\"dataframe\">\n",
              "  <thead>\n",
              "    <tr style=\"text-align: right;\">\n",
              "      <th></th>\n",
              "      <th>0</th>\n",
              "    </tr>\n",
              "  </thead>\n",
              "  <tbody>\n",
              "    <tr>\n",
              "      <th>nao</th>\n",
              "      <td>293</td>\n",
              "    </tr>\n",
              "    <tr>\n",
              "      <th>vai</th>\n",
              "      <td>99</td>\n",
              "    </tr>\n",
              "    <tr>\n",
              "      <th>so</th>\n",
              "      <td>90</td>\n",
              "    </tr>\n",
              "    <tr>\n",
              "      <th>pra</th>\n",
              "      <td>81</td>\n",
              "    </tr>\n",
              "    <tr>\n",
              "      <th>ja</th>\n",
              "      <td>68</td>\n",
              "    </tr>\n",
              "  </tbody>\n",
              "</table>\n",
              "</div>\n",
              "      <button class=\"colab-df-convert\" onclick=\"convertToInteractive('df-bfdc1728-38a9-4de5-9846-c24dbf6c5b7a')\"\n",
              "              title=\"Convert this dataframe to an interactive table.\"\n",
              "              style=\"display:none;\">\n",
              "        \n",
              "  <svg xmlns=\"http://www.w3.org/2000/svg\" height=\"24px\"viewBox=\"0 0 24 24\"\n",
              "       width=\"24px\">\n",
              "    <path d=\"M0 0h24v24H0V0z\" fill=\"none\"/>\n",
              "    <path d=\"M18.56 5.44l.94 2.06.94-2.06 2.06-.94-2.06-.94-.94-2.06-.94 2.06-2.06.94zm-11 1L8.5 8.5l.94-2.06 2.06-.94-2.06-.94L8.5 2.5l-.94 2.06-2.06.94zm10 10l.94 2.06.94-2.06 2.06-.94-2.06-.94-.94-2.06-.94 2.06-2.06.94z\"/><path d=\"M17.41 7.96l-1.37-1.37c-.4-.4-.92-.59-1.43-.59-.52 0-1.04.2-1.43.59L10.3 9.45l-7.72 7.72c-.78.78-.78 2.05 0 2.83L4 21.41c.39.39.9.59 1.41.59.51 0 1.02-.2 1.41-.59l7.78-7.78 2.81-2.81c.8-.78.8-2.07 0-2.86zM5.41 20L4 18.59l7.72-7.72 1.47 1.35L5.41 20z\"/>\n",
              "  </svg>\n",
              "      </button>\n",
              "      \n",
              "  <style>\n",
              "    .colab-df-container {\n",
              "      display:flex;\n",
              "      flex-wrap:wrap;\n",
              "      gap: 12px;\n",
              "    }\n",
              "\n",
              "    .colab-df-convert {\n",
              "      background-color: #E8F0FE;\n",
              "      border: none;\n",
              "      border-radius: 50%;\n",
              "      cursor: pointer;\n",
              "      display: none;\n",
              "      fill: #1967D2;\n",
              "      height: 32px;\n",
              "      padding: 0 0 0 0;\n",
              "      width: 32px;\n",
              "    }\n",
              "\n",
              "    .colab-df-convert:hover {\n",
              "      background-color: #E2EBFA;\n",
              "      box-shadow: 0px 1px 2px rgba(60, 64, 67, 0.3), 0px 1px 3px 1px rgba(60, 64, 67, 0.15);\n",
              "      fill: #174EA6;\n",
              "    }\n",
              "\n",
              "    [theme=dark] .colab-df-convert {\n",
              "      background-color: #3B4455;\n",
              "      fill: #D2E3FC;\n",
              "    }\n",
              "\n",
              "    [theme=dark] .colab-df-convert:hover {\n",
              "      background-color: #434B5C;\n",
              "      box-shadow: 0px 1px 3px 1px rgba(0, 0, 0, 0.15);\n",
              "      filter: drop-shadow(0px 1px 2px rgba(0, 0, 0, 0.3));\n",
              "      fill: #FFFFFF;\n",
              "    }\n",
              "  </style>\n",
              "\n",
              "      <script>\n",
              "        const buttonEl =\n",
              "          document.querySelector('#df-bfdc1728-38a9-4de5-9846-c24dbf6c5b7a button.colab-df-convert');\n",
              "        buttonEl.style.display =\n",
              "          google.colab.kernel.accessAllowed ? 'block' : 'none';\n",
              "\n",
              "        async function convertToInteractive(key) {\n",
              "          const element = document.querySelector('#df-bfdc1728-38a9-4de5-9846-c24dbf6c5b7a');\n",
              "          const dataTable =\n",
              "            await google.colab.kernel.invokeFunction('convertToInteractive',\n",
              "                                                     [key], {});\n",
              "          if (!dataTable) return;\n",
              "\n",
              "          const docLinkHtml = 'Like what you see? Visit the ' +\n",
              "            '<a target=\"_blank\" href=https://colab.research.google.com/notebooks/data_table.ipynb>data table notebook</a>'\n",
              "            + ' to learn more about interactive tables.';\n",
              "          element.innerHTML = '';\n",
              "          dataTable['output_type'] = 'display_data';\n",
              "          await google.colab.output.renderOutput(dataTable, element);\n",
              "          const docLink = document.createElement('div');\n",
              "          docLink.innerHTML = docLinkHtml;\n",
              "          element.appendChild(docLink);\n",
              "        }\n",
              "      </script>\n",
              "    </div>\n",
              "  </div>\n",
              "  "
            ]
          },
          "metadata": {},
          "execution_count": 60
        }
      ],
      "source": [
        "important_unigrams[:5]"
      ]
    },
    {
      "cell_type": "code",
      "execution_count": null,
      "metadata": {
        "id": "8mxGpzvRvv8-",
        "colab": {
          "base_uri": "https://localhost:8080/"
        },
        "outputId": "2f390a08-fede-476b-c6e7-70228f47132f"
      },
      "outputs": [
        {
          "output_type": "stream",
          "name": "stderr",
          "text": [
            "/usr/local/lib/python3.8/dist-packages/sklearn/utils/deprecation.py:87: FutureWarning: Function get_feature_names is deprecated; get_feature_names is deprecated in 1.0 and will be removed in 1.2. Please use get_feature_names_out instead.\n",
            "  warnings.warn(msg, category=FutureWarning)\n"
          ]
        }
      ],
      "source": [
        "#using CountVectorizer to get the most important unigrams\n",
        "co = CountVectorizer(ngram_range=(1,1))\n",
        "count = co.fit_transform(base_offcombr3 ['Texto'])\n",
        "important_unigrams =pd.DataFrame(count.sum(axis=0), columns=co.get_feature_names()).T.sort_values(0, ascending = False)"
      ]
    },
    {
      "cell_type": "code",
      "execution_count": null,
      "metadata": {
        "id": "cpDYL2BpwCVq",
        "colab": {
          "base_uri": "https://localhost:8080/"
        },
        "outputId": "b5c6ac4d-5125-4428-c096-c10aca0e72f4"
      },
      "outputs": [
        {
          "output_type": "execute_result",
          "data": {
            "text/plain": [
              "       0\n",
              "que  403\n",
              "de   399\n",
              "nao  293\n",
              "do   177\n",
              "da   138"
            ],
            "text/html": [
              "\n",
              "  <div id=\"df-11cad139-8198-4d66-827e-8b34f607e789\">\n",
              "    <div class=\"colab-df-container\">\n",
              "      <div>\n",
              "<style scoped>\n",
              "    .dataframe tbody tr th:only-of-type {\n",
              "        vertical-align: middle;\n",
              "    }\n",
              "\n",
              "    .dataframe tbody tr th {\n",
              "        vertical-align: top;\n",
              "    }\n",
              "\n",
              "    .dataframe thead th {\n",
              "        text-align: right;\n",
              "    }\n",
              "</style>\n",
              "<table border=\"1\" class=\"dataframe\">\n",
              "  <thead>\n",
              "    <tr style=\"text-align: right;\">\n",
              "      <th></th>\n",
              "      <th>0</th>\n",
              "    </tr>\n",
              "  </thead>\n",
              "  <tbody>\n",
              "    <tr>\n",
              "      <th>que</th>\n",
              "      <td>403</td>\n",
              "    </tr>\n",
              "    <tr>\n",
              "      <th>de</th>\n",
              "      <td>399</td>\n",
              "    </tr>\n",
              "    <tr>\n",
              "      <th>nao</th>\n",
              "      <td>293</td>\n",
              "    </tr>\n",
              "    <tr>\n",
              "      <th>do</th>\n",
              "      <td>177</td>\n",
              "    </tr>\n",
              "    <tr>\n",
              "      <th>da</th>\n",
              "      <td>138</td>\n",
              "    </tr>\n",
              "  </tbody>\n",
              "</table>\n",
              "</div>\n",
              "      <button class=\"colab-df-convert\" onclick=\"convertToInteractive('df-11cad139-8198-4d66-827e-8b34f607e789')\"\n",
              "              title=\"Convert this dataframe to an interactive table.\"\n",
              "              style=\"display:none;\">\n",
              "        \n",
              "  <svg xmlns=\"http://www.w3.org/2000/svg\" height=\"24px\"viewBox=\"0 0 24 24\"\n",
              "       width=\"24px\">\n",
              "    <path d=\"M0 0h24v24H0V0z\" fill=\"none\"/>\n",
              "    <path d=\"M18.56 5.44l.94 2.06.94-2.06 2.06-.94-2.06-.94-.94-2.06-.94 2.06-2.06.94zm-11 1L8.5 8.5l.94-2.06 2.06-.94-2.06-.94L8.5 2.5l-.94 2.06-2.06.94zm10 10l.94 2.06.94-2.06 2.06-.94-2.06-.94-.94-2.06-.94 2.06-2.06.94z\"/><path d=\"M17.41 7.96l-1.37-1.37c-.4-.4-.92-.59-1.43-.59-.52 0-1.04.2-1.43.59L10.3 9.45l-7.72 7.72c-.78.78-.78 2.05 0 2.83L4 21.41c.39.39.9.59 1.41.59.51 0 1.02-.2 1.41-.59l7.78-7.78 2.81-2.81c.8-.78.8-2.07 0-2.86zM5.41 20L4 18.59l7.72-7.72 1.47 1.35L5.41 20z\"/>\n",
              "  </svg>\n",
              "      </button>\n",
              "      \n",
              "  <style>\n",
              "    .colab-df-container {\n",
              "      display:flex;\n",
              "      flex-wrap:wrap;\n",
              "      gap: 12px;\n",
              "    }\n",
              "\n",
              "    .colab-df-convert {\n",
              "      background-color: #E8F0FE;\n",
              "      border: none;\n",
              "      border-radius: 50%;\n",
              "      cursor: pointer;\n",
              "      display: none;\n",
              "      fill: #1967D2;\n",
              "      height: 32px;\n",
              "      padding: 0 0 0 0;\n",
              "      width: 32px;\n",
              "    }\n",
              "\n",
              "    .colab-df-convert:hover {\n",
              "      background-color: #E2EBFA;\n",
              "      box-shadow: 0px 1px 2px rgba(60, 64, 67, 0.3), 0px 1px 3px 1px rgba(60, 64, 67, 0.15);\n",
              "      fill: #174EA6;\n",
              "    }\n",
              "\n",
              "    [theme=dark] .colab-df-convert {\n",
              "      background-color: #3B4455;\n",
              "      fill: #D2E3FC;\n",
              "    }\n",
              "\n",
              "    [theme=dark] .colab-df-convert:hover {\n",
              "      background-color: #434B5C;\n",
              "      box-shadow: 0px 1px 3px 1px rgba(0, 0, 0, 0.15);\n",
              "      filter: drop-shadow(0px 1px 2px rgba(0, 0, 0, 0.3));\n",
              "      fill: #FFFFFF;\n",
              "    }\n",
              "  </style>\n",
              "\n",
              "      <script>\n",
              "        const buttonEl =\n",
              "          document.querySelector('#df-11cad139-8198-4d66-827e-8b34f607e789 button.colab-df-convert');\n",
              "        buttonEl.style.display =\n",
              "          google.colab.kernel.accessAllowed ? 'block' : 'none';\n",
              "\n",
              "        async function convertToInteractive(key) {\n",
              "          const element = document.querySelector('#df-11cad139-8198-4d66-827e-8b34f607e789');\n",
              "          const dataTable =\n",
              "            await google.colab.kernel.invokeFunction('convertToInteractive',\n",
              "                                                     [key], {});\n",
              "          if (!dataTable) return;\n",
              "\n",
              "          const docLinkHtml = 'Like what you see? Visit the ' +\n",
              "            '<a target=\"_blank\" href=https://colab.research.google.com/notebooks/data_table.ipynb>data table notebook</a>'\n",
              "            + ' to learn more about interactive tables.';\n",
              "          element.innerHTML = '';\n",
              "          dataTable['output_type'] = 'display_data';\n",
              "          await google.colab.output.renderOutput(dataTable, element);\n",
              "          const docLink = document.createElement('div');\n",
              "          docLink.innerHTML = docLinkHtml;\n",
              "          element.appendChild(docLink);\n",
              "        }\n",
              "      </script>\n",
              "    </div>\n",
              "  </div>\n",
              "  "
            ]
          },
          "metadata": {},
          "execution_count": 62
        }
      ],
      "source": [
        "important_unigrams[:5]"
      ]
    },
    {
      "cell_type": "code",
      "source": [
        "lista_quantidade_palavras_base_offcombr3_com_sw = []\n",
        "quantidade_palavras_com_sw = 0\n",
        "for texto in base_offcombr3['Texto']:\n",
        "  palavras = texto.split(' ')\n",
        "  lista_quantidade_palavras_base_offcombr3_com_sw.append(len(palavras))\n",
        "  quantidade_palavras_com_sw += len(palavras)\n",
        "\n",
        "lista_quantidade_palavras_base_offcombr3_sem_sw = []\n",
        "quantidade_palavras_sem_sw = 0\n",
        "for texto in comments:\n",
        "  palavras = texto.split(' ')\n",
        "  lista_quantidade_palavras_base_offcombr3_sem_sw.append(len(palavras))\n",
        "  quantidade_palavras_sem_sw += len(palavras)\n",
        "\n",
        "\n",
        "print(f'Quantidade de palavras com Stopwords: {quantidade_palavras_com_sw} palavras')\n",
        "print(f'Quantidade de palavras sem Stopwords: {quantidade_palavras_sem_sw} palavras')"
      ],
      "metadata": {
        "colab": {
          "base_uri": "https://localhost:8080/"
        },
        "id": "2_7Ho5EFu2rr",
        "outputId": "df60613f-e4a0-434c-9753-6c0d2f790e22"
      },
      "execution_count": null,
      "outputs": [
        {
          "output_type": "stream",
          "name": "stdout",
          "text": [
            "Quantidade de palavras com Stopwords: 14632 palavras\n",
            "Quantidade de palavras sem Stopwords: 8585 palavras\n"
          ]
        }
      ]
    },
    {
      "cell_type": "markdown",
      "source": [
        "**tamanho médio e desvio padrão dos textos em termos do número de palavras para cada categoria**"
      ],
      "metadata": {
        "id": "YXLDJwyBbBiY"
      }
    },
    {
      "cell_type": "markdown",
      "source": [
        "Com ódio"
      ],
      "metadata": {
        "id": "dio_g6uuXKqL"
      }
    },
    {
      "cell_type": "code",
      "source": [
        "com_odio = base_offcombr3.loc[base_offcombr3['Class'] == 'yes' ] #Pegando apenas as informações com linguagem não ofensiva \n",
        "\n",
        "comentarios_com_odio = [] \n",
        "stop_words = set(stopwords.words('portuguese')) #setando o banco de stopwords em PT-BR\n",
        "\n",
        "for words in com_odio['Texto']:\n",
        "  only_latters =re.sub(\"[^a-zA-Z]\", \" \", words) # somente letras\n",
        "  tokens = nltk.word_tokenize(only_latters) # tokenize the sentence \n",
        "  lower_case = [l.lower() for l in tokens] # converter all letters to low case \n",
        "  filtered_result = list(filter(lambda l: l not in stop_words, lower_case)) # Remove stopwords from the comments\n",
        "  comentarios_com_odio.append(' '.join(filtered_result))\n",
        "\n",
        "\n",
        "lista_quantidade_palavras = []\n",
        "quantidade_palavras = 0\n",
        "for texto in comentarios_com_odio:\n",
        "  palavras = texto.split(' ')\n",
        "  lista_quantidade_palavras.append(len(palavras))\n",
        "  quantidade_palavras += len(palavras)\n",
        "\n",
        "print(f'Quantidade de palavras para texto rotulados como discurso de ódio : {quantidade_palavras} palavras')\n",
        "print(f'Tamanho médio da base para comentários rotulados como discurso de ódio: {round(quantidade_palavras/len(lista_quantidade_palavras), 2)} ')\n",
        "print(f'Desvio padrão: {round(np.std(lista_quantidade_palavras),2)}')\n"
      ],
      "metadata": {
        "colab": {
          "base_uri": "https://localhost:8080/"
        },
        "id": "6buv2wewVmG5",
        "outputId": "efd43dea-a7ba-4d55-c288-f6f076c9c389"
      },
      "execution_count": null,
      "outputs": [
        {
          "output_type": "stream",
          "name": "stdout",
          "text": [
            "Quantidade de palavras para texto rotulados como discurso de ódio : 1297 palavras\n",
            "Tamanho médio da base para comentários rotulados como discurso de ódio: 6.42 \n",
            "Desvio padrão: 4.9\n"
          ]
        }
      ]
    },
    {
      "cell_type": "markdown",
      "source": [
        "Sem ódio"
      ],
      "metadata": {
        "id": "BcEx38ETXNAa"
      }
    },
    {
      "cell_type": "code",
      "source": [
        "sem_odio = base_offcombr3.loc[base_offcombr3['Class'] == 'no' ] #Pegando apenas as informações com linguagem não ofensiva \n",
        "\n",
        "comentarios_sem_odio = [] \n",
        "stop_words = set(stopwords.words('portuguese')) #setando o banco de stopwords em PT-BR\n",
        "\n",
        "for words in sem_odio['Texto']:\n",
        "  only_latters =re.sub(\"[^a-zA-Z]\", \" \", words) # somente letras\n",
        "  tokens = nltk.word_tokenize(only_latters) # tokenize the sentence \n",
        "  lower_case = [l.lower() for l in tokens] # converter all letters to low case \n",
        "  filtered_result = list(filter(lambda l: l not in stop_words, lower_case)) # Remove stopwords from the comments\n",
        "  comentarios_sem_odio.append(' '.join(filtered_result))\n",
        "\n",
        "\n",
        "lista_quantidade_palavras = []\n",
        "quantidade_palavras = 0\n",
        "for texto in comentarios_sem_odio:\n",
        "  palavras = texto.split(' ')\n",
        "  lista_quantidade_palavras.append(len(palavras))\n",
        "  quantidade_palavras += len(palavras)\n",
        "\n",
        "print(f'Quantidade de palavras para texto rotulados como sem discurso de ódio : {quantidade_palavras} palavras')\n",
        "print(f'Tamanho médio da base para comentários rotulados como sem discurso de ódio: {round(quantidade_palavras/len(lista_quantidade_palavras), 2)} ')\n",
        "print(f'Desvio padrão: {round(np.std(lista_quantidade_palavras),2)}')\n"
      ],
      "metadata": {
        "colab": {
          "base_uri": "https://localhost:8080/"
        },
        "id": "CR8nhMhTXO5z",
        "outputId": "442a2621-7d2c-4a36-b335-43c6ce6e378f"
      },
      "execution_count": null,
      "outputs": [
        {
          "output_type": "stream",
          "name": "stdout",
          "text": [
            "Quantidade de palavras para texto rotulados como sem discurso de ódio : 7288 palavras\n",
            "Tamanho médio da base para comentários rotulados como sem discurso de ódio: 8.77 \n",
            "Desvio padrão: 6.96\n"
          ]
        }
      ]
    },
    {
      "cell_type": "markdown",
      "metadata": {
        "id": "YEKEWTH3COlJ"
      },
      "source": [
        "# Base de dados Artigo 4 (base_hate_speech_binary e hate_speech_hierarchical)"
      ]
    },
    {
      "cell_type": "code",
      "execution_count": 114,
      "metadata": {
        "id": "JYsnycpIAWYj"
      },
      "outputs": [],
      "source": [
        "base_hate_speech_binary = pd.read_csv('/content/drive/MyDrive/Dataset/2019-05-28_portuguese_hate_speech_binary_classification.csv')"
      ]
    },
    {
      "cell_type": "code",
      "execution_count": 115,
      "metadata": {
        "id": "r6rzzA61AlHy",
        "colab": {
          "base_uri": "https://localhost:8080/",
          "height": 424
        },
        "outputId": "2f9f91b3-2b5f-4ae0-f783-898ffe0d1f24"
      },
      "outputs": [
        {
          "output_type": "execute_result",
          "data": {
            "text/plain": [
              "                                                   text  hatespeech_comb  \\\n",
              "0     @__andrea__b \\nO cara vive em outro mundo\\nNão...                1   \n",
              "1     @_carmeloneto Estes incompetentes não cuidam n...                0   \n",
              "2     @_carmeloneto \\nOs 'cumpanhero' quebraram toda...                0   \n",
              "3     @_GlitteryKisses é isso não conseguem pensar n...                0   \n",
              "4                   @_iglira bom dia macaco branco haha                1   \n",
              "...                                                 ...              ...   \n",
              "5665  @zecarlosantos2 é o unico que nao se corrompe....                0   \n",
              "5666  @zqkitowz sei das cotas, mas não sabia disso, ...                1   \n",
              "5667  @zqkitowz sim, a maioria do eleitorado é mulhe...                0   \n",
              "5668  @zurcju seguir no tt é facíl, apresentar as am...                1   \n",
              "5669  na vdd a culpa é do menino de 11 anos otário q...                1   \n",
              "\n",
              "      hatespeech_G1 annotator_G1  hatespeech_G2 annotator_G2  hatespeech_G3  \\\n",
              "0                 1            A            1.0            V              0   \n",
              "1                 1            D            0.0            V              0   \n",
              "2                 1            A            0.0            B              0   \n",
              "3                 0            C            0.0            V              0   \n",
              "4                 0            A            1.0            I              1   \n",
              "...             ...          ...            ...          ...            ...   \n",
              "5665              1            C            0.0            B              0   \n",
              "5666              1            D            1.0           It              0   \n",
              "5667              0            C            0.0            V              0   \n",
              "5668              1            C            1.0            S              0   \n",
              "5669              1            E            1.0           It              0   \n",
              "\n",
              "     annotator_G3  \n",
              "0               E  \n",
              "1               C  \n",
              "2               E  \n",
              "3               D  \n",
              "4               E  \n",
              "...           ...  \n",
              "5665            A  \n",
              "5666            A  \n",
              "5667            C  \n",
              "5668            A  \n",
              "5669            D  \n",
              "\n",
              "[5670 rows x 8 columns]"
            ],
            "text/html": [
              "\n",
              "  <div id=\"df-6e37e086-8953-40ed-9b9a-6f2194956c73\">\n",
              "    <div class=\"colab-df-container\">\n",
              "      <div>\n",
              "<style scoped>\n",
              "    .dataframe tbody tr th:only-of-type {\n",
              "        vertical-align: middle;\n",
              "    }\n",
              "\n",
              "    .dataframe tbody tr th {\n",
              "        vertical-align: top;\n",
              "    }\n",
              "\n",
              "    .dataframe thead th {\n",
              "        text-align: right;\n",
              "    }\n",
              "</style>\n",
              "<table border=\"1\" class=\"dataframe\">\n",
              "  <thead>\n",
              "    <tr style=\"text-align: right;\">\n",
              "      <th></th>\n",
              "      <th>text</th>\n",
              "      <th>hatespeech_comb</th>\n",
              "      <th>hatespeech_G1</th>\n",
              "      <th>annotator_G1</th>\n",
              "      <th>hatespeech_G2</th>\n",
              "      <th>annotator_G2</th>\n",
              "      <th>hatespeech_G3</th>\n",
              "      <th>annotator_G3</th>\n",
              "    </tr>\n",
              "  </thead>\n",
              "  <tbody>\n",
              "    <tr>\n",
              "      <th>0</th>\n",
              "      <td>@__andrea__b \\nO cara vive em outro mundo\\nNão...</td>\n",
              "      <td>1</td>\n",
              "      <td>1</td>\n",
              "      <td>A</td>\n",
              "      <td>1.0</td>\n",
              "      <td>V</td>\n",
              "      <td>0</td>\n",
              "      <td>E</td>\n",
              "    </tr>\n",
              "    <tr>\n",
              "      <th>1</th>\n",
              "      <td>@_carmeloneto Estes incompetentes não cuidam n...</td>\n",
              "      <td>0</td>\n",
              "      <td>1</td>\n",
              "      <td>D</td>\n",
              "      <td>0.0</td>\n",
              "      <td>V</td>\n",
              "      <td>0</td>\n",
              "      <td>C</td>\n",
              "    </tr>\n",
              "    <tr>\n",
              "      <th>2</th>\n",
              "      <td>@_carmeloneto \\nOs 'cumpanhero' quebraram toda...</td>\n",
              "      <td>0</td>\n",
              "      <td>1</td>\n",
              "      <td>A</td>\n",
              "      <td>0.0</td>\n",
              "      <td>B</td>\n",
              "      <td>0</td>\n",
              "      <td>E</td>\n",
              "    </tr>\n",
              "    <tr>\n",
              "      <th>3</th>\n",
              "      <td>@_GlitteryKisses é isso não conseguem pensar n...</td>\n",
              "      <td>0</td>\n",
              "      <td>0</td>\n",
              "      <td>C</td>\n",
              "      <td>0.0</td>\n",
              "      <td>V</td>\n",
              "      <td>0</td>\n",
              "      <td>D</td>\n",
              "    </tr>\n",
              "    <tr>\n",
              "      <th>4</th>\n",
              "      <td>@_iglira bom dia macaco branco haha</td>\n",
              "      <td>1</td>\n",
              "      <td>0</td>\n",
              "      <td>A</td>\n",
              "      <td>1.0</td>\n",
              "      <td>I</td>\n",
              "      <td>1</td>\n",
              "      <td>E</td>\n",
              "    </tr>\n",
              "    <tr>\n",
              "      <th>...</th>\n",
              "      <td>...</td>\n",
              "      <td>...</td>\n",
              "      <td>...</td>\n",
              "      <td>...</td>\n",
              "      <td>...</td>\n",
              "      <td>...</td>\n",
              "      <td>...</td>\n",
              "      <td>...</td>\n",
              "    </tr>\n",
              "    <tr>\n",
              "      <th>5665</th>\n",
              "      <td>@zecarlosantos2 é o unico que nao se corrompe....</td>\n",
              "      <td>0</td>\n",
              "      <td>1</td>\n",
              "      <td>C</td>\n",
              "      <td>0.0</td>\n",
              "      <td>B</td>\n",
              "      <td>0</td>\n",
              "      <td>A</td>\n",
              "    </tr>\n",
              "    <tr>\n",
              "      <th>5666</th>\n",
              "      <td>@zqkitowz sei das cotas, mas não sabia disso, ...</td>\n",
              "      <td>1</td>\n",
              "      <td>1</td>\n",
              "      <td>D</td>\n",
              "      <td>1.0</td>\n",
              "      <td>It</td>\n",
              "      <td>0</td>\n",
              "      <td>A</td>\n",
              "    </tr>\n",
              "    <tr>\n",
              "      <th>5667</th>\n",
              "      <td>@zqkitowz sim, a maioria do eleitorado é mulhe...</td>\n",
              "      <td>0</td>\n",
              "      <td>0</td>\n",
              "      <td>C</td>\n",
              "      <td>0.0</td>\n",
              "      <td>V</td>\n",
              "      <td>0</td>\n",
              "      <td>C</td>\n",
              "    </tr>\n",
              "    <tr>\n",
              "      <th>5668</th>\n",
              "      <td>@zurcju seguir no tt é facíl, apresentar as am...</td>\n",
              "      <td>1</td>\n",
              "      <td>1</td>\n",
              "      <td>C</td>\n",
              "      <td>1.0</td>\n",
              "      <td>S</td>\n",
              "      <td>0</td>\n",
              "      <td>A</td>\n",
              "    </tr>\n",
              "    <tr>\n",
              "      <th>5669</th>\n",
              "      <td>na vdd a culpa é do menino de 11 anos otário q...</td>\n",
              "      <td>1</td>\n",
              "      <td>1</td>\n",
              "      <td>E</td>\n",
              "      <td>1.0</td>\n",
              "      <td>It</td>\n",
              "      <td>0</td>\n",
              "      <td>D</td>\n",
              "    </tr>\n",
              "  </tbody>\n",
              "</table>\n",
              "<p>5670 rows × 8 columns</p>\n",
              "</div>\n",
              "      <button class=\"colab-df-convert\" onclick=\"convertToInteractive('df-6e37e086-8953-40ed-9b9a-6f2194956c73')\"\n",
              "              title=\"Convert this dataframe to an interactive table.\"\n",
              "              style=\"display:none;\">\n",
              "        \n",
              "  <svg xmlns=\"http://www.w3.org/2000/svg\" height=\"24px\"viewBox=\"0 0 24 24\"\n",
              "       width=\"24px\">\n",
              "    <path d=\"M0 0h24v24H0V0z\" fill=\"none\"/>\n",
              "    <path d=\"M18.56 5.44l.94 2.06.94-2.06 2.06-.94-2.06-.94-.94-2.06-.94 2.06-2.06.94zm-11 1L8.5 8.5l.94-2.06 2.06-.94-2.06-.94L8.5 2.5l-.94 2.06-2.06.94zm10 10l.94 2.06.94-2.06 2.06-.94-2.06-.94-.94-2.06-.94 2.06-2.06.94z\"/><path d=\"M17.41 7.96l-1.37-1.37c-.4-.4-.92-.59-1.43-.59-.52 0-1.04.2-1.43.59L10.3 9.45l-7.72 7.72c-.78.78-.78 2.05 0 2.83L4 21.41c.39.39.9.59 1.41.59.51 0 1.02-.2 1.41-.59l7.78-7.78 2.81-2.81c.8-.78.8-2.07 0-2.86zM5.41 20L4 18.59l7.72-7.72 1.47 1.35L5.41 20z\"/>\n",
              "  </svg>\n",
              "      </button>\n",
              "      \n",
              "  <style>\n",
              "    .colab-df-container {\n",
              "      display:flex;\n",
              "      flex-wrap:wrap;\n",
              "      gap: 12px;\n",
              "    }\n",
              "\n",
              "    .colab-df-convert {\n",
              "      background-color: #E8F0FE;\n",
              "      border: none;\n",
              "      border-radius: 50%;\n",
              "      cursor: pointer;\n",
              "      display: none;\n",
              "      fill: #1967D2;\n",
              "      height: 32px;\n",
              "      padding: 0 0 0 0;\n",
              "      width: 32px;\n",
              "    }\n",
              "\n",
              "    .colab-df-convert:hover {\n",
              "      background-color: #E2EBFA;\n",
              "      box-shadow: 0px 1px 2px rgba(60, 64, 67, 0.3), 0px 1px 3px 1px rgba(60, 64, 67, 0.15);\n",
              "      fill: #174EA6;\n",
              "    }\n",
              "\n",
              "    [theme=dark] .colab-df-convert {\n",
              "      background-color: #3B4455;\n",
              "      fill: #D2E3FC;\n",
              "    }\n",
              "\n",
              "    [theme=dark] .colab-df-convert:hover {\n",
              "      background-color: #434B5C;\n",
              "      box-shadow: 0px 1px 3px 1px rgba(0, 0, 0, 0.15);\n",
              "      filter: drop-shadow(0px 1px 2px rgba(0, 0, 0, 0.3));\n",
              "      fill: #FFFFFF;\n",
              "    }\n",
              "  </style>\n",
              "\n",
              "      <script>\n",
              "        const buttonEl =\n",
              "          document.querySelector('#df-6e37e086-8953-40ed-9b9a-6f2194956c73 button.colab-df-convert');\n",
              "        buttonEl.style.display =\n",
              "          google.colab.kernel.accessAllowed ? 'block' : 'none';\n",
              "\n",
              "        async function convertToInteractive(key) {\n",
              "          const element = document.querySelector('#df-6e37e086-8953-40ed-9b9a-6f2194956c73');\n",
              "          const dataTable =\n",
              "            await google.colab.kernel.invokeFunction('convertToInteractive',\n",
              "                                                     [key], {});\n",
              "          if (!dataTable) return;\n",
              "\n",
              "          const docLinkHtml = 'Like what you see? Visit the ' +\n",
              "            '<a target=\"_blank\" href=https://colab.research.google.com/notebooks/data_table.ipynb>data table notebook</a>'\n",
              "            + ' to learn more about interactive tables.';\n",
              "          element.innerHTML = '';\n",
              "          dataTable['output_type'] = 'display_data';\n",
              "          await google.colab.output.renderOutput(dataTable, element);\n",
              "          const docLink = document.createElement('div');\n",
              "          docLink.innerHTML = docLinkHtml;\n",
              "          element.appendChild(docLink);\n",
              "        }\n",
              "      </script>\n",
              "    </div>\n",
              "  </div>\n",
              "  "
            ]
          },
          "metadata": {},
          "execution_count": 115
        }
      ],
      "source": [
        "base_hate_speech_binary"
      ]
    },
    {
      "cell_type": "code",
      "execution_count": 116,
      "metadata": {
        "id": "1EwtHXpYcJ6J",
        "colab": {
          "base_uri": "https://localhost:8080/"
        },
        "outputId": "d98a3af3-c640-4a77-d837-c9f137b63d77"
      },
      "outputs": [
        {
          "output_type": "execute_result",
          "data": {
            "text/plain": [
              "0    3882\n",
              "1    1788\n",
              "Name: hatespeech_comb, dtype: int64"
            ]
          },
          "metadata": {},
          "execution_count": 116
        }
      ],
      "source": [
        "base_hate_speech_binary['hatespeech_comb'].value_counts() "
      ]
    },
    {
      "cell_type": "code",
      "execution_count": 117,
      "metadata": {
        "id": "KvZyzI681Vtm"
      },
      "outputs": [],
      "source": [
        "comments = [] \n",
        "stop_words = set(stopwords.words('portuguese')) #setando o banco de stopwords em PT-BR\n",
        "\n",
        "for words in base_hate_speech_binary['text']:\n",
        "  only_latters =re.sub(\"[^a-zA-Z]\", \" \", words) # somente letras\n",
        "  tokens = nltk.word_tokenize(only_latters) # tokenize the sentence \n",
        "  lower_case = [l.lower() for l in tokens] # converter all letters to low case \n",
        "  filtered_result = list(filter(lambda l: l not in stop_words, lower_case)) # Remove stopwords from the comments\n",
        "  comments.append(' '.join(filtered_result))"
      ]
    },
    {
      "cell_type": "code",
      "execution_count": 118,
      "metadata": {
        "id": "9xGQKzBz1bDU",
        "colab": {
          "base_uri": "https://localhost:8080/"
        },
        "outputId": "8cadcd27-0f00-492c-c23d-855a97fa9aeb"
      },
      "outputs": [
        {
          "output_type": "stream",
          "name": "stderr",
          "text": [
            "/usr/local/lib/python3.8/dist-packages/sklearn/utils/deprecation.py:87: FutureWarning: Function get_feature_names is deprecated; get_feature_names is deprecated in 1.0 and will be removed in 1.2. Please use get_feature_names_out instead.\n",
            "  warnings.warn(msg, category=FutureWarning)\n"
          ]
        }
      ],
      "source": [
        "#using CountVectorizer to get the most important unigrams\n",
        "co = CountVectorizer(ngram_range=(1,1))\n",
        "count = co.fit_transform(comments)\n",
        "important_unigrams =pd.DataFrame(count.sum(axis=0), columns=co.get_feature_names()).T.sort_values(0, ascending = False)"
      ]
    },
    {
      "cell_type": "code",
      "execution_count": 119,
      "metadata": {
        "id": "M8JeWudx12qP",
        "colab": {
          "base_uri": "https://localhost:8080/",
          "height": 206
        },
        "outputId": "e1c01102-6028-4172-e833-f2597722e6b2"
      },
      "outputs": [
        {
          "output_type": "execute_result",
          "data": {
            "text/plain": [
              "           0\n",
              "co      2424\n",
              "https   2348\n",
              "rt      1134\n",
              "mulher   516\n",
              "pra      491"
            ],
            "text/html": [
              "\n",
              "  <div id=\"df-5c80df2c-4371-4c05-8cf8-031c0203a7a2\">\n",
              "    <div class=\"colab-df-container\">\n",
              "      <div>\n",
              "<style scoped>\n",
              "    .dataframe tbody tr th:only-of-type {\n",
              "        vertical-align: middle;\n",
              "    }\n",
              "\n",
              "    .dataframe tbody tr th {\n",
              "        vertical-align: top;\n",
              "    }\n",
              "\n",
              "    .dataframe thead th {\n",
              "        text-align: right;\n",
              "    }\n",
              "</style>\n",
              "<table border=\"1\" class=\"dataframe\">\n",
              "  <thead>\n",
              "    <tr style=\"text-align: right;\">\n",
              "      <th></th>\n",
              "      <th>0</th>\n",
              "    </tr>\n",
              "  </thead>\n",
              "  <tbody>\n",
              "    <tr>\n",
              "      <th>co</th>\n",
              "      <td>2424</td>\n",
              "    </tr>\n",
              "    <tr>\n",
              "      <th>https</th>\n",
              "      <td>2348</td>\n",
              "    </tr>\n",
              "    <tr>\n",
              "      <th>rt</th>\n",
              "      <td>1134</td>\n",
              "    </tr>\n",
              "    <tr>\n",
              "      <th>mulher</th>\n",
              "      <td>516</td>\n",
              "    </tr>\n",
              "    <tr>\n",
              "      <th>pra</th>\n",
              "      <td>491</td>\n",
              "    </tr>\n",
              "  </tbody>\n",
              "</table>\n",
              "</div>\n",
              "      <button class=\"colab-df-convert\" onclick=\"convertToInteractive('df-5c80df2c-4371-4c05-8cf8-031c0203a7a2')\"\n",
              "              title=\"Convert this dataframe to an interactive table.\"\n",
              "              style=\"display:none;\">\n",
              "        \n",
              "  <svg xmlns=\"http://www.w3.org/2000/svg\" height=\"24px\"viewBox=\"0 0 24 24\"\n",
              "       width=\"24px\">\n",
              "    <path d=\"M0 0h24v24H0V0z\" fill=\"none\"/>\n",
              "    <path d=\"M18.56 5.44l.94 2.06.94-2.06 2.06-.94-2.06-.94-.94-2.06-.94 2.06-2.06.94zm-11 1L8.5 8.5l.94-2.06 2.06-.94-2.06-.94L8.5 2.5l-.94 2.06-2.06.94zm10 10l.94 2.06.94-2.06 2.06-.94-2.06-.94-.94-2.06-.94 2.06-2.06.94z\"/><path d=\"M17.41 7.96l-1.37-1.37c-.4-.4-.92-.59-1.43-.59-.52 0-1.04.2-1.43.59L10.3 9.45l-7.72 7.72c-.78.78-.78 2.05 0 2.83L4 21.41c.39.39.9.59 1.41.59.51 0 1.02-.2 1.41-.59l7.78-7.78 2.81-2.81c.8-.78.8-2.07 0-2.86zM5.41 20L4 18.59l7.72-7.72 1.47 1.35L5.41 20z\"/>\n",
              "  </svg>\n",
              "      </button>\n",
              "      \n",
              "  <style>\n",
              "    .colab-df-container {\n",
              "      display:flex;\n",
              "      flex-wrap:wrap;\n",
              "      gap: 12px;\n",
              "    }\n",
              "\n",
              "    .colab-df-convert {\n",
              "      background-color: #E8F0FE;\n",
              "      border: none;\n",
              "      border-radius: 50%;\n",
              "      cursor: pointer;\n",
              "      display: none;\n",
              "      fill: #1967D2;\n",
              "      height: 32px;\n",
              "      padding: 0 0 0 0;\n",
              "      width: 32px;\n",
              "    }\n",
              "\n",
              "    .colab-df-convert:hover {\n",
              "      background-color: #E2EBFA;\n",
              "      box-shadow: 0px 1px 2px rgba(60, 64, 67, 0.3), 0px 1px 3px 1px rgba(60, 64, 67, 0.15);\n",
              "      fill: #174EA6;\n",
              "    }\n",
              "\n",
              "    [theme=dark] .colab-df-convert {\n",
              "      background-color: #3B4455;\n",
              "      fill: #D2E3FC;\n",
              "    }\n",
              "\n",
              "    [theme=dark] .colab-df-convert:hover {\n",
              "      background-color: #434B5C;\n",
              "      box-shadow: 0px 1px 3px 1px rgba(0, 0, 0, 0.15);\n",
              "      filter: drop-shadow(0px 1px 2px rgba(0, 0, 0, 0.3));\n",
              "      fill: #FFFFFF;\n",
              "    }\n",
              "  </style>\n",
              "\n",
              "      <script>\n",
              "        const buttonEl =\n",
              "          document.querySelector('#df-5c80df2c-4371-4c05-8cf8-031c0203a7a2 button.colab-df-convert');\n",
              "        buttonEl.style.display =\n",
              "          google.colab.kernel.accessAllowed ? 'block' : 'none';\n",
              "\n",
              "        async function convertToInteractive(key) {\n",
              "          const element = document.querySelector('#df-5c80df2c-4371-4c05-8cf8-031c0203a7a2');\n",
              "          const dataTable =\n",
              "            await google.colab.kernel.invokeFunction('convertToInteractive',\n",
              "                                                     [key], {});\n",
              "          if (!dataTable) return;\n",
              "\n",
              "          const docLinkHtml = 'Like what you see? Visit the ' +\n",
              "            '<a target=\"_blank\" href=https://colab.research.google.com/notebooks/data_table.ipynb>data table notebook</a>'\n",
              "            + ' to learn more about interactive tables.';\n",
              "          element.innerHTML = '';\n",
              "          dataTable['output_type'] = 'display_data';\n",
              "          await google.colab.output.renderOutput(dataTable, element);\n",
              "          const docLink = document.createElement('div');\n",
              "          docLink.innerHTML = docLinkHtml;\n",
              "          element.appendChild(docLink);\n",
              "        }\n",
              "      </script>\n",
              "    </div>\n",
              "  </div>\n",
              "  "
            ]
          },
          "metadata": {},
          "execution_count": 119
        }
      ],
      "source": [
        "important_unigrams[:5]"
      ]
    },
    {
      "cell_type": "code",
      "execution_count": 120,
      "metadata": {
        "id": "SFA14iOL1_J8",
        "colab": {
          "base_uri": "https://localhost:8080/"
        },
        "outputId": "1832b7cd-fe00-4618-c14e-fac3c3792c8c"
      },
      "outputs": [
        {
          "output_type": "stream",
          "name": "stderr",
          "text": [
            "/usr/local/lib/python3.8/dist-packages/sklearn/utils/deprecation.py:87: FutureWarning: Function get_feature_names is deprecated; get_feature_names is deprecated in 1.0 and will be removed in 1.2. Please use get_feature_names_out instead.\n",
            "  warnings.warn(msg, category=FutureWarning)\n"
          ]
        }
      ],
      "source": [
        "#using CountVectorizer to get the most important unigrams\n",
        "co = CountVectorizer(ngram_range=(1,1))\n",
        "count = co.fit_transform(base_hate_speech_binary['text'])\n",
        "important_unigrams =pd.DataFrame(count.sum(axis=0), columns=co.get_feature_names()).T.sort_values(0, ascending = False)"
      ]
    },
    {
      "cell_type": "code",
      "execution_count": 121,
      "metadata": {
        "id": "aGBFvShD2JEX",
        "colab": {
          "base_uri": "https://localhost:8080/",
          "height": 206
        },
        "outputId": "0ec8d688-2b03-41bf-ce5c-63fd9f695488"
      },
      "outputs": [
        {
          "output_type": "execute_result",
          "data": {
            "text/plain": [
              "          0\n",
              "de     2457\n",
              "co     2421\n",
              "https  2338\n",
              "que    2141\n",
              "não    1644"
            ],
            "text/html": [
              "\n",
              "  <div id=\"df-b992b17a-4dd6-41d0-9f13-792bf2ec23f0\">\n",
              "    <div class=\"colab-df-container\">\n",
              "      <div>\n",
              "<style scoped>\n",
              "    .dataframe tbody tr th:only-of-type {\n",
              "        vertical-align: middle;\n",
              "    }\n",
              "\n",
              "    .dataframe tbody tr th {\n",
              "        vertical-align: top;\n",
              "    }\n",
              "\n",
              "    .dataframe thead th {\n",
              "        text-align: right;\n",
              "    }\n",
              "</style>\n",
              "<table border=\"1\" class=\"dataframe\">\n",
              "  <thead>\n",
              "    <tr style=\"text-align: right;\">\n",
              "      <th></th>\n",
              "      <th>0</th>\n",
              "    </tr>\n",
              "  </thead>\n",
              "  <tbody>\n",
              "    <tr>\n",
              "      <th>de</th>\n",
              "      <td>2457</td>\n",
              "    </tr>\n",
              "    <tr>\n",
              "      <th>co</th>\n",
              "      <td>2421</td>\n",
              "    </tr>\n",
              "    <tr>\n",
              "      <th>https</th>\n",
              "      <td>2338</td>\n",
              "    </tr>\n",
              "    <tr>\n",
              "      <th>que</th>\n",
              "      <td>2141</td>\n",
              "    </tr>\n",
              "    <tr>\n",
              "      <th>não</th>\n",
              "      <td>1644</td>\n",
              "    </tr>\n",
              "  </tbody>\n",
              "</table>\n",
              "</div>\n",
              "      <button class=\"colab-df-convert\" onclick=\"convertToInteractive('df-b992b17a-4dd6-41d0-9f13-792bf2ec23f0')\"\n",
              "              title=\"Convert this dataframe to an interactive table.\"\n",
              "              style=\"display:none;\">\n",
              "        \n",
              "  <svg xmlns=\"http://www.w3.org/2000/svg\" height=\"24px\"viewBox=\"0 0 24 24\"\n",
              "       width=\"24px\">\n",
              "    <path d=\"M0 0h24v24H0V0z\" fill=\"none\"/>\n",
              "    <path d=\"M18.56 5.44l.94 2.06.94-2.06 2.06-.94-2.06-.94-.94-2.06-.94 2.06-2.06.94zm-11 1L8.5 8.5l.94-2.06 2.06-.94-2.06-.94L8.5 2.5l-.94 2.06-2.06.94zm10 10l.94 2.06.94-2.06 2.06-.94-2.06-.94-.94-2.06-.94 2.06-2.06.94z\"/><path d=\"M17.41 7.96l-1.37-1.37c-.4-.4-.92-.59-1.43-.59-.52 0-1.04.2-1.43.59L10.3 9.45l-7.72 7.72c-.78.78-.78 2.05 0 2.83L4 21.41c.39.39.9.59 1.41.59.51 0 1.02-.2 1.41-.59l7.78-7.78 2.81-2.81c.8-.78.8-2.07 0-2.86zM5.41 20L4 18.59l7.72-7.72 1.47 1.35L5.41 20z\"/>\n",
              "  </svg>\n",
              "      </button>\n",
              "      \n",
              "  <style>\n",
              "    .colab-df-container {\n",
              "      display:flex;\n",
              "      flex-wrap:wrap;\n",
              "      gap: 12px;\n",
              "    }\n",
              "\n",
              "    .colab-df-convert {\n",
              "      background-color: #E8F0FE;\n",
              "      border: none;\n",
              "      border-radius: 50%;\n",
              "      cursor: pointer;\n",
              "      display: none;\n",
              "      fill: #1967D2;\n",
              "      height: 32px;\n",
              "      padding: 0 0 0 0;\n",
              "      width: 32px;\n",
              "    }\n",
              "\n",
              "    .colab-df-convert:hover {\n",
              "      background-color: #E2EBFA;\n",
              "      box-shadow: 0px 1px 2px rgba(60, 64, 67, 0.3), 0px 1px 3px 1px rgba(60, 64, 67, 0.15);\n",
              "      fill: #174EA6;\n",
              "    }\n",
              "\n",
              "    [theme=dark] .colab-df-convert {\n",
              "      background-color: #3B4455;\n",
              "      fill: #D2E3FC;\n",
              "    }\n",
              "\n",
              "    [theme=dark] .colab-df-convert:hover {\n",
              "      background-color: #434B5C;\n",
              "      box-shadow: 0px 1px 3px 1px rgba(0, 0, 0, 0.15);\n",
              "      filter: drop-shadow(0px 1px 2px rgba(0, 0, 0, 0.3));\n",
              "      fill: #FFFFFF;\n",
              "    }\n",
              "  </style>\n",
              "\n",
              "      <script>\n",
              "        const buttonEl =\n",
              "          document.querySelector('#df-b992b17a-4dd6-41d0-9f13-792bf2ec23f0 button.colab-df-convert');\n",
              "        buttonEl.style.display =\n",
              "          google.colab.kernel.accessAllowed ? 'block' : 'none';\n",
              "\n",
              "        async function convertToInteractive(key) {\n",
              "          const element = document.querySelector('#df-b992b17a-4dd6-41d0-9f13-792bf2ec23f0');\n",
              "          const dataTable =\n",
              "            await google.colab.kernel.invokeFunction('convertToInteractive',\n",
              "                                                     [key], {});\n",
              "          if (!dataTable) return;\n",
              "\n",
              "          const docLinkHtml = 'Like what you see? Visit the ' +\n",
              "            '<a target=\"_blank\" href=https://colab.research.google.com/notebooks/data_table.ipynb>data table notebook</a>'\n",
              "            + ' to learn more about interactive tables.';\n",
              "          element.innerHTML = '';\n",
              "          dataTable['output_type'] = 'display_data';\n",
              "          await google.colab.output.renderOutput(dataTable, element);\n",
              "          const docLink = document.createElement('div');\n",
              "          docLink.innerHTML = docLinkHtml;\n",
              "          element.appendChild(docLink);\n",
              "        }\n",
              "      </script>\n",
              "    </div>\n",
              "  </div>\n",
              "  "
            ]
          },
          "metadata": {},
          "execution_count": 121
        }
      ],
      "source": [
        "important_unigrams[:5]"
      ]
    },
    {
      "cell_type": "code",
      "execution_count": 122,
      "metadata": {
        "id": "wrBTUUQL44JM",
        "colab": {
          "base_uri": "https://localhost:8080/"
        },
        "outputId": "79ec07c3-442b-4a9f-fd47-b66f127445d5"
      },
      "outputs": [
        {
          "output_type": "stream",
          "name": "stdout",
          "text": [
            "Quantidade de palavras com Stopwords: 88619 palavras\n",
            "Quantidade de palavras sem Stopwords: 71717 palavras\n"
          ]
        }
      ],
      "source": [
        "lista_quantidade_palavras_base_hate_speech_binary_com_sw = []\n",
        "quantidade_palavras_com_sw = 0\n",
        "for texto in base_hate_speech_binary['text']:\n",
        "  palavras = texto.split(' ')\n",
        "  lista_quantidade_palavras_base_hate_speech_binary_com_sw.append(len(palavras))\n",
        "  quantidade_palavras_com_sw += len(palavras)\n",
        "\n",
        "lista_quantidade_palavras_base_hate_speech_binary_sem_sw = []\n",
        "quantidade_palavras_sem_sw = 0\n",
        "for texto in comments:\n",
        "  palavras = texto.split(' ')\n",
        "  lista_quantidade_palavras_base_hate_speech_binary_sem_sw.append(len(palavras))\n",
        "  quantidade_palavras_sem_sw += len(palavras)\n",
        "\n",
        "\n",
        "print(f'Quantidade de palavras com Stopwords: {quantidade_palavras_com_sw} palavras')\n",
        "print(f'Quantidade de palavras sem Stopwords: {quantidade_palavras_sem_sw} palavras')"
      ]
    },
    {
      "cell_type": "code",
      "source": [
        "tam_base = len( base_hate_speech_binary['text'])\n",
        "\n",
        "print(f'Tamanho médio da base com Stop Words: {round(quantidade_palavras_com_sw/tam_base, 2)} ')\n",
        "print(f'Tamanho médio da base sem Stop Words: {round(quantidade_palavras_sem_sw/tam_base, 2)} \\n')\n",
        "\n",
        "print(f'Desvio padrão da base sem Stop Words: {round(np.std(lista_quantidade_palavras_base_hate_speech_binary_com_sw),2)}')\n",
        "print(f'Desvio padrão da base com Stop Words: {round(np.std(lista_quantidade_palavras_base_hate_speech_binary_sem_sw),2)}')\n"
      ],
      "metadata": {
        "colab": {
          "base_uri": "https://localhost:8080/"
        },
        "id": "zDJniauDu6K_",
        "outputId": "c5f8af82-b55a-4c9e-f681-cd3adce52f52"
      },
      "execution_count": 123,
      "outputs": [
        {
          "output_type": "stream",
          "name": "stdout",
          "text": [
            "Tamanho médio da base com Stop Words: 15.63 \n",
            "Tamanho médio da base sem Stop Words: 12.65 \n",
            "\n",
            "Desvio padrão da base sem Stop Words: 6.37\n",
            "Desvio padrão da base com Stop Words: 4.64\n"
          ]
        }
      ]
    },
    {
      "cell_type": "markdown",
      "source": [
        "**tamanho médio e desvio padrão dos textos em termos do número de palavras para cada categoria**"
      ],
      "metadata": {
        "id": "hyop7aNyb8yb"
      }
    },
    {
      "cell_type": "markdown",
      "source": [
        "Com discurso de ódio"
      ],
      "metadata": {
        "id": "ItjlWLGsdc_I"
      }
    },
    {
      "cell_type": "code",
      "source": [
        "com_odio = base_hate_speech_binary.loc[base_hate_speech_binary['hatespeech_comb'] == 1 ] #Pegando apenas as informações com discurso de ódio \n",
        "\n",
        "comentarios_com_odio = [] \n",
        "stop_words = set(stopwords.words('portuguese')) #setando o banco de stopwords em PT-BR\n",
        "\n",
        "for words in com_odio['text']:\n",
        "  only_latters =re.sub(\"[^a-zA-Z]\", \" \", words) # somente letras\n",
        "  tokens = nltk.word_tokenize(only_latters) # tokenize the sentence \n",
        "  lower_case = [l.lower() for l in tokens] # converter all letters to low case \n",
        "  filtered_result = list(filter(lambda l: l not in stop_words, lower_case)) # Remove stopwords from the comments\n",
        "  comentarios_com_odio.append(' '.join(filtered_result))\n",
        "\n",
        "\n",
        "lista_quantidade_palavras = []\n",
        "quantidade_palavras = 0\n",
        "for texto in comentarios_com_odio:\n",
        "  palavras = texto.split(' ')\n",
        "  lista_quantidade_palavras.append(len(palavras))\n",
        "  quantidade_palavras += len(palavras)\n",
        "\n",
        "print(f'Quantidade de palavras para texto rotulados como discurso de ódio : {quantidade_palavras} palavras')\n",
        "print(f'Tamanho médio da base para comentários rotulados como discurso de ódio: {round(quantidade_palavras/len(lista_quantidade_palavras), 2)} ')\n",
        "print(f'Desvio padrão: {round(np.std(lista_quantidade_palavras),2)}')\n"
      ],
      "metadata": {
        "colab": {
          "base_uri": "https://localhost:8080/"
        },
        "id": "Dv8hrXlZcCQl",
        "outputId": "00bdfba8-eb28-4a67-ec94-7ecad6189d7e"
      },
      "execution_count": 124,
      "outputs": [
        {
          "output_type": "stream",
          "name": "stdout",
          "text": [
            "Quantidade de palavras para texto rotulados como discurso de ódio : 22335 palavras\n",
            "Tamanho médio da base para comentários rotulados como discurso de ódio: 12.49 \n",
            "Desvio padrão: 4.69\n"
          ]
        }
      ]
    },
    {
      "cell_type": "markdown",
      "source": [
        "Sem discurso de ódio"
      ],
      "metadata": {
        "id": "1CwQd2qsdihj"
      }
    },
    {
      "cell_type": "code",
      "source": [
        "sem_odio = base_hate_speech_binary.loc[base_hate_speech_binary['hatespeech_comb'] == 0 ] #Pegando apenas as informações com discurso de ódio \n",
        "\n",
        "comentarios_sem_odio = [] \n",
        "stop_words = set(stopwords.words('portuguese')) #setando o banco de stopwords em PT-BR\n",
        "\n",
        "for words in sem_odio['text']:\n",
        "  only_latters =re.sub(\"[^a-zA-Z]\", \" \", words) # somente letras\n",
        "  tokens = nltk.word_tokenize(only_latters) # tokenize the sentence \n",
        "  lower_case = [l.lower() for l in tokens] # converter all letters to low case \n",
        "  filtered_result = list(filter(lambda l: l not in stop_words, lower_case)) # Remove stopwords from the comments\n",
        "  comentarios_sem_odio.append(' '.join(filtered_result))\n",
        "\n",
        "\n",
        "lista_quantidade_palavras = []\n",
        "quantidade_palavras = 0\n",
        "for texto in comentarios_sem_odio:\n",
        "  palavras = texto.split(' ')\n",
        "  lista_quantidade_palavras.append(len(palavras))\n",
        "  quantidade_palavras += len(palavras)\n",
        "\n",
        "print(f'Quantidade de palavras para texto rotulados como sem discurso de ódio : {quantidade_palavras} palavras')\n",
        "print(f'Tamanho médio da base para comentários rotulados como sem discurso de ódio: {round(quantidade_palavras/len(lista_quantidade_palavras), 2)} ')\n",
        "print(f'Desvio padrão: {round(np.std(lista_quantidade_palavras),2)}')\n"
      ],
      "metadata": {
        "colab": {
          "base_uri": "https://localhost:8080/"
        },
        "id": "7nd0yYX9dmeq",
        "outputId": "298d2eda-d4c2-4c8a-d9e6-89d1bf0d78ba"
      },
      "execution_count": 125,
      "outputs": [
        {
          "output_type": "stream",
          "name": "stdout",
          "text": [
            "Quantidade de palavras para texto rotulados como sem discurso de ódio : 49382 palavras\n",
            "Tamanho médio da base para comentários rotulados como sem discurso de ódio: 12.72 \n",
            "Desvio padrão: 4.61\n"
          ]
        }
      ]
    },
    {
      "cell_type": "code",
      "execution_count": 126,
      "metadata": {
        "id": "fHuD05UqAsry"
      },
      "outputs": [],
      "source": [
        "hate_speech_hierarchical = pd.read_csv('/content/drive/MyDrive/Dataset/2019-05-28_portuguese_hate_speech_hierarchical_classification.csv')"
      ]
    },
    {
      "cell_type": "code",
      "execution_count": 127,
      "metadata": {
        "id": "3mho89VlBAf6",
        "colab": {
          "base_uri": "https://localhost:8080/",
          "height": 606
        },
        "outputId": "2a97c365-e5a4-4645-838d-41070935bb15"
      },
      "outputs": [
        {
          "output_type": "execute_result",
          "data": {
            "text/plain": [
              "                                                   text  Hate.speech  Sexism  \\\n",
              "0                      \"não come mel, morde marimbondo\"            0       0   \n",
              "1                          não tem pinto, tem orgulho !            0       0   \n",
              "2     Não vê essa merda de Crepúsculo! Pra isso temo...            0       0   \n",
              "3     não da tapa na bundinha, da cotovelada nas cos...            0       0   \n",
              "4     o diminutivo INHO não acompanha a trajetória d...            1       1   \n",
              "...                                                 ...          ...     ...   \n",
              "5663  Na minha sala só tem viado e sapatão  e a cois...            1       0   \n",
              "5664  PARABENS SAPATÃO SDDS @attomiter https://t.co/...            1       0   \n",
              "5665  RT @toquedeveludo: Agora um poema:\\nEu sou sap...            1       0   \n",
              "5666  O mundo das sapatao é mais ligado do que eu im...            1       0   \n",
              "5667  Gente, sapatão é uma coisa q me assusta https:...            1       0   \n",
              "\n",
              "      Body  Racism  Ideology  Homophobia  Origin  Religion  Health  ...  \\\n",
              "0        0       0         0           0       0         0       0  ...   \n",
              "1        0       0         0           0       0         0       0  ...   \n",
              "2        0       0         0           0       0         0       0  ...   \n",
              "3        0       0         0           0       0         0       0  ...   \n",
              "4        0       0         0           0       0         0       0  ...   \n",
              "...    ...     ...       ...         ...     ...       ...     ...  ...   \n",
              "5663     0       0         0           1       0         0       0  ...   \n",
              "5664     0       0         0           1       0         0       0  ...   \n",
              "5665     0       0         0           1       0         0       0  ...   \n",
              "5666     0       0         0           1       0         0       0  ...   \n",
              "5667     0       0         0           1       0         0       0  ...   \n",
              "\n",
              "      Thin.women  Arabic  East.europeans  Africans  South.Americans  \\\n",
              "0              0       0               0         0                0   \n",
              "1              0       0               0         0                0   \n",
              "2              0       0               0         0                0   \n",
              "3              0       0               0         0                0   \n",
              "4              0       0               0         0                0   \n",
              "...          ...     ...             ...       ...              ...   \n",
              "5663           0       0               0         0                0   \n",
              "5664           0       0               0         0                0   \n",
              "5665           0       0               0         0                0   \n",
              "5666           0       0               0         0                0   \n",
              "5667           0       0               0         0                0   \n",
              "\n",
              "      Brazilians  Migrants  Homossexuals  Thin.people  Ageing  \n",
              "0              0         0             0            0       0  \n",
              "1              0         0             0            0       0  \n",
              "2              0         0             0            0       0  \n",
              "3              0         0             0            0       0  \n",
              "4              0         0             0            0       0  \n",
              "...          ...       ...           ...          ...     ...  \n",
              "5663           0         0             1            0       0  \n",
              "5664           0         0             1            0       0  \n",
              "5665           0         0             1            0       0  \n",
              "5666           0         0             1            0       0  \n",
              "5667           0         0             1            0       0  \n",
              "\n",
              "[5668 rows x 80 columns]"
            ],
            "text/html": [
              "\n",
              "  <div id=\"df-33cface0-2f45-4de4-a826-146289ce3f27\">\n",
              "    <div class=\"colab-df-container\">\n",
              "      <div>\n",
              "<style scoped>\n",
              "    .dataframe tbody tr th:only-of-type {\n",
              "        vertical-align: middle;\n",
              "    }\n",
              "\n",
              "    .dataframe tbody tr th {\n",
              "        vertical-align: top;\n",
              "    }\n",
              "\n",
              "    .dataframe thead th {\n",
              "        text-align: right;\n",
              "    }\n",
              "</style>\n",
              "<table border=\"1\" class=\"dataframe\">\n",
              "  <thead>\n",
              "    <tr style=\"text-align: right;\">\n",
              "      <th></th>\n",
              "      <th>text</th>\n",
              "      <th>Hate.speech</th>\n",
              "      <th>Sexism</th>\n",
              "      <th>Body</th>\n",
              "      <th>Racism</th>\n",
              "      <th>Ideology</th>\n",
              "      <th>Homophobia</th>\n",
              "      <th>Origin</th>\n",
              "      <th>Religion</th>\n",
              "      <th>Health</th>\n",
              "      <th>...</th>\n",
              "      <th>Thin.women</th>\n",
              "      <th>Arabic</th>\n",
              "      <th>East.europeans</th>\n",
              "      <th>Africans</th>\n",
              "      <th>South.Americans</th>\n",
              "      <th>Brazilians</th>\n",
              "      <th>Migrants</th>\n",
              "      <th>Homossexuals</th>\n",
              "      <th>Thin.people</th>\n",
              "      <th>Ageing</th>\n",
              "    </tr>\n",
              "  </thead>\n",
              "  <tbody>\n",
              "    <tr>\n",
              "      <th>0</th>\n",
              "      <td>\"não come mel, morde marimbondo\"</td>\n",
              "      <td>0</td>\n",
              "      <td>0</td>\n",
              "      <td>0</td>\n",
              "      <td>0</td>\n",
              "      <td>0</td>\n",
              "      <td>0</td>\n",
              "      <td>0</td>\n",
              "      <td>0</td>\n",
              "      <td>0</td>\n",
              "      <td>...</td>\n",
              "      <td>0</td>\n",
              "      <td>0</td>\n",
              "      <td>0</td>\n",
              "      <td>0</td>\n",
              "      <td>0</td>\n",
              "      <td>0</td>\n",
              "      <td>0</td>\n",
              "      <td>0</td>\n",
              "      <td>0</td>\n",
              "      <td>0</td>\n",
              "    </tr>\n",
              "    <tr>\n",
              "      <th>1</th>\n",
              "      <td>não tem pinto, tem orgulho !</td>\n",
              "      <td>0</td>\n",
              "      <td>0</td>\n",
              "      <td>0</td>\n",
              "      <td>0</td>\n",
              "      <td>0</td>\n",
              "      <td>0</td>\n",
              "      <td>0</td>\n",
              "      <td>0</td>\n",
              "      <td>0</td>\n",
              "      <td>...</td>\n",
              "      <td>0</td>\n",
              "      <td>0</td>\n",
              "      <td>0</td>\n",
              "      <td>0</td>\n",
              "      <td>0</td>\n",
              "      <td>0</td>\n",
              "      <td>0</td>\n",
              "      <td>0</td>\n",
              "      <td>0</td>\n",
              "      <td>0</td>\n",
              "    </tr>\n",
              "    <tr>\n",
              "      <th>2</th>\n",
              "      <td>Não vê essa merda de Crepúsculo! Pra isso temo...</td>\n",
              "      <td>0</td>\n",
              "      <td>0</td>\n",
              "      <td>0</td>\n",
              "      <td>0</td>\n",
              "      <td>0</td>\n",
              "      <td>0</td>\n",
              "      <td>0</td>\n",
              "      <td>0</td>\n",
              "      <td>0</td>\n",
              "      <td>...</td>\n",
              "      <td>0</td>\n",
              "      <td>0</td>\n",
              "      <td>0</td>\n",
              "      <td>0</td>\n",
              "      <td>0</td>\n",
              "      <td>0</td>\n",
              "      <td>0</td>\n",
              "      <td>0</td>\n",
              "      <td>0</td>\n",
              "      <td>0</td>\n",
              "    </tr>\n",
              "    <tr>\n",
              "      <th>3</th>\n",
              "      <td>não da tapa na bundinha, da cotovelada nas cos...</td>\n",
              "      <td>0</td>\n",
              "      <td>0</td>\n",
              "      <td>0</td>\n",
              "      <td>0</td>\n",
              "      <td>0</td>\n",
              "      <td>0</td>\n",
              "      <td>0</td>\n",
              "      <td>0</td>\n",
              "      <td>0</td>\n",
              "      <td>...</td>\n",
              "      <td>0</td>\n",
              "      <td>0</td>\n",
              "      <td>0</td>\n",
              "      <td>0</td>\n",
              "      <td>0</td>\n",
              "      <td>0</td>\n",
              "      <td>0</td>\n",
              "      <td>0</td>\n",
              "      <td>0</td>\n",
              "      <td>0</td>\n",
              "    </tr>\n",
              "    <tr>\n",
              "      <th>4</th>\n",
              "      <td>o diminutivo INHO não acompanha a trajetória d...</td>\n",
              "      <td>1</td>\n",
              "      <td>1</td>\n",
              "      <td>0</td>\n",
              "      <td>0</td>\n",
              "      <td>0</td>\n",
              "      <td>0</td>\n",
              "      <td>0</td>\n",
              "      <td>0</td>\n",
              "      <td>0</td>\n",
              "      <td>...</td>\n",
              "      <td>0</td>\n",
              "      <td>0</td>\n",
              "      <td>0</td>\n",
              "      <td>0</td>\n",
              "      <td>0</td>\n",
              "      <td>0</td>\n",
              "      <td>0</td>\n",
              "      <td>0</td>\n",
              "      <td>0</td>\n",
              "      <td>0</td>\n",
              "    </tr>\n",
              "    <tr>\n",
              "      <th>...</th>\n",
              "      <td>...</td>\n",
              "      <td>...</td>\n",
              "      <td>...</td>\n",
              "      <td>...</td>\n",
              "      <td>...</td>\n",
              "      <td>...</td>\n",
              "      <td>...</td>\n",
              "      <td>...</td>\n",
              "      <td>...</td>\n",
              "      <td>...</td>\n",
              "      <td>...</td>\n",
              "      <td>...</td>\n",
              "      <td>...</td>\n",
              "      <td>...</td>\n",
              "      <td>...</td>\n",
              "      <td>...</td>\n",
              "      <td>...</td>\n",
              "      <td>...</td>\n",
              "      <td>...</td>\n",
              "      <td>...</td>\n",
              "      <td>...</td>\n",
              "    </tr>\n",
              "    <tr>\n",
              "      <th>5663</th>\n",
              "      <td>Na minha sala só tem viado e sapatão  e a cois...</td>\n",
              "      <td>1</td>\n",
              "      <td>0</td>\n",
              "      <td>0</td>\n",
              "      <td>0</td>\n",
              "      <td>0</td>\n",
              "      <td>1</td>\n",
              "      <td>0</td>\n",
              "      <td>0</td>\n",
              "      <td>0</td>\n",
              "      <td>...</td>\n",
              "      <td>0</td>\n",
              "      <td>0</td>\n",
              "      <td>0</td>\n",
              "      <td>0</td>\n",
              "      <td>0</td>\n",
              "      <td>0</td>\n",
              "      <td>0</td>\n",
              "      <td>1</td>\n",
              "      <td>0</td>\n",
              "      <td>0</td>\n",
              "    </tr>\n",
              "    <tr>\n",
              "      <th>5664</th>\n",
              "      <td>PARABENS SAPATÃO SDDS @attomiter https://t.co/...</td>\n",
              "      <td>1</td>\n",
              "      <td>0</td>\n",
              "      <td>0</td>\n",
              "      <td>0</td>\n",
              "      <td>0</td>\n",
              "      <td>1</td>\n",
              "      <td>0</td>\n",
              "      <td>0</td>\n",
              "      <td>0</td>\n",
              "      <td>...</td>\n",
              "      <td>0</td>\n",
              "      <td>0</td>\n",
              "      <td>0</td>\n",
              "      <td>0</td>\n",
              "      <td>0</td>\n",
              "      <td>0</td>\n",
              "      <td>0</td>\n",
              "      <td>1</td>\n",
              "      <td>0</td>\n",
              "      <td>0</td>\n",
              "    </tr>\n",
              "    <tr>\n",
              "      <th>5665</th>\n",
              "      <td>RT @toquedeveludo: Agora um poema:\\nEu sou sap...</td>\n",
              "      <td>1</td>\n",
              "      <td>0</td>\n",
              "      <td>0</td>\n",
              "      <td>0</td>\n",
              "      <td>0</td>\n",
              "      <td>1</td>\n",
              "      <td>0</td>\n",
              "      <td>0</td>\n",
              "      <td>0</td>\n",
              "      <td>...</td>\n",
              "      <td>0</td>\n",
              "      <td>0</td>\n",
              "      <td>0</td>\n",
              "      <td>0</td>\n",
              "      <td>0</td>\n",
              "      <td>0</td>\n",
              "      <td>0</td>\n",
              "      <td>1</td>\n",
              "      <td>0</td>\n",
              "      <td>0</td>\n",
              "    </tr>\n",
              "    <tr>\n",
              "      <th>5666</th>\n",
              "      <td>O mundo das sapatao é mais ligado do que eu im...</td>\n",
              "      <td>1</td>\n",
              "      <td>0</td>\n",
              "      <td>0</td>\n",
              "      <td>0</td>\n",
              "      <td>0</td>\n",
              "      <td>1</td>\n",
              "      <td>0</td>\n",
              "      <td>0</td>\n",
              "      <td>0</td>\n",
              "      <td>...</td>\n",
              "      <td>0</td>\n",
              "      <td>0</td>\n",
              "      <td>0</td>\n",
              "      <td>0</td>\n",
              "      <td>0</td>\n",
              "      <td>0</td>\n",
              "      <td>0</td>\n",
              "      <td>1</td>\n",
              "      <td>0</td>\n",
              "      <td>0</td>\n",
              "    </tr>\n",
              "    <tr>\n",
              "      <th>5667</th>\n",
              "      <td>Gente, sapatão é uma coisa q me assusta https:...</td>\n",
              "      <td>1</td>\n",
              "      <td>0</td>\n",
              "      <td>0</td>\n",
              "      <td>0</td>\n",
              "      <td>0</td>\n",
              "      <td>1</td>\n",
              "      <td>0</td>\n",
              "      <td>0</td>\n",
              "      <td>0</td>\n",
              "      <td>...</td>\n",
              "      <td>0</td>\n",
              "      <td>0</td>\n",
              "      <td>0</td>\n",
              "      <td>0</td>\n",
              "      <td>0</td>\n",
              "      <td>0</td>\n",
              "      <td>0</td>\n",
              "      <td>1</td>\n",
              "      <td>0</td>\n",
              "      <td>0</td>\n",
              "    </tr>\n",
              "  </tbody>\n",
              "</table>\n",
              "<p>5668 rows × 80 columns</p>\n",
              "</div>\n",
              "      <button class=\"colab-df-convert\" onclick=\"convertToInteractive('df-33cface0-2f45-4de4-a826-146289ce3f27')\"\n",
              "              title=\"Convert this dataframe to an interactive table.\"\n",
              "              style=\"display:none;\">\n",
              "        \n",
              "  <svg xmlns=\"http://www.w3.org/2000/svg\" height=\"24px\"viewBox=\"0 0 24 24\"\n",
              "       width=\"24px\">\n",
              "    <path d=\"M0 0h24v24H0V0z\" fill=\"none\"/>\n",
              "    <path d=\"M18.56 5.44l.94 2.06.94-2.06 2.06-.94-2.06-.94-.94-2.06-.94 2.06-2.06.94zm-11 1L8.5 8.5l.94-2.06 2.06-.94-2.06-.94L8.5 2.5l-.94 2.06-2.06.94zm10 10l.94 2.06.94-2.06 2.06-.94-2.06-.94-.94-2.06-.94 2.06-2.06.94z\"/><path d=\"M17.41 7.96l-1.37-1.37c-.4-.4-.92-.59-1.43-.59-.52 0-1.04.2-1.43.59L10.3 9.45l-7.72 7.72c-.78.78-.78 2.05 0 2.83L4 21.41c.39.39.9.59 1.41.59.51 0 1.02-.2 1.41-.59l7.78-7.78 2.81-2.81c.8-.78.8-2.07 0-2.86zM5.41 20L4 18.59l7.72-7.72 1.47 1.35L5.41 20z\"/>\n",
              "  </svg>\n",
              "      </button>\n",
              "      \n",
              "  <style>\n",
              "    .colab-df-container {\n",
              "      display:flex;\n",
              "      flex-wrap:wrap;\n",
              "      gap: 12px;\n",
              "    }\n",
              "\n",
              "    .colab-df-convert {\n",
              "      background-color: #E8F0FE;\n",
              "      border: none;\n",
              "      border-radius: 50%;\n",
              "      cursor: pointer;\n",
              "      display: none;\n",
              "      fill: #1967D2;\n",
              "      height: 32px;\n",
              "      padding: 0 0 0 0;\n",
              "      width: 32px;\n",
              "    }\n",
              "\n",
              "    .colab-df-convert:hover {\n",
              "      background-color: #E2EBFA;\n",
              "      box-shadow: 0px 1px 2px rgba(60, 64, 67, 0.3), 0px 1px 3px 1px rgba(60, 64, 67, 0.15);\n",
              "      fill: #174EA6;\n",
              "    }\n",
              "\n",
              "    [theme=dark] .colab-df-convert {\n",
              "      background-color: #3B4455;\n",
              "      fill: #D2E3FC;\n",
              "    }\n",
              "\n",
              "    [theme=dark] .colab-df-convert:hover {\n",
              "      background-color: #434B5C;\n",
              "      box-shadow: 0px 1px 3px 1px rgba(0, 0, 0, 0.15);\n",
              "      filter: drop-shadow(0px 1px 2px rgba(0, 0, 0, 0.3));\n",
              "      fill: #FFFFFF;\n",
              "    }\n",
              "  </style>\n",
              "\n",
              "      <script>\n",
              "        const buttonEl =\n",
              "          document.querySelector('#df-33cface0-2f45-4de4-a826-146289ce3f27 button.colab-df-convert');\n",
              "        buttonEl.style.display =\n",
              "          google.colab.kernel.accessAllowed ? 'block' : 'none';\n",
              "\n",
              "        async function convertToInteractive(key) {\n",
              "          const element = document.querySelector('#df-33cface0-2f45-4de4-a826-146289ce3f27');\n",
              "          const dataTable =\n",
              "            await google.colab.kernel.invokeFunction('convertToInteractive',\n",
              "                                                     [key], {});\n",
              "          if (!dataTable) return;\n",
              "\n",
              "          const docLinkHtml = 'Like what you see? Visit the ' +\n",
              "            '<a target=\"_blank\" href=https://colab.research.google.com/notebooks/data_table.ipynb>data table notebook</a>'\n",
              "            + ' to learn more about interactive tables.';\n",
              "          element.innerHTML = '';\n",
              "          dataTable['output_type'] = 'display_data';\n",
              "          await google.colab.output.renderOutput(dataTable, element);\n",
              "          const docLink = document.createElement('div');\n",
              "          docLink.innerHTML = docLinkHtml;\n",
              "          element.appendChild(docLink);\n",
              "        }\n",
              "      </script>\n",
              "    </div>\n",
              "  </div>\n",
              "  "
            ]
          },
          "metadata": {},
          "execution_count": 127
        }
      ],
      "source": [
        "hate_speech_hierarchical"
      ]
    },
    {
      "cell_type": "code",
      "execution_count": 128,
      "metadata": {
        "id": "8XfWNYSJeJHi"
      },
      "outputs": [],
      "source": [
        "comments = [] \n",
        "stop_words = set(stopwords.words('portuguese')) #setando o banco de stopwords em PT-BR\n",
        "\n",
        "for words in hate_speech_hierarchical['text']:\n",
        "  only_latters =re.sub(\"[^a-zA-Z]\", \" \", words) # somente letras\n",
        "  tokens = nltk.word_tokenize(only_latters) # tokenize the sentence \n",
        "  lower_case = [l.lower() for l in tokens] # converter all letters to low case \n",
        "  filtered_result = list(filter(lambda l: l not in stop_words, lower_case)) # Remove stopwords from the comments\n",
        "  comments.append(' '.join(filtered_result))"
      ]
    },
    {
      "cell_type": "code",
      "execution_count": 129,
      "metadata": {
        "id": "Zx54ATy0eUlw",
        "colab": {
          "base_uri": "https://localhost:8080/"
        },
        "outputId": "a06ed1d6-0851-4550-98b0-6caf101b4a41"
      },
      "outputs": [
        {
          "output_type": "stream",
          "name": "stderr",
          "text": [
            "/usr/local/lib/python3.8/dist-packages/sklearn/utils/deprecation.py:87: FutureWarning: Function get_feature_names is deprecated; get_feature_names is deprecated in 1.0 and will be removed in 1.2. Please use get_feature_names_out instead.\n",
            "  warnings.warn(msg, category=FutureWarning)\n"
          ]
        }
      ],
      "source": [
        "#using CountVectorizer to get the most important unigrams\n",
        "co = CountVectorizer(ngram_range=(1,1))\n",
        "count = co.fit_transform(comments)\n",
        "important_unigrams =pd.DataFrame(count.sum(axis=0), columns=co.get_feature_names()).T.sort_values(0, ascending = False)"
      ]
    },
    {
      "cell_type": "code",
      "execution_count": 130,
      "metadata": {
        "id": "kweZ1KhCeXsp",
        "colab": {
          "base_uri": "https://localhost:8080/",
          "height": 206
        },
        "outputId": "fb27385f-2d5d-44bd-fce6-8731269557cd"
      },
      "outputs": [
        {
          "output_type": "execute_result",
          "data": {
            "text/plain": [
              "           0\n",
              "co      2425\n",
              "https   2396\n",
              "rt      1134\n",
              "mulher   516\n",
              "pra      491"
            ],
            "text/html": [
              "\n",
              "  <div id=\"df-badaca06-7f39-4dd9-9c04-125004cf5972\">\n",
              "    <div class=\"colab-df-container\">\n",
              "      <div>\n",
              "<style scoped>\n",
              "    .dataframe tbody tr th:only-of-type {\n",
              "        vertical-align: middle;\n",
              "    }\n",
              "\n",
              "    .dataframe tbody tr th {\n",
              "        vertical-align: top;\n",
              "    }\n",
              "\n",
              "    .dataframe thead th {\n",
              "        text-align: right;\n",
              "    }\n",
              "</style>\n",
              "<table border=\"1\" class=\"dataframe\">\n",
              "  <thead>\n",
              "    <tr style=\"text-align: right;\">\n",
              "      <th></th>\n",
              "      <th>0</th>\n",
              "    </tr>\n",
              "  </thead>\n",
              "  <tbody>\n",
              "    <tr>\n",
              "      <th>co</th>\n",
              "      <td>2425</td>\n",
              "    </tr>\n",
              "    <tr>\n",
              "      <th>https</th>\n",
              "      <td>2396</td>\n",
              "    </tr>\n",
              "    <tr>\n",
              "      <th>rt</th>\n",
              "      <td>1134</td>\n",
              "    </tr>\n",
              "    <tr>\n",
              "      <th>mulher</th>\n",
              "      <td>516</td>\n",
              "    </tr>\n",
              "    <tr>\n",
              "      <th>pra</th>\n",
              "      <td>491</td>\n",
              "    </tr>\n",
              "  </tbody>\n",
              "</table>\n",
              "</div>\n",
              "      <button class=\"colab-df-convert\" onclick=\"convertToInteractive('df-badaca06-7f39-4dd9-9c04-125004cf5972')\"\n",
              "              title=\"Convert this dataframe to an interactive table.\"\n",
              "              style=\"display:none;\">\n",
              "        \n",
              "  <svg xmlns=\"http://www.w3.org/2000/svg\" height=\"24px\"viewBox=\"0 0 24 24\"\n",
              "       width=\"24px\">\n",
              "    <path d=\"M0 0h24v24H0V0z\" fill=\"none\"/>\n",
              "    <path d=\"M18.56 5.44l.94 2.06.94-2.06 2.06-.94-2.06-.94-.94-2.06-.94 2.06-2.06.94zm-11 1L8.5 8.5l.94-2.06 2.06-.94-2.06-.94L8.5 2.5l-.94 2.06-2.06.94zm10 10l.94 2.06.94-2.06 2.06-.94-2.06-.94-.94-2.06-.94 2.06-2.06.94z\"/><path d=\"M17.41 7.96l-1.37-1.37c-.4-.4-.92-.59-1.43-.59-.52 0-1.04.2-1.43.59L10.3 9.45l-7.72 7.72c-.78.78-.78 2.05 0 2.83L4 21.41c.39.39.9.59 1.41.59.51 0 1.02-.2 1.41-.59l7.78-7.78 2.81-2.81c.8-.78.8-2.07 0-2.86zM5.41 20L4 18.59l7.72-7.72 1.47 1.35L5.41 20z\"/>\n",
              "  </svg>\n",
              "      </button>\n",
              "      \n",
              "  <style>\n",
              "    .colab-df-container {\n",
              "      display:flex;\n",
              "      flex-wrap:wrap;\n",
              "      gap: 12px;\n",
              "    }\n",
              "\n",
              "    .colab-df-convert {\n",
              "      background-color: #E8F0FE;\n",
              "      border: none;\n",
              "      border-radius: 50%;\n",
              "      cursor: pointer;\n",
              "      display: none;\n",
              "      fill: #1967D2;\n",
              "      height: 32px;\n",
              "      padding: 0 0 0 0;\n",
              "      width: 32px;\n",
              "    }\n",
              "\n",
              "    .colab-df-convert:hover {\n",
              "      background-color: #E2EBFA;\n",
              "      box-shadow: 0px 1px 2px rgba(60, 64, 67, 0.3), 0px 1px 3px 1px rgba(60, 64, 67, 0.15);\n",
              "      fill: #174EA6;\n",
              "    }\n",
              "\n",
              "    [theme=dark] .colab-df-convert {\n",
              "      background-color: #3B4455;\n",
              "      fill: #D2E3FC;\n",
              "    }\n",
              "\n",
              "    [theme=dark] .colab-df-convert:hover {\n",
              "      background-color: #434B5C;\n",
              "      box-shadow: 0px 1px 3px 1px rgba(0, 0, 0, 0.15);\n",
              "      filter: drop-shadow(0px 1px 2px rgba(0, 0, 0, 0.3));\n",
              "      fill: #FFFFFF;\n",
              "    }\n",
              "  </style>\n",
              "\n",
              "      <script>\n",
              "        const buttonEl =\n",
              "          document.querySelector('#df-badaca06-7f39-4dd9-9c04-125004cf5972 button.colab-df-convert');\n",
              "        buttonEl.style.display =\n",
              "          google.colab.kernel.accessAllowed ? 'block' : 'none';\n",
              "\n",
              "        async function convertToInteractive(key) {\n",
              "          const element = document.querySelector('#df-badaca06-7f39-4dd9-9c04-125004cf5972');\n",
              "          const dataTable =\n",
              "            await google.colab.kernel.invokeFunction('convertToInteractive',\n",
              "                                                     [key], {});\n",
              "          if (!dataTable) return;\n",
              "\n",
              "          const docLinkHtml = 'Like what you see? Visit the ' +\n",
              "            '<a target=\"_blank\" href=https://colab.research.google.com/notebooks/data_table.ipynb>data table notebook</a>'\n",
              "            + ' to learn more about interactive tables.';\n",
              "          element.innerHTML = '';\n",
              "          dataTable['output_type'] = 'display_data';\n",
              "          await google.colab.output.renderOutput(dataTable, element);\n",
              "          const docLink = document.createElement('div');\n",
              "          docLink.innerHTML = docLinkHtml;\n",
              "          element.appendChild(docLink);\n",
              "        }\n",
              "      </script>\n",
              "    </div>\n",
              "  </div>\n",
              "  "
            ]
          },
          "metadata": {},
          "execution_count": 130
        }
      ],
      "source": [
        "important_unigrams[:5]"
      ]
    },
    {
      "cell_type": "code",
      "execution_count": 131,
      "metadata": {
        "id": "P__AKWr3eiBA",
        "colab": {
          "base_uri": "https://localhost:8080/"
        },
        "outputId": "ebf66ca1-a5b6-41ad-dc3e-ec2849efd160"
      },
      "outputs": [
        {
          "output_type": "stream",
          "name": "stderr",
          "text": [
            "/usr/local/lib/python3.8/dist-packages/sklearn/utils/deprecation.py:87: FutureWarning: Function get_feature_names is deprecated; get_feature_names is deprecated in 1.0 and will be removed in 1.2. Please use get_feature_names_out instead.\n",
            "  warnings.warn(msg, category=FutureWarning)\n"
          ]
        }
      ],
      "source": [
        "#using CountVectorizer to get the most important unigrams\n",
        "co = CountVectorizer(ngram_range=(1,1))\n",
        "count = co.fit_transform(hate_speech_hierarchical['text'])\n",
        "important_unigrams =pd.DataFrame(count.sum(axis=0), columns=co.get_feature_names()).T.sort_values(0, ascending = False)"
      ]
    },
    {
      "cell_type": "code",
      "execution_count": 132,
      "metadata": {
        "id": "tWw_rWPyel--",
        "colab": {
          "base_uri": "https://localhost:8080/",
          "height": 206
        },
        "outputId": "be9a2dc3-b400-4937-c955-961df31cb45a"
      },
      "outputs": [
        {
          "output_type": "execute_result",
          "data": {
            "text/plain": [
              "          0\n",
              "de     2457\n",
              "co     2422\n",
              "https  2395\n",
              "que    2140\n",
              "não    1647"
            ],
            "text/html": [
              "\n",
              "  <div id=\"df-2d1def20-c1d2-41e4-962e-4eafae2beb57\">\n",
              "    <div class=\"colab-df-container\">\n",
              "      <div>\n",
              "<style scoped>\n",
              "    .dataframe tbody tr th:only-of-type {\n",
              "        vertical-align: middle;\n",
              "    }\n",
              "\n",
              "    .dataframe tbody tr th {\n",
              "        vertical-align: top;\n",
              "    }\n",
              "\n",
              "    .dataframe thead th {\n",
              "        text-align: right;\n",
              "    }\n",
              "</style>\n",
              "<table border=\"1\" class=\"dataframe\">\n",
              "  <thead>\n",
              "    <tr style=\"text-align: right;\">\n",
              "      <th></th>\n",
              "      <th>0</th>\n",
              "    </tr>\n",
              "  </thead>\n",
              "  <tbody>\n",
              "    <tr>\n",
              "      <th>de</th>\n",
              "      <td>2457</td>\n",
              "    </tr>\n",
              "    <tr>\n",
              "      <th>co</th>\n",
              "      <td>2422</td>\n",
              "    </tr>\n",
              "    <tr>\n",
              "      <th>https</th>\n",
              "      <td>2395</td>\n",
              "    </tr>\n",
              "    <tr>\n",
              "      <th>que</th>\n",
              "      <td>2140</td>\n",
              "    </tr>\n",
              "    <tr>\n",
              "      <th>não</th>\n",
              "      <td>1647</td>\n",
              "    </tr>\n",
              "  </tbody>\n",
              "</table>\n",
              "</div>\n",
              "      <button class=\"colab-df-convert\" onclick=\"convertToInteractive('df-2d1def20-c1d2-41e4-962e-4eafae2beb57')\"\n",
              "              title=\"Convert this dataframe to an interactive table.\"\n",
              "              style=\"display:none;\">\n",
              "        \n",
              "  <svg xmlns=\"http://www.w3.org/2000/svg\" height=\"24px\"viewBox=\"0 0 24 24\"\n",
              "       width=\"24px\">\n",
              "    <path d=\"M0 0h24v24H0V0z\" fill=\"none\"/>\n",
              "    <path d=\"M18.56 5.44l.94 2.06.94-2.06 2.06-.94-2.06-.94-.94-2.06-.94 2.06-2.06.94zm-11 1L8.5 8.5l.94-2.06 2.06-.94-2.06-.94L8.5 2.5l-.94 2.06-2.06.94zm10 10l.94 2.06.94-2.06 2.06-.94-2.06-.94-.94-2.06-.94 2.06-2.06.94z\"/><path d=\"M17.41 7.96l-1.37-1.37c-.4-.4-.92-.59-1.43-.59-.52 0-1.04.2-1.43.59L10.3 9.45l-7.72 7.72c-.78.78-.78 2.05 0 2.83L4 21.41c.39.39.9.59 1.41.59.51 0 1.02-.2 1.41-.59l7.78-7.78 2.81-2.81c.8-.78.8-2.07 0-2.86zM5.41 20L4 18.59l7.72-7.72 1.47 1.35L5.41 20z\"/>\n",
              "  </svg>\n",
              "      </button>\n",
              "      \n",
              "  <style>\n",
              "    .colab-df-container {\n",
              "      display:flex;\n",
              "      flex-wrap:wrap;\n",
              "      gap: 12px;\n",
              "    }\n",
              "\n",
              "    .colab-df-convert {\n",
              "      background-color: #E8F0FE;\n",
              "      border: none;\n",
              "      border-radius: 50%;\n",
              "      cursor: pointer;\n",
              "      display: none;\n",
              "      fill: #1967D2;\n",
              "      height: 32px;\n",
              "      padding: 0 0 0 0;\n",
              "      width: 32px;\n",
              "    }\n",
              "\n",
              "    .colab-df-convert:hover {\n",
              "      background-color: #E2EBFA;\n",
              "      box-shadow: 0px 1px 2px rgba(60, 64, 67, 0.3), 0px 1px 3px 1px rgba(60, 64, 67, 0.15);\n",
              "      fill: #174EA6;\n",
              "    }\n",
              "\n",
              "    [theme=dark] .colab-df-convert {\n",
              "      background-color: #3B4455;\n",
              "      fill: #D2E3FC;\n",
              "    }\n",
              "\n",
              "    [theme=dark] .colab-df-convert:hover {\n",
              "      background-color: #434B5C;\n",
              "      box-shadow: 0px 1px 3px 1px rgba(0, 0, 0, 0.15);\n",
              "      filter: drop-shadow(0px 1px 2px rgba(0, 0, 0, 0.3));\n",
              "      fill: #FFFFFF;\n",
              "    }\n",
              "  </style>\n",
              "\n",
              "      <script>\n",
              "        const buttonEl =\n",
              "          document.querySelector('#df-2d1def20-c1d2-41e4-962e-4eafae2beb57 button.colab-df-convert');\n",
              "        buttonEl.style.display =\n",
              "          google.colab.kernel.accessAllowed ? 'block' : 'none';\n",
              "\n",
              "        async function convertToInteractive(key) {\n",
              "          const element = document.querySelector('#df-2d1def20-c1d2-41e4-962e-4eafae2beb57');\n",
              "          const dataTable =\n",
              "            await google.colab.kernel.invokeFunction('convertToInteractive',\n",
              "                                                     [key], {});\n",
              "          if (!dataTable) return;\n",
              "\n",
              "          const docLinkHtml = 'Like what you see? Visit the ' +\n",
              "            '<a target=\"_blank\" href=https://colab.research.google.com/notebooks/data_table.ipynb>data table notebook</a>'\n",
              "            + ' to learn more about interactive tables.';\n",
              "          element.innerHTML = '';\n",
              "          dataTable['output_type'] = 'display_data';\n",
              "          await google.colab.output.renderOutput(dataTable, element);\n",
              "          const docLink = document.createElement('div');\n",
              "          docLink.innerHTML = docLinkHtml;\n",
              "          element.appendChild(docLink);\n",
              "        }\n",
              "      </script>\n",
              "    </div>\n",
              "  </div>\n",
              "  "
            ]
          },
          "metadata": {},
          "execution_count": 132
        }
      ],
      "source": [
        "important_unigrams[:5]"
      ]
    },
    {
      "cell_type": "code",
      "source": [
        "lista_quantidade_palavras_hate_speech_hierarchical_com_sw = []\n",
        "quantidade_palavras_com_sw = 0\n",
        "for texto in hate_speech_hierarchical['text']:\n",
        "  palavras = texto.split(' ')\n",
        "  lista_quantidade_palavras_hate_speech_hierarchical_com_sw.append(len(palavras))\n",
        "  quantidade_palavras_com_sw += len(palavras)\n",
        "\n",
        "lista_quantidade_palavras_hate_speech_hierarchical_sem_sw = []\n",
        "quantidade_palavras_sem_sw = 0\n",
        "for texto in comments:\n",
        "  palavras = texto.split(' ')\n",
        "  lista_quantidade_palavras_hate_speech_hierarchical_sem_sw.append(len(palavras))\n",
        "  quantidade_palavras_sem_sw += len(palavras)\n",
        "\n",
        "\n",
        "print(f'Quantidade de palavras com Stopwords: {quantidade_palavras_com_sw} palavras')\n",
        "print(f'Quantidade de palavras sem Stopwords: {quantidade_palavras_sem_sw} palavras')"
      ],
      "metadata": {
        "colab": {
          "base_uri": "https://localhost:8080/"
        },
        "id": "lu4DQLuG7NCw",
        "outputId": "10c344e1-2826-4acd-919f-2b953d80dc7a"
      },
      "execution_count": 133,
      "outputs": [
        {
          "output_type": "stream",
          "name": "stdout",
          "text": [
            "Quantidade de palavras com Stopwords: 88777 palavras\n",
            "Quantidade de palavras sem Stopwords: 71762 palavras\n"
          ]
        }
      ]
    },
    {
      "cell_type": "code",
      "source": [
        "tam_base = len(hate_speech_hierarchical['text'])\n",
        "\n",
        "print(f'Tamanho médio da base com Stop Words: {round(quantidade_palavras_com_sw/tam_base, 2)} ')\n",
        "print(f'Tamanho médio da base sem Stop Words: {round(quantidade_palavras_sem_sw/tam_base, 2)} \\n')\n",
        "\n",
        "print(f'Desvio padrão da base sem Stop Words: {round(np.std(lista_quantidade_palavras_hate_speech_hierarchical_com_sw),2)}')\n",
        "print(f'Desvio padrão da base com Stop Words: {round(np.std(lista_quantidade_palavras_hate_speech_hierarchical_sem_sw),2)}')\n"
      ],
      "metadata": {
        "colab": {
          "base_uri": "https://localhost:8080/"
        },
        "id": "JXl8G4iMv6eJ",
        "outputId": "5fca14a8-3701-44e1-ee5f-6e7dbda242b8"
      },
      "execution_count": 134,
      "outputs": [
        {
          "output_type": "stream",
          "name": "stdout",
          "text": [
            "Tamanho médio da base com Stop Words: 15.66 \n",
            "Tamanho médio da base sem Stop Words: 12.66 \n",
            "\n",
            "Desvio padrão da base sem Stop Words: 6.36\n",
            "Desvio padrão da base com Stop Words: 4.64\n"
          ]
        }
      ]
    },
    {
      "cell_type": "markdown",
      "source": [
        "**Tamanho médio e desvio padrão dos textos em termos do número de palavras para cada categoria**"
      ],
      "metadata": {
        "id": "RTAqcOVmmVmv"
      }
    },
    {
      "cell_type": "markdown",
      "source": [
        "**Como neste dataset há um grande número de categorias foi realizado o agrupamento por categoria, ficando da seguinte maneira:**\n",
        "\n",
        "**Hate speech** - Sexism, Homophobia, Body, Racism, Ideology,  Religion, Origin, OtherLifestyle, Migrants, Health,  Ageing.\n",
        "\n",
        "**Origin** - Latins, Rural people, Asians, South Americans, Africans, Arabic,  East europeans, Brazilians,  Brazilian women, Angolans, Nordestines,  Sertanejos, Chinese, Japaneses, Argentines, Mexicans,  Venezuelans, Egyptians, Iranians, Russians, Ucranians.\n",
        "\n",
        "**Migrants**: Refugees, Immigrants.\n",
        "\n",
        "**Homophobia** - Homossexuals,  Bissexuals, Lesbians, Gays.\n",
        "\n",
        "**Sexism** - Women, Men, Feminists, Transexuals,  Men Feminists, Trans women, Travestis, Aborting women, Blond women, Thin women,  Brazilian women,  Football players women,  Homeless women, Muslim women, Old women, Lesbians, Fat women, Ugly women, Black Women\n",
        "\n",
        "**Body** - Fat people, Ugly people,  Blond women,  Thin people, Fat women, Ugly women.\n",
        "\n",
        "**Racism** - Black people, Latins, Asians,  White people, Indigenous, Black Women.\n",
        "\n",
        "**Ideology** - Feminists, Left wing ideology, Agnostic,  Men Feminists.\n",
        "\n",
        "**Religion** - Islamists, Muslims,  Jews,  Muslim women.\n",
        "\n",
        "**OtherLifestyle** - Criminals,  Homeless,  Jornalists,  Vegetarians, Gamers,  Polyamorous,  Poor people,  Street artists, Football players women, Homeless women.\n",
        "\n",
        "**Health** - Disabled people, Autists.\n",
        "\n",
        "**Ageing** -  Old people,  Young people, Old women, \n",
        "\n"
      ],
      "metadata": {
        "id": "-mCbq8KbmVfH"
      }
    },
    {
      "cell_type": "markdown",
      "source": [
        "Cálculo para comentários que possuem discurso de ódio."
      ],
      "metadata": {
        "id": "Vud_PcQTjJbW"
      }
    },
    {
      "cell_type": "code",
      "source": [
        "Hate_speech = hate_speech_hierarchical.loc[hate_speech_hierarchical['Hate.speech'] == 1 ]\n",
        "\n",
        "comentarios_Hate_speech = [] \n",
        "stop_words = set(stopwords.words('portuguese')) #setando o banco de stopwords em PT-BR\n",
        "\n",
        "for words in Hate_speech['text']:\n",
        "  only_latters =re.sub(\"[^a-zA-Z]\", \" \", words) # somente letras\n",
        "  tokens = nltk.word_tokenize(only_latters) # tokenize the sentence \n",
        "  lower_case = [l.lower() for l in tokens] # converter all letters to low case \n",
        "  filtered_result = list(filter(lambda l: l not in stop_words, lower_case)) # Remove stopwords from the comments\n",
        "  comentarios_Hate_speech.append(' '.join(filtered_result))\n",
        "\n",
        "\n",
        "lista_quantidade_palavras = []\n",
        "quantidade_palavras = 0\n",
        "for texto in comentarios_Hate_speech:\n",
        "  palavras = texto.split(' ')\n",
        "  lista_quantidade_palavras.append(len(palavras))\n",
        "  quantidade_palavras += len(palavras)\n",
        "\n",
        "print(f'Quantidade de palavras para texto rotulados como discurso de ódio : {quantidade_palavras} palavras')\n",
        "print(f'Tamanho médio da base para comentários rotulados como discurso de ódio: {round(quantidade_palavras/len(lista_quantidade_palavras), 2)} ')\n",
        "print(f'Desvio padrão: {round(np.std(lista_quantidade_palavras),2)}')\n"
      ],
      "metadata": {
        "colab": {
          "base_uri": "https://localhost:8080/"
        },
        "id": "-J6A8q9BnKiH",
        "outputId": "643b7fc7-87fa-4952-8c47-de4202d0ba47"
      },
      "execution_count": 135,
      "outputs": [
        {
          "output_type": "stream",
          "name": "stdout",
          "text": [
            "Quantidade de palavras para texto rotulados como discurso de ódio : 14384 palavras\n",
            "Tamanho médio da base para comentários rotulados como discurso de ódio: 11.71 \n",
            "Desvio padrão: 4.65\n"
          ]
        }
      ]
    },
    {
      "cell_type": "markdown",
      "source": [
        "Cálculo para comentários que não possuem discurso de ódio."
      ],
      "metadata": {
        "id": "-120Gq38jUx8"
      }
    },
    {
      "cell_type": "code",
      "source": [
        "No_Hate_speech = hate_speech_hierarchical.loc[hate_speech_hierarchical['Hate.speech'] == 0 ]\n",
        "\n",
        "comentarios_No_Hate_speech = [] \n",
        "stop_words = set(stopwords.words('portuguese')) #setando o banco de stopwords em PT-BR\n",
        "\n",
        "for words in No_Hate_speech['text']:\n",
        "  only_latters =re.sub(\"[^a-zA-Z]\", \" \", words) # somente letras\n",
        "  tokens = nltk.word_tokenize(only_latters) # tokenize the sentence \n",
        "  lower_case = [l.lower() for l in tokens] # converter all letters to low case \n",
        "  filtered_result = list(filter(lambda l: l not in stop_words, lower_case)) # Remove stopwords from the comments\n",
        "  comentarios_No_Hate_speech.append(' '.join(filtered_result))\n",
        "\n",
        "\n",
        "lista_quantidade_palavras = []\n",
        "quantidade_palavras = 0\n",
        "for texto in comentarios_No_Hate_speech:\n",
        "  palavras = texto.split(' ')\n",
        "  lista_quantidade_palavras.append(len(palavras))\n",
        "  quantidade_palavras += len(palavras)\n",
        "\n",
        "print(f'Quantidade de palavras para texto rotulados como sem  discurso de ódio : {quantidade_palavras} palavras')\n",
        "print(f'Tamanho médio da base para comentários rotulados como sem discurso de ódio: {round(quantidade_palavras/len(lista_quantidade_palavras), 2)} ')\n",
        "print(f'Desvio padrão: {round(np.std(lista_quantidade_palavras),2)}')\n"
      ],
      "metadata": {
        "colab": {
          "base_uri": "https://localhost:8080/"
        },
        "id": "5sL83FGNppCs",
        "outputId": "f5a6c661-b528-4b16-cf1c-6eb1ef0224be"
      },
      "execution_count": 163,
      "outputs": [
        {
          "output_type": "stream",
          "name": "stdout",
          "text": [
            "Quantidade de palavras para texto rotulados como sem  discurso de ódio : 57378 palavras\n",
            "Tamanho médio da base para comentários rotulados como sem discurso de ódio: 12.92 \n",
            "Desvio padrão: 4.61\n"
          ]
        }
      ]
    },
    {
      "cell_type": "markdown",
      "source": [
        "**Origin**"
      ],
      "metadata": {
        "id": "a5plBUHGkYdV"
      }
    },
    {
      "cell_type": "markdown",
      "source": [
        "Origin - Latins, Rural people, Asians, South Americans, Africans, Arabic, East europeans, Brazilians, Brazilian women, Angolans, Nordestines, Sertanejos, Chinese, Japaneses, Argentines, Mexicans, Venezuelans, Egyptians, Iranians, Russians, Ucranians."
      ],
      "metadata": {
        "id": "tq6xSy3xK_Gg"
      }
    },
    {
      "cell_type": "code",
      "source": [
        "latins = hate_speech_hierarchical.loc[hate_speech_hierarchical['Latins'] == 1 ]\n",
        "rural_people = hate_speech_hierarchical.loc[hate_speech_hierarchical['Rural.people'] == 1 ]\n",
        "asians = hate_speech_hierarchical.loc[hate_speech_hierarchical['Asians'] == 1 ]\n",
        "south_america = hate_speech_hierarchical.loc[hate_speech_hierarchical['South.Americans'] == 1 ]\n",
        "africans = hate_speech_hierarchical.loc[hate_speech_hierarchical['Africans'] == 1 ]\n",
        "arabic = hate_speech_hierarchical.loc[hate_speech_hierarchical['Arabic'] == 1 ]\n",
        "east_europeans = hate_speech_hierarchical.loc[hate_speech_hierarchical['East.europeans'] == 1 ]\n",
        "brazilians = hate_speech_hierarchical.loc[hate_speech_hierarchical['Brazilians'] == 1 ]\n",
        "brazilian_women = hate_speech_hierarchical.loc[hate_speech_hierarchical['Brazilians.women'] == 1 ]\n",
        "angolans = hate_speech_hierarchical.loc[hate_speech_hierarchical['Angolans'] == 1 ]\n",
        "nordestines = hate_speech_hierarchical.loc[hate_speech_hierarchical['Nordestines'] == 1 ]\n",
        "sertanejos = hate_speech_hierarchical.loc[hate_speech_hierarchical['Sertanejos'] == 1 ]\n",
        "chinese = hate_speech_hierarchical.loc[hate_speech_hierarchical['Chinese'] == 1 ]\n",
        "japoneses = hate_speech_hierarchical.loc[hate_speech_hierarchical['Japaneses'] == 1 ]\n",
        "argentines = hate_speech_hierarchical.loc[hate_speech_hierarchical['Argentines'] == 1 ]\n",
        "mexicans = hate_speech_hierarchical.loc[hate_speech_hierarchical['Mexicans'] == 1 ]\n",
        "venezuelans = hate_speech_hierarchical.loc[hate_speech_hierarchical['Venezuelans'] == 1 ]\n",
        "egyptians = hate_speech_hierarchical.loc[hate_speech_hierarchical['Egyptians'] == 1 ]\n",
        "iranians = hate_speech_hierarchical.loc[hate_speech_hierarchical['Iranians'] == 1 ]\n",
        "russians = hate_speech_hierarchical.loc[hate_speech_hierarchical['Russians'] == 1 ]\n",
        "ucranians = hate_speech_hierarchical.loc[hate_speech_hierarchical['Ucranians'] == 1 ]\n",
        "\n",
        "\n",
        "Origin = [latins, rural_people, asians, south_america, africans, arabic, east_europeans, brazilians, brazilian_women, angolans, nordestines, sertanejos, chinese, japoneses, argentines, mexicans, venezuelans, egyptians, iranians, russians, ucranians  ]\n",
        "origin = pd.concat(Origin)\n",
        "\n"
      ],
      "metadata": {
        "id": "e7SPVspaldwl"
      },
      "execution_count": 138,
      "outputs": []
    },
    {
      "cell_type": "code",
      "source": [
        "\n",
        "categoria_origin = [] \n",
        "stop_words = set(stopwords.words('portuguese')) #setando o banco de stopwords em PT-BR\n",
        "\n",
        "for words in origin['text']:\n",
        "  only_latters =re.sub(\"[^a-zA-Z]\", \" \", words) # somente letras\n",
        "  tokens = nltk.word_tokenize(only_latters) # tokenize the sentence \n",
        "  lower_case = [l.lower() for l in tokens] # converter all letters to low case \n",
        "  filtered_result = list(filter(lambda l: l not in stop_words, lower_case)) # Remove stopwords from the comments\n",
        "  categoria_origin.append(' '.join(filtered_result))\n",
        "\n",
        "\n",
        "lista_quantidade_palavras = []\n",
        "quantidade_palavras = 0\n",
        "for texto in categoria_origin:\n",
        "  palavras = texto.split(' ')\n",
        "  lista_quantidade_palavras.append(len(palavras))\n",
        "  quantidade_palavras += len(palavras)\n",
        "\n",
        "print(f'Quantidade de palavras para texto rotulados como discurso de ódio com origem: {quantidade_palavras} palavras')\n",
        "print(f'Tamanho médio da base: {round(quantidade_palavras/len(lista_quantidade_palavras), 2)} ')\n",
        "print(f'Desvio padrão: {round(np.std(lista_quantidade_palavras),2)}')\n"
      ],
      "metadata": {
        "colab": {
          "base_uri": "https://localhost:8080/"
        },
        "id": "RSCVq1NFGhMe",
        "outputId": "ac7d65f6-c03e-4a11-9087-66067703c331"
      },
      "execution_count": 164,
      "outputs": [
        {
          "output_type": "stream",
          "name": "stdout",
          "text": [
            "Quantidade de palavras para texto rotulados como categoria Origin : 757 palavras\n",
            "Tamanho médio da base para comentários: 13.28 \n",
            "Desvio padrão: 4.46\n"
          ]
        }
      ]
    },
    {
      "cell_type": "markdown",
      "source": [
        "**Migrants**: Refugees, Immigrants"
      ],
      "metadata": {
        "id": "oe6LA7ThHGzS"
      }
    },
    {
      "cell_type": "code",
      "source": [
        "refugees = hate_speech_hierarchical.loc[hate_speech_hierarchical['Refugees'] == 1 ]\n",
        "immigrants = hate_speech_hierarchical.loc[hate_speech_hierarchical['Immigrants'] == 1 ]\n",
        "\n",
        "migrants = pd.concat([refugees, immigrants])"
      ],
      "metadata": {
        "id": "F4qnBCNrHEcf"
      },
      "execution_count": 162,
      "outputs": []
    },
    {
      "cell_type": "code",
      "source": [
        "\n",
        "categoria_migrants = [] \n",
        "stop_words = set(stopwords.words('portuguese')) \n",
        "\n",
        "for words in migrants['text']:\n",
        "  only_latters =re.sub(\"[^a-zA-Z]\", \" \", words)\n",
        "  tokens = nltk.word_tokenize(only_latters) \n",
        "  lower_case = [l.lower() for l in tokens] \n",
        "  filtered_result = list(filter(lambda l: l not in stop_words, lower_case)) \n",
        "  categoria_migrants.append(' '.join(filtered_result))\n",
        "\n",
        "\n",
        "lista_quantidade_palavras = []\n",
        "quantidade_palavras = 0\n",
        "for texto in categoria_migrants:\n",
        "  palavras = texto.split(' ')\n",
        "  lista_quantidade_palavras.append(len(palavras))\n",
        "  quantidade_palavras += len(palavras)\n",
        "\n",
        "print(f'Quantidade de palavras para texto rotulados como discurso de ódio com migrantes: {quantidade_palavras} palavras')\n",
        "print(f'Tamanho médio da base: {round(quantidade_palavras/len(lista_quantidade_palavras), 2)} ')\n",
        "print(f'Desvio padrão: {round(np.std(lista_quantidade_palavras),2)}')\n"
      ],
      "metadata": {
        "colab": {
          "base_uri": "https://localhost:8080/"
        },
        "outputId": "794b8844-74d6-416d-d742-c05fe2487f70",
        "id": "ougXTD6xIKWc"
      },
      "execution_count": 141,
      "outputs": [
        {
          "output_type": "stream",
          "name": "stdout",
          "text": [
            "Quantidade de palavras para texto rotulados como migrants : 1239 palavras\n",
            "Tamanho médio da base: 14.58 \n",
            "Desvio padrão: 3.11\n"
          ]
        }
      ]
    },
    {
      "cell_type": "markdown",
      "source": [
        "**Homophobia** - Homossexuals, Bissexuals, Lesbians, Gays."
      ],
      "metadata": {
        "id": "MJ43_Q-tJK1b"
      }
    },
    {
      "cell_type": "code",
      "source": [
        "homophobia = hate_speech_hierarchical.loc[hate_speech_hierarchical['Homophobia'] == 1 ]\n"
      ],
      "metadata": {
        "id": "WfEvwHx8JMf8"
      },
      "execution_count": 142,
      "outputs": []
    },
    {
      "cell_type": "code",
      "source": [
        "categoria_homophobia = [] \n",
        "stop_words = set(stopwords.words('portuguese')) \n",
        "\n",
        "for words in homophobia['text']:\n",
        "  only_latters =re.sub(\"[^a-zA-Z]\", \" \", words)\n",
        "  tokens = nltk.word_tokenize(only_latters) \n",
        "  lower_case = [l.lower() for l in tokens] \n",
        "  filtered_result = list(filter(lambda l: l not in stop_words, lower_case)) \n",
        "  categoria_homophobia.append(' '.join(filtered_result))\n",
        "\n",
        "\n",
        "lista_quantidade_palavras = []\n",
        "quantidade_palavras = 0\n",
        "for texto in categoria_homophobia:\n",
        "  palavras = texto.split(' ')\n",
        "  lista_quantidade_palavras.append(len(palavras))\n",
        "  quantidade_palavras += len(palavras)\n",
        "\n",
        "print(f'Quantidade de palavras para texto rotulados como discurso de ódio com homophobia : {quantidade_palavras} palavras')\n",
        "print(f'Tamanho médio da base: {round(quantidade_palavras/len(lista_quantidade_palavras), 2)} ')\n",
        "print(f'Desvio padrão: {round(np.std(lista_quantidade_palavras),2)}')\n"
      ],
      "metadata": {
        "colab": {
          "base_uri": "https://localhost:8080/"
        },
        "id": "wqtNujfCLI2s",
        "outputId": "140b2667-9132-4cef-b5ad-75d0cff366bf"
      },
      "execution_count": 143,
      "outputs": [
        {
          "output_type": "stream",
          "name": "stdout",
          "text": [
            "Quantidade de palavras para texto rotulados como migrants : 3207 palavras\n",
            "Tamanho médio da base: 9.96 \n",
            "Desvio padrão: 4.39\n"
          ]
        }
      ]
    },
    {
      "cell_type": "markdown",
      "source": [
        "**Sexism** - Women, Men, Feminists, Transexuals, Men Feminists, Trans women, Travestis, Aborting women, Blond women, Thin women, Brazilian women, Football players women, Homeless women, Muslim women, Old women, Lesbians, Fat women, Ugly women, Black Women"
      ],
      "metadata": {
        "id": "JmZIOjPMLudR"
      }
    },
    {
      "cell_type": "code",
      "source": [
        "sexism = hate_speech_hierarchical.loc[hate_speech_hierarchical['Sexism'] == 1 ]\n"
      ],
      "metadata": {
        "id": "r_0Sv4eRLwRl"
      },
      "execution_count": 161,
      "outputs": []
    },
    {
      "cell_type": "code",
      "source": [
        "categoria_sexism = [] \n",
        "stop_words = set(stopwords.words('portuguese')) \n",
        "\n",
        "for words in sexism['text']:\n",
        "  only_latters =re.sub(\"[^a-zA-Z]\", \" \", words)\n",
        "  tokens = nltk.word_tokenize(only_latters) \n",
        "  lower_case = [l.lower() for l in tokens] \n",
        "  filtered_result = list(filter(lambda l: l not in stop_words, lower_case)) \n",
        "  categoria_sexism.append(' '.join(filtered_result))\n",
        "\n",
        "\n",
        "lista_quantidade_palavras = []\n",
        "quantidade_palavras = 0\n",
        "for texto in categoria_sexism:\n",
        "  palavras = texto.split(' ')\n",
        "  lista_quantidade_palavras.append(len(palavras))\n",
        "  quantidade_palavras += len(palavras)\n",
        "\n",
        "print(f'Quantidade de palavras para texto rotulados como discurso de ódio com sexismo: {quantidade_palavras} palavras')\n",
        "print(f'Tamanho médio da base: {round(quantidade_palavras/len(lista_quantidade_palavras), 2)} ')\n",
        "print(f'Desvio padrão: {round(np.std(lista_quantidade_palavras),2)}')\n"
      ],
      "metadata": {
        "colab": {
          "base_uri": "https://localhost:8080/"
        },
        "id": "t1RQC-GvMEFq",
        "outputId": "3d3c5a42-9bfc-4bf2-addf-6986638a2844"
      },
      "execution_count": 145,
      "outputs": [
        {
          "output_type": "stream",
          "name": "stdout",
          "text": [
            "Quantidade de palavras para texto rotulados como migrants : 8161 palavras\n",
            "Tamanho médio da base: 12.14 \n",
            "Desvio padrão: 4.58\n"
          ]
        }
      ]
    },
    {
      "cell_type": "markdown",
      "source": [
        "**Body** - Fat people, Ugly people, Blond women, Thin people, Fat women, Ugly women."
      ],
      "metadata": {
        "id": "YQH9ZYykMNex"
      }
    },
    {
      "cell_type": "code",
      "source": [
        "body = hate_speech_hierarchical.loc[hate_speech_hierarchical['Body'] == 1 ]"
      ],
      "metadata": {
        "id": "xh-O8VAzMV_9"
      },
      "execution_count": 146,
      "outputs": []
    },
    {
      "cell_type": "code",
      "source": [
        "categoria_body = [] \n",
        "stop_words = set(stopwords.words('portuguese')) \n",
        "\n",
        "for words in body['text']:\n",
        "  only_latters =re.sub(\"[^a-zA-Z]\", \" \", words)\n",
        "  tokens = nltk.word_tokenize(only_latters) \n",
        "  lower_case = [l.lower() for l in tokens] \n",
        "  filtered_result = list(filter(lambda l: l not in stop_words, lower_case)) \n",
        "  categoria_body.append(' '.join(filtered_result))\n",
        "\n",
        "\n",
        "lista_quantidade_palavras = []\n",
        "quantidade_palavras = 0\n",
        "for texto in categoria_body:\n",
        "  palavras = texto.split(' ')\n",
        "  lista_quantidade_palavras.append(len(palavras))\n",
        "  quantidade_palavras += len(palavras)\n",
        "\n",
        "print(f'Quantidade de palavras para texto rotulados como discurso de ódio com corpo: {quantidade_palavras} palavras')\n",
        "print(f'Tamanho médio da base: {round(quantidade_palavras/len(lista_quantidade_palavras), 2)} ')\n",
        "print(f'Desvio padrão: {round(np.std(lista_quantidade_palavras),2)}')\n"
      ],
      "metadata": {
        "colab": {
          "base_uri": "https://localhost:8080/"
        },
        "id": "XSj3rwcoMiDj",
        "outputId": "5606a6ce-832d-40b8-d40f-dfc869d57050"
      },
      "execution_count": 147,
      "outputs": [
        {
          "output_type": "stream",
          "name": "stdout",
          "text": [
            "Quantidade de palavras para texto rotulados como migrants : 2061 palavras\n",
            "Tamanho médio da base: 12.57 \n",
            "Desvio padrão: 4.74\n"
          ]
        }
      ]
    },
    {
      "cell_type": "markdown",
      "source": [
        "**Racism** - Black people, Latins, Asians, White people, Indigenous, Black Women."
      ],
      "metadata": {
        "id": "2YzVMOzmMuPm"
      }
    },
    {
      "cell_type": "code",
      "source": [
        "racism = hate_speech_hierarchical.loc[hate_speech_hierarchical['Racism'] == 1 ]"
      ],
      "metadata": {
        "id": "zxISbvhpM6yh"
      },
      "execution_count": 148,
      "outputs": []
    },
    {
      "cell_type": "code",
      "source": [
        "categoria_racism = [] \n",
        "stop_words = set(stopwords.words('portuguese')) \n",
        "\n",
        "for words in racism['text']:\n",
        "  only_latters =re.sub(\"[^a-zA-Z]\", \" \", words)\n",
        "  tokens = nltk.word_tokenize(only_latters) \n",
        "  lower_case = [l.lower() for l in tokens] \n",
        "  filtered_result = list(filter(lambda l: l not in stop_words, lower_case)) \n",
        "  categoria_racism.append(' '.join(filtered_result))\n",
        "\n",
        "\n",
        "lista_quantidade_palavras = []\n",
        "quantidade_palavras = 0\n",
        "for texto in categoria_racism:\n",
        "  palavras = texto.split(' ')\n",
        "  lista_quantidade_palavras.append(len(palavras))\n",
        "  quantidade_palavras += len(palavras)\n",
        "\n",
        "print(f'Quantidade de palavras para texto rotulados como discurso de ódio com racismo: {quantidade_palavras} palavras')\n",
        "print(f'Tamanho médio da base: {round(quantidade_palavras/len(lista_quantidade_palavras), 2)} ')\n",
        "print(f'Desvio padrão: {round(np.std(lista_quantidade_palavras),2)}')\n"
      ],
      "metadata": {
        "colab": {
          "base_uri": "https://localhost:8080/"
        },
        "id": "lPVUb_pTNEV5",
        "outputId": "149a1b47-9a45-4f04-a175-7175ad626d1b"
      },
      "execution_count": 149,
      "outputs": [
        {
          "output_type": "stream",
          "name": "stdout",
          "text": [
            "Quantidade de palavras para texto rotulados como migrants : 1022 palavras\n",
            "Tamanho médio da base: 10.87 \n",
            "Desvio padrão: 4.92\n"
          ]
        }
      ]
    },
    {
      "cell_type": "markdown",
      "source": [
        "**Ideology** - Feminists, Left wing ideology, Agnostic, Men Feminists."
      ],
      "metadata": {
        "id": "P-JmqwHZNSx3"
      }
    },
    {
      "cell_type": "code",
      "source": [
        "ideology = hate_speech_hierarchical.loc[hate_speech_hierarchical['Ideology'] == 1 ]\n"
      ],
      "metadata": {
        "id": "_9j86UXfNZGc"
      },
      "execution_count": 160,
      "outputs": []
    },
    {
      "cell_type": "code",
      "source": [
        "categoria_ideology = [] \n",
        "stop_words = set(stopwords.words('portuguese')) \n",
        "\n",
        "for words in ideology['text']:\n",
        "  only_latters =re.sub(\"[^a-zA-Z]\", \" \", words)\n",
        "  tokens = nltk.word_tokenize(only_latters) \n",
        "  lower_case = [l.lower() for l in tokens] \n",
        "  filtered_result = list(filter(lambda l: l not in stop_words, lower_case)) \n",
        "  categoria_ideology.append(' '.join(filtered_result))\n",
        "\n",
        "\n",
        "lista_quantidade_palavras = []\n",
        "quantidade_palavras = 0\n",
        "for texto in categoria_ideology:\n",
        "  palavras = texto.split(' ')\n",
        "  lista_quantidade_palavras.append(len(palavras))\n",
        "  quantidade_palavras += len(palavras)\n",
        "\n",
        "print(f'Quantidade de palavras para texto rotulados como discurso de ódio com ideologia : {quantidade_palavras} palavras')\n",
        "print(f'Tamanho médio da base: {round(quantidade_palavras/len(lista_quantidade_palavras), 2)} ')\n",
        "print(f'Desvio padrão: {round(np.std(lista_quantidade_palavras),2)}')\n"
      ],
      "metadata": {
        "colab": {
          "base_uri": "https://localhost:8080/"
        },
        "id": "FRpnSzDJNsfS",
        "outputId": "b5006600-a316-42fb-f619-e83a2e34f689"
      },
      "execution_count": 151,
      "outputs": [
        {
          "output_type": "stream",
          "name": "stdout",
          "text": [
            "Quantidade de palavras para texto rotulados como migrants : 1220 palavras\n",
            "Tamanho médio da base: 13.26 \n",
            "Desvio padrão: 4.47\n"
          ]
        }
      ]
    },
    {
      "cell_type": "markdown",
      "source": [
        "**Religion** - Islamists, Muslims, Jews, Muslim women."
      ],
      "metadata": {
        "id": "uVjgx0_kN7ET"
      }
    },
    {
      "cell_type": "code",
      "source": [
        "religion = hate_speech_hierarchical.loc[hate_speech_hierarchical['Religion'] == 1 ]"
      ],
      "metadata": {
        "id": "_qs52EisOIX8"
      },
      "execution_count": 152,
      "outputs": []
    },
    {
      "cell_type": "code",
      "source": [
        "categoria_religion = [] \n",
        "stop_words = set(stopwords.words('portuguese')) \n",
        "\n",
        "for words in religion['text']:\n",
        "  only_latters =re.sub(\"[^a-zA-Z]\", \" \", words)\n",
        "  tokens = nltk.word_tokenize(only_latters) \n",
        "  lower_case = [l.lower() for l in tokens] \n",
        "  filtered_result = list(filter(lambda l: l not in stop_words, lower_case)) \n",
        "  categoria_religion.append(' '.join(filtered_result))\n",
        "\n",
        "\n",
        "lista_quantidade_palavras = []\n",
        "quantidade_palavras = 0\n",
        "for texto in categoria_religion:\n",
        "  palavras = texto.split(' ')\n",
        "  lista_quantidade_palavras.append(len(palavras))\n",
        "  quantidade_palavras += len(palavras)\n",
        "\n",
        "print(f'Quantidade de palavras para texto rotulados como discurso de ódio com religião : {quantidade_palavras} palavras')\n",
        "print(f'Tamanho médio da base: {round(quantidade_palavras/len(lista_quantidade_palavras), 2)} ')\n",
        "print(f'Desvio padrão: {round(np.std(lista_quantidade_palavras),2)}')\n"
      ],
      "metadata": {
        "colab": {
          "base_uri": "https://localhost:8080/"
        },
        "id": "TxWdKPZ_ORJk",
        "outputId": "6e9dc708-83b6-4dd2-94af-2bbbb0626c4a"
      },
      "execution_count": 153,
      "outputs": [
        {
          "output_type": "stream",
          "name": "stdout",
          "text": [
            "Quantidade de palavras para texto rotulados como migrants : 427 palavras\n",
            "Tamanho médio da base: 14.23 \n",
            "Desvio padrão: 4.29\n"
          ]
        }
      ]
    },
    {
      "cell_type": "markdown",
      "source": [
        "**OtherLifestyle** - Criminals, Homeless, Jornalists, Vegetarians, Gamers, Polyamorous, Poor people, Street artists, Football players women, Homeless women."
      ],
      "metadata": {
        "id": "2iAgb_gwOkYU"
      }
    },
    {
      "cell_type": "code",
      "source": [
        "otherlifestyle = hate_speech_hierarchical.loc[hate_speech_hierarchical['OtherLifestyle'] == 1 ]"
      ],
      "metadata": {
        "id": "0LcXP9omOmT1"
      },
      "execution_count": 154,
      "outputs": []
    },
    {
      "cell_type": "code",
      "source": [
        "categoria_otherslifestyle = [] \n",
        "stop_words = set(stopwords.words('portuguese')) \n",
        "\n",
        "for words in otherlifestyle['text']:\n",
        "  only_latters =re.sub(\"[^a-zA-Z]\", \" \", words)\n",
        "  tokens = nltk.word_tokenize(only_latters) \n",
        "  lower_case = [l.lower() for l in tokens] \n",
        "  filtered_result = list(filter(lambda l: l not in stop_words, lower_case)) \n",
        "  categoria_otherslifestyle.append(' '.join(filtered_result))\n",
        "\n",
        "\n",
        "lista_quantidade_palavras = []\n",
        "quantidade_palavras = 0\n",
        "for texto in categoria_otherslifestyle:\n",
        "  palavras = texto.split(' ')\n",
        "  lista_quantidade_palavras.append(len(palavras))\n",
        "  quantidade_palavras += len(palavras)\n",
        "\n",
        "print(f'Quantidade de palavras para texto rotulados como discurso de ódio com Outros estilos de vida : {quantidade_palavras} palavras')\n",
        "print(f'Tamanho médio da base: {round(quantidade_palavras/len(lista_quantidade_palavras), 2)} ')\n",
        "print(f'Desvio padrão: {round(np.std(lista_quantidade_palavras),2)}')\n"
      ],
      "metadata": {
        "colab": {
          "base_uri": "https://localhost:8080/"
        },
        "id": "TV5DYUuXOvKD",
        "outputId": "3dc55ae2-9985-4183-ffe6-86a44afd5a0e"
      },
      "execution_count": 155,
      "outputs": [
        {
          "output_type": "stream",
          "name": "stdout",
          "text": [
            "Quantidade de palavras para texto rotulados como migrants : 249 palavras\n",
            "Tamanho médio da base: 12.45 \n",
            "Desvio padrão: 4.36\n"
          ]
        }
      ]
    },
    {
      "cell_type": "markdown",
      "source": [
        "**Health** - Disabled people, Autists."
      ],
      "metadata": {
        "id": "rYU-iEYKO85X"
      }
    },
    {
      "cell_type": "code",
      "source": [
        "health = hate_speech_hierarchical.loc[hate_speech_hierarchical['Health'] == 1 ]"
      ],
      "metadata": {
        "id": "JbOlbzJNPEQJ"
      },
      "execution_count": 156,
      "outputs": []
    },
    {
      "cell_type": "code",
      "source": [
        "categoria_health = [] \n",
        "stop_words = set(stopwords.words('portuguese')) \n",
        "\n",
        "for words in health['text']:\n",
        "  only_latters =re.sub(\"[^a-zA-Z]\", \" \", words)\n",
        "  tokens = nltk.word_tokenize(only_latters) \n",
        "  lower_case = [l.lower() for l in tokens] \n",
        "  filtered_result = list(filter(lambda l: l not in stop_words, lower_case)) \n",
        "  categoria_health.append(' '.join(filtered_result))\n",
        "\n",
        "\n",
        "lista_quantidade_palavras = []\n",
        "quantidade_palavras = 0\n",
        "for texto in categoria_health:\n",
        "  palavras = texto.split(' ')\n",
        "  lista_quantidade_palavras.append(len(palavras))\n",
        "  quantidade_palavras += len(palavras)\n",
        "\n",
        "print(f'Quantidade de palavras para texto rotulados como discurso de ódio com saúde : {quantidade_palavras} palavras')\n",
        "print(f'Tamanho médio da base: {round(quantidade_palavras/len(lista_quantidade_palavras), 2)} ')\n",
        "print(f'Desvio padrão: {round(np.std(lista_quantidade_palavras),2)}')\n"
      ],
      "metadata": {
        "colab": {
          "base_uri": "https://localhost:8080/"
        },
        "id": "8N3IW5CbPPxg",
        "outputId": "9a501a98-e759-4a73-90b5-6362f5307cc7"
      },
      "execution_count": 157,
      "outputs": [
        {
          "output_type": "stream",
          "name": "stdout",
          "text": [
            "Quantidade de palavras para texto rotulados como migrants : 72 palavras\n",
            "Tamanho médio da base: 12.0 \n",
            "Desvio padrão: 2.58\n"
          ]
        }
      ]
    },
    {
      "cell_type": "markdown",
      "source": [
        "**Ageing** - Old people, Young people, Old women,"
      ],
      "metadata": {
        "id": "HGmZNTBePlzY"
      }
    },
    {
      "cell_type": "code",
      "source": [
        "ageing = hate_speech_hierarchical.loc[hate_speech_hierarchical['Ageing'] == 1 ]"
      ],
      "metadata": {
        "id": "2DWBcYIAPs4q"
      },
      "execution_count": 158,
      "outputs": []
    },
    {
      "cell_type": "code",
      "source": [
        "categoria_ageing = [] \n",
        "stop_words = set(stopwords.words('portuguese')) \n",
        "\n",
        "for words in ageing['text']:\n",
        "  only_latters =re.sub(\"[^a-zA-Z]\", \" \", words)\n",
        "  tokens = nltk.word_tokenize(only_latters) \n",
        "  lower_case = [l.lower() for l in tokens] \n",
        "  filtered_result = list(filter(lambda l: l not in stop_words, lower_case)) \n",
        "  categoria_ageing.append(' '.join(filtered_result))\n",
        "\n",
        "\n",
        "lista_quantidade_palavras = []\n",
        "quantidade_palavras = 0\n",
        "for texto in categoria_ageing:\n",
        "  palavras = texto.split(' ')\n",
        "  lista_quantidade_palavras.append(len(palavras))\n",
        "  quantidade_palavras += len(palavras)\n",
        "\n",
        "print(f'Quantidade de palavras para texto rotulados como envelhecimento : {quantidade_palavras} palavras')\n",
        "print(f'Tamanho médio da base: {round(quantidade_palavras/len(lista_quantidade_palavras), 2)} ')\n",
        "print(f'Desvio padrão: {round(np.std(lista_quantidade_palavras),2)}')\n"
      ],
      "metadata": {
        "colab": {
          "base_uri": "https://localhost:8080/"
        },
        "id": "6lh2KKLQP2I0",
        "outputId": "91ac99b2-24fb-4640-91e5-319206d10ef6"
      },
      "execution_count": 159,
      "outputs": [
        {
          "output_type": "stream",
          "name": "stdout",
          "text": [
            "Quantidade de palavras para texto rotulados como migrants : 55 palavras\n",
            "Tamanho médio da base: 13.75 \n",
            "Desvio padrão: 3.42\n"
          ]
        }
      ]
    }
  ],
  "metadata": {
    "colab": {
      "provenance": [],
      "collapsed_sections": [
        "9Nk28_EJ5rrK",
        "tYPjzqDBBvz6",
        "6QSLgylbB9AB",
        "YEKEWTH3COlJ"
      ],
      "mount_file_id": "1d-ZwV2RKDe-RcARAdcoXGS_U16B7nVtF",
      "authorship_tag": "ABX9TyPrvSwYbsJAVPbw32IqTDBc",
      "include_colab_link": true
    },
    "kernelspec": {
      "display_name": "Python 3",
      "name": "python3"
    },
    "language_info": {
      "name": "python"
    }
  },
  "nbformat": 4,
  "nbformat_minor": 0
}