{
  "nbformat": 4,
  "nbformat_minor": 0,
  "metadata": {
    "colab": {
      "provenance": [],
      "mount_file_id": "189em-Zg_pMEDmhwubZz_PH8DjMDS9imk",
      "authorship_tag": "ABX9TyOndePwx5n5NeIgv1cqy2Fp",
      "include_colab_link": true
    },
    "kernelspec": {
      "name": "python3",
      "display_name": "Python 3"
    },
    "language_info": {
      "name": "python"
    }
  },
  "cells": [
    {
      "cell_type": "markdown",
      "metadata": {
        "id": "view-in-github",
        "colab_type": "text"
      },
      "source": [
        "<a href=\"https://colab.research.google.com/github/GGMmattos/PIC/blob/main/R2_Hate_BR_BERT.ipynb\" target=\"_parent\"><img src=\"https://colab.research.google.com/assets/colab-badge.svg\" alt=\"Open In Colab\"/></a>"
      ]
    },
    {
      "cell_type": "code",
      "execution_count": null,
      "metadata": {
        "id": "j-AmxCzmc_5X"
      },
      "outputs": [],
      "source": [
        "#Importing needed libraries\n",
        "!pip install -U scikit-learn\n",
        "!pip install -U spacy\n",
        "!python -m spacy download pt\n",
        "!pip install wandb\n",
        "from pandas.core.window.ewm import OnlineExponentialMovingWindow\n",
        "import pandas as pd\n",
        "import numpy as np\n",
        "import seaborn as sns #Para visualização de gráficos\n",
        "import matplotlib.pyplot as plt #Para visualização de gráficos\n",
        "import plotly.express as px #Biblioteca para geração de gráfico dinámico\n",
        "%matplotlib inline\n",
        "from collections import Counter\n",
        "import re, nltk\n",
        "from nltk import word_tokenize\n",
        "from nltk.corpus import stopwords\n",
        "from wordcloud import WordCloud, STOPWORDS\n",
        "nltk.download('stopwords')\n",
        "nltk.download('punkt')\n",
        "nltk.download('wordnet')\n",
        "from nltk.stem import WordNetLemmatizer\n",
        "lemmatizer = WordNetLemmatizer()\n",
        "from sklearn.model_selection import train_test_split\n",
        "from sklearn.metrics import confusion_matrix\n",
        "from sklearn.linear_model import LogisticRegression\n",
        "from sklearn.ensemble import RandomForestClassifier\n",
        "from sklearn.metrics import accuracy_score\n",
        "from sklearn.metrics import f1_score\n",
        "from sklearn.feature_extraction.text import CountVectorizer\n",
        "from sklearn.feature_extraction.text import TfidfTransformer\n",
        "from sklearn.feature_extraction.text import TfidfVectorizer\n",
        "from IPython.core.interactiveshell import InteractiveShell\n",
        "InteractiveShell.ast_node_interactivity ='all'\n",
        "from sklearn.naive_bayes import MultinomialNB\n",
        "from sklearn.svm import SVC\n",
        "from sklearn.neural_network import MLPClassifier\n",
        "from sklearn.linear_model import LogisticRegression\n",
        "from sklearn.pipeline import Pipeline\n",
        "from sklearn.metrics import classification_report, accuracy_score\n",
        "import pandas as pd\n",
        "import logging\n",
        "import numpy as np\n",
        "import sklearn\n",
        "import pickle\n",
        "import spacy\n",
        "from transformers import AutoTokenizer  # Or BertTokenizer\n",
        "from transformers import AutoModelForPreTraining  # Or BertForPreTraining for loading pretraining heads\n",
        "from transformers import AutoModel  # or BertModel, for BERT without pretraining heads\n",
        "from transformers import pipeline\n",
        "from sklearn.model_selection import train_test_split\n",
        "!pip install simpletransformers \"transformers==4.30.2\"\n",
        "from simpletransformers.classification import ClassificationModel, ClassificationArgs, MultiLabelClassificationModel, MultiLabelClassificationArgs\n"
      ]
    },
    {
      "cell_type": "markdown",
      "source": [
        "BERT IMBAU\n"
      ],
      "metadata": {
        "id": "s14qjTE3dOaT"
      }
    },
    {
      "cell_type": "code",
      "source": [
        "logging.basicConfig(level=logging.INFO)\n",
        "transformers_logger = logging.getLogger(\"transformers\")\n",
        "transformers_logger.setLevel(logging.WARNING)\n",
        "\n",
        "# base_hatebr = pd.read_csv('/content/drive/MyDrive/PIC /Dataset/HateBR.csv')\n",
        "# base_hatebr_train_data = base_hatebr.iloc[:,[0, 1]]\n",
        "# train,eva = train_test_split(base_hatebr_train_data,test_size = 0.2)\n",
        "\n",
        "\n",
        "train_df = pd.read_csv('/content/drive/MyDrive/PIC /Teste Treinamento/HateBR/Sem pré processamento/X_train.csv')\n",
        "y_train = pd.read_csv('/content/drive/MyDrive/PIC /Teste Treinamento/HateBR/Sem pré processamento/y_train.csv')\n",
        "train_df['offensive_language'] =  y_train['offensive_language']\n",
        "train_df = train_df.iloc[:,[1, 2]]\n",
        "\n",
        "eva_df = pd.read_csv('/content/drive/MyDrive/PIC /Teste Treinamento/HateBR/Sem pré processamento/X_test.csv')\n",
        "y_test = pd.read_csv('/content/drive/MyDrive/PIC /Teste Treinamento/HateBR/Sem pré processamento/y_test.csv')\n",
        "eva_df['offensive_language'] =  y_test['offensive_language']\n",
        "eva_df = eva_df.iloc[:,[1, 2]]\n",
        "\n",
        "\n",
        "train_df = pd.DataFrame({\n",
        "     'text': train_df['instagram_comments'],\n",
        "     'label': train_df['offensive_language']\n",
        " })\n",
        "\n",
        "eva_df = pd.DataFrame({\n",
        "     'text': eva_df['instagram_comments'],\n",
        "     'label': eva_df['offensive_language']\n",
        " })\n",
        "\n",
        "model_args = ClassificationArgs(num_train_epochs=1)\n",
        "\n",
        "model = ClassificationModel(\n",
        "    \"bert\", \"neuralmind/bert-base-portuguese-cased\", args=model_args,\n",
        "    use_cuda=False\n",
        ")\n",
        "\n",
        "model.train_model(train_df)\n",
        "\n",
        "with open('Hate_BR-BERT', 'wb') as file:\n",
        "    pickle.dump(model, file)"
      ],
      "metadata": {
        "id": "7i0Dv6ZHdTOp"
      },
      "execution_count": null,
      "outputs": []
    },
    {
      "cell_type": "markdown",
      "source": [
        "Código para carregar modelo"
      ],
      "metadata": {
        "id": "IdJ5d--Qi6jf"
      }
    },
    {
      "cell_type": "code",
      "source": [
        "with open('/content/drive/MyDrive/PIC /Models/Hate_BR-BERT.pk', 'rb') as f:\n",
        "    model = pickle.load(f)"
      ],
      "metadata": {
        "id": "kUNv8N_fmf7R"
      },
      "execution_count": null,
      "outputs": []
    },
    {
      "cell_type": "markdown",
      "source": [
        "validação do modelo"
      ],
      "metadata": {
        "id": "W5Q2qqZLn8Ck"
      }
    },
    {
      "cell_type": "code",
      "source": [
        "result, model_outputs, wrong_predictions = model.eval_model(eva_df)\n",
        "lst = []\n",
        "for arr in model_outputs:\n",
        "    lst.append(np.argmax(arr))\n",
        "true = eva_df['offensive_language'].tolist()\n",
        "predicted = lst"
      ],
      "metadata": {
        "id": "6jijaD35nsHB"
      },
      "execution_count": 46,
      "outputs": []
    },
    {
      "cell_type": "code",
      "source": [
        "print(classification_report(true, predicted))"
      ],
      "metadata": {
        "colab": {
          "base_uri": "https://localhost:8080/"
        },
        "id": "Hdg3H2jrpmBO",
        "outputId": "817d23cb-e7ec-4349-be7b-3f9f86773583"
      },
      "execution_count": 48,
      "outputs": [
        {
          "output_type": "stream",
          "name": "stdout",
          "text": [
            "              precision    recall  f1-score   support\n",
            "\n",
            "           0       0.92      0.92      0.92       700\n",
            "           1       0.92      0.92      0.92       700\n",
            "\n",
            "    accuracy                           0.92      1400\n",
            "   macro avg       0.92      0.92      0.92      1400\n",
            "weighted avg       0.92      0.92      0.92      1400\n",
            "\n"
          ]
        }
      ]
    },
    {
      "cell_type": "code",
      "source": [
        "confusion_matrix(true, predicted)"
      ],
      "metadata": {
        "colab": {
          "base_uri": "https://localhost:8080/"
        },
        "id": "57_StsiIiYNV",
        "outputId": "d577df43-6bcc-4eca-965f-cc7357005c5b"
      },
      "execution_count": 49,
      "outputs": [
        {
          "output_type": "execute_result",
          "data": {
            "text/plain": [
              "array([[644,  56],\n",
              "       [ 58, 642]])"
            ]
          },
          "metadata": {},
          "execution_count": 49
        }
      ]
    }
  ]
}